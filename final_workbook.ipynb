{
 "cells": [
  {
   "cell_type": "code",
   "execution_count": 1,
   "id": "72bb38cb",
   "metadata": {},
   "outputs": [],
   "source": [
    "import numpy as np\n",
    "import matplotlib.pyplot as plt\n",
    "%matplotlib inline\n",
    "import pandas as pd\n",
    "import seaborn as sns\n",
    "import itertools"
   ]
  },
  {
   "cell_type": "code",
   "execution_count": 2,
   "id": "ebe6b2d0",
   "metadata": {},
   "outputs": [],
   "source": [
    "application_data = pd.read_csv(r'Resources/application_data.csv')"
   ]
  },
  {
   "cell_type": "code",
   "execution_count": 3,
   "id": "020d5f66",
   "metadata": {},
   "outputs": [],
   "source": [
    "previous_application = pd.read_csv(r'Resources/previous_application.csv')"
   ]
  },
  {
   "cell_type": "code",
   "execution_count": 4,
   "id": "dce490fd",
   "metadata": {},
   "outputs": [],
   "source": [
    "columns_description = pd.read_csv(r'Resources/columns_description.csv')"
   ]
  },
  {
   "cell_type": "code",
   "execution_count": 5,
   "id": "0085027b",
   "metadata": {},
   "outputs": [
    {
     "data": {
      "text/html": [
       "<div>\n",
       "<style scoped>\n",
       "    .dataframe tbody tr th:only-of-type {\n",
       "        vertical-align: middle;\n",
       "    }\n",
       "\n",
       "    .dataframe tbody tr th {\n",
       "        vertical-align: top;\n",
       "    }\n",
       "\n",
       "    .dataframe thead th {\n",
       "        text-align: right;\n",
       "    }\n",
       "</style>\n",
       "<table border=\"1\" class=\"dataframe\">\n",
       "  <thead>\n",
       "    <tr style=\"text-align: right;\">\n",
       "      <th></th>\n",
       "      <th>SK_ID_CURR</th>\n",
       "      <th>TARGET</th>\n",
       "      <th>NAME_CONTRACT_TYPE</th>\n",
       "      <th>CODE_GENDER</th>\n",
       "      <th>FLAG_OWN_CAR</th>\n",
       "      <th>FLAG_OWN_REALTY</th>\n",
       "      <th>CNT_CHILDREN</th>\n",
       "      <th>AMT_INCOME_TOTAL</th>\n",
       "      <th>AMT_CREDIT</th>\n",
       "      <th>AMT_ANNUITY</th>\n",
       "      <th>...</th>\n",
       "      <th>FLAG_DOCUMENT_18</th>\n",
       "      <th>FLAG_DOCUMENT_19</th>\n",
       "      <th>FLAG_DOCUMENT_20</th>\n",
       "      <th>FLAG_DOCUMENT_21</th>\n",
       "      <th>AMT_REQ_CREDIT_BUREAU_HOUR</th>\n",
       "      <th>AMT_REQ_CREDIT_BUREAU_DAY</th>\n",
       "      <th>AMT_REQ_CREDIT_BUREAU_WEEK</th>\n",
       "      <th>AMT_REQ_CREDIT_BUREAU_MON</th>\n",
       "      <th>AMT_REQ_CREDIT_BUREAU_QRT</th>\n",
       "      <th>AMT_REQ_CREDIT_BUREAU_YEAR</th>\n",
       "    </tr>\n",
       "  </thead>\n",
       "  <tbody>\n",
       "    <tr>\n",
       "      <th>0</th>\n",
       "      <td>100002</td>\n",
       "      <td>1</td>\n",
       "      <td>Cash loans</td>\n",
       "      <td>M</td>\n",
       "      <td>N</td>\n",
       "      <td>Y</td>\n",
       "      <td>0</td>\n",
       "      <td>202500.0</td>\n",
       "      <td>406597.5</td>\n",
       "      <td>24700.5</td>\n",
       "      <td>...</td>\n",
       "      <td>0</td>\n",
       "      <td>0</td>\n",
       "      <td>0</td>\n",
       "      <td>0</td>\n",
       "      <td>0.0</td>\n",
       "      <td>0.0</td>\n",
       "      <td>0.0</td>\n",
       "      <td>0.0</td>\n",
       "      <td>0.0</td>\n",
       "      <td>1.0</td>\n",
       "    </tr>\n",
       "    <tr>\n",
       "      <th>1</th>\n",
       "      <td>100003</td>\n",
       "      <td>0</td>\n",
       "      <td>Cash loans</td>\n",
       "      <td>F</td>\n",
       "      <td>N</td>\n",
       "      <td>N</td>\n",
       "      <td>0</td>\n",
       "      <td>270000.0</td>\n",
       "      <td>1293502.5</td>\n",
       "      <td>35698.5</td>\n",
       "      <td>...</td>\n",
       "      <td>0</td>\n",
       "      <td>0</td>\n",
       "      <td>0</td>\n",
       "      <td>0</td>\n",
       "      <td>0.0</td>\n",
       "      <td>0.0</td>\n",
       "      <td>0.0</td>\n",
       "      <td>0.0</td>\n",
       "      <td>0.0</td>\n",
       "      <td>0.0</td>\n",
       "    </tr>\n",
       "    <tr>\n",
       "      <th>2</th>\n",
       "      <td>100004</td>\n",
       "      <td>0</td>\n",
       "      <td>Revolving loans</td>\n",
       "      <td>M</td>\n",
       "      <td>Y</td>\n",
       "      <td>Y</td>\n",
       "      <td>0</td>\n",
       "      <td>67500.0</td>\n",
       "      <td>135000.0</td>\n",
       "      <td>6750.0</td>\n",
       "      <td>...</td>\n",
       "      <td>0</td>\n",
       "      <td>0</td>\n",
       "      <td>0</td>\n",
       "      <td>0</td>\n",
       "      <td>0.0</td>\n",
       "      <td>0.0</td>\n",
       "      <td>0.0</td>\n",
       "      <td>0.0</td>\n",
       "      <td>0.0</td>\n",
       "      <td>0.0</td>\n",
       "    </tr>\n",
       "    <tr>\n",
       "      <th>3</th>\n",
       "      <td>100006</td>\n",
       "      <td>0</td>\n",
       "      <td>Cash loans</td>\n",
       "      <td>F</td>\n",
       "      <td>N</td>\n",
       "      <td>Y</td>\n",
       "      <td>0</td>\n",
       "      <td>135000.0</td>\n",
       "      <td>312682.5</td>\n",
       "      <td>29686.5</td>\n",
       "      <td>...</td>\n",
       "      <td>0</td>\n",
       "      <td>0</td>\n",
       "      <td>0</td>\n",
       "      <td>0</td>\n",
       "      <td>NaN</td>\n",
       "      <td>NaN</td>\n",
       "      <td>NaN</td>\n",
       "      <td>NaN</td>\n",
       "      <td>NaN</td>\n",
       "      <td>NaN</td>\n",
       "    </tr>\n",
       "    <tr>\n",
       "      <th>4</th>\n",
       "      <td>100007</td>\n",
       "      <td>0</td>\n",
       "      <td>Cash loans</td>\n",
       "      <td>M</td>\n",
       "      <td>N</td>\n",
       "      <td>Y</td>\n",
       "      <td>0</td>\n",
       "      <td>121500.0</td>\n",
       "      <td>513000.0</td>\n",
       "      <td>21865.5</td>\n",
       "      <td>...</td>\n",
       "      <td>0</td>\n",
       "      <td>0</td>\n",
       "      <td>0</td>\n",
       "      <td>0</td>\n",
       "      <td>0.0</td>\n",
       "      <td>0.0</td>\n",
       "      <td>0.0</td>\n",
       "      <td>0.0</td>\n",
       "      <td>0.0</td>\n",
       "      <td>0.0</td>\n",
       "    </tr>\n",
       "    <tr>\n",
       "      <th>...</th>\n",
       "      <td>...</td>\n",
       "      <td>...</td>\n",
       "      <td>...</td>\n",
       "      <td>...</td>\n",
       "      <td>...</td>\n",
       "      <td>...</td>\n",
       "      <td>...</td>\n",
       "      <td>...</td>\n",
       "      <td>...</td>\n",
       "      <td>...</td>\n",
       "      <td>...</td>\n",
       "      <td>...</td>\n",
       "      <td>...</td>\n",
       "      <td>...</td>\n",
       "      <td>...</td>\n",
       "      <td>...</td>\n",
       "      <td>...</td>\n",
       "      <td>...</td>\n",
       "      <td>...</td>\n",
       "      <td>...</td>\n",
       "      <td>...</td>\n",
       "    </tr>\n",
       "    <tr>\n",
       "      <th>307506</th>\n",
       "      <td>456251</td>\n",
       "      <td>0</td>\n",
       "      <td>Cash loans</td>\n",
       "      <td>M</td>\n",
       "      <td>N</td>\n",
       "      <td>N</td>\n",
       "      <td>0</td>\n",
       "      <td>157500.0</td>\n",
       "      <td>254700.0</td>\n",
       "      <td>27558.0</td>\n",
       "      <td>...</td>\n",
       "      <td>0</td>\n",
       "      <td>0</td>\n",
       "      <td>0</td>\n",
       "      <td>0</td>\n",
       "      <td>NaN</td>\n",
       "      <td>NaN</td>\n",
       "      <td>NaN</td>\n",
       "      <td>NaN</td>\n",
       "      <td>NaN</td>\n",
       "      <td>NaN</td>\n",
       "    </tr>\n",
       "    <tr>\n",
       "      <th>307507</th>\n",
       "      <td>456252</td>\n",
       "      <td>0</td>\n",
       "      <td>Cash loans</td>\n",
       "      <td>F</td>\n",
       "      <td>N</td>\n",
       "      <td>Y</td>\n",
       "      <td>0</td>\n",
       "      <td>72000.0</td>\n",
       "      <td>269550.0</td>\n",
       "      <td>12001.5</td>\n",
       "      <td>...</td>\n",
       "      <td>0</td>\n",
       "      <td>0</td>\n",
       "      <td>0</td>\n",
       "      <td>0</td>\n",
       "      <td>NaN</td>\n",
       "      <td>NaN</td>\n",
       "      <td>NaN</td>\n",
       "      <td>NaN</td>\n",
       "      <td>NaN</td>\n",
       "      <td>NaN</td>\n",
       "    </tr>\n",
       "    <tr>\n",
       "      <th>307508</th>\n",
       "      <td>456253</td>\n",
       "      <td>0</td>\n",
       "      <td>Cash loans</td>\n",
       "      <td>F</td>\n",
       "      <td>N</td>\n",
       "      <td>Y</td>\n",
       "      <td>0</td>\n",
       "      <td>153000.0</td>\n",
       "      <td>677664.0</td>\n",
       "      <td>29979.0</td>\n",
       "      <td>...</td>\n",
       "      <td>0</td>\n",
       "      <td>0</td>\n",
       "      <td>0</td>\n",
       "      <td>0</td>\n",
       "      <td>1.0</td>\n",
       "      <td>0.0</td>\n",
       "      <td>0.0</td>\n",
       "      <td>1.0</td>\n",
       "      <td>0.0</td>\n",
       "      <td>1.0</td>\n",
       "    </tr>\n",
       "    <tr>\n",
       "      <th>307509</th>\n",
       "      <td>456254</td>\n",
       "      <td>1</td>\n",
       "      <td>Cash loans</td>\n",
       "      <td>F</td>\n",
       "      <td>N</td>\n",
       "      <td>Y</td>\n",
       "      <td>0</td>\n",
       "      <td>171000.0</td>\n",
       "      <td>370107.0</td>\n",
       "      <td>20205.0</td>\n",
       "      <td>...</td>\n",
       "      <td>0</td>\n",
       "      <td>0</td>\n",
       "      <td>0</td>\n",
       "      <td>0</td>\n",
       "      <td>0.0</td>\n",
       "      <td>0.0</td>\n",
       "      <td>0.0</td>\n",
       "      <td>0.0</td>\n",
       "      <td>0.0</td>\n",
       "      <td>0.0</td>\n",
       "    </tr>\n",
       "    <tr>\n",
       "      <th>307510</th>\n",
       "      <td>456255</td>\n",
       "      <td>0</td>\n",
       "      <td>Cash loans</td>\n",
       "      <td>F</td>\n",
       "      <td>N</td>\n",
       "      <td>N</td>\n",
       "      <td>0</td>\n",
       "      <td>157500.0</td>\n",
       "      <td>675000.0</td>\n",
       "      <td>49117.5</td>\n",
       "      <td>...</td>\n",
       "      <td>0</td>\n",
       "      <td>0</td>\n",
       "      <td>0</td>\n",
       "      <td>0</td>\n",
       "      <td>0.0</td>\n",
       "      <td>0.0</td>\n",
       "      <td>0.0</td>\n",
       "      <td>2.0</td>\n",
       "      <td>0.0</td>\n",
       "      <td>1.0</td>\n",
       "    </tr>\n",
       "  </tbody>\n",
       "</table>\n",
       "<p>307511 rows × 122 columns</p>\n",
       "</div>"
      ],
      "text/plain": [
       "        SK_ID_CURR  TARGET NAME_CONTRACT_TYPE CODE_GENDER FLAG_OWN_CAR  \\\n",
       "0           100002       1         Cash loans           M            N   \n",
       "1           100003       0         Cash loans           F            N   \n",
       "2           100004       0    Revolving loans           M            Y   \n",
       "3           100006       0         Cash loans           F            N   \n",
       "4           100007       0         Cash loans           M            N   \n",
       "...            ...     ...                ...         ...          ...   \n",
       "307506      456251       0         Cash loans           M            N   \n",
       "307507      456252       0         Cash loans           F            N   \n",
       "307508      456253       0         Cash loans           F            N   \n",
       "307509      456254       1         Cash loans           F            N   \n",
       "307510      456255       0         Cash loans           F            N   \n",
       "\n",
       "       FLAG_OWN_REALTY  CNT_CHILDREN  AMT_INCOME_TOTAL  AMT_CREDIT  \\\n",
       "0                    Y             0          202500.0    406597.5   \n",
       "1                    N             0          270000.0   1293502.5   \n",
       "2                    Y             0           67500.0    135000.0   \n",
       "3                    Y             0          135000.0    312682.5   \n",
       "4                    Y             0          121500.0    513000.0   \n",
       "...                ...           ...               ...         ...   \n",
       "307506               N             0          157500.0    254700.0   \n",
       "307507               Y             0           72000.0    269550.0   \n",
       "307508               Y             0          153000.0    677664.0   \n",
       "307509               Y             0          171000.0    370107.0   \n",
       "307510               N             0          157500.0    675000.0   \n",
       "\n",
       "        AMT_ANNUITY  ...  FLAG_DOCUMENT_18 FLAG_DOCUMENT_19 FLAG_DOCUMENT_20  \\\n",
       "0           24700.5  ...                 0                0                0   \n",
       "1           35698.5  ...                 0                0                0   \n",
       "2            6750.0  ...                 0                0                0   \n",
       "3           29686.5  ...                 0                0                0   \n",
       "4           21865.5  ...                 0                0                0   \n",
       "...             ...  ...               ...              ...              ...   \n",
       "307506      27558.0  ...                 0                0                0   \n",
       "307507      12001.5  ...                 0                0                0   \n",
       "307508      29979.0  ...                 0                0                0   \n",
       "307509      20205.0  ...                 0                0                0   \n",
       "307510      49117.5  ...                 0                0                0   \n",
       "\n",
       "       FLAG_DOCUMENT_21 AMT_REQ_CREDIT_BUREAU_HOUR AMT_REQ_CREDIT_BUREAU_DAY  \\\n",
       "0                     0                        0.0                       0.0   \n",
       "1                     0                        0.0                       0.0   \n",
       "2                     0                        0.0                       0.0   \n",
       "3                     0                        NaN                       NaN   \n",
       "4                     0                        0.0                       0.0   \n",
       "...                 ...                        ...                       ...   \n",
       "307506                0                        NaN                       NaN   \n",
       "307507                0                        NaN                       NaN   \n",
       "307508                0                        1.0                       0.0   \n",
       "307509                0                        0.0                       0.0   \n",
       "307510                0                        0.0                       0.0   \n",
       "\n",
       "        AMT_REQ_CREDIT_BUREAU_WEEK  AMT_REQ_CREDIT_BUREAU_MON  \\\n",
       "0                              0.0                        0.0   \n",
       "1                              0.0                        0.0   \n",
       "2                              0.0                        0.0   \n",
       "3                              NaN                        NaN   \n",
       "4                              0.0                        0.0   \n",
       "...                            ...                        ...   \n",
       "307506                         NaN                        NaN   \n",
       "307507                         NaN                        NaN   \n",
       "307508                         0.0                        1.0   \n",
       "307509                         0.0                        0.0   \n",
       "307510                         0.0                        2.0   \n",
       "\n",
       "        AMT_REQ_CREDIT_BUREAU_QRT  AMT_REQ_CREDIT_BUREAU_YEAR  \n",
       "0                             0.0                         1.0  \n",
       "1                             0.0                         0.0  \n",
       "2                             0.0                         0.0  \n",
       "3                             NaN                         NaN  \n",
       "4                             0.0                         0.0  \n",
       "...                           ...                         ...  \n",
       "307506                        NaN                         NaN  \n",
       "307507                        NaN                         NaN  \n",
       "307508                        0.0                         1.0  \n",
       "307509                        0.0                         0.0  \n",
       "307510                        0.0                         1.0  \n",
       "\n",
       "[307511 rows x 122 columns]"
      ]
     },
     "execution_count": 5,
     "metadata": {},
     "output_type": "execute_result"
    }
   ],
   "source": [
    "application_data"
   ]
  },
  {
   "cell_type": "code",
   "execution_count": 6,
   "id": "407026fc",
   "metadata": {},
   "outputs": [
    {
     "data": {
      "text/html": [
       "<div>\n",
       "<style scoped>\n",
       "    .dataframe tbody tr th:only-of-type {\n",
       "        vertical-align: middle;\n",
       "    }\n",
       "\n",
       "    .dataframe tbody tr th {\n",
       "        vertical-align: top;\n",
       "    }\n",
       "\n",
       "    .dataframe thead th {\n",
       "        text-align: right;\n",
       "    }\n",
       "</style>\n",
       "<table border=\"1\" class=\"dataframe\">\n",
       "  <thead>\n",
       "    <tr style=\"text-align: right;\">\n",
       "      <th></th>\n",
       "      <th>SK_ID_PREV</th>\n",
       "      <th>SK_ID_CURR</th>\n",
       "      <th>NAME_CONTRACT_TYPE</th>\n",
       "      <th>AMT_ANNUITY</th>\n",
       "      <th>AMT_APPLICATION</th>\n",
       "      <th>AMT_CREDIT</th>\n",
       "      <th>AMT_DOWN_PAYMENT</th>\n",
       "      <th>AMT_GOODS_PRICE</th>\n",
       "      <th>WEEKDAY_APPR_PROCESS_START</th>\n",
       "      <th>HOUR_APPR_PROCESS_START</th>\n",
       "      <th>...</th>\n",
       "      <th>NAME_SELLER_INDUSTRY</th>\n",
       "      <th>CNT_PAYMENT</th>\n",
       "      <th>NAME_YIELD_GROUP</th>\n",
       "      <th>PRODUCT_COMBINATION</th>\n",
       "      <th>DAYS_FIRST_DRAWING</th>\n",
       "      <th>DAYS_FIRST_DUE</th>\n",
       "      <th>DAYS_LAST_DUE_1ST_VERSION</th>\n",
       "      <th>DAYS_LAST_DUE</th>\n",
       "      <th>DAYS_TERMINATION</th>\n",
       "      <th>NFLAG_INSURED_ON_APPROVAL</th>\n",
       "    </tr>\n",
       "  </thead>\n",
       "  <tbody>\n",
       "    <tr>\n",
       "      <th>0</th>\n",
       "      <td>2030495</td>\n",
       "      <td>271877</td>\n",
       "      <td>Consumer loans</td>\n",
       "      <td>1730.430</td>\n",
       "      <td>17145.0</td>\n",
       "      <td>17145.0</td>\n",
       "      <td>0.0</td>\n",
       "      <td>17145.0</td>\n",
       "      <td>SATURDAY</td>\n",
       "      <td>15</td>\n",
       "      <td>...</td>\n",
       "      <td>Connectivity</td>\n",
       "      <td>12.0</td>\n",
       "      <td>middle</td>\n",
       "      <td>POS mobile with interest</td>\n",
       "      <td>365243.0</td>\n",
       "      <td>-42.0</td>\n",
       "      <td>300.0</td>\n",
       "      <td>-42.0</td>\n",
       "      <td>-37.0</td>\n",
       "      <td>0.0</td>\n",
       "    </tr>\n",
       "    <tr>\n",
       "      <th>1</th>\n",
       "      <td>2802425</td>\n",
       "      <td>108129</td>\n",
       "      <td>Cash loans</td>\n",
       "      <td>25188.615</td>\n",
       "      <td>607500.0</td>\n",
       "      <td>679671.0</td>\n",
       "      <td>NaN</td>\n",
       "      <td>607500.0</td>\n",
       "      <td>THURSDAY</td>\n",
       "      <td>11</td>\n",
       "      <td>...</td>\n",
       "      <td>XNA</td>\n",
       "      <td>36.0</td>\n",
       "      <td>low_action</td>\n",
       "      <td>Cash X-Sell: low</td>\n",
       "      <td>365243.0</td>\n",
       "      <td>-134.0</td>\n",
       "      <td>916.0</td>\n",
       "      <td>365243.0</td>\n",
       "      <td>365243.0</td>\n",
       "      <td>1.0</td>\n",
       "    </tr>\n",
       "    <tr>\n",
       "      <th>2</th>\n",
       "      <td>2523466</td>\n",
       "      <td>122040</td>\n",
       "      <td>Cash loans</td>\n",
       "      <td>15060.735</td>\n",
       "      <td>112500.0</td>\n",
       "      <td>136444.5</td>\n",
       "      <td>NaN</td>\n",
       "      <td>112500.0</td>\n",
       "      <td>TUESDAY</td>\n",
       "      <td>11</td>\n",
       "      <td>...</td>\n",
       "      <td>XNA</td>\n",
       "      <td>12.0</td>\n",
       "      <td>high</td>\n",
       "      <td>Cash X-Sell: high</td>\n",
       "      <td>365243.0</td>\n",
       "      <td>-271.0</td>\n",
       "      <td>59.0</td>\n",
       "      <td>365243.0</td>\n",
       "      <td>365243.0</td>\n",
       "      <td>1.0</td>\n",
       "    </tr>\n",
       "    <tr>\n",
       "      <th>3</th>\n",
       "      <td>2819243</td>\n",
       "      <td>176158</td>\n",
       "      <td>Cash loans</td>\n",
       "      <td>47041.335</td>\n",
       "      <td>450000.0</td>\n",
       "      <td>470790.0</td>\n",
       "      <td>NaN</td>\n",
       "      <td>450000.0</td>\n",
       "      <td>MONDAY</td>\n",
       "      <td>7</td>\n",
       "      <td>...</td>\n",
       "      <td>XNA</td>\n",
       "      <td>12.0</td>\n",
       "      <td>middle</td>\n",
       "      <td>Cash X-Sell: middle</td>\n",
       "      <td>365243.0</td>\n",
       "      <td>-482.0</td>\n",
       "      <td>-152.0</td>\n",
       "      <td>-182.0</td>\n",
       "      <td>-177.0</td>\n",
       "      <td>1.0</td>\n",
       "    </tr>\n",
       "    <tr>\n",
       "      <th>4</th>\n",
       "      <td>1784265</td>\n",
       "      <td>202054</td>\n",
       "      <td>Cash loans</td>\n",
       "      <td>31924.395</td>\n",
       "      <td>337500.0</td>\n",
       "      <td>404055.0</td>\n",
       "      <td>NaN</td>\n",
       "      <td>337500.0</td>\n",
       "      <td>THURSDAY</td>\n",
       "      <td>9</td>\n",
       "      <td>...</td>\n",
       "      <td>XNA</td>\n",
       "      <td>24.0</td>\n",
       "      <td>high</td>\n",
       "      <td>Cash Street: high</td>\n",
       "      <td>NaN</td>\n",
       "      <td>NaN</td>\n",
       "      <td>NaN</td>\n",
       "      <td>NaN</td>\n",
       "      <td>NaN</td>\n",
       "      <td>NaN</td>\n",
       "    </tr>\n",
       "    <tr>\n",
       "      <th>...</th>\n",
       "      <td>...</td>\n",
       "      <td>...</td>\n",
       "      <td>...</td>\n",
       "      <td>...</td>\n",
       "      <td>...</td>\n",
       "      <td>...</td>\n",
       "      <td>...</td>\n",
       "      <td>...</td>\n",
       "      <td>...</td>\n",
       "      <td>...</td>\n",
       "      <td>...</td>\n",
       "      <td>...</td>\n",
       "      <td>...</td>\n",
       "      <td>...</td>\n",
       "      <td>...</td>\n",
       "      <td>...</td>\n",
       "      <td>...</td>\n",
       "      <td>...</td>\n",
       "      <td>...</td>\n",
       "      <td>...</td>\n",
       "      <td>...</td>\n",
       "    </tr>\n",
       "    <tr>\n",
       "      <th>1670209</th>\n",
       "      <td>2300464</td>\n",
       "      <td>352015</td>\n",
       "      <td>Consumer loans</td>\n",
       "      <td>14704.290</td>\n",
       "      <td>267295.5</td>\n",
       "      <td>311400.0</td>\n",
       "      <td>0.0</td>\n",
       "      <td>267295.5</td>\n",
       "      <td>WEDNESDAY</td>\n",
       "      <td>12</td>\n",
       "      <td>...</td>\n",
       "      <td>Furniture</td>\n",
       "      <td>30.0</td>\n",
       "      <td>low_normal</td>\n",
       "      <td>POS industry with interest</td>\n",
       "      <td>365243.0</td>\n",
       "      <td>-508.0</td>\n",
       "      <td>362.0</td>\n",
       "      <td>-358.0</td>\n",
       "      <td>-351.0</td>\n",
       "      <td>0.0</td>\n",
       "    </tr>\n",
       "    <tr>\n",
       "      <th>1670210</th>\n",
       "      <td>2357031</td>\n",
       "      <td>334635</td>\n",
       "      <td>Consumer loans</td>\n",
       "      <td>6622.020</td>\n",
       "      <td>87750.0</td>\n",
       "      <td>64291.5</td>\n",
       "      <td>29250.0</td>\n",
       "      <td>87750.0</td>\n",
       "      <td>TUESDAY</td>\n",
       "      <td>15</td>\n",
       "      <td>...</td>\n",
       "      <td>Furniture</td>\n",
       "      <td>12.0</td>\n",
       "      <td>middle</td>\n",
       "      <td>POS industry with interest</td>\n",
       "      <td>365243.0</td>\n",
       "      <td>-1604.0</td>\n",
       "      <td>-1274.0</td>\n",
       "      <td>-1304.0</td>\n",
       "      <td>-1297.0</td>\n",
       "      <td>0.0</td>\n",
       "    </tr>\n",
       "    <tr>\n",
       "      <th>1670211</th>\n",
       "      <td>2659632</td>\n",
       "      <td>249544</td>\n",
       "      <td>Consumer loans</td>\n",
       "      <td>11520.855</td>\n",
       "      <td>105237.0</td>\n",
       "      <td>102523.5</td>\n",
       "      <td>10525.5</td>\n",
       "      <td>105237.0</td>\n",
       "      <td>MONDAY</td>\n",
       "      <td>12</td>\n",
       "      <td>...</td>\n",
       "      <td>Consumer electronics</td>\n",
       "      <td>10.0</td>\n",
       "      <td>low_normal</td>\n",
       "      <td>POS household with interest</td>\n",
       "      <td>365243.0</td>\n",
       "      <td>-1457.0</td>\n",
       "      <td>-1187.0</td>\n",
       "      <td>-1187.0</td>\n",
       "      <td>-1181.0</td>\n",
       "      <td>0.0</td>\n",
       "    </tr>\n",
       "    <tr>\n",
       "      <th>1670212</th>\n",
       "      <td>2785582</td>\n",
       "      <td>400317</td>\n",
       "      <td>Cash loans</td>\n",
       "      <td>18821.520</td>\n",
       "      <td>180000.0</td>\n",
       "      <td>191880.0</td>\n",
       "      <td>NaN</td>\n",
       "      <td>180000.0</td>\n",
       "      <td>WEDNESDAY</td>\n",
       "      <td>9</td>\n",
       "      <td>...</td>\n",
       "      <td>XNA</td>\n",
       "      <td>12.0</td>\n",
       "      <td>low_normal</td>\n",
       "      <td>Cash X-Sell: low</td>\n",
       "      <td>365243.0</td>\n",
       "      <td>-1155.0</td>\n",
       "      <td>-825.0</td>\n",
       "      <td>-825.0</td>\n",
       "      <td>-817.0</td>\n",
       "      <td>1.0</td>\n",
       "    </tr>\n",
       "    <tr>\n",
       "      <th>1670213</th>\n",
       "      <td>2418762</td>\n",
       "      <td>261212</td>\n",
       "      <td>Cash loans</td>\n",
       "      <td>16431.300</td>\n",
       "      <td>360000.0</td>\n",
       "      <td>360000.0</td>\n",
       "      <td>NaN</td>\n",
       "      <td>360000.0</td>\n",
       "      <td>SUNDAY</td>\n",
       "      <td>10</td>\n",
       "      <td>...</td>\n",
       "      <td>XNA</td>\n",
       "      <td>48.0</td>\n",
       "      <td>middle</td>\n",
       "      <td>Cash X-Sell: middle</td>\n",
       "      <td>365243.0</td>\n",
       "      <td>-1163.0</td>\n",
       "      <td>247.0</td>\n",
       "      <td>-443.0</td>\n",
       "      <td>-423.0</td>\n",
       "      <td>0.0</td>\n",
       "    </tr>\n",
       "  </tbody>\n",
       "</table>\n",
       "<p>1670214 rows × 37 columns</p>\n",
       "</div>"
      ],
      "text/plain": [
       "         SK_ID_PREV  SK_ID_CURR NAME_CONTRACT_TYPE  AMT_ANNUITY  \\\n",
       "0           2030495      271877     Consumer loans     1730.430   \n",
       "1           2802425      108129         Cash loans    25188.615   \n",
       "2           2523466      122040         Cash loans    15060.735   \n",
       "3           2819243      176158         Cash loans    47041.335   \n",
       "4           1784265      202054         Cash loans    31924.395   \n",
       "...             ...         ...                ...          ...   \n",
       "1670209     2300464      352015     Consumer loans    14704.290   \n",
       "1670210     2357031      334635     Consumer loans     6622.020   \n",
       "1670211     2659632      249544     Consumer loans    11520.855   \n",
       "1670212     2785582      400317         Cash loans    18821.520   \n",
       "1670213     2418762      261212         Cash loans    16431.300   \n",
       "\n",
       "         AMT_APPLICATION  AMT_CREDIT  AMT_DOWN_PAYMENT  AMT_GOODS_PRICE  \\\n",
       "0                17145.0     17145.0               0.0          17145.0   \n",
       "1               607500.0    679671.0               NaN         607500.0   \n",
       "2               112500.0    136444.5               NaN         112500.0   \n",
       "3               450000.0    470790.0               NaN         450000.0   \n",
       "4               337500.0    404055.0               NaN         337500.0   \n",
       "...                  ...         ...               ...              ...   \n",
       "1670209         267295.5    311400.0               0.0         267295.5   \n",
       "1670210          87750.0     64291.5           29250.0          87750.0   \n",
       "1670211         105237.0    102523.5           10525.5         105237.0   \n",
       "1670212         180000.0    191880.0               NaN         180000.0   \n",
       "1670213         360000.0    360000.0               NaN         360000.0   \n",
       "\n",
       "        WEEKDAY_APPR_PROCESS_START  HOUR_APPR_PROCESS_START  ...  \\\n",
       "0                         SATURDAY                       15  ...   \n",
       "1                         THURSDAY                       11  ...   \n",
       "2                          TUESDAY                       11  ...   \n",
       "3                           MONDAY                        7  ...   \n",
       "4                         THURSDAY                        9  ...   \n",
       "...                            ...                      ...  ...   \n",
       "1670209                  WEDNESDAY                       12  ...   \n",
       "1670210                    TUESDAY                       15  ...   \n",
       "1670211                     MONDAY                       12  ...   \n",
       "1670212                  WEDNESDAY                        9  ...   \n",
       "1670213                     SUNDAY                       10  ...   \n",
       "\n",
       "         NAME_SELLER_INDUSTRY  CNT_PAYMENT  NAME_YIELD_GROUP  \\\n",
       "0                Connectivity         12.0            middle   \n",
       "1                         XNA         36.0        low_action   \n",
       "2                         XNA         12.0              high   \n",
       "3                         XNA         12.0            middle   \n",
       "4                         XNA         24.0              high   \n",
       "...                       ...          ...               ...   \n",
       "1670209             Furniture         30.0        low_normal   \n",
       "1670210             Furniture         12.0            middle   \n",
       "1670211  Consumer electronics         10.0        low_normal   \n",
       "1670212                   XNA         12.0        low_normal   \n",
       "1670213                   XNA         48.0            middle   \n",
       "\n",
       "                 PRODUCT_COMBINATION  DAYS_FIRST_DRAWING DAYS_FIRST_DUE  \\\n",
       "0           POS mobile with interest            365243.0          -42.0   \n",
       "1                   Cash X-Sell: low            365243.0         -134.0   \n",
       "2                  Cash X-Sell: high            365243.0         -271.0   \n",
       "3                Cash X-Sell: middle            365243.0         -482.0   \n",
       "4                  Cash Street: high                 NaN            NaN   \n",
       "...                              ...                 ...            ...   \n",
       "1670209   POS industry with interest            365243.0         -508.0   \n",
       "1670210   POS industry with interest            365243.0        -1604.0   \n",
       "1670211  POS household with interest            365243.0        -1457.0   \n",
       "1670212             Cash X-Sell: low            365243.0        -1155.0   \n",
       "1670213          Cash X-Sell: middle            365243.0        -1163.0   \n",
       "\n",
       "        DAYS_LAST_DUE_1ST_VERSION  DAYS_LAST_DUE DAYS_TERMINATION  \\\n",
       "0                           300.0          -42.0            -37.0   \n",
       "1                           916.0       365243.0         365243.0   \n",
       "2                            59.0       365243.0         365243.0   \n",
       "3                          -152.0         -182.0           -177.0   \n",
       "4                             NaN            NaN              NaN   \n",
       "...                           ...            ...              ...   \n",
       "1670209                     362.0         -358.0           -351.0   \n",
       "1670210                   -1274.0        -1304.0          -1297.0   \n",
       "1670211                   -1187.0        -1187.0          -1181.0   \n",
       "1670212                    -825.0         -825.0           -817.0   \n",
       "1670213                     247.0         -443.0           -423.0   \n",
       "\n",
       "        NFLAG_INSURED_ON_APPROVAL  \n",
       "0                             0.0  \n",
       "1                             1.0  \n",
       "2                             1.0  \n",
       "3                             1.0  \n",
       "4                             NaN  \n",
       "...                           ...  \n",
       "1670209                       0.0  \n",
       "1670210                       0.0  \n",
       "1670211                       0.0  \n",
       "1670212                       1.0  \n",
       "1670213                       0.0  \n",
       "\n",
       "[1670214 rows x 37 columns]"
      ]
     },
     "execution_count": 6,
     "metadata": {},
     "output_type": "execute_result"
    }
   ],
   "source": [
    "previous_application"
   ]
  },
  {
   "cell_type": "code",
   "execution_count": 7,
   "id": "4c404f48",
   "metadata": {},
   "outputs": [
    {
     "data": {
      "text/html": [
       "<div>\n",
       "<style scoped>\n",
       "    .dataframe tbody tr th:only-of-type {\n",
       "        vertical-align: middle;\n",
       "    }\n",
       "\n",
       "    .dataframe tbody tr th {\n",
       "        vertical-align: top;\n",
       "    }\n",
       "\n",
       "    .dataframe thead th {\n",
       "        text-align: right;\n",
       "    }\n",
       "</style>\n",
       "<table border=\"1\" class=\"dataframe\">\n",
       "  <thead>\n",
       "    <tr style=\"text-align: right;\">\n",
       "      <th></th>\n",
       "      <th>Unnamed: 0</th>\n",
       "      <th>Table</th>\n",
       "      <th>Row</th>\n",
       "      <th>Description</th>\n",
       "      <th>Special</th>\n",
       "    </tr>\n",
       "  </thead>\n",
       "  <tbody>\n",
       "    <tr>\n",
       "      <th>0</th>\n",
       "      <td>1</td>\n",
       "      <td>application_data</td>\n",
       "      <td>SK_ID_CURR</td>\n",
       "      <td>ID of loan in our sample</td>\n",
       "      <td>NaN</td>\n",
       "    </tr>\n",
       "    <tr>\n",
       "      <th>1</th>\n",
       "      <td>2</td>\n",
       "      <td>application_data</td>\n",
       "      <td>TARGET</td>\n",
       "      <td>Target variable (1 - client with payment diffi...</td>\n",
       "      <td>NaN</td>\n",
       "    </tr>\n",
       "    <tr>\n",
       "      <th>2</th>\n",
       "      <td>5</td>\n",
       "      <td>application_data</td>\n",
       "      <td>NAME_CONTRACT_TYPE</td>\n",
       "      <td>Identification if loan is cash or revolving</td>\n",
       "      <td>NaN</td>\n",
       "    </tr>\n",
       "    <tr>\n",
       "      <th>3</th>\n",
       "      <td>6</td>\n",
       "      <td>application_data</td>\n",
       "      <td>CODE_GENDER</td>\n",
       "      <td>Gender of the client</td>\n",
       "      <td>NaN</td>\n",
       "    </tr>\n",
       "    <tr>\n",
       "      <th>4</th>\n",
       "      <td>7</td>\n",
       "      <td>application_data</td>\n",
       "      <td>FLAG_OWN_CAR</td>\n",
       "      <td>Flag if the client owns a car</td>\n",
       "      <td>NaN</td>\n",
       "    </tr>\n",
       "    <tr>\n",
       "      <th>...</th>\n",
       "      <td>...</td>\n",
       "      <td>...</td>\n",
       "      <td>...</td>\n",
       "      <td>...</td>\n",
       "      <td>...</td>\n",
       "    </tr>\n",
       "    <tr>\n",
       "      <th>95</th>\n",
       "      <td>98</td>\n",
       "      <td>application_data</td>\n",
       "      <td>DAYS_LAST_PHONE_CHANGE</td>\n",
       "      <td>How many days before application did client ch...</td>\n",
       "      <td>NaN</td>\n",
       "    </tr>\n",
       "    <tr>\n",
       "      <th>96</th>\n",
       "      <td>99</td>\n",
       "      <td>application_data</td>\n",
       "      <td>FLAG_DOCUMENT_2</td>\n",
       "      <td>Did client provide document 2</td>\n",
       "      <td>NaN</td>\n",
       "    </tr>\n",
       "    <tr>\n",
       "      <th>97</th>\n",
       "      <td>100</td>\n",
       "      <td>application_data</td>\n",
       "      <td>FLAG_DOCUMENT_3</td>\n",
       "      <td>Did client provide document 3</td>\n",
       "      <td>NaN</td>\n",
       "    </tr>\n",
       "    <tr>\n",
       "      <th>98</th>\n",
       "      <td>101</td>\n",
       "      <td>application_data</td>\n",
       "      <td>FLAG_DOCUMENT_4</td>\n",
       "      <td>Did client provide document 4</td>\n",
       "      <td>NaN</td>\n",
       "    </tr>\n",
       "    <tr>\n",
       "      <th>99</th>\n",
       "      <td>102</td>\n",
       "      <td>application_data</td>\n",
       "      <td>FLAG_DOCUMENT_5</td>\n",
       "      <td>Did client provide document 5</td>\n",
       "      <td>NaN</td>\n",
       "    </tr>\n",
       "  </tbody>\n",
       "</table>\n",
       "<p>100 rows × 5 columns</p>\n",
       "</div>"
      ],
      "text/plain": [
       "    Unnamed: 0             Table                     Row  \\\n",
       "0            1  application_data              SK_ID_CURR   \n",
       "1            2  application_data                  TARGET   \n",
       "2            5  application_data      NAME_CONTRACT_TYPE   \n",
       "3            6  application_data             CODE_GENDER   \n",
       "4            7  application_data            FLAG_OWN_CAR   \n",
       "..         ...               ...                     ...   \n",
       "95          98  application_data  DAYS_LAST_PHONE_CHANGE   \n",
       "96          99  application_data         FLAG_DOCUMENT_2   \n",
       "97         100  application_data         FLAG_DOCUMENT_3   \n",
       "98         101  application_data         FLAG_DOCUMENT_4   \n",
       "99         102  application_data         FLAG_DOCUMENT_5   \n",
       "\n",
       "                                          Description Special  \n",
       "0                            ID of loan in our sample     NaN  \n",
       "1   Target variable (1 - client with payment diffi...     NaN  \n",
       "2         Identification if loan is cash or revolving     NaN  \n",
       "3                                Gender of the client     NaN  \n",
       "4                       Flag if the client owns a car     NaN  \n",
       "..                                                ...     ...  \n",
       "95  How many days before application did client ch...     NaN  \n",
       "96                      Did client provide document 2     NaN  \n",
       "97                      Did client provide document 3     NaN  \n",
       "98                      Did client provide document 4     NaN  \n",
       "99                      Did client provide document 5     NaN  \n",
       "\n",
       "[100 rows x 5 columns]"
      ]
     },
     "execution_count": 7,
     "metadata": {},
     "output_type": "execute_result"
    }
   ],
   "source": [
    "columns_description.head(100)"
   ]
  },
  {
   "cell_type": "code",
   "execution_count": 8,
   "id": "ad3132a0",
   "metadata": {
    "scrolled": true
   },
   "outputs": [
    {
     "name": "stdout",
     "output_type": "stream",
     "text": [
      "application_data     : (307511, 122)\n",
      "previous_application : (1670214, 37)\n",
      "columns_description  : (160, 5)\n"
     ]
    }
   ],
   "source": [
    "print (\"application_data     :\",application_data.shape)\n",
    "print (\"previous_application :\",previous_application.shape)\n",
    "print (\"columns_description  :\",columns_description.shape)"
   ]
  },
  {
   "cell_type": "code",
   "execution_count": 9,
   "id": "72b8e0bb",
   "metadata": {},
   "outputs": [
    {
     "name": "stdout",
     "output_type": "stream",
     "text": [
      "Requirement already satisfied: missingno in c:\\users\\kpear\\anaconda3\\lib\\site-packages (0.5.1)Note: you may need to restart the kernel to use updated packages.\n",
      "Requirement already satisfied: matplotlib in c:\\users\\kpear\\anaconda3\\lib\\site-packages (from missingno) (3.4.3)\n",
      "Requirement already satisfied: seaborn in c:\\users\\kpear\\anaconda3\\lib\\site-packages (from missingno) (0.11.2)\n",
      "Requirement already satisfied: numpy in c:\\users\\kpear\\anaconda3\\lib\\site-packages (from missingno) (1.20.3)\n",
      "Requirement already satisfied: scipy in c:\\users\\kpear\\anaconda3\\lib\\site-packages (from missingno) (1.7.1)\n",
      "Requirement already satisfied: kiwisolver>=1.0.1 in c:\\users\\kpear\\anaconda3\\lib\\site-packages (from matplotlib->missingno) (1.3.1)\n",
      "Requirement already satisfied: cycler>=0.10 in c:\\users\\kpear\\anaconda3\\lib\\site-packages (from matplotlib->missingno) (0.10.0)\n",
      "\n",
      "Requirement already satisfied: python-dateutil>=2.7 in c:\\users\\kpear\\anaconda3\\lib\\site-packages (from matplotlib->missingno) (2.8.2)\n",
      "Requirement already satisfied: pillow>=6.2.0 in c:\\users\\kpear\\anaconda3\\lib\\site-packages (from matplotlib->missingno) (8.4.0)\n",
      "Requirement already satisfied: pyparsing>=2.2.1 in c:\\users\\kpear\\anaconda3\\lib\\site-packages (from matplotlib->missingno) (3.0.4)\n",
      "Requirement already satisfied: six in c:\\users\\kpear\\anaconda3\\lib\\site-packages (from cycler>=0.10->matplotlib->missingno) (1.16.0)\n",
      "Requirement already satisfied: pandas>=0.23 in c:\\users\\kpear\\anaconda3\\lib\\site-packages (from seaborn->missingno) (1.3.4)\n",
      "Requirement already satisfied: pytz>=2017.3 in c:\\users\\kpear\\anaconda3\\lib\\site-packages (from pandas>=0.23->seaborn->missingno) (2021.3)\n"
     ]
    }
   ],
   "source": [
    "pip install missingno "
   ]
  },
  {
   "cell_type": "code",
   "execution_count": 10,
   "id": "ef0f7326",
   "metadata": {
    "scrolled": false
   },
   "outputs": [],
   "source": [
    "import missingno as msno"
   ]
  },
  {
   "cell_type": "code",
   "execution_count": 11,
   "id": "4aabc3b6",
   "metadata": {
    "scrolled": true
   },
   "outputs": [
    {
     "data": {
      "image/png": "[encoded data removed]",
      "text/plain": [
       "<Figure size 1800x720 with 2 Axes>"
      ]
     },
     "metadata": {
      "needs_background": "light"
     },
     "output_type": "display_data"
    },
    {
     "data": {
      "text/plain": [
       "<Figure size 1080x648 with 0 Axes>"
      ]
     },
     "metadata": {},
     "output_type": "display_data"
    }
   ],
   "source": [
    "msno.matrix(application_data)\n",
    "plt.figure(figsize = (15,9))\n",
    "plt.show()"
   ]
  },
  {
   "cell_type": "code",
   "execution_count": 12,
   "id": "ec4c8edc",
   "metadata": {
    "scrolled": true
   },
   "outputs": [
    {
     "data": {
      "text/plain": [
       "<AxesSubplot:>"
      ]
     },
     "execution_count": 12,
     "metadata": {},
     "output_type": "execute_result"
    },
    {
     "data": {
      "image/png": "[encoded data removed]",
      "text/plain": [
       "<Figure size 1800x3492 with 1 Axes>"
      ]
     },
     "metadata": {
      "needs_background": "light"
     },
     "output_type": "display_data"
    }
   ],
   "source": [
    "msno.dendrogram(application_data)"
   ]
  },
  {
   "cell_type": "code",
   "execution_count": 13,
   "id": "ae4303b8",
   "metadata": {},
   "outputs": [],
   "source": [
    "pd.set_option('display.max_rows', 500)"
   ]
  },
  {
   "cell_type": "code",
   "execution_count": 14,
   "id": "3bb0a6a2",
   "metadata": {
    "scrolled": true
   },
   "outputs": [
    {
     "data": {
      "text/plain": [
       "SK_ID_CURR                       0.00\n",
       "TARGET                           0.00\n",
       "NAME_CONTRACT_TYPE               0.00\n",
       "CODE_GENDER                      0.00\n",
       "FLAG_OWN_CAR                     0.00\n",
       "FLAG_OWN_REALTY                  0.00\n",
       "CNT_CHILDREN                     0.00\n",
       "AMT_INCOME_TOTAL                 0.00\n",
       "AMT_CREDIT                       0.00\n",
       "AMT_ANNUITY                      0.00\n",
       "AMT_GOODS_PRICE                  0.09\n",
       "NAME_TYPE_SUITE                  0.42\n",
       "NAME_INCOME_TYPE                 0.00\n",
       "NAME_EDUCATION_TYPE              0.00\n",
       "NAME_FAMILY_STATUS               0.00\n",
       "NAME_HOUSING_TYPE                0.00\n",
       "REGION_POPULATION_RELATIVE       0.00\n",
       "DAYS_BIRTH                       0.00\n",
       "DAYS_EMPLOYED                    0.00\n",
       "DAYS_REGISTRATION                0.00\n",
       "DAYS_ID_PUBLISH                  0.00\n",
       "OWN_CAR_AGE                     65.99\n",
       "FLAG_MOBIL                       0.00\n",
       "FLAG_EMP_PHONE                   0.00\n",
       "FLAG_WORK_PHONE                  0.00\n",
       "FLAG_CONT_MOBILE                 0.00\n",
       "FLAG_PHONE                       0.00\n",
       "FLAG_EMAIL                       0.00\n",
       "OCCUPATION_TYPE                 31.35\n",
       "CNT_FAM_MEMBERS                  0.00\n",
       "REGION_RATING_CLIENT             0.00\n",
       "REGION_RATING_CLIENT_W_CITY      0.00\n",
       "WEEKDAY_APPR_PROCESS_START       0.00\n",
       "HOUR_APPR_PROCESS_START          0.00\n",
       "REG_REGION_NOT_LIVE_REGION       0.00\n",
       "REG_REGION_NOT_WORK_REGION       0.00\n",
       "LIVE_REGION_NOT_WORK_REGION      0.00\n",
       "REG_CITY_NOT_LIVE_CITY           0.00\n",
       "REG_CITY_NOT_WORK_CITY           0.00\n",
       "LIVE_CITY_NOT_WORK_CITY          0.00\n",
       "ORGANIZATION_TYPE                0.00\n",
       "EXT_SOURCE_1                    56.38\n",
       "EXT_SOURCE_2                     0.21\n",
       "EXT_SOURCE_3                    19.83\n",
       "APARTMENTS_AVG                  50.75\n",
       "BASEMENTAREA_AVG                58.52\n",
       "YEARS_BEGINEXPLUATATION_AVG     48.78\n",
       "YEARS_BUILD_AVG                 66.50\n",
       "COMMONAREA_AVG                  69.87\n",
       "ELEVATORS_AVG                   53.30\n",
       "ENTRANCES_AVG                   50.35\n",
       "FLOORSMAX_AVG                   49.76\n",
       "FLOORSMIN_AVG                   67.85\n",
       "LANDAREA_AVG                    59.38\n",
       "LIVINGAPARTMENTS_AVG            68.35\n",
       "LIVINGAREA_AVG                  50.19\n",
       "NONLIVINGAPARTMENTS_AVG         69.43\n",
       "NONLIVINGAREA_AVG               55.18\n",
       "APARTMENTS_MODE                 50.75\n",
       "BASEMENTAREA_MODE               58.52\n",
       "YEARS_BEGINEXPLUATATION_MODE    48.78\n",
       "YEARS_BUILD_MODE                66.50\n",
       "COMMONAREA_MODE                 69.87\n",
       "ELEVATORS_MODE                  53.30\n",
       "ENTRANCES_MODE                  50.35\n",
       "FLOORSMAX_MODE                  49.76\n",
       "FLOORSMIN_MODE                  67.85\n",
       "LANDAREA_MODE                   59.38\n",
       "LIVINGAPARTMENTS_MODE           68.35\n",
       "LIVINGAREA_MODE                 50.19\n",
       "NONLIVINGAPARTMENTS_MODE        69.43\n",
       "NONLIVINGAREA_MODE              55.18\n",
       "APARTMENTS_MEDI                 50.75\n",
       "BASEMENTAREA_MEDI               58.52\n",
       "YEARS_BEGINEXPLUATATION_MEDI    48.78\n",
       "YEARS_BUILD_MEDI                66.50\n",
       "COMMONAREA_MEDI                 69.87\n",
       "ELEVATORS_MEDI                  53.30\n",
       "ENTRANCES_MEDI                  50.35\n",
       "FLOORSMAX_MEDI                  49.76\n",
       "FLOORSMIN_MEDI                  67.85\n",
       "LANDAREA_MEDI                   59.38\n",
       "LIVINGAPARTMENTS_MEDI           68.35\n",
       "LIVINGAREA_MEDI                 50.19\n",
       "NONLIVINGAPARTMENTS_MEDI        69.43\n",
       "NONLIVINGAREA_MEDI              55.18\n",
       "FONDKAPREMONT_MODE              68.39\n",
       "HOUSETYPE_MODE                  50.18\n",
       "TOTALAREA_MODE                  48.27\n",
       "WALLSMATERIAL_MODE              50.84\n",
       "EMERGENCYSTATE_MODE             47.40\n",
       "OBS_30_CNT_SOCIAL_CIRCLE         0.33\n",
       "DEF_30_CNT_SOCIAL_CIRCLE         0.33\n",
       "OBS_60_CNT_SOCIAL_CIRCLE         0.33\n",
       "DEF_60_CNT_SOCIAL_CIRCLE         0.33\n",
       "DAYS_LAST_PHONE_CHANGE           0.00\n",
       "FLAG_DOCUMENT_2                  0.00\n",
       "FLAG_DOCUMENT_3                  0.00\n",
       "FLAG_DOCUMENT_4                  0.00\n",
       "FLAG_DOCUMENT_5                  0.00\n",
       "FLAG_DOCUMENT_6                  0.00\n",
       "FLAG_DOCUMENT_7                  0.00\n",
       "FLAG_DOCUMENT_8                  0.00\n",
       "FLAG_DOCUMENT_9                  0.00\n",
       "FLAG_DOCUMENT_10                 0.00\n",
       "FLAG_DOCUMENT_11                 0.00\n",
       "FLAG_DOCUMENT_12                 0.00\n",
       "FLAG_DOCUMENT_13                 0.00\n",
       "FLAG_DOCUMENT_14                 0.00\n",
       "FLAG_DOCUMENT_15                 0.00\n",
       "FLAG_DOCUMENT_16                 0.00\n",
       "FLAG_DOCUMENT_17                 0.00\n",
       "FLAG_DOCUMENT_18                 0.00\n",
       "FLAG_DOCUMENT_19                 0.00\n",
       "FLAG_DOCUMENT_20                 0.00\n",
       "FLAG_DOCUMENT_21                 0.00\n",
       "AMT_REQ_CREDIT_BUREAU_HOUR      13.50\n",
       "AMT_REQ_CREDIT_BUREAU_DAY       13.50\n",
       "AMT_REQ_CREDIT_BUREAU_WEEK      13.50\n",
       "AMT_REQ_CREDIT_BUREAU_MON       13.50\n",
       "AMT_REQ_CREDIT_BUREAU_QRT       13.50\n",
       "AMT_REQ_CREDIT_BUREAU_YEAR      13.50\n",
       "dtype: float64"
      ]
     },
     "metadata": {},
     "output_type": "display_data"
    }
   ],
   "source": [
    "display(round(100*(application_data.isnull().sum()/len(application_data.index)),2))"
   ]
  },
  {
   "cell_type": "code",
   "execution_count": 15,
   "id": "fbe44d84",
   "metadata": {},
   "outputs": [],
   "source": [
    "missing_col = [col for col in application_data.columns if application_data[col].isna().sum()/application_data.shape[0] > 0]"
   ]
  },
  {
   "cell_type": "code",
   "execution_count": 16,
   "id": "6442a531",
   "metadata": {
    "scrolled": true
   },
   "outputs": [
    {
     "data": {
      "text/plain": [
       "['AMT_ANNUITY',\n",
       " 'AMT_GOODS_PRICE',\n",
       " 'NAME_TYPE_SUITE',\n",
       " 'OWN_CAR_AGE',\n",
       " 'OCCUPATION_TYPE',\n",
       " 'CNT_FAM_MEMBERS',\n",
       " 'EXT_SOURCE_1',\n",
       " 'EXT_SOURCE_2',\n",
       " 'EXT_SOURCE_3',\n",
       " 'APARTMENTS_AVG',\n",
       " 'BASEMENTAREA_AVG',\n",
       " 'YEARS_BEGINEXPLUATATION_AVG',\n",
       " 'YEARS_BUILD_AVG',\n",
       " 'COMMONAREA_AVG',\n",
       " 'ELEVATORS_AVG',\n",
       " 'ENTRANCES_AVG',\n",
       " 'FLOORSMAX_AVG',\n",
       " 'FLOORSMIN_AVG',\n",
       " 'LANDAREA_AVG',\n",
       " 'LIVINGAPARTMENTS_AVG',\n",
       " 'LIVINGAREA_AVG',\n",
       " 'NONLIVINGAPARTMENTS_AVG',\n",
       " 'NONLIVINGAREA_AVG',\n",
       " 'APARTMENTS_MODE',\n",
       " 'BASEMENTAREA_MODE',\n",
       " 'YEARS_BEGINEXPLUATATION_MODE',\n",
       " 'YEARS_BUILD_MODE',\n",
       " 'COMMONAREA_MODE',\n",
       " 'ELEVATORS_MODE',\n",
       " 'ENTRANCES_MODE',\n",
       " 'FLOORSMAX_MODE',\n",
       " 'FLOORSMIN_MODE',\n",
       " 'LANDAREA_MODE',\n",
       " 'LIVINGAPARTMENTS_MODE',\n",
       " 'LIVINGAREA_MODE',\n",
       " 'NONLIVINGAPARTMENTS_MODE',\n",
       " 'NONLIVINGAREA_MODE',\n",
       " 'APARTMENTS_MEDI',\n",
       " 'BASEMENTAREA_MEDI',\n",
       " 'YEARS_BEGINEXPLUATATION_MEDI',\n",
       " 'YEARS_BUILD_MEDI',\n",
       " 'COMMONAREA_MEDI',\n",
       " 'ELEVATORS_MEDI',\n",
       " 'ENTRANCES_MEDI',\n",
       " 'FLOORSMAX_MEDI',\n",
       " 'FLOORSMIN_MEDI',\n",
       " 'LANDAREA_MEDI',\n",
       " 'LIVINGAPARTMENTS_MEDI',\n",
       " 'LIVINGAREA_MEDI',\n",
       " 'NONLIVINGAPARTMENTS_MEDI',\n",
       " 'NONLIVINGAREA_MEDI',\n",
       " 'FONDKAPREMONT_MODE',\n",
       " 'HOUSETYPE_MODE',\n",
       " 'TOTALAREA_MODE',\n",
       " 'WALLSMATERIAL_MODE',\n",
       " 'EMERGENCYSTATE_MODE',\n",
       " 'OBS_30_CNT_SOCIAL_CIRCLE',\n",
       " 'DEF_30_CNT_SOCIAL_CIRCLE',\n",
       " 'OBS_60_CNT_SOCIAL_CIRCLE',\n",
       " 'DEF_60_CNT_SOCIAL_CIRCLE',\n",
       " 'DAYS_LAST_PHONE_CHANGE',\n",
       " 'AMT_REQ_CREDIT_BUREAU_HOUR',\n",
       " 'AMT_REQ_CREDIT_BUREAU_DAY',\n",
       " 'AMT_REQ_CREDIT_BUREAU_WEEK',\n",
       " 'AMT_REQ_CREDIT_BUREAU_MON',\n",
       " 'AMT_REQ_CREDIT_BUREAU_QRT',\n",
       " 'AMT_REQ_CREDIT_BUREAU_YEAR']"
      ]
     },
     "execution_count": 16,
     "metadata": {},
     "output_type": "execute_result"
    }
   ],
   "source": [
    "missing_col\n"
   ]
  },
  {
   "cell_type": "code",
   "execution_count": 17,
   "id": "a5d5c222",
   "metadata": {},
   "outputs": [],
   "source": [
    "missing_col1 = [col for col in application_data.columns if application_data[col].isna().sum()/application_data.shape[0] > 0.4]"
   ]
  },
  {
   "cell_type": "code",
   "execution_count": 18,
   "id": "bfb4d852",
   "metadata": {},
   "outputs": [
    {
     "data": {
      "text/plain": [
       "['OWN_CAR_AGE',\n",
       " 'EXT_SOURCE_1',\n",
       " 'APARTMENTS_AVG',\n",
       " 'BASEMENTAREA_AVG',\n",
       " 'YEARS_BEGINEXPLUATATION_AVG',\n",
       " 'YEARS_BUILD_AVG',\n",
       " 'COMMONAREA_AVG',\n",
       " 'ELEVATORS_AVG',\n",
       " 'ENTRANCES_AVG',\n",
       " 'FLOORSMAX_AVG',\n",
       " 'FLOORSMIN_AVG',\n",
       " 'LANDAREA_AVG',\n",
       " 'LIVINGAPARTMENTS_AVG',\n",
       " 'LIVINGAREA_AVG',\n",
       " 'NONLIVINGAPARTMENTS_AVG',\n",
       " 'NONLIVINGAREA_AVG',\n",
       " 'APARTMENTS_MODE',\n",
       " 'BASEMENTAREA_MODE',\n",
       " 'YEARS_BEGINEXPLUATATION_MODE',\n",
       " 'YEARS_BUILD_MODE',\n",
       " 'COMMONAREA_MODE',\n",
       " 'ELEVATORS_MODE',\n",
       " 'ENTRANCES_MODE',\n",
       " 'FLOORSMAX_MODE',\n",
       " 'FLOORSMIN_MODE',\n",
       " 'LANDAREA_MODE',\n",
       " 'LIVINGAPARTMENTS_MODE',\n",
       " 'LIVINGAREA_MODE',\n",
       " 'NONLIVINGAPARTMENTS_MODE',\n",
       " 'NONLIVINGAREA_MODE',\n",
       " 'APARTMENTS_MEDI',\n",
       " 'BASEMENTAREA_MEDI',\n",
       " 'YEARS_BEGINEXPLUATATION_MEDI',\n",
       " 'YEARS_BUILD_MEDI',\n",
       " 'COMMONAREA_MEDI',\n",
       " 'ELEVATORS_MEDI',\n",
       " 'ENTRANCES_MEDI',\n",
       " 'FLOORSMAX_MEDI',\n",
       " 'FLOORSMIN_MEDI',\n",
       " 'LANDAREA_MEDI',\n",
       " 'LIVINGAPARTMENTS_MEDI',\n",
       " 'LIVINGAREA_MEDI',\n",
       " 'NONLIVINGAPARTMENTS_MEDI',\n",
       " 'NONLIVINGAREA_MEDI',\n",
       " 'FONDKAPREMONT_MODE',\n",
       " 'HOUSETYPE_MODE',\n",
       " 'TOTALAREA_MODE',\n",
       " 'WALLSMATERIAL_MODE',\n",
       " 'EMERGENCYSTATE_MODE']"
      ]
     },
     "execution_count": 18,
     "metadata": {},
     "output_type": "execute_result"
    }
   ],
   "source": [
    "missing_col1"
   ]
  },
  {
   "cell_type": "code",
   "execution_count": 19,
   "id": "f5b6d2c2",
   "metadata": {},
   "outputs": [],
   "source": [
    "application_data.drop(missing_col1, axis = 1, inplace = True)"
   ]
  },
  {
   "cell_type": "code",
   "execution_count": 20,
   "id": "bd66c332",
   "metadata": {},
   "outputs": [],
   "source": [
    "application_data = application_data.drop(['EXT_SOURCE_2', 'EXT_SOURCE_3',\"OCCUPATION_TYPE\"],axis=1)"
   ]
  },
  {
   "cell_type": "code",
   "execution_count": 21,
   "id": "f17ed4e2",
   "metadata": {
    "scrolled": true
   },
   "outputs": [
    {
     "data": {
      "text/html": [
       "<div>\n",
       "<style scoped>\n",
       "    .dataframe tbody tr th:only-of-type {\n",
       "        vertical-align: middle;\n",
       "    }\n",
       "\n",
       "    .dataframe tbody tr th {\n",
       "        vertical-align: top;\n",
       "    }\n",
       "\n",
       "    .dataframe thead th {\n",
       "        text-align: right;\n",
       "    }\n",
       "</style>\n",
       "<table border=\"1\" class=\"dataframe\">\n",
       "  <thead>\n",
       "    <tr style=\"text-align: right;\">\n",
       "      <th></th>\n",
       "      <th>SK_ID_CURR</th>\n",
       "      <th>TARGET</th>\n",
       "      <th>NAME_CONTRACT_TYPE</th>\n",
       "      <th>CODE_GENDER</th>\n",
       "      <th>FLAG_OWN_CAR</th>\n",
       "      <th>FLAG_OWN_REALTY</th>\n",
       "      <th>CNT_CHILDREN</th>\n",
       "      <th>AMT_INCOME_TOTAL</th>\n",
       "      <th>AMT_CREDIT</th>\n",
       "      <th>AMT_ANNUITY</th>\n",
       "      <th>...</th>\n",
       "      <th>FLAG_DOCUMENT_18</th>\n",
       "      <th>FLAG_DOCUMENT_19</th>\n",
       "      <th>FLAG_DOCUMENT_20</th>\n",
       "      <th>FLAG_DOCUMENT_21</th>\n",
       "      <th>AMT_REQ_CREDIT_BUREAU_HOUR</th>\n",
       "      <th>AMT_REQ_CREDIT_BUREAU_DAY</th>\n",
       "      <th>AMT_REQ_CREDIT_BUREAU_WEEK</th>\n",
       "      <th>AMT_REQ_CREDIT_BUREAU_MON</th>\n",
       "      <th>AMT_REQ_CREDIT_BUREAU_QRT</th>\n",
       "      <th>AMT_REQ_CREDIT_BUREAU_YEAR</th>\n",
       "    </tr>\n",
       "  </thead>\n",
       "  <tbody>\n",
       "    <tr>\n",
       "      <th>0</th>\n",
       "      <td>100002</td>\n",
       "      <td>1</td>\n",
       "      <td>Cash loans</td>\n",
       "      <td>M</td>\n",
       "      <td>N</td>\n",
       "      <td>Y</td>\n",
       "      <td>0</td>\n",
       "      <td>202500.0</td>\n",
       "      <td>406597.5</td>\n",
       "      <td>24700.5</td>\n",
       "      <td>...</td>\n",
       "      <td>0</td>\n",
       "      <td>0</td>\n",
       "      <td>0</td>\n",
       "      <td>0</td>\n",
       "      <td>0.0</td>\n",
       "      <td>0.0</td>\n",
       "      <td>0.0</td>\n",
       "      <td>0.0</td>\n",
       "      <td>0.0</td>\n",
       "      <td>1.0</td>\n",
       "    </tr>\n",
       "    <tr>\n",
       "      <th>1</th>\n",
       "      <td>100003</td>\n",
       "      <td>0</td>\n",
       "      <td>Cash loans</td>\n",
       "      <td>F</td>\n",
       "      <td>N</td>\n",
       "      <td>N</td>\n",
       "      <td>0</td>\n",
       "      <td>270000.0</td>\n",
       "      <td>1293502.5</td>\n",
       "      <td>35698.5</td>\n",
       "      <td>...</td>\n",
       "      <td>0</td>\n",
       "      <td>0</td>\n",
       "      <td>0</td>\n",
       "      <td>0</td>\n",
       "      <td>0.0</td>\n",
       "      <td>0.0</td>\n",
       "      <td>0.0</td>\n",
       "      <td>0.0</td>\n",
       "      <td>0.0</td>\n",
       "      <td>0.0</td>\n",
       "    </tr>\n",
       "    <tr>\n",
       "      <th>2</th>\n",
       "      <td>100004</td>\n",
       "      <td>0</td>\n",
       "      <td>Revolving loans</td>\n",
       "      <td>M</td>\n",
       "      <td>Y</td>\n",
       "      <td>Y</td>\n",
       "      <td>0</td>\n",
       "      <td>67500.0</td>\n",
       "      <td>135000.0</td>\n",
       "      <td>6750.0</td>\n",
       "      <td>...</td>\n",
       "      <td>0</td>\n",
       "      <td>0</td>\n",
       "      <td>0</td>\n",
       "      <td>0</td>\n",
       "      <td>0.0</td>\n",
       "      <td>0.0</td>\n",
       "      <td>0.0</td>\n",
       "      <td>0.0</td>\n",
       "      <td>0.0</td>\n",
       "      <td>0.0</td>\n",
       "    </tr>\n",
       "    <tr>\n",
       "      <th>3</th>\n",
       "      <td>100006</td>\n",
       "      <td>0</td>\n",
       "      <td>Cash loans</td>\n",
       "      <td>F</td>\n",
       "      <td>N</td>\n",
       "      <td>Y</td>\n",
       "      <td>0</td>\n",
       "      <td>135000.0</td>\n",
       "      <td>312682.5</td>\n",
       "      <td>29686.5</td>\n",
       "      <td>...</td>\n",
       "      <td>0</td>\n",
       "      <td>0</td>\n",
       "      <td>0</td>\n",
       "      <td>0</td>\n",
       "      <td>NaN</td>\n",
       "      <td>NaN</td>\n",
       "      <td>NaN</td>\n",
       "      <td>NaN</td>\n",
       "      <td>NaN</td>\n",
       "      <td>NaN</td>\n",
       "    </tr>\n",
       "    <tr>\n",
       "      <th>4</th>\n",
       "      <td>100007</td>\n",
       "      <td>0</td>\n",
       "      <td>Cash loans</td>\n",
       "      <td>M</td>\n",
       "      <td>N</td>\n",
       "      <td>Y</td>\n",
       "      <td>0</td>\n",
       "      <td>121500.0</td>\n",
       "      <td>513000.0</td>\n",
       "      <td>21865.5</td>\n",
       "      <td>...</td>\n",
       "      <td>0</td>\n",
       "      <td>0</td>\n",
       "      <td>0</td>\n",
       "      <td>0</td>\n",
       "      <td>0.0</td>\n",
       "      <td>0.0</td>\n",
       "      <td>0.0</td>\n",
       "      <td>0.0</td>\n",
       "      <td>0.0</td>\n",
       "      <td>0.0</td>\n",
       "    </tr>\n",
       "    <tr>\n",
       "      <th>...</th>\n",
       "      <td>...</td>\n",
       "      <td>...</td>\n",
       "      <td>...</td>\n",
       "      <td>...</td>\n",
       "      <td>...</td>\n",
       "      <td>...</td>\n",
       "      <td>...</td>\n",
       "      <td>...</td>\n",
       "      <td>...</td>\n",
       "      <td>...</td>\n",
       "      <td>...</td>\n",
       "      <td>...</td>\n",
       "      <td>...</td>\n",
       "      <td>...</td>\n",
       "      <td>...</td>\n",
       "      <td>...</td>\n",
       "      <td>...</td>\n",
       "      <td>...</td>\n",
       "      <td>...</td>\n",
       "      <td>...</td>\n",
       "      <td>...</td>\n",
       "    </tr>\n",
       "    <tr>\n",
       "      <th>307506</th>\n",
       "      <td>456251</td>\n",
       "      <td>0</td>\n",
       "      <td>Cash loans</td>\n",
       "      <td>M</td>\n",
       "      <td>N</td>\n",
       "      <td>N</td>\n",
       "      <td>0</td>\n",
       "      <td>157500.0</td>\n",
       "      <td>254700.0</td>\n",
       "      <td>27558.0</td>\n",
       "      <td>...</td>\n",
       "      <td>0</td>\n",
       "      <td>0</td>\n",
       "      <td>0</td>\n",
       "      <td>0</td>\n",
       "      <td>NaN</td>\n",
       "      <td>NaN</td>\n",
       "      <td>NaN</td>\n",
       "      <td>NaN</td>\n",
       "      <td>NaN</td>\n",
       "      <td>NaN</td>\n",
       "    </tr>\n",
       "    <tr>\n",
       "      <th>307507</th>\n",
       "      <td>456252</td>\n",
       "      <td>0</td>\n",
       "      <td>Cash loans</td>\n",
       "      <td>F</td>\n",
       "      <td>N</td>\n",
       "      <td>Y</td>\n",
       "      <td>0</td>\n",
       "      <td>72000.0</td>\n",
       "      <td>269550.0</td>\n",
       "      <td>12001.5</td>\n",
       "      <td>...</td>\n",
       "      <td>0</td>\n",
       "      <td>0</td>\n",
       "      <td>0</td>\n",
       "      <td>0</td>\n",
       "      <td>NaN</td>\n",
       "      <td>NaN</td>\n",
       "      <td>NaN</td>\n",
       "      <td>NaN</td>\n",
       "      <td>NaN</td>\n",
       "      <td>NaN</td>\n",
       "    </tr>\n",
       "    <tr>\n",
       "      <th>307508</th>\n",
       "      <td>456253</td>\n",
       "      <td>0</td>\n",
       "      <td>Cash loans</td>\n",
       "      <td>F</td>\n",
       "      <td>N</td>\n",
       "      <td>Y</td>\n",
       "      <td>0</td>\n",
       "      <td>153000.0</td>\n",
       "      <td>677664.0</td>\n",
       "      <td>29979.0</td>\n",
       "      <td>...</td>\n",
       "      <td>0</td>\n",
       "      <td>0</td>\n",
       "      <td>0</td>\n",
       "      <td>0</td>\n",
       "      <td>1.0</td>\n",
       "      <td>0.0</td>\n",
       "      <td>0.0</td>\n",
       "      <td>1.0</td>\n",
       "      <td>0.0</td>\n",
       "      <td>1.0</td>\n",
       "    </tr>\n",
       "    <tr>\n",
       "      <th>307509</th>\n",
       "      <td>456254</td>\n",
       "      <td>1</td>\n",
       "      <td>Cash loans</td>\n",
       "      <td>F</td>\n",
       "      <td>N</td>\n",
       "      <td>Y</td>\n",
       "      <td>0</td>\n",
       "      <td>171000.0</td>\n",
       "      <td>370107.0</td>\n",
       "      <td>20205.0</td>\n",
       "      <td>...</td>\n",
       "      <td>0</td>\n",
       "      <td>0</td>\n",
       "      <td>0</td>\n",
       "      <td>0</td>\n",
       "      <td>0.0</td>\n",
       "      <td>0.0</td>\n",
       "      <td>0.0</td>\n",
       "      <td>0.0</td>\n",
       "      <td>0.0</td>\n",
       "      <td>0.0</td>\n",
       "    </tr>\n",
       "    <tr>\n",
       "      <th>307510</th>\n",
       "      <td>456255</td>\n",
       "      <td>0</td>\n",
       "      <td>Cash loans</td>\n",
       "      <td>F</td>\n",
       "      <td>N</td>\n",
       "      <td>N</td>\n",
       "      <td>0</td>\n",
       "      <td>157500.0</td>\n",
       "      <td>675000.0</td>\n",
       "      <td>49117.5</td>\n",
       "      <td>...</td>\n",
       "      <td>0</td>\n",
       "      <td>0</td>\n",
       "      <td>0</td>\n",
       "      <td>0</td>\n",
       "      <td>0.0</td>\n",
       "      <td>0.0</td>\n",
       "      <td>0.0</td>\n",
       "      <td>2.0</td>\n",
       "      <td>0.0</td>\n",
       "      <td>1.0</td>\n",
       "    </tr>\n",
       "  </tbody>\n",
       "</table>\n",
       "<p>307511 rows × 70 columns</p>\n",
       "</div>"
      ],
      "text/plain": [
       "        SK_ID_CURR  TARGET NAME_CONTRACT_TYPE CODE_GENDER FLAG_OWN_CAR  \\\n",
       "0           100002       1         Cash loans           M            N   \n",
       "1           100003       0         Cash loans           F            N   \n",
       "2           100004       0    Revolving loans           M            Y   \n",
       "3           100006       0         Cash loans           F            N   \n",
       "4           100007       0         Cash loans           M            N   \n",
       "...            ...     ...                ...         ...          ...   \n",
       "307506      456251       0         Cash loans           M            N   \n",
       "307507      456252       0         Cash loans           F            N   \n",
       "307508      456253       0         Cash loans           F            N   \n",
       "307509      456254       1         Cash loans           F            N   \n",
       "307510      456255       0         Cash loans           F            N   \n",
       "\n",
       "       FLAG_OWN_REALTY  CNT_CHILDREN  AMT_INCOME_TOTAL  AMT_CREDIT  \\\n",
       "0                    Y             0          202500.0    406597.5   \n",
       "1                    N             0          270000.0   1293502.5   \n",
       "2                    Y             0           67500.0    135000.0   \n",
       "3                    Y             0          135000.0    312682.5   \n",
       "4                    Y             0          121500.0    513000.0   \n",
       "...                ...           ...               ...         ...   \n",
       "307506               N             0          157500.0    254700.0   \n",
       "307507               Y             0           72000.0    269550.0   \n",
       "307508               Y             0          153000.0    677664.0   \n",
       "307509               Y             0          171000.0    370107.0   \n",
       "307510               N             0          157500.0    675000.0   \n",
       "\n",
       "        AMT_ANNUITY  ...  FLAG_DOCUMENT_18 FLAG_DOCUMENT_19 FLAG_DOCUMENT_20  \\\n",
       "0           24700.5  ...                 0                0                0   \n",
       "1           35698.5  ...                 0                0                0   \n",
       "2            6750.0  ...                 0                0                0   \n",
       "3           29686.5  ...                 0                0                0   \n",
       "4           21865.5  ...                 0                0                0   \n",
       "...             ...  ...               ...              ...              ...   \n",
       "307506      27558.0  ...                 0                0                0   \n",
       "307507      12001.5  ...                 0                0                0   \n",
       "307508      29979.0  ...                 0                0                0   \n",
       "307509      20205.0  ...                 0                0                0   \n",
       "307510      49117.5  ...                 0                0                0   \n",
       "\n",
       "       FLAG_DOCUMENT_21 AMT_REQ_CREDIT_BUREAU_HOUR AMT_REQ_CREDIT_BUREAU_DAY  \\\n",
       "0                     0                        0.0                       0.0   \n",
       "1                     0                        0.0                       0.0   \n",
       "2                     0                        0.0                       0.0   \n",
       "3                     0                        NaN                       NaN   \n",
       "4                     0                        0.0                       0.0   \n",
       "...                 ...                        ...                       ...   \n",
       "307506                0                        NaN                       NaN   \n",
       "307507                0                        NaN                       NaN   \n",
       "307508                0                        1.0                       0.0   \n",
       "307509                0                        0.0                       0.0   \n",
       "307510                0                        0.0                       0.0   \n",
       "\n",
       "        AMT_REQ_CREDIT_BUREAU_WEEK  AMT_REQ_CREDIT_BUREAU_MON  \\\n",
       "0                              0.0                        0.0   \n",
       "1                              0.0                        0.0   \n",
       "2                              0.0                        0.0   \n",
       "3                              NaN                        NaN   \n",
       "4                              0.0                        0.0   \n",
       "...                            ...                        ...   \n",
       "307506                         NaN                        NaN   \n",
       "307507                         NaN                        NaN   \n",
       "307508                         0.0                        1.0   \n",
       "307509                         0.0                        0.0   \n",
       "307510                         0.0                        2.0   \n",
       "\n",
       "        AMT_REQ_CREDIT_BUREAU_QRT  AMT_REQ_CREDIT_BUREAU_YEAR  \n",
       "0                             0.0                         1.0  \n",
       "1                             0.0                         0.0  \n",
       "2                             0.0                         0.0  \n",
       "3                             NaN                         NaN  \n",
       "4                             0.0                         0.0  \n",
       "...                           ...                         ...  \n",
       "307506                        NaN                         NaN  \n",
       "307507                        NaN                         NaN  \n",
       "307508                        0.0                         1.0  \n",
       "307509                        0.0                         0.0  \n",
       "307510                        0.0                         1.0  \n",
       "\n",
       "[307511 rows x 70 columns]"
      ]
     },
     "execution_count": 21,
     "metadata": {},
     "output_type": "execute_result"
    }
   ],
   "source": [
    "application_data"
   ]
  },
  {
   "cell_type": "markdown",
   "id": "7d1e5138",
   "metadata": {
    "papermill": {
     "duration": 0.200507,
     "end_time": "2020-12-17T00:34:59.198497",
     "exception": false,
     "start_time": "2020-12-17T00:34:58.997990",
     "status": "completed"
    },
    "tags": []
   },
   "source": [
    "### MISSING values Suggestion"
   ]
  },
  {
   "cell_type": "code",
   "execution_count": 22,
   "id": "d2144891",
   "metadata": {
    "scrolled": false
   },
   "outputs": [
    {
     "data": {
      "text/plain": [
       "SK_ID_CURR                         0\n",
       "TARGET                             0\n",
       "NAME_CONTRACT_TYPE                 0\n",
       "CODE_GENDER                        0\n",
       "FLAG_OWN_CAR                       0\n",
       "FLAG_OWN_REALTY                    0\n",
       "CNT_CHILDREN                       0\n",
       "AMT_INCOME_TOTAL                   0\n",
       "AMT_CREDIT                         0\n",
       "AMT_ANNUITY                       12\n",
       "AMT_GOODS_PRICE                  278\n",
       "NAME_TYPE_SUITE                 1292\n",
       "NAME_INCOME_TYPE                   0\n",
       "NAME_EDUCATION_TYPE                0\n",
       "NAME_FAMILY_STATUS                 0\n",
       "NAME_HOUSING_TYPE                  0\n",
       "REGION_POPULATION_RELATIVE         0\n",
       "DAYS_BIRTH                         0\n",
       "DAYS_EMPLOYED                      0\n",
       "DAYS_REGISTRATION                  0\n",
       "DAYS_ID_PUBLISH                    0\n",
       "FLAG_MOBIL                         0\n",
       "FLAG_EMP_PHONE                     0\n",
       "FLAG_WORK_PHONE                    0\n",
       "FLAG_CONT_MOBILE                   0\n",
       "FLAG_PHONE                         0\n",
       "FLAG_EMAIL                         0\n",
       "CNT_FAM_MEMBERS                    2\n",
       "REGION_RATING_CLIENT               0\n",
       "REGION_RATING_CLIENT_W_CITY        0\n",
       "WEEKDAY_APPR_PROCESS_START         0\n",
       "HOUR_APPR_PROCESS_START            0\n",
       "REG_REGION_NOT_LIVE_REGION         0\n",
       "REG_REGION_NOT_WORK_REGION         0\n",
       "LIVE_REGION_NOT_WORK_REGION        0\n",
       "REG_CITY_NOT_LIVE_CITY             0\n",
       "REG_CITY_NOT_WORK_CITY             0\n",
       "LIVE_CITY_NOT_WORK_CITY            0\n",
       "ORGANIZATION_TYPE                  0\n",
       "OBS_30_CNT_SOCIAL_CIRCLE        1021\n",
       "DEF_30_CNT_SOCIAL_CIRCLE        1021\n",
       "OBS_60_CNT_SOCIAL_CIRCLE        1021\n",
       "DEF_60_CNT_SOCIAL_CIRCLE        1021\n",
       "DAYS_LAST_PHONE_CHANGE             1\n",
       "FLAG_DOCUMENT_2                    0\n",
       "FLAG_DOCUMENT_3                    0\n",
       "FLAG_DOCUMENT_4                    0\n",
       "FLAG_DOCUMENT_5                    0\n",
       "FLAG_DOCUMENT_6                    0\n",
       "FLAG_DOCUMENT_7                    0\n",
       "FLAG_DOCUMENT_8                    0\n",
       "FLAG_DOCUMENT_9                    0\n",
       "FLAG_DOCUMENT_10                   0\n",
       "FLAG_DOCUMENT_11                   0\n",
       "FLAG_DOCUMENT_12                   0\n",
       "FLAG_DOCUMENT_13                   0\n",
       "FLAG_DOCUMENT_14                   0\n",
       "FLAG_DOCUMENT_15                   0\n",
       "FLAG_DOCUMENT_16                   0\n",
       "FLAG_DOCUMENT_17                   0\n",
       "FLAG_DOCUMENT_18                   0\n",
       "FLAG_DOCUMENT_19                   0\n",
       "FLAG_DOCUMENT_20                   0\n",
       "FLAG_DOCUMENT_21                   0\n",
       "AMT_REQ_CREDIT_BUREAU_HOUR     41519\n",
       "AMT_REQ_CREDIT_BUREAU_DAY      41519\n",
       "AMT_REQ_CREDIT_BUREAU_WEEK     41519\n",
       "AMT_REQ_CREDIT_BUREAU_MON      41519\n",
       "AMT_REQ_CREDIT_BUREAU_QRT      41519\n",
       "AMT_REQ_CREDIT_BUREAU_YEAR     41519\n",
       "dtype: int64"
      ]
     },
     "execution_count": 22,
     "metadata": {},
     "output_type": "execute_result"
    }
   ],
   "source": [
    "application_data.isnull().sum()"
   ]
  },
  {
   "cell_type": "markdown",
   "id": "2c324130",
   "metadata": {},
   "source": [
    "-----------------------------------------------------------------------------------------------------------------------"
   ]
  },
  {
   "cell_type": "code",
   "execution_count": 23,
   "id": "d3b176d6",
   "metadata": {
    "execution": {
     "iopub.execute_input": "2020-12-17T00:34:59.602110Z",
     "iopub.status.busy": "2020-12-17T00:34:59.601285Z",
     "iopub.status.idle": "2020-12-17T00:34:59.606629Z",
     "shell.execute_reply": "2020-12-17T00:34:59.607321Z"
    },
    "papermill": {
     "duration": 0.21052,
     "end_time": "2020-12-17T00:34:59.607514",
     "exception": false,
     "start_time": "2020-12-17T00:34:59.396994",
     "status": "completed"
    },
    "tags": []
   },
   "outputs": [
    {
     "name": "stdout",
     "output_type": "stream",
     "text": [
      "AMT_REQ_CREDIT_BUREAU_DAY NAN COUNT : 41519\n"
     ]
    }
   ],
   "source": [
    "print(\"AMT_REQ_CREDIT_BUREAU_DAY NAN COUNT :\" ,application_data['AMT_REQ_CREDIT_BUREAU_DAY'].isnull().sum())"
   ]
  },
  {
   "cell_type": "code",
   "execution_count": 24,
   "id": "1ec42014",
   "metadata": {
    "execution": {
     "iopub.execute_input": "2020-12-17T00:35:00.012215Z",
     "iopub.status.busy": "2020-12-17T00:35:00.011514Z",
     "iopub.status.idle": "2020-12-17T00:35:00.030862Z",
     "shell.execute_reply": "2020-12-17T00:35:00.030321Z"
    },
    "papermill": {
     "duration": 0.223163,
     "end_time": "2020-12-17T00:35:00.030985",
     "exception": false,
     "start_time": "2020-12-17T00:34:59.807822",
     "status": "completed"
    },
    "scrolled": true,
    "tags": []
   },
   "outputs": [
    {
     "data": {
      "text/plain": [
       "count    265992.000000\n",
       "mean          0.007000\n",
       "std           0.110757\n",
       "min           0.000000\n",
       "25%           0.000000\n",
       "50%           0.000000\n",
       "75%           0.000000\n",
       "max           9.000000\n",
       "Name: AMT_REQ_CREDIT_BUREAU_DAY, dtype: float64"
      ]
     },
     "execution_count": 24,
     "metadata": {},
     "output_type": "execute_result"
    }
   ],
   "source": [
    "application_data['AMT_REQ_CREDIT_BUREAU_DAY'].describe()"
   ]
  },
  {
   "cell_type": "markdown",
   "id": "ac8f4620",
   "metadata": {
    "papermill": {
     "duration": 0.243279,
     "end_time": "2020-12-17T00:35:00.476104",
     "exception": false,
     "start_time": "2020-12-17T00:35:00.232825",
     "status": "completed"
    },
    "tags": []
   },
   "source": [
    "### Suggestion\n",
    "We can Fill NA with 0 i.e. Median for this field "
   ]
  },
  {
   "cell_type": "code",
   "execution_count": 25,
   "id": "b0f653e2",
   "metadata": {},
   "outputs": [],
   "source": [
    "application_data[\"AMT_REQ_CREDIT_BUREAU_DAY\"].fillna(\"0\", inplace = True)"
   ]
  },
  {
   "cell_type": "code",
   "execution_count": 26,
   "id": "ec1e3c3d",
   "metadata": {},
   "outputs": [
    {
     "name": "stdout",
     "output_type": "stream",
     "text": [
      "AMT_REQ_CREDIT_BUREAU_DAY NAN COUNT : 0\n"
     ]
    }
   ],
   "source": [
    "print(\"AMT_REQ_CREDIT_BUREAU_DAY NAN COUNT :\" ,application_data['AMT_REQ_CREDIT_BUREAU_DAY'].isnull().sum())"
   ]
  },
  {
   "cell_type": "markdown",
   "id": "0865dbb8",
   "metadata": {},
   "source": [
    "-----------------------------------------------------------------------------------------------------------------------"
   ]
  },
  {
   "cell_type": "code",
   "execution_count": 27,
   "id": "5476be0e",
   "metadata": {
    "execution": {
     "iopub.execute_input": "2020-12-17T00:35:00.882041Z",
     "iopub.status.busy": "2020-12-17T00:35:00.881074Z",
     "iopub.status.idle": "2020-12-17T00:35:00.887621Z",
     "shell.execute_reply": "2020-12-17T00:35:00.886970Z"
    },
    "papermill": {
     "duration": 0.211351,
     "end_time": "2020-12-17T00:35:00.887760",
     "exception": false,
     "start_time": "2020-12-17T00:35:00.676409",
     "status": "completed"
    },
    "tags": []
   },
   "outputs": [
    {
     "name": "stdout",
     "output_type": "stream",
     "text": [
      "AMT_REQ_CREDIT_BUREAU_HOUR NAN COUNT : 41519\n"
     ]
    }
   ],
   "source": [
    "print(\"AMT_REQ_CREDIT_BUREAU_HOUR NAN COUNT :\" ,application_data['AMT_REQ_CREDIT_BUREAU_HOUR'].isnull().sum())"
   ]
  },
  {
   "cell_type": "code",
   "execution_count": 28,
   "id": "f979740b",
   "metadata": {
    "execution": {
     "iopub.execute_input": "2020-12-17T00:35:01.292150Z",
     "iopub.status.busy": "2020-12-17T00:35:01.291147Z",
     "iopub.status.idle": "2020-12-17T00:35:01.309190Z",
     "shell.execute_reply": "2020-12-17T00:35:01.309662Z"
    },
    "papermill": {
     "duration": 0.221363,
     "end_time": "2020-12-17T00:35:01.309835",
     "exception": false,
     "start_time": "2020-12-17T00:35:01.088472",
     "status": "completed"
    },
    "tags": []
   },
   "outputs": [
    {
     "data": {
      "text/plain": [
       "count    265992.000000\n",
       "mean          0.006402\n",
       "std           0.083849\n",
       "min           0.000000\n",
       "25%           0.000000\n",
       "50%           0.000000\n",
       "75%           0.000000\n",
       "max           4.000000\n",
       "Name: AMT_REQ_CREDIT_BUREAU_HOUR, dtype: float64"
      ]
     },
     "execution_count": 28,
     "metadata": {},
     "output_type": "execute_result"
    }
   ],
   "source": [
    "application_data['AMT_REQ_CREDIT_BUREAU_HOUR'].describe()"
   ]
  },
  {
   "cell_type": "markdown",
   "id": "b3d6064d",
   "metadata": {
    "papermill": {
     "duration": 0.200741,
     "end_time": "2020-12-17T00:35:01.710737",
     "exception": false,
     "start_time": "2020-12-17T00:35:01.509996",
     "status": "completed"
    },
    "tags": []
   },
   "source": [
    "### Suggestion\n",
    "We can Fill NA with 0 i.e. Median for this field "
   ]
  },
  {
   "cell_type": "code",
   "execution_count": 29,
   "id": "39ceb34b",
   "metadata": {},
   "outputs": [],
   "source": [
    "application_data[\"AMT_REQ_CREDIT_BUREAU_HOUR\"].fillna(\"0\", inplace = True)"
   ]
  },
  {
   "cell_type": "code",
   "execution_count": 30,
   "id": "12f5e271",
   "metadata": {},
   "outputs": [
    {
     "name": "stdout",
     "output_type": "stream",
     "text": [
      "AMT_REQ_CREDIT_BUREAU_HOUR NAN COUNT : 0\n"
     ]
    }
   ],
   "source": [
    "print(\"AMT_REQ_CREDIT_BUREAU_HOUR NAN COUNT :\" ,application_data['AMT_REQ_CREDIT_BUREAU_HOUR'].isnull().sum())"
   ]
  },
  {
   "cell_type": "markdown",
   "id": "54b36f75",
   "metadata": {},
   "source": [
    "-----------------------------------------------------------------------------------------------------------------------"
   ]
  },
  {
   "cell_type": "code",
   "execution_count": 31,
   "id": "da223efe",
   "metadata": {
    "execution": {
     "iopub.execute_input": "2020-12-17T00:35:02.116688Z",
     "iopub.status.busy": "2020-12-17T00:35:02.115656Z",
     "iopub.status.idle": "2020-12-17T00:35:02.124463Z",
     "shell.execute_reply": "2020-12-17T00:35:02.123786Z"
    },
    "papermill": {
     "duration": 0.213286,
     "end_time": "2020-12-17T00:35:02.124580",
     "exception": false,
     "start_time": "2020-12-17T00:35:01.911294",
     "status": "completed"
    },
    "tags": []
   },
   "outputs": [
    {
     "name": "stdout",
     "output_type": "stream",
     "text": [
      "AMT_REQ_CREDIT_BUREAU_MON NAN COUNT : 41519\n"
     ]
    }
   ],
   "source": [
    "print(\"AMT_REQ_CREDIT_BUREAU_MON NAN COUNT :\" ,application_data['AMT_REQ_CREDIT_BUREAU_MON'].isnull().sum())"
   ]
  },
  {
   "cell_type": "code",
   "execution_count": 32,
   "id": "d3ffc336",
   "metadata": {
    "execution": {
     "iopub.execute_input": "2020-12-17T00:35:02.534111Z",
     "iopub.status.busy": "2020-12-17T00:35:02.533077Z",
     "iopub.status.idle": "2020-12-17T00:35:02.551076Z",
     "shell.execute_reply": "2020-12-17T00:35:02.550455Z"
    },
    "papermill": {
     "duration": 0.225904,
     "end_time": "2020-12-17T00:35:02.551202",
     "exception": false,
     "start_time": "2020-12-17T00:35:02.325298",
     "status": "completed"
    },
    "tags": []
   },
   "outputs": [
    {
     "data": {
      "text/plain": [
       "count    265992.000000\n",
       "mean          0.267395\n",
       "std           0.916002\n",
       "min           0.000000\n",
       "25%           0.000000\n",
       "50%           0.000000\n",
       "75%           0.000000\n",
       "max          27.000000\n",
       "Name: AMT_REQ_CREDIT_BUREAU_MON, dtype: float64"
      ]
     },
     "execution_count": 32,
     "metadata": {},
     "output_type": "execute_result"
    }
   ],
   "source": [
    "application_data['AMT_REQ_CREDIT_BUREAU_MON'].describe()"
   ]
  },
  {
   "cell_type": "markdown",
   "id": "818761e2",
   "metadata": {
    "papermill": {
     "duration": 0.202807,
     "end_time": "2020-12-17T00:35:02.956574",
     "exception": false,
     "start_time": "2020-12-17T00:35:02.753767",
     "status": "completed"
    },
    "tags": []
   },
   "source": [
    "### Suggestion\n",
    "We can Fill NA with 0 i.e. Median for this field "
   ]
  },
  {
   "cell_type": "code",
   "execution_count": 33,
   "id": "ac60f728",
   "metadata": {},
   "outputs": [],
   "source": [
    "application_data[\"AMT_REQ_CREDIT_BUREAU_MON\"].fillna(\"0\", inplace = True)"
   ]
  },
  {
   "cell_type": "code",
   "execution_count": 34,
   "id": "bdca0ac5",
   "metadata": {
    "scrolled": true
   },
   "outputs": [
    {
     "name": "stdout",
     "output_type": "stream",
     "text": [
      "AMT_REQ_CREDIT_BUREAU_MON NAN COUNT : 0\n"
     ]
    }
   ],
   "source": [
    "print(\"AMT_REQ_CREDIT_BUREAU_MON NAN COUNT :\" ,application_data['AMT_REQ_CREDIT_BUREAU_MON'].isnull().sum())"
   ]
  },
  {
   "cell_type": "markdown",
   "id": "ae458073",
   "metadata": {},
   "source": [
    "-----------------------------------------------------------------------------------------------------------------------"
   ]
  },
  {
   "cell_type": "code",
   "execution_count": 35,
   "id": "9a5ba8cf",
   "metadata": {
    "execution": {
     "iopub.execute_input": "2020-12-17T00:35:03.369510Z",
     "iopub.status.busy": "2020-12-17T00:35:03.368656Z",
     "iopub.status.idle": "2020-12-17T00:35:03.375543Z",
     "shell.execute_reply": "2020-12-17T00:35:03.376418Z"
    },
    "papermill": {
     "duration": 0.218769,
     "end_time": "2020-12-17T00:35:03.376585",
     "exception": false,
     "start_time": "2020-12-17T00:35:03.157816",
     "status": "completed"
    },
    "tags": []
   },
   "outputs": [
    {
     "name": "stdout",
     "output_type": "stream",
     "text": [
      "AMT_REQ_CREDIT_BUREAU_QRT NAN COUNT : 41519\n"
     ]
    }
   ],
   "source": [
    "print(\"AMT_REQ_CREDIT_BUREAU_QRT NAN COUNT :\" ,application_data['AMT_REQ_CREDIT_BUREAU_QRT'].isnull().sum())"
   ]
  },
  {
   "cell_type": "code",
   "execution_count": 36,
   "id": "ed5450ec",
   "metadata": {
    "scrolled": true
   },
   "outputs": [
    {
     "data": {
      "text/plain": [
       "count    265992.000000\n",
       "mean          0.265474\n",
       "std           0.794056\n",
       "min           0.000000\n",
       "25%           0.000000\n",
       "50%           0.000000\n",
       "75%           0.000000\n",
       "max         261.000000\n",
       "Name: AMT_REQ_CREDIT_BUREAU_QRT, dtype: float64"
      ]
     },
     "execution_count": 36,
     "metadata": {},
     "output_type": "execute_result"
    }
   ],
   "source": [
    "application_data['AMT_REQ_CREDIT_BUREAU_QRT'].describe()"
   ]
  },
  {
   "cell_type": "markdown",
   "id": "5f9ee3e8",
   "metadata": {
    "papermill": {
     "duration": 0.202224,
     "end_time": "2020-12-17T00:35:03.783207",
     "exception": false,
     "start_time": "2020-12-17T00:35:03.580983",
     "status": "completed"
    },
    "tags": []
   },
   "source": [
    "### Suggestion\n",
    "We can Fill NA with 0 i.e. Median for this field "
   ]
  },
  {
   "cell_type": "code",
   "execution_count": 37,
   "id": "b9410365",
   "metadata": {},
   "outputs": [],
   "source": [
    "application_data[\"AMT_REQ_CREDIT_BUREAU_QRT\"].fillna(\"0\", inplace = True)"
   ]
  },
  {
   "cell_type": "code",
   "execution_count": 38,
   "id": "b05a0884",
   "metadata": {
    "scrolled": true
   },
   "outputs": [
    {
     "name": "stdout",
     "output_type": "stream",
     "text": [
      "AMT_REQ_CREDIT_BUREAU_QRT NAN COUNT : 0\n"
     ]
    }
   ],
   "source": [
    "print(\"AMT_REQ_CREDIT_BUREAU_QRT NAN COUNT :\" ,application_data['AMT_REQ_CREDIT_BUREAU_QRT'].isnull().sum())"
   ]
  },
  {
   "cell_type": "markdown",
   "id": "81bf6bea",
   "metadata": {},
   "source": [
    "-----------------------------------------------------------------------------------------------------------------------"
   ]
  },
  {
   "cell_type": "code",
   "execution_count": 39,
   "id": "6ce13af5",
   "metadata": {
    "execution": {
     "iopub.execute_input": "2020-12-17T00:35:04.204842Z",
     "iopub.status.busy": "2020-12-17T00:35:04.204090Z",
     "iopub.status.idle": "2020-12-17T00:35:04.210813Z",
     "shell.execute_reply": "2020-12-17T00:35:04.209640Z"
    },
    "papermill": {
     "duration": 0.215084,
     "end_time": "2020-12-17T00:35:04.211021",
     "exception": false,
     "start_time": "2020-12-17T00:35:03.995937",
     "status": "completed"
    },
    "tags": []
   },
   "outputs": [
    {
     "name": "stdout",
     "output_type": "stream",
     "text": [
      "AMT_REQ_CREDIT_BUREAU_WEEK NAN COUNT : 41519\n"
     ]
    }
   ],
   "source": [
    "print(\"AMT_REQ_CREDIT_BUREAU_WEEK NAN COUNT :\" ,application_data['AMT_REQ_CREDIT_BUREAU_WEEK'].isnull().sum())"
   ]
  },
  {
   "cell_type": "code",
   "execution_count": 40,
   "id": "9c1336a1",
   "metadata": {
    "execution": {
     "iopub.execute_input": "2020-12-17T00:35:04.620608Z",
     "iopub.status.busy": "2020-12-17T00:35:04.619938Z",
     "iopub.status.idle": "2020-12-17T00:35:04.638460Z",
     "shell.execute_reply": "2020-12-17T00:35:04.637778Z"
    },
    "papermill": {
     "duration": 0.224293,
     "end_time": "2020-12-17T00:35:04.638578",
     "exception": false,
     "start_time": "2020-12-17T00:35:04.414285",
     "status": "completed"
    },
    "scrolled": true,
    "tags": []
   },
   "outputs": [
    {
     "data": {
      "text/plain": [
       "count    265992.000000\n",
       "mean          0.034362\n",
       "std           0.204685\n",
       "min           0.000000\n",
       "25%           0.000000\n",
       "50%           0.000000\n",
       "75%           0.000000\n",
       "max           8.000000\n",
       "Name: AMT_REQ_CREDIT_BUREAU_WEEK, dtype: float64"
      ]
     },
     "execution_count": 40,
     "metadata": {},
     "output_type": "execute_result"
    }
   ],
   "source": [
    "application_data['AMT_REQ_CREDIT_BUREAU_WEEK'].describe()"
   ]
  },
  {
   "cell_type": "markdown",
   "id": "79d2df42",
   "metadata": {
    "papermill": {
     "duration": 0.20507,
     "end_time": "2020-12-17T00:35:05.046199",
     "exception": false,
     "start_time": "2020-12-17T00:35:04.841129",
     "status": "completed"
    },
    "tags": []
   },
   "source": [
    "### Suggestion\n",
    "We can Fill NA with 0 i.e. Median for this field "
   ]
  },
  {
   "cell_type": "code",
   "execution_count": 41,
   "id": "1889046b",
   "metadata": {},
   "outputs": [],
   "source": [
    "application_data[\"AMT_REQ_CREDIT_BUREAU_WEEK\"].fillna(\"0\", inplace = True)"
   ]
  },
  {
   "cell_type": "code",
   "execution_count": 42,
   "id": "ee5f2d83",
   "metadata": {
    "scrolled": true
   },
   "outputs": [
    {
     "name": "stdout",
     "output_type": "stream",
     "text": [
      "AMT_REQ_CREDIT_BUREAU_WEEK NAN COUNT : 0\n"
     ]
    }
   ],
   "source": [
    "print(\"AMT_REQ_CREDIT_BUREAU_WEEK NAN COUNT :\" ,application_data['AMT_REQ_CREDIT_BUREAU_WEEK'].isnull().sum())"
   ]
  },
  {
   "cell_type": "markdown",
   "id": "deb012aa",
   "metadata": {},
   "source": [
    "-----------------------------------------------------------------------------------------------------------------------"
   ]
  },
  {
   "cell_type": "code",
   "execution_count": 43,
   "id": "94cce443",
   "metadata": {
    "execution": {
     "iopub.execute_input": "2020-12-17T00:35:05.458744Z",
     "iopub.status.busy": "2020-12-17T00:35:05.458039Z",
     "iopub.status.idle": "2020-12-17T00:35:05.462242Z",
     "shell.execute_reply": "2020-12-17T00:35:05.462762Z"
    },
    "papermill": {
     "duration": 0.213271,
     "end_time": "2020-12-17T00:35:05.462923",
     "exception": false,
     "start_time": "2020-12-17T00:35:05.249652",
     "status": "completed"
    },
    "tags": []
   },
   "outputs": [
    {
     "name": "stdout",
     "output_type": "stream",
     "text": [
      "AMT_REQ_CREDIT_BUREAU_YEAR NAN COUNT : 41519\n"
     ]
    }
   ],
   "source": [
    "print(\"AMT_REQ_CREDIT_BUREAU_YEAR NAN COUNT :\" ,application_data['AMT_REQ_CREDIT_BUREAU_YEAR'].isnull().sum())"
   ]
  },
  {
   "cell_type": "code",
   "execution_count": 44,
   "id": "a2865d05",
   "metadata": {
    "execution": {
     "iopub.execute_input": "2020-12-17T00:35:05.877956Z",
     "iopub.status.busy": "2020-12-17T00:35:05.877274Z",
     "iopub.status.idle": "2020-12-17T00:35:05.899560Z",
     "shell.execute_reply": "2020-12-17T00:35:05.899004Z"
    },
    "papermill": {
     "duration": 0.231592,
     "end_time": "2020-12-17T00:35:05.899680",
     "exception": false,
     "start_time": "2020-12-17T00:35:05.668088",
     "status": "completed"
    },
    "tags": []
   },
   "outputs": [
    {
     "data": {
      "text/plain": [
       "count    265992.000000\n",
       "mean          1.899974\n",
       "std           1.869295\n",
       "min           0.000000\n",
       "25%           0.000000\n",
       "50%           1.000000\n",
       "75%           3.000000\n",
       "max          25.000000\n",
       "Name: AMT_REQ_CREDIT_BUREAU_YEAR, dtype: float64"
      ]
     },
     "execution_count": 44,
     "metadata": {},
     "output_type": "execute_result"
    }
   ],
   "source": [
    "application_data['AMT_REQ_CREDIT_BUREAU_YEAR'].describe()"
   ]
  },
  {
   "cell_type": "markdown",
   "id": "6d2d0fb6",
   "metadata": {
    "papermill": {
     "duration": 0.202921,
     "end_time": "2020-12-17T00:35:06.307916",
     "exception": false,
     "start_time": "2020-12-17T00:35:06.104995",
     "status": "completed"
    },
    "tags": []
   },
   "source": [
    "### Suggestion\n",
    "We can Fill NA with 0 i.e. Median for this field "
   ]
  },
  {
   "cell_type": "code",
   "execution_count": 45,
   "id": "a1096d29",
   "metadata": {},
   "outputs": [],
   "source": [
    "application_data[\"AMT_REQ_CREDIT_BUREAU_YEAR\"].fillna(\"0\", inplace = True)"
   ]
  },
  {
   "cell_type": "code",
   "execution_count": 46,
   "id": "c2604095",
   "metadata": {
    "scrolled": true
   },
   "outputs": [
    {
     "name": "stdout",
     "output_type": "stream",
     "text": [
      "AMT_REQ_CREDIT_BUREAU_YEAR NAN COUNT : 0\n"
     ]
    }
   ],
   "source": [
    "print(\"AMT_REQ_CREDIT_BUREAU_YEAR NAN COUNT :\" ,application_data['AMT_REQ_CREDIT_BUREAU_YEAR'].isnull().sum())"
   ]
  },
  {
   "cell_type": "markdown",
   "id": "a58291b6",
   "metadata": {},
   "source": [
    "-----------------------------------------------------------------------------------------------------------------------"
   ]
  },
  {
   "cell_type": "code",
   "execution_count": 47,
   "id": "732883b1",
   "metadata": {
    "execution": {
     "iopub.execute_input": "2020-12-17T00:35:06.719498Z",
     "iopub.status.busy": "2020-12-17T00:35:06.718841Z",
     "iopub.status.idle": "2020-12-17T00:35:06.725402Z",
     "shell.execute_reply": "2020-12-17T00:35:06.725960Z"
    },
    "papermill": {
     "duration": 0.214254,
     "end_time": "2020-12-17T00:35:06.726112",
     "exception": false,
     "start_time": "2020-12-17T00:35:06.511858",
     "status": "completed"
    },
    "tags": []
   },
   "outputs": [
    {
     "name": "stdout",
     "output_type": "stream",
     "text": [
      "DEF_30_CNT_SOCIAL_CIRCLE NAN COUNT : 1021\n"
     ]
    }
   ],
   "source": [
    "print(\"DEF_30_CNT_SOCIAL_CIRCLE NAN COUNT :\" ,application_data['DEF_30_CNT_SOCIAL_CIRCLE'].isnull().sum())"
   ]
  },
  {
   "cell_type": "code",
   "execution_count": 48,
   "id": "1b4d7d32",
   "metadata": {
    "execution": {
     "iopub.execute_input": "2020-12-17T00:35:07.139912Z",
     "iopub.status.busy": "2020-12-17T00:35:07.138902Z",
     "iopub.status.idle": "2020-12-17T00:35:07.156003Z",
     "shell.execute_reply": "2020-12-17T00:35:07.156471Z"
    },
    "papermill": {
     "duration": 0.226364,
     "end_time": "2020-12-17T00:35:07.156619",
     "exception": false,
     "start_time": "2020-12-17T00:35:06.930255",
     "status": "completed"
    },
    "tags": []
   },
   "outputs": [
    {
     "data": {
      "text/plain": [
       "count    306490.000000\n",
       "mean          0.143421\n",
       "std           0.446698\n",
       "min           0.000000\n",
       "25%           0.000000\n",
       "50%           0.000000\n",
       "75%           0.000000\n",
       "max          34.000000\n",
       "Name: DEF_30_CNT_SOCIAL_CIRCLE, dtype: float64"
      ]
     },
     "execution_count": 48,
     "metadata": {},
     "output_type": "execute_result"
    }
   ],
   "source": [
    "application_data['DEF_30_CNT_SOCIAL_CIRCLE'].describe()"
   ]
  },
  {
   "cell_type": "markdown",
   "id": "057b8280",
   "metadata": {
    "papermill": {
     "duration": 0.202688,
     "end_time": "2020-12-17T00:35:07.563808",
     "exception": false,
     "start_time": "2020-12-17T00:35:07.361120",
     "status": "completed"
    },
    "tags": []
   },
   "source": [
    "### Suggestion\n",
    "We can Fill NA with 0 i.e. Median for this field "
   ]
  },
  {
   "cell_type": "code",
   "execution_count": 49,
   "id": "eea6d562",
   "metadata": {},
   "outputs": [],
   "source": [
    "application_data[\"DEF_30_CNT_SOCIAL_CIRCLE\"].fillna(\"0\", inplace = True)"
   ]
  },
  {
   "cell_type": "code",
   "execution_count": 50,
   "id": "ac25d3b2",
   "metadata": {
    "scrolled": true
   },
   "outputs": [
    {
     "name": "stdout",
     "output_type": "stream",
     "text": [
      "DEF_30_CNT_SOCIAL_CIRCLE NAN COUNT : 0\n"
     ]
    }
   ],
   "source": [
    "print(\"DEF_30_CNT_SOCIAL_CIRCLE NAN COUNT :\" ,application_data['DEF_30_CNT_SOCIAL_CIRCLE'].isnull().sum())"
   ]
  },
  {
   "cell_type": "markdown",
   "id": "204e6edb",
   "metadata": {},
   "source": [
    "-----------------------------------------------------------------------------------------------------------------------"
   ]
  },
  {
   "cell_type": "code",
   "execution_count": 51,
   "id": "c4636e6f",
   "metadata": {
    "execution": {
     "iopub.execute_input": "2020-12-17T00:35:06.719498Z",
     "iopub.status.busy": "2020-12-17T00:35:06.718841Z",
     "iopub.status.idle": "2020-12-17T00:35:06.725402Z",
     "shell.execute_reply": "2020-12-17T00:35:06.725960Z"
    },
    "papermill": {
     "duration": 0.214254,
     "end_time": "2020-12-17T00:35:06.726112",
     "exception": false,
     "start_time": "2020-12-17T00:35:06.511858",
     "status": "completed"
    },
    "scrolled": true,
    "tags": []
   },
   "outputs": [
    {
     "name": "stdout",
     "output_type": "stream",
     "text": [
      "DEF_60_CNT_SOCIAL_CIRCLE NAN COUNT : 1021\n"
     ]
    }
   ],
   "source": [
    "print(\"DEF_60_CNT_SOCIAL_CIRCLE NAN COUNT :\" ,application_data['DEF_60_CNT_SOCIAL_CIRCLE'].isnull().sum())"
   ]
  },
  {
   "cell_type": "code",
   "execution_count": 52,
   "id": "31242047",
   "metadata": {
    "execution": {
     "iopub.execute_input": "2020-12-17T00:35:07.139912Z",
     "iopub.status.busy": "2020-12-17T00:35:07.138902Z",
     "iopub.status.idle": "2020-12-17T00:35:07.156003Z",
     "shell.execute_reply": "2020-12-17T00:35:07.156471Z"
    },
    "papermill": {
     "duration": 0.226364,
     "end_time": "2020-12-17T00:35:07.156619",
     "exception": false,
     "start_time": "2020-12-17T00:35:06.930255",
     "status": "completed"
    },
    "scrolled": true,
    "tags": []
   },
   "outputs": [
    {
     "data": {
      "text/plain": [
       "count    306490.000000\n",
       "mean          0.100049\n",
       "std           0.362291\n",
       "min           0.000000\n",
       "25%           0.000000\n",
       "50%           0.000000\n",
       "75%           0.000000\n",
       "max          24.000000\n",
       "Name: DEF_60_CNT_SOCIAL_CIRCLE, dtype: float64"
      ]
     },
     "execution_count": 52,
     "metadata": {},
     "output_type": "execute_result"
    }
   ],
   "source": [
    "application_data['DEF_60_CNT_SOCIAL_CIRCLE'].describe()"
   ]
  },
  {
   "cell_type": "markdown",
   "id": "ecfde344",
   "metadata": {
    "papermill": {
     "duration": 0.202688,
     "end_time": "2020-12-17T00:35:07.563808",
     "exception": false,
     "start_time": "2020-12-17T00:35:07.361120",
     "status": "completed"
    },
    "tags": []
   },
   "source": [
    "### Suggestion\n",
    "We can Fill NA with 0 i.e. Median for this field "
   ]
  },
  {
   "cell_type": "code",
   "execution_count": 53,
   "id": "41633294",
   "metadata": {},
   "outputs": [],
   "source": [
    "application_data[\"DEF_60_CNT_SOCIAL_CIRCLE\"].fillna(\"0\", inplace = True)"
   ]
  },
  {
   "cell_type": "code",
   "execution_count": 54,
   "id": "3bf83d5e",
   "metadata": {
    "scrolled": true
   },
   "outputs": [
    {
     "name": "stdout",
     "output_type": "stream",
     "text": [
      "DEF_60_CNT_SOCIAL_CIRCLE NAN COUNT : 0\n"
     ]
    }
   ],
   "source": [
    "print(\"DEF_60_CNT_SOCIAL_CIRCLE NAN COUNT :\" ,application_data['DEF_60_CNT_SOCIAL_CIRCLE'].isnull().sum())"
   ]
  },
  {
   "cell_type": "markdown",
   "id": "2c7cdf93",
   "metadata": {},
   "source": [
    "-----------------------------------------------------------------------------------------------------------------------"
   ]
  },
  {
   "cell_type": "code",
   "execution_count": 55,
   "id": "66ddc658",
   "metadata": {
    "execution": {
     "iopub.execute_input": "2020-12-17T00:35:09.292938Z",
     "iopub.status.busy": "2020-12-17T00:35:09.292313Z",
     "iopub.status.idle": "2020-12-17T00:35:09.300400Z",
     "shell.execute_reply": "2020-12-17T00:35:09.300987Z"
    },
    "papermill": {
     "duration": 0.22902,
     "end_time": "2020-12-17T00:35:09.301181",
     "exception": false,
     "start_time": "2020-12-17T00:35:09.072161",
     "status": "completed"
    },
    "tags": []
   },
   "outputs": [
    {
     "name": "stdout",
     "output_type": "stream",
     "text": [
      "OBS_60_CNT_SOCIAL_CIRCLE : 1021\n"
     ]
    }
   ],
   "source": [
    "print(\"OBS_60_CNT_SOCIAL_CIRCLE :\" ,application_data['OBS_60_CNT_SOCIAL_CIRCLE'].isnull().sum())"
   ]
  },
  {
   "cell_type": "code",
   "execution_count": 56,
   "id": "f5da2dac",
   "metadata": {
    "execution": {
     "iopub.execute_input": "2020-12-17T00:35:09.722212Z",
     "iopub.status.busy": "2020-12-17T00:35:09.721443Z",
     "iopub.status.idle": "2020-12-17T00:35:09.740354Z",
     "shell.execute_reply": "2020-12-17T00:35:09.740900Z"
    },
    "papermill": {
     "duration": 0.231815,
     "end_time": "2020-12-17T00:35:09.741048",
     "exception": false,
     "start_time": "2020-12-17T00:35:09.509233",
     "status": "completed"
    },
    "tags": []
   },
   "outputs": [
    {
     "data": {
      "text/plain": [
       "count    306490.000000\n",
       "mean          1.405292\n",
       "std           2.379803\n",
       "min           0.000000\n",
       "25%           0.000000\n",
       "50%           0.000000\n",
       "75%           2.000000\n",
       "max         344.000000\n",
       "Name: OBS_60_CNT_SOCIAL_CIRCLE, dtype: float64"
      ]
     },
     "execution_count": 56,
     "metadata": {},
     "output_type": "execute_result"
    }
   ],
   "source": [
    "application_data['OBS_60_CNT_SOCIAL_CIRCLE'].describe()"
   ]
  },
  {
   "cell_type": "markdown",
   "id": "9d45b0a7",
   "metadata": {
    "papermill": {
     "duration": 0.207649,
     "end_time": "2020-12-17T00:35:10.156485",
     "exception": false,
     "start_time": "2020-12-17T00:35:09.948836",
     "status": "completed"
    },
    "tags": []
   },
   "source": [
    "### Suggestion\n",
    "We can Fill NA with 0 i.e. Median for this field "
   ]
  },
  {
   "cell_type": "code",
   "execution_count": 57,
   "id": "71052d84",
   "metadata": {},
   "outputs": [],
   "source": [
    "application_data[\"OBS_60_CNT_SOCIAL_CIRCLE\"].fillna(\"0\", inplace = True)"
   ]
  },
  {
   "cell_type": "code",
   "execution_count": 58,
   "id": "3b1f8402",
   "metadata": {
    "scrolled": false
   },
   "outputs": [
    {
     "name": "stdout",
     "output_type": "stream",
     "text": [
      "OBS_60_CNT_SOCIAL_CIRCLE : 0\n"
     ]
    }
   ],
   "source": [
    "print(\"OBS_60_CNT_SOCIAL_CIRCLE :\" ,application_data['OBS_60_CNT_SOCIAL_CIRCLE'].isnull().sum())"
   ]
  },
  {
   "cell_type": "markdown",
   "id": "b870f59b",
   "metadata": {},
   "source": [
    "-----------------------------------------------------------------------------------------------------------------------"
   ]
  },
  {
   "cell_type": "code",
   "execution_count": 59,
   "id": "ca5839c7",
   "metadata": {
    "execution": {
     "iopub.execute_input": "2020-12-17T00:35:09.292938Z",
     "iopub.status.busy": "2020-12-17T00:35:09.292313Z",
     "iopub.status.idle": "2020-12-17T00:35:09.300400Z",
     "shell.execute_reply": "2020-12-17T00:35:09.300987Z"
    },
    "papermill": {
     "duration": 0.22902,
     "end_time": "2020-12-17T00:35:09.301181",
     "exception": false,
     "start_time": "2020-12-17T00:35:09.072161",
     "status": "completed"
    },
    "scrolled": true,
    "tags": []
   },
   "outputs": [
    {
     "name": "stdout",
     "output_type": "stream",
     "text": [
      "OBS_30_CNT_SOCIAL_CIRCLE : 1021\n"
     ]
    }
   ],
   "source": [
    "print(\"OBS_30_CNT_SOCIAL_CIRCLE :\" ,application_data['OBS_30_CNT_SOCIAL_CIRCLE'].isnull().sum())"
   ]
  },
  {
   "cell_type": "code",
   "execution_count": 60,
   "id": "a95ef335",
   "metadata": {
    "execution": {
     "iopub.execute_input": "2020-12-17T00:35:09.722212Z",
     "iopub.status.busy": "2020-12-17T00:35:09.721443Z",
     "iopub.status.idle": "2020-12-17T00:35:09.740354Z",
     "shell.execute_reply": "2020-12-17T00:35:09.740900Z"
    },
    "papermill": {
     "duration": 0.231815,
     "end_time": "2020-12-17T00:35:09.741048",
     "exception": false,
     "start_time": "2020-12-17T00:35:09.509233",
     "status": "completed"
    },
    "tags": []
   },
   "outputs": [
    {
     "data": {
      "text/plain": [
       "count    306490.000000\n",
       "mean          1.422245\n",
       "std           2.400989\n",
       "min           0.000000\n",
       "25%           0.000000\n",
       "50%           0.000000\n",
       "75%           2.000000\n",
       "max         348.000000\n",
       "Name: OBS_30_CNT_SOCIAL_CIRCLE, dtype: float64"
      ]
     },
     "execution_count": 60,
     "metadata": {},
     "output_type": "execute_result"
    }
   ],
   "source": [
    "application_data['OBS_30_CNT_SOCIAL_CIRCLE'].describe()"
   ]
  },
  {
   "cell_type": "markdown",
   "id": "3b82b7ae",
   "metadata": {
    "papermill": {
     "duration": 0.207649,
     "end_time": "2020-12-17T00:35:10.156485",
     "exception": false,
     "start_time": "2020-12-17T00:35:09.948836",
     "status": "completed"
    },
    "tags": []
   },
   "source": [
    "### Suggestion\n",
    "We can Fill NA with 0 i.e. Median for this field "
   ]
  },
  {
   "cell_type": "code",
   "execution_count": 61,
   "id": "ac788b85",
   "metadata": {},
   "outputs": [],
   "source": [
    "application_data[\"OBS_30_CNT_SOCIAL_CIRCLE\"].fillna(\"0\", inplace = True)"
   ]
  },
  {
   "cell_type": "code",
   "execution_count": 62,
   "id": "0a7a7ad4",
   "metadata": {
    "scrolled": false
   },
   "outputs": [
    {
     "name": "stdout",
     "output_type": "stream",
     "text": [
      "OBS_30_CNT_SOCIAL_CIRCLE : 0\n"
     ]
    }
   ],
   "source": [
    "print(\"OBS_30_CNT_SOCIAL_CIRCLE :\" ,application_data['OBS_30_CNT_SOCIAL_CIRCLE'].isnull().sum())"
   ]
  },
  {
   "cell_type": "markdown",
   "id": "0841385c",
   "metadata": {},
   "source": [
    "-----------------------------------------------------------------------------------------------------------------------"
   ]
  },
  {
   "cell_type": "code",
   "execution_count": 63,
   "id": "41b28d54",
   "metadata": {
    "execution": {
     "iopub.execute_input": "2020-12-17T00:35:11.850932Z",
     "iopub.status.busy": "2020-12-17T00:35:11.850220Z",
     "iopub.status.idle": "2020-12-17T00:35:12.236968Z",
     "shell.execute_reply": "2020-12-17T00:35:12.236428Z"
    },
    "papermill": {
     "duration": 0.598508,
     "end_time": "2020-12-17T00:35:12.237089",
     "exception": false,
     "start_time": "2020-12-17T00:35:11.638581",
     "status": "completed"
    },
    "tags": []
   },
   "outputs": [
    {
     "data": {
      "text/plain": [
       "SK_ID_CURR                        0\n",
       "TARGET                            0\n",
       "NAME_CONTRACT_TYPE                0\n",
       "CODE_GENDER                       0\n",
       "FLAG_OWN_CAR                      0\n",
       "FLAG_OWN_REALTY                   0\n",
       "CNT_CHILDREN                      0\n",
       "AMT_INCOME_TOTAL                  0\n",
       "AMT_CREDIT                        0\n",
       "AMT_ANNUITY                      12\n",
       "AMT_GOODS_PRICE                 278\n",
       "NAME_TYPE_SUITE                1292\n",
       "NAME_INCOME_TYPE                  0\n",
       "NAME_EDUCATION_TYPE               0\n",
       "NAME_FAMILY_STATUS                0\n",
       "NAME_HOUSING_TYPE                 0\n",
       "REGION_POPULATION_RELATIVE        0\n",
       "DAYS_BIRTH                        0\n",
       "DAYS_EMPLOYED                     0\n",
       "DAYS_REGISTRATION                 0\n",
       "DAYS_ID_PUBLISH                   0\n",
       "FLAG_MOBIL                        0\n",
       "FLAG_EMP_PHONE                    0\n",
       "FLAG_WORK_PHONE                   0\n",
       "FLAG_CONT_MOBILE                  0\n",
       "FLAG_PHONE                        0\n",
       "FLAG_EMAIL                        0\n",
       "CNT_FAM_MEMBERS                   2\n",
       "REGION_RATING_CLIENT              0\n",
       "REGION_RATING_CLIENT_W_CITY       0\n",
       "WEEKDAY_APPR_PROCESS_START        0\n",
       "HOUR_APPR_PROCESS_START           0\n",
       "REG_REGION_NOT_LIVE_REGION        0\n",
       "REG_REGION_NOT_WORK_REGION        0\n",
       "LIVE_REGION_NOT_WORK_REGION       0\n",
       "REG_CITY_NOT_LIVE_CITY            0\n",
       "REG_CITY_NOT_WORK_CITY            0\n",
       "LIVE_CITY_NOT_WORK_CITY           0\n",
       "ORGANIZATION_TYPE                 0\n",
       "OBS_30_CNT_SOCIAL_CIRCLE          0\n",
       "DEF_30_CNT_SOCIAL_CIRCLE          0\n",
       "OBS_60_CNT_SOCIAL_CIRCLE          0\n",
       "DEF_60_CNT_SOCIAL_CIRCLE          0\n",
       "DAYS_LAST_PHONE_CHANGE            1\n",
       "FLAG_DOCUMENT_2                   0\n",
       "FLAG_DOCUMENT_3                   0\n",
       "FLAG_DOCUMENT_4                   0\n",
       "FLAG_DOCUMENT_5                   0\n",
       "FLAG_DOCUMENT_6                   0\n",
       "FLAG_DOCUMENT_7                   0\n",
       "FLAG_DOCUMENT_8                   0\n",
       "FLAG_DOCUMENT_9                   0\n",
       "FLAG_DOCUMENT_10                  0\n",
       "FLAG_DOCUMENT_11                  0\n",
       "FLAG_DOCUMENT_12                  0\n",
       "FLAG_DOCUMENT_13                  0\n",
       "FLAG_DOCUMENT_14                  0\n",
       "FLAG_DOCUMENT_15                  0\n",
       "FLAG_DOCUMENT_16                  0\n",
       "FLAG_DOCUMENT_17                  0\n",
       "FLAG_DOCUMENT_18                  0\n",
       "FLAG_DOCUMENT_19                  0\n",
       "FLAG_DOCUMENT_20                  0\n",
       "FLAG_DOCUMENT_21                  0\n",
       "AMT_REQ_CREDIT_BUREAU_HOUR        0\n",
       "AMT_REQ_CREDIT_BUREAU_DAY         0\n",
       "AMT_REQ_CREDIT_BUREAU_WEEK        0\n",
       "AMT_REQ_CREDIT_BUREAU_MON         0\n",
       "AMT_REQ_CREDIT_BUREAU_QRT         0\n",
       "AMT_REQ_CREDIT_BUREAU_YEAR        0\n",
       "dtype: int64"
      ]
     },
     "execution_count": 63,
     "metadata": {},
     "output_type": "execute_result"
    }
   ],
   "source": [
    "application_data.isnull().sum()"
   ]
  },
  {
   "cell_type": "code",
   "execution_count": 64,
   "id": "590d12a1",
   "metadata": {
    "execution": {
     "iopub.execute_input": "2020-12-17T00:35:12.659470Z",
     "iopub.status.busy": "2020-12-17T00:35:12.658547Z",
     "iopub.status.idle": "2020-12-17T00:35:12.663395Z",
     "shell.execute_reply": "2020-12-17T00:35:12.663975Z"
    },
    "papermill": {
     "duration": 0.218792,
     "end_time": "2020-12-17T00:35:12.664117",
     "exception": false,
     "start_time": "2020-12-17T00:35:12.445325",
     "status": "completed"
    },
    "tags": []
   },
   "outputs": [
    {
     "name": "stdout",
     "output_type": "stream",
     "text": [
      "AMT_ANNUITY  : 12\n"
     ]
    }
   ],
   "source": [
    "print(\"AMT_ANNUITY  :\" ,application_data['AMT_ANNUITY'].isnull().sum())"
   ]
  },
  {
   "cell_type": "code",
   "execution_count": 65,
   "id": "f515141d",
   "metadata": {
    "execution": {
     "iopub.execute_input": "2020-12-17T00:35:13.088008Z",
     "iopub.status.busy": "2020-12-17T00:35:13.087330Z",
     "iopub.status.idle": "2020-12-17T00:35:13.109758Z",
     "shell.execute_reply": "2020-12-17T00:35:13.109172Z"
    },
    "papermill": {
     "duration": 0.237222,
     "end_time": "2020-12-17T00:35:13.109875",
     "exception": false,
     "start_time": "2020-12-17T00:35:12.872653",
     "status": "completed"
    },
    "tags": []
   },
   "outputs": [
    {
     "data": {
      "text/plain": [
       "count    307499.000000\n",
       "mean      27108.573909\n",
       "std       14493.737315\n",
       "min        1615.500000\n",
       "25%       16524.000000\n",
       "50%       24903.000000\n",
       "75%       34596.000000\n",
       "max      258025.500000\n",
       "Name: AMT_ANNUITY, dtype: float64"
      ]
     },
     "execution_count": 65,
     "metadata": {},
     "output_type": "execute_result"
    }
   ],
   "source": [
    "application_data['AMT_ANNUITY'].describe()"
   ]
  },
  {
   "cell_type": "code",
   "execution_count": 66,
   "id": "3b145fe5",
   "metadata": {
    "execution": {
     "iopub.execute_input": "2020-12-17T00:35:13.538199Z",
     "iopub.status.busy": "2020-12-17T00:35:13.536053Z",
     "iopub.status.idle": "2020-12-17T00:35:13.997107Z",
     "shell.execute_reply": "2020-12-17T00:35:13.997715Z"
    },
    "papermill": {
     "duration": 0.677993,
     "end_time": "2020-12-17T00:35:13.997895",
     "exception": false,
     "start_time": "2020-12-17T00:35:13.319902",
     "status": "completed"
    },
    "scrolled": true,
    "tags": []
   },
   "outputs": [
    {
     "data": {
      "image/png": "[encoded data removed]",
      "text/plain": [
       "<Figure size 360x360 with 1 Axes>"
      ]
     },
     "metadata": {},
     "output_type": "display_data"
    }
   ],
   "source": [
    "sns.set_style('whitegrid') \n",
    "sns.displot(application_data['AMT_ANNUITY']) \n",
    "plt.show()"
   ]
  },
  {
   "cell_type": "markdown",
   "id": "70793187",
   "metadata": {
    "papermill": {
     "duration": 0.295065,
     "end_time": "2020-12-17T00:35:14.512888",
     "exception": false,
     "start_time": "2020-12-17T00:35:14.217823",
     "status": "completed"
    },
    "tags": []
   },
   "source": [
    "### Suggestion\n",
    "We can Fill NA with 0 i.e. Mean for this field as it's right skewed graph"
   ]
  },
  {
   "cell_type": "code",
   "execution_count": 67,
   "id": "2250d578",
   "metadata": {},
   "outputs": [],
   "source": [
    "application_data[\"AMT_ANNUITY\"].fillna(\"0\", inplace = True)"
   ]
  },
  {
   "cell_type": "code",
   "execution_count": 68,
   "id": "c0af62e9",
   "metadata": {},
   "outputs": [
    {
     "name": "stdout",
     "output_type": "stream",
     "text": [
      "AMT_ANNUITY  : 0\n"
     ]
    }
   ],
   "source": [
    "print(\"AMT_ANNUITY  :\" ,application_data['AMT_ANNUITY'].isnull().sum())"
   ]
  },
  {
   "cell_type": "markdown",
   "id": "925b58a2",
   "metadata": {},
   "source": [
    "-----------------------------------------------------------------------------------------------------------------------"
   ]
  },
  {
   "cell_type": "code",
   "execution_count": 69,
   "id": "4b940c49",
   "metadata": {
    "execution": {
     "iopub.execute_input": "2020-12-17T00:35:14.948954Z",
     "iopub.status.busy": "2020-12-17T00:35:14.947958Z",
     "iopub.status.idle": "2020-12-17T00:35:14.956494Z",
     "shell.execute_reply": "2020-12-17T00:35:14.955996Z"
    },
    "papermill": {
     "duration": 0.23165,
     "end_time": "2020-12-17T00:35:14.956629",
     "exception": false,
     "start_time": "2020-12-17T00:35:14.724979",
     "status": "completed"
    },
    "tags": []
   },
   "outputs": [
    {
     "name": "stdout",
     "output_type": "stream",
     "text": [
      "AMT_GOODS_PRICE   : 278\n"
     ]
    }
   ],
   "source": [
    "print(\"AMT_GOODS_PRICE   :\" ,application_data['AMT_GOODS_PRICE'].isnull().sum())"
   ]
  },
  {
   "cell_type": "code",
   "execution_count": 70,
   "id": "ade50bf8",
   "metadata": {
    "execution": {
     "iopub.execute_input": "2020-12-17T00:35:15.395094Z",
     "iopub.status.busy": "2020-12-17T00:35:15.394061Z",
     "iopub.status.idle": "2020-12-17T00:35:15.415953Z",
     "shell.execute_reply": "2020-12-17T00:35:15.416455Z"
    },
    "papermill": {
     "duration": 0.247873,
     "end_time": "2020-12-17T00:35:15.416609",
     "exception": false,
     "start_time": "2020-12-17T00:35:15.168736",
     "status": "completed"
    },
    "tags": []
   },
   "outputs": [
    {
     "data": {
      "text/plain": [
       "count    3.072330e+05\n",
       "mean     5.383962e+05\n",
       "std      3.694465e+05\n",
       "min      4.050000e+04\n",
       "25%      2.385000e+05\n",
       "50%      4.500000e+05\n",
       "75%      6.795000e+05\n",
       "max      4.050000e+06\n",
       "Name: AMT_GOODS_PRICE, dtype: float64"
      ]
     },
     "execution_count": 70,
     "metadata": {},
     "output_type": "execute_result"
    }
   ],
   "source": [
    "application_data['AMT_GOODS_PRICE'].describe()"
   ]
  },
  {
   "cell_type": "code",
   "execution_count": 71,
   "id": "74fa65ec",
   "metadata": {
    "execution": {
     "iopub.execute_input": "2020-12-17T00:35:15.864195Z",
     "iopub.status.busy": "2020-12-17T00:35:15.863081Z",
     "iopub.status.idle": "2020-12-17T00:35:16.285487Z",
     "shell.execute_reply": "2020-12-17T00:35:16.284945Z"
    },
    "papermill": {
     "duration": 0.653582,
     "end_time": "2020-12-17T00:35:16.285595",
     "exception": false,
     "start_time": "2020-12-17T00:35:15.632013",
     "status": "completed"
    },
    "scrolled": true,
    "tags": []
   },
   "outputs": [
    {
     "data": {
      "image/png": "[encoded data removed]",
      "text/plain": [
       "<Figure size 360x360 with 1 Axes>"
      ]
     },
     "metadata": {},
     "output_type": "display_data"
    }
   ],
   "source": [
    "sns.set_style('whitegrid') \n",
    "sns.displot(application_data['AMT_GOODS_PRICE']) \n",
    "plt.show()"
   ]
  },
  {
   "cell_type": "markdown",
   "id": "16be8044",
   "metadata": {
    "papermill": {
     "duration": 0.213145,
     "end_time": "2020-12-17T00:35:16.710875",
     "exception": false,
     "start_time": "2020-12-17T00:35:16.497730",
     "status": "completed"
    },
    "tags": []
   },
   "source": [
    "### Suggestion\n",
    "We can Fill NA with 0 i.e. Mean for this field as it's right skewed graph"
   ]
  },
  {
   "cell_type": "code",
   "execution_count": 72,
   "id": "aa41ac3a",
   "metadata": {},
   "outputs": [],
   "source": [
    "application_data[\"AMT_GOODS_PRICE\"].fillna(\"0\", inplace = True)"
   ]
  },
  {
   "cell_type": "code",
   "execution_count": 73,
   "id": "3c98941f",
   "metadata": {},
   "outputs": [
    {
     "name": "stdout",
     "output_type": "stream",
     "text": [
      "AMT_GOODS_PRICE   : 0\n"
     ]
    }
   ],
   "source": [
    "print(\"AMT_GOODS_PRICE   :\" ,application_data['AMT_GOODS_PRICE'].isnull().sum())"
   ]
  },
  {
   "cell_type": "markdown",
   "id": "f2c750fc",
   "metadata": {},
   "source": [
    "-----------------------------------------------------------------------------------------------------------------------"
   ]
  },
  {
   "cell_type": "code",
   "execution_count": 74,
   "id": "6bb09036",
   "metadata": {
    "execution": {
     "iopub.execute_input": "2020-12-17T00:35:17.185267Z",
     "iopub.status.busy": "2020-12-17T00:35:17.184569Z",
     "iopub.status.idle": "2020-12-17T00:35:17.190350Z",
     "shell.execute_reply": "2020-12-17T00:35:17.190894Z"
    },
    "papermill": {
     "duration": 0.261875,
     "end_time": "2020-12-17T00:35:17.191040",
     "exception": false,
     "start_time": "2020-12-17T00:35:16.929165",
     "status": "completed"
    },
    "tags": []
   },
   "outputs": [
    {
     "name": "stdout",
     "output_type": "stream",
     "text": [
      "NAME_TYPE_SUITE : 1292\n"
     ]
    }
   ],
   "source": [
    "print(\"NAME_TYPE_SUITE :\" ,application_data['NAME_TYPE_SUITE'].isnull().sum())"
   ]
  },
  {
   "cell_type": "code",
   "execution_count": 75,
   "id": "323b42c1",
   "metadata": {
    "execution": {
     "iopub.execute_input": "2020-12-17T00:35:17.707444Z",
     "iopub.status.busy": "2020-12-17T00:35:17.676440Z",
     "iopub.status.idle": "2020-12-17T00:35:17.716257Z",
     "shell.execute_reply": "2020-12-17T00:35:17.715485Z"
    },
    "papermill": {
     "duration": 0.303847,
     "end_time": "2020-12-17T00:35:17.716381",
     "exception": false,
     "start_time": "2020-12-17T00:35:17.412534",
     "status": "completed"
    },
    "tags": []
   },
   "outputs": [
    {
     "data": {
      "text/plain": [
       "Unaccompanied      248526\n",
       "Family              40149\n",
       "Spouse, partner     11370\n",
       "Children             3267\n",
       "Other_B              1770\n",
       "Other_A               866\n",
       "Group of people       271\n",
       "Name: NAME_TYPE_SUITE, dtype: int64"
      ]
     },
     "execution_count": 75,
     "metadata": {},
     "output_type": "execute_result"
    }
   ],
   "source": [
    "application_data['NAME_TYPE_SUITE'].value_counts()"
   ]
  },
  {
   "cell_type": "markdown",
   "id": "bab36e88",
   "metadata": {
    "papermill": {
     "duration": 0.217472,
     "end_time": "2020-12-17T00:35:18.147903",
     "exception": false,
     "start_time": "2020-12-17T00:35:17.930431",
     "status": "completed"
    },
    "tags": []
   },
   "source": [
    "### Suggestion\n",
    "We can Fill NA with \"Unaccompanied\" i.e. Mode for this field "
   ]
  },
  {
   "cell_type": "code",
   "execution_count": 76,
   "id": "28788e8e",
   "metadata": {},
   "outputs": [],
   "source": [
    "application_data[\"NAME_TYPE_SUITE\"].fillna(\"Unaccompanied\", inplace = True)"
   ]
  },
  {
   "cell_type": "code",
   "execution_count": 77,
   "id": "130c3b32",
   "metadata": {},
   "outputs": [
    {
     "name": "stdout",
     "output_type": "stream",
     "text": [
      "NAME_TYPE_SUITE : 0\n"
     ]
    }
   ],
   "source": [
    "print(\"NAME_TYPE_SUITE :\" ,application_data['NAME_TYPE_SUITE'].isnull().sum())"
   ]
  },
  {
   "cell_type": "markdown",
   "id": "63a20ecd",
   "metadata": {},
   "source": [
    "-----------------------------------------------------------------------------------------------------------------------"
   ]
  },
  {
   "cell_type": "code",
   "execution_count": 78,
   "id": "abfd7c40",
   "metadata": {
    "execution": {
     "iopub.execute_input": "2020-12-17T00:35:18.593614Z",
     "iopub.status.busy": "2020-12-17T00:35:18.592309Z",
     "iopub.status.idle": "2020-12-17T00:35:18.598670Z",
     "shell.execute_reply": "2020-12-17T00:35:18.598057Z"
    },
    "papermill": {
     "duration": 0.226829,
     "end_time": "2020-12-17T00:35:18.598816",
     "exception": false,
     "start_time": "2020-12-17T00:35:18.371987",
     "status": "completed"
    },
    "tags": []
   },
   "outputs": [
    {
     "name": "stdout",
     "output_type": "stream",
     "text": [
      "CNT_FAM_MEMBERS : 2\n"
     ]
    }
   ],
   "source": [
    "print(\"CNT_FAM_MEMBERS :\" ,application_data['CNT_FAM_MEMBERS'].isnull().sum())"
   ]
  },
  {
   "cell_type": "code",
   "execution_count": 79,
   "id": "8ec9f2ce",
   "metadata": {
    "execution": {
     "iopub.execute_input": "2020-12-17T00:35:19.037414Z",
     "iopub.status.busy": "2020-12-17T00:35:19.036661Z",
     "iopub.status.idle": "2020-12-17T00:35:19.056807Z",
     "shell.execute_reply": "2020-12-17T00:35:19.057322Z"
    },
    "papermill": {
     "duration": 0.239654,
     "end_time": "2020-12-17T00:35:19.057473",
     "exception": false,
     "start_time": "2020-12-17T00:35:18.817819",
     "status": "completed"
    },
    "tags": []
   },
   "outputs": [
    {
     "data": {
      "text/plain": [
       "count    307509.000000\n",
       "mean          2.152665\n",
       "std           0.910682\n",
       "min           1.000000\n",
       "25%           2.000000\n",
       "50%           2.000000\n",
       "75%           3.000000\n",
       "max          20.000000\n",
       "Name: CNT_FAM_MEMBERS, dtype: float64"
      ]
     },
     "execution_count": 79,
     "metadata": {},
     "output_type": "execute_result"
    }
   ],
   "source": [
    "application_data['CNT_FAM_MEMBERS'].describe()"
   ]
  },
  {
   "cell_type": "code",
   "execution_count": 80,
   "id": "6abf6ad3",
   "metadata": {
    "execution": {
     "iopub.execute_input": "2020-12-17T00:35:19.516998Z",
     "iopub.status.busy": "2020-12-17T00:35:19.516219Z",
     "iopub.status.idle": "2020-12-17T00:35:20.016445Z",
     "shell.execute_reply": "2020-12-17T00:35:20.017088Z"
    },
    "papermill": {
     "duration": 0.727998,
     "end_time": "2020-12-17T00:35:20.017284",
     "exception": false,
     "start_time": "2020-12-17T00:35:19.289286",
     "status": "completed"
    },
    "tags": []
   },
   "outputs": [
    {
     "data": {
      "image/png": "[encoded data removed]",
      "text/plain": [
       "<Figure size 360x360 with 1 Axes>"
      ]
     },
     "metadata": {},
     "output_type": "display_data"
    }
   ],
   "source": [
    "sns.set_style('whitegrid') \n",
    "sns.displot(application_data['CNT_FAM_MEMBERS']) \n",
    "plt.show()"
   ]
  },
  {
   "cell_type": "markdown",
   "id": "2b49ede3",
   "metadata": {
    "papermill": {
     "duration": 0.243333,
     "end_time": "2020-12-17T00:35:20.478871",
     "exception": false,
     "start_time": "2020-12-17T00:35:20.235538",
     "status": "completed"
    },
    "tags": []
   },
   "source": [
    "### Suggestion\n",
    "We can Fill NA with 2 i.e. Median for this field, Mean is not be used as this field needs to be Whole number"
   ]
  },
  {
   "cell_type": "code",
   "execution_count": 81,
   "id": "31adb9a6",
   "metadata": {},
   "outputs": [],
   "source": [
    "application_data[\"CNT_FAM_MEMBERS\"].fillna(\"2\", inplace = True)"
   ]
  },
  {
   "cell_type": "code",
   "execution_count": 82,
   "id": "4177c186",
   "metadata": {
    "scrolled": true
   },
   "outputs": [
    {
     "name": "stdout",
     "output_type": "stream",
     "text": [
      "CNT_FAM_MEMBERS : 0\n"
     ]
    }
   ],
   "source": [
    "print(\"CNT_FAM_MEMBERS :\" ,application_data['CNT_FAM_MEMBERS'].isnull().sum())"
   ]
  },
  {
   "cell_type": "markdown",
   "id": "10de7356",
   "metadata": {},
   "source": [
    "-----------------------------------------------------------------------------------------------------------------------"
   ]
  },
  {
   "cell_type": "code",
   "execution_count": 83,
   "id": "d1317c09",
   "metadata": {
    "execution": {
     "iopub.execute_input": "2020-12-17T00:35:20.925227Z",
     "iopub.status.busy": "2020-12-17T00:35:20.924104Z",
     "iopub.status.idle": "2020-12-17T00:35:20.932941Z",
     "shell.execute_reply": "2020-12-17T00:35:20.934262Z"
    },
    "papermill": {
     "duration": 0.236633,
     "end_time": "2020-12-17T00:35:20.934480",
     "exception": false,
     "start_time": "2020-12-17T00:35:20.697847",
     "status": "completed"
    },
    "tags": []
   },
   "outputs": [
    {
     "name": "stdout",
     "output_type": "stream",
     "text": [
      "DAYS_LAST_PHONE_CHANGE : 1\n"
     ]
    }
   ],
   "source": [
    "print(\"DAYS_LAST_PHONE_CHANGE :\" ,application_data['DAYS_LAST_PHONE_CHANGE'].isnull().sum())"
   ]
  },
  {
   "cell_type": "code",
   "execution_count": 84,
   "id": "400bd871",
   "metadata": {
    "execution": {
     "iopub.execute_input": "2020-12-17T00:35:21.409933Z",
     "iopub.status.busy": "2020-12-17T00:35:21.409181Z",
     "iopub.status.idle": "2020-12-17T00:35:21.431754Z",
     "shell.execute_reply": "2020-12-17T00:35:21.432388Z"
    },
    "papermill": {
     "duration": 0.265251,
     "end_time": "2020-12-17T00:35:21.432533",
     "exception": false,
     "start_time": "2020-12-17T00:35:21.167282",
     "status": "completed"
    },
    "tags": []
   },
   "outputs": [
    {
     "data": {
      "text/plain": [
       "count    307510.000000\n",
       "mean       -962.858788\n",
       "std         826.808487\n",
       "min       -4292.000000\n",
       "25%       -1570.000000\n",
       "50%        -757.000000\n",
       "75%        -274.000000\n",
       "max           0.000000\n",
       "Name: DAYS_LAST_PHONE_CHANGE, dtype: float64"
      ]
     },
     "execution_count": 84,
     "metadata": {},
     "output_type": "execute_result"
    }
   ],
   "source": [
    "application_data['DAYS_LAST_PHONE_CHANGE'].describe()"
   ]
  },
  {
   "cell_type": "code",
   "execution_count": 85,
   "id": "fe0c6da9",
   "metadata": {
    "execution": {
     "iopub.execute_input": "2020-12-17T00:35:21.886286Z",
     "iopub.status.busy": "2020-12-17T00:35:21.885156Z",
     "iopub.status.idle": "2020-12-17T00:35:21.977465Z",
     "shell.execute_reply": "2020-12-17T00:35:21.978034Z"
    },
    "papermill": {
     "duration": 0.321585,
     "end_time": "2020-12-17T00:35:21.978190",
     "exception": false,
     "start_time": "2020-12-17T00:35:21.656605",
     "status": "completed"
    },
    "tags": []
   },
   "outputs": [
    {
     "data": {
      "text/plain": [
       "0.0"
      ]
     },
     "execution_count": 85,
     "metadata": {},
     "output_type": "execute_result"
    }
   ],
   "source": [
    "import statistics \n",
    "statistics.mode(application_data['DAYS_LAST_PHONE_CHANGE'])"
   ]
  },
  {
   "cell_type": "markdown",
   "id": "31a0b40c",
   "metadata": {
    "papermill": {
     "duration": 0.224511,
     "end_time": "2020-12-17T00:35:22.426815",
     "exception": false,
     "start_time": "2020-12-17T00:35:22.202304",
     "status": "completed"
    },
    "tags": []
   },
   "source": [
    "### Suggestion\n",
    "We can Fill NA with 0 i.e. Mode for this field"
   ]
  },
  {
   "cell_type": "code",
   "execution_count": 86,
   "id": "773234fb",
   "metadata": {},
   "outputs": [],
   "source": [
    "application_data[\"DAYS_LAST_PHONE_CHANGE\"].fillna(\"0\", inplace = True)"
   ]
  },
  {
   "cell_type": "code",
   "execution_count": 87,
   "id": "50ca21f3",
   "metadata": {
    "scrolled": true
   },
   "outputs": [
    {
     "name": "stdout",
     "output_type": "stream",
     "text": [
      "DAYS_LAST_PHONE_CHANGE : 0\n"
     ]
    }
   ],
   "source": [
    "print(\"DAYS_LAST_PHONE_CHANGE :\" ,application_data['DAYS_LAST_PHONE_CHANGE'].isnull().sum())"
   ]
  },
  {
   "cell_type": "markdown",
   "id": "2e317a4b",
   "metadata": {},
   "source": [
    "-----------------------------------------------------------------------------------------------------------------------"
   ]
  },
  {
   "cell_type": "code",
   "execution_count": 88,
   "id": "1bc0dab1",
   "metadata": {},
   "outputs": [
    {
     "data": {
      "text/plain": [
       "SK_ID_CURR                     0\n",
       "TARGET                         0\n",
       "NAME_CONTRACT_TYPE             0\n",
       "CODE_GENDER                    0\n",
       "FLAG_OWN_CAR                   0\n",
       "FLAG_OWN_REALTY                0\n",
       "CNT_CHILDREN                   0\n",
       "AMT_INCOME_TOTAL               0\n",
       "AMT_CREDIT                     0\n",
       "AMT_ANNUITY                    0\n",
       "AMT_GOODS_PRICE                0\n",
       "NAME_TYPE_SUITE                0\n",
       "NAME_INCOME_TYPE               0\n",
       "NAME_EDUCATION_TYPE            0\n",
       "NAME_FAMILY_STATUS             0\n",
       "NAME_HOUSING_TYPE              0\n",
       "REGION_POPULATION_RELATIVE     0\n",
       "DAYS_BIRTH                     0\n",
       "DAYS_EMPLOYED                  0\n",
       "DAYS_REGISTRATION              0\n",
       "DAYS_ID_PUBLISH                0\n",
       "FLAG_MOBIL                     0\n",
       "FLAG_EMP_PHONE                 0\n",
       "FLAG_WORK_PHONE                0\n",
       "FLAG_CONT_MOBILE               0\n",
       "FLAG_PHONE                     0\n",
       "FLAG_EMAIL                     0\n",
       "CNT_FAM_MEMBERS                0\n",
       "REGION_RATING_CLIENT           0\n",
       "REGION_RATING_CLIENT_W_CITY    0\n",
       "WEEKDAY_APPR_PROCESS_START     0\n",
       "HOUR_APPR_PROCESS_START        0\n",
       "REG_REGION_NOT_LIVE_REGION     0\n",
       "REG_REGION_NOT_WORK_REGION     0\n",
       "LIVE_REGION_NOT_WORK_REGION    0\n",
       "REG_CITY_NOT_LIVE_CITY         0\n",
       "REG_CITY_NOT_WORK_CITY         0\n",
       "LIVE_CITY_NOT_WORK_CITY        0\n",
       "ORGANIZATION_TYPE              0\n",
       "OBS_30_CNT_SOCIAL_CIRCLE       0\n",
       "DEF_30_CNT_SOCIAL_CIRCLE       0\n",
       "OBS_60_CNT_SOCIAL_CIRCLE       0\n",
       "DEF_60_CNT_SOCIAL_CIRCLE       0\n",
       "DAYS_LAST_PHONE_CHANGE         0\n",
       "FLAG_DOCUMENT_2                0\n",
       "FLAG_DOCUMENT_3                0\n",
       "FLAG_DOCUMENT_4                0\n",
       "FLAG_DOCUMENT_5                0\n",
       "FLAG_DOCUMENT_6                0\n",
       "FLAG_DOCUMENT_7                0\n",
       "FLAG_DOCUMENT_8                0\n",
       "FLAG_DOCUMENT_9                0\n",
       "FLAG_DOCUMENT_10               0\n",
       "FLAG_DOCUMENT_11               0\n",
       "FLAG_DOCUMENT_12               0\n",
       "FLAG_DOCUMENT_13               0\n",
       "FLAG_DOCUMENT_14               0\n",
       "FLAG_DOCUMENT_15               0\n",
       "FLAG_DOCUMENT_16               0\n",
       "FLAG_DOCUMENT_17               0\n",
       "FLAG_DOCUMENT_18               0\n",
       "FLAG_DOCUMENT_19               0\n",
       "FLAG_DOCUMENT_20               0\n",
       "FLAG_DOCUMENT_21               0\n",
       "AMT_REQ_CREDIT_BUREAU_HOUR     0\n",
       "AMT_REQ_CREDIT_BUREAU_DAY      0\n",
       "AMT_REQ_CREDIT_BUREAU_WEEK     0\n",
       "AMT_REQ_CREDIT_BUREAU_MON      0\n",
       "AMT_REQ_CREDIT_BUREAU_QRT      0\n",
       "AMT_REQ_CREDIT_BUREAU_YEAR     0\n",
       "dtype: int64"
      ]
     },
     "execution_count": 88,
     "metadata": {},
     "output_type": "execute_result"
    }
   ],
   "source": [
    "application_data.isnull().sum()"
   ]
  },
  {
   "cell_type": "markdown",
   "id": "4a8f5c56",
   "metadata": {
    "papermill": {
     "duration": 0.225856,
     "end_time": "2020-12-17T00:35:24.188274",
     "exception": false,
     "start_time": "2020-12-17T00:35:23.962418",
     "status": "completed"
    },
    "tags": []
   },
   "source": [
    "# Converting negative values to absolute values\n"
   ]
  },
  {
   "cell_type": "code",
   "execution_count": 89,
   "id": "58be7378",
   "metadata": {
    "execution": {
     "iopub.execute_input": "2020-12-17T00:35:24.647844Z",
     "iopub.status.busy": "2020-12-17T00:35:24.646584Z",
     "iopub.status.idle": "2020-12-17T00:35:24.657891Z",
     "shell.execute_reply": "2020-12-17T00:35:24.657279Z"
    },
    "papermill": {
     "duration": 0.251842,
     "end_time": "2020-12-17T00:35:24.658019",
     "exception": false,
     "start_time": "2020-12-17T00:35:24.406177",
     "status": "completed"
    },
    "tags": []
   },
   "outputs": [],
   "source": [
    "# application_data['DAYS_BIRTH'] = abs(application_data['DAYS_BIRTH'])\n",
    "# application_data['DAYS_ID_PUBLISH'] = abs(application_data['DAYS_ID_PUBLISH'])\n",
    "# application_data['DAYS_ID_PUBLISH'] = abs(application_data['DAYS_ID_PUBLISH'])\n",
    "# application_data['DAYS_LAST_PHONE_CHANGE'] = abs(application_data['DAYS_LAST_PHONE_CHANGE'])\n",
    "\n"
   ]
  },
  {
   "cell_type": "code",
   "execution_count": 90,
   "id": "01f84fbf",
   "metadata": {
    "execution": {
     "iopub.execute_input": "2020-12-17T00:35:25.139319Z",
     "iopub.status.busy": "2020-12-17T00:35:25.138285Z",
     "iopub.status.idle": "2020-12-17T00:35:25.195357Z",
     "shell.execute_reply": "2020-12-17T00:35:25.194820Z"
    },
    "papermill": {
     "duration": 0.281301,
     "end_time": "2020-12-17T00:35:25.195468",
     "exception": false,
     "start_time": "2020-12-17T00:35:24.914167",
     "status": "completed"
    },
    "tags": []
   },
   "outputs": [],
   "source": [
    "# display(\"application_data\")\n",
    "# display(application_data.head())"
   ]
  },
  {
   "cell_type": "markdown",
   "id": "b5ec5adb",
   "metadata": {
    "papermill": {
     "duration": 0.220631,
     "end_time": "2020-12-17T00:35:25.640306",
     "exception": false,
     "start_time": "2020-12-17T00:35:25.419675",
     "status": "completed"
    },
    "tags": []
   },
   "source": [
    "### Separating numerical and categorical  in application_data\n"
   ]
  },
  {
   "cell_type": "code",
   "execution_count": 91,
   "id": "46910f9a",
   "metadata": {
    "execution": {
     "iopub.execute_input": "2020-12-17T00:35:26.090788Z",
     "iopub.status.busy": "2020-12-17T00:35:26.089107Z",
     "iopub.status.idle": "2020-12-17T00:35:26.163957Z",
     "shell.execute_reply": "2020-12-17T00:35:26.162856Z"
    },
    "papermill": {
     "duration": 0.303429,
     "end_time": "2020-12-17T00:35:26.164092",
     "exception": false,
     "start_time": "2020-12-17T00:35:25.860663",
     "status": "completed"
    },
    "tags": []
   },
   "outputs": [],
   "source": [
    "# obj_dtypes = [i for i in application_data.select_dtypes(include=np.object).columns if i not in [\"type\"] ]\n",
    "# num_dtypes = [i for i in application_data.select_dtypes(include = np.number).columns if i not in ['SK_ID_CURR'] + [ 'TARGET']]"
   ]
  },
  {
   "cell_type": "code",
   "execution_count": 92,
   "id": "c447b898",
   "metadata": {
    "execution": {
     "iopub.execute_input": "2020-12-17T00:35:26.609908Z",
     "iopub.status.busy": "2020-12-17T00:35:26.608845Z",
     "iopub.status.idle": "2020-12-17T00:35:26.613751Z",
     "shell.execute_reply": "2020-12-17T00:35:26.614344Z"
    },
    "papermill": {
     "duration": 0.231366,
     "end_time": "2020-12-17T00:35:26.614483",
     "exception": false,
     "start_time": "2020-12-17T00:35:26.383117",
     "status": "completed"
    },
    "tags": []
   },
   "outputs": [],
   "source": [
    "# print(color.BOLD + color.PURPLE + 'Categorical Columns' + color.END, \"\\n\")\n",
    "# for x in range(len(obj_dtypes)): \n",
    "#     print(obj_dtypes[x])"
   ]
  },
  {
   "cell_type": "code",
   "execution_count": 93,
   "id": "58898edc",
   "metadata": {
    "execution": {
     "iopub.execute_input": "2020-12-17T00:35:27.058757Z",
     "iopub.status.busy": "2020-12-17T00:35:27.058087Z",
     "iopub.status.idle": "2020-12-17T00:35:27.071735Z",
     "shell.execute_reply": "2020-12-17T00:35:27.070716Z"
    },
    "papermill": {
     "duration": 0.236695,
     "end_time": "2020-12-17T00:35:27.071954",
     "exception": false,
     "start_time": "2020-12-17T00:35:26.835259",
     "status": "completed"
    },
    "scrolled": true,
    "tags": []
   },
   "outputs": [],
   "source": [
    "# print(color.BOLD + color.PURPLE +\"Numerical Columns\" + color.END, \"\\n\")\n",
    "# for x in range(len(num_dtypes)): \n",
    "#     print(num_dtypes[x])"
   ]
  },
  {
   "cell_type": "markdown",
   "id": "997f037b",
   "metadata": {},
   "source": [
    "-----------------------------------------------------------------------------------------------------------------------"
   ]
  },
  {
   "cell_type": "markdown",
   "id": "11093525",
   "metadata": {},
   "source": [
    "-----------------------------------------------------------------------------------------------------------------------"
   ]
  },
  {
   "cell_type": "code",
   "execution_count": 94,
   "id": "a538e4c4",
   "metadata": {},
   "outputs": [
    {
     "data": {
      "text/plain": [
       "SK_ID_PREV                      0.00\n",
       "SK_ID_CURR                      0.00\n",
       "NAME_CONTRACT_TYPE              0.00\n",
       "AMT_ANNUITY                    22.29\n",
       "AMT_APPLICATION                 0.00\n",
       "AMT_CREDIT                      0.00\n",
       "AMT_DOWN_PAYMENT               53.64\n",
       "AMT_GOODS_PRICE                23.08\n",
       "WEEKDAY_APPR_PROCESS_START      0.00\n",
       "HOUR_APPR_PROCESS_START         0.00\n",
       "FLAG_LAST_APPL_PER_CONTRACT     0.00\n",
       "NFLAG_LAST_APPL_IN_DAY          0.00\n",
       "RATE_DOWN_PAYMENT              53.64\n",
       "RATE_INTEREST_PRIMARY          99.64\n",
       "RATE_INTEREST_PRIVILEGED       99.64\n",
       "NAME_CASH_LOAN_PURPOSE          0.00\n",
       "NAME_CONTRACT_STATUS            0.00\n",
       "DAYS_DECISION                   0.00\n",
       "NAME_PAYMENT_TYPE               0.00\n",
       "CODE_REJECT_REASON              0.00\n",
       "NAME_TYPE_SUITE                49.12\n",
       "NAME_CLIENT_TYPE                0.00\n",
       "NAME_GOODS_CATEGORY             0.00\n",
       "NAME_PORTFOLIO                  0.00\n",
       "NAME_PRODUCT_TYPE               0.00\n",
       "CHANNEL_TYPE                    0.00\n",
       "SELLERPLACE_AREA                0.00\n",
       "NAME_SELLER_INDUSTRY            0.00\n",
       "CNT_PAYMENT                    22.29\n",
       "NAME_YIELD_GROUP                0.00\n",
       "PRODUCT_COMBINATION             0.02\n",
       "DAYS_FIRST_DRAWING             40.30\n",
       "DAYS_FIRST_DUE                 40.30\n",
       "DAYS_LAST_DUE_1ST_VERSION      40.30\n",
       "DAYS_LAST_DUE                  40.30\n",
       "DAYS_TERMINATION               40.30\n",
       "NFLAG_INSURED_ON_APPROVAL      40.30\n",
       "dtype: float64"
      ]
     },
     "metadata": {},
     "output_type": "display_data"
    }
   ],
   "source": [
    "display(round(100*(previous_application.isnull().sum()/len(previous_application.index)),2))"
   ]
  },
  {
   "cell_type": "code",
   "execution_count": 95,
   "id": "fa005e93",
   "metadata": {},
   "outputs": [
    {
     "data": {
      "text/plain": [
       "['AMT_ANNUITY',\n",
       " 'AMT_CREDIT',\n",
       " 'AMT_DOWN_PAYMENT',\n",
       " 'AMT_GOODS_PRICE',\n",
       " 'RATE_DOWN_PAYMENT',\n",
       " 'RATE_INTEREST_PRIMARY',\n",
       " 'RATE_INTEREST_PRIVILEGED',\n",
       " 'NAME_TYPE_SUITE',\n",
       " 'CNT_PAYMENT',\n",
       " 'PRODUCT_COMBINATION',\n",
       " 'DAYS_FIRST_DRAWING',\n",
       " 'DAYS_FIRST_DUE',\n",
       " 'DAYS_LAST_DUE_1ST_VERSION',\n",
       " 'DAYS_LAST_DUE',\n",
       " 'DAYS_TERMINATION',\n",
       " 'NFLAG_INSURED_ON_APPROVAL']"
      ]
     },
     "execution_count": 95,
     "metadata": {},
     "output_type": "execute_result"
    }
   ],
   "source": [
    "missing_colp = [col for col in previous_application.columns if previous_application[col].isna().sum()/previous_application.shape[0] > 0]\n",
    "missing_colp"
   ]
  },
  {
   "cell_type": "code",
   "execution_count": 96,
   "id": "a14b9be1",
   "metadata": {},
   "outputs": [
    {
     "data": {
      "text/plain": [
       "4"
      ]
     },
     "execution_count": 96,
     "metadata": {},
     "output_type": "execute_result"
    }
   ],
   "source": [
    "missing_colp1 = [col for col in previous_application.columns if previous_application[col].isna().sum()/previous_application.shape[0]  > 0.5]\n",
    "len(missing_colp1)"
   ]
  },
  {
   "cell_type": "code",
   "execution_count": 97,
   "id": "ae66444e",
   "metadata": {
    "scrolled": true
   },
   "outputs": [
    {
     "data": {
      "text/plain": [
       "['AMT_DOWN_PAYMENT',\n",
       " 'RATE_DOWN_PAYMENT',\n",
       " 'RATE_INTEREST_PRIMARY',\n",
       " 'RATE_INTEREST_PRIVILEGED']"
      ]
     },
     "execution_count": 97,
     "metadata": {},
     "output_type": "execute_result"
    }
   ],
   "source": [
    "missing_colp1"
   ]
  },
  {
   "cell_type": "code",
   "execution_count": 98,
   "id": "e713d091",
   "metadata": {},
   "outputs": [
    {
     "data": {
      "text/html": [
       "<div>\n",
       "<style scoped>\n",
       "    .dataframe tbody tr th:only-of-type {\n",
       "        vertical-align: middle;\n",
       "    }\n",
       "\n",
       "    .dataframe tbody tr th {\n",
       "        vertical-align: top;\n",
       "    }\n",
       "\n",
       "    .dataframe thead th {\n",
       "        text-align: right;\n",
       "    }\n",
       "</style>\n",
       "<table border=\"1\" class=\"dataframe\">\n",
       "  <thead>\n",
       "    <tr style=\"text-align: right;\">\n",
       "      <th></th>\n",
       "      <th>SK_ID_PREV</th>\n",
       "      <th>SK_ID_CURR</th>\n",
       "      <th>NAME_CONTRACT_TYPE</th>\n",
       "      <th>AMT_ANNUITY</th>\n",
       "      <th>AMT_APPLICATION</th>\n",
       "      <th>AMT_CREDIT</th>\n",
       "      <th>AMT_GOODS_PRICE</th>\n",
       "      <th>WEEKDAY_APPR_PROCESS_START</th>\n",
       "      <th>HOUR_APPR_PROCESS_START</th>\n",
       "      <th>FLAG_LAST_APPL_PER_CONTRACT</th>\n",
       "      <th>...</th>\n",
       "      <th>NAME_SELLER_INDUSTRY</th>\n",
       "      <th>CNT_PAYMENT</th>\n",
       "      <th>NAME_YIELD_GROUP</th>\n",
       "      <th>PRODUCT_COMBINATION</th>\n",
       "      <th>DAYS_FIRST_DRAWING</th>\n",
       "      <th>DAYS_FIRST_DUE</th>\n",
       "      <th>DAYS_LAST_DUE_1ST_VERSION</th>\n",
       "      <th>DAYS_LAST_DUE</th>\n",
       "      <th>DAYS_TERMINATION</th>\n",
       "      <th>NFLAG_INSURED_ON_APPROVAL</th>\n",
       "    </tr>\n",
       "  </thead>\n",
       "  <tbody>\n",
       "    <tr>\n",
       "      <th>0</th>\n",
       "      <td>2030495</td>\n",
       "      <td>271877</td>\n",
       "      <td>Consumer loans</td>\n",
       "      <td>1730.430</td>\n",
       "      <td>17145.0</td>\n",
       "      <td>17145.0</td>\n",
       "      <td>17145.0</td>\n",
       "      <td>SATURDAY</td>\n",
       "      <td>15</td>\n",
       "      <td>Y</td>\n",
       "      <td>...</td>\n",
       "      <td>Connectivity</td>\n",
       "      <td>12.0</td>\n",
       "      <td>middle</td>\n",
       "      <td>POS mobile with interest</td>\n",
       "      <td>365243.0</td>\n",
       "      <td>-42.0</td>\n",
       "      <td>300.0</td>\n",
       "      <td>-42.0</td>\n",
       "      <td>-37.0</td>\n",
       "      <td>0.0</td>\n",
       "    </tr>\n",
       "    <tr>\n",
       "      <th>1</th>\n",
       "      <td>2802425</td>\n",
       "      <td>108129</td>\n",
       "      <td>Cash loans</td>\n",
       "      <td>25188.615</td>\n",
       "      <td>607500.0</td>\n",
       "      <td>679671.0</td>\n",
       "      <td>607500.0</td>\n",
       "      <td>THURSDAY</td>\n",
       "      <td>11</td>\n",
       "      <td>Y</td>\n",
       "      <td>...</td>\n",
       "      <td>XNA</td>\n",
       "      <td>36.0</td>\n",
       "      <td>low_action</td>\n",
       "      <td>Cash X-Sell: low</td>\n",
       "      <td>365243.0</td>\n",
       "      <td>-134.0</td>\n",
       "      <td>916.0</td>\n",
       "      <td>365243.0</td>\n",
       "      <td>365243.0</td>\n",
       "      <td>1.0</td>\n",
       "    </tr>\n",
       "    <tr>\n",
       "      <th>2</th>\n",
       "      <td>2523466</td>\n",
       "      <td>122040</td>\n",
       "      <td>Cash loans</td>\n",
       "      <td>15060.735</td>\n",
       "      <td>112500.0</td>\n",
       "      <td>136444.5</td>\n",
       "      <td>112500.0</td>\n",
       "      <td>TUESDAY</td>\n",
       "      <td>11</td>\n",
       "      <td>Y</td>\n",
       "      <td>...</td>\n",
       "      <td>XNA</td>\n",
       "      <td>12.0</td>\n",
       "      <td>high</td>\n",
       "      <td>Cash X-Sell: high</td>\n",
       "      <td>365243.0</td>\n",
       "      <td>-271.0</td>\n",
       "      <td>59.0</td>\n",
       "      <td>365243.0</td>\n",
       "      <td>365243.0</td>\n",
       "      <td>1.0</td>\n",
       "    </tr>\n",
       "    <tr>\n",
       "      <th>3</th>\n",
       "      <td>2819243</td>\n",
       "      <td>176158</td>\n",
       "      <td>Cash loans</td>\n",
       "      <td>47041.335</td>\n",
       "      <td>450000.0</td>\n",
       "      <td>470790.0</td>\n",
       "      <td>450000.0</td>\n",
       "      <td>MONDAY</td>\n",
       "      <td>7</td>\n",
       "      <td>Y</td>\n",
       "      <td>...</td>\n",
       "      <td>XNA</td>\n",
       "      <td>12.0</td>\n",
       "      <td>middle</td>\n",
       "      <td>Cash X-Sell: middle</td>\n",
       "      <td>365243.0</td>\n",
       "      <td>-482.0</td>\n",
       "      <td>-152.0</td>\n",
       "      <td>-182.0</td>\n",
       "      <td>-177.0</td>\n",
       "      <td>1.0</td>\n",
       "    </tr>\n",
       "    <tr>\n",
       "      <th>4</th>\n",
       "      <td>1784265</td>\n",
       "      <td>202054</td>\n",
       "      <td>Cash loans</td>\n",
       "      <td>31924.395</td>\n",
       "      <td>337500.0</td>\n",
       "      <td>404055.0</td>\n",
       "      <td>337500.0</td>\n",
       "      <td>THURSDAY</td>\n",
       "      <td>9</td>\n",
       "      <td>Y</td>\n",
       "      <td>...</td>\n",
       "      <td>XNA</td>\n",
       "      <td>24.0</td>\n",
       "      <td>high</td>\n",
       "      <td>Cash Street: high</td>\n",
       "      <td>NaN</td>\n",
       "      <td>NaN</td>\n",
       "      <td>NaN</td>\n",
       "      <td>NaN</td>\n",
       "      <td>NaN</td>\n",
       "      <td>NaN</td>\n",
       "    </tr>\n",
       "    <tr>\n",
       "      <th>...</th>\n",
       "      <td>...</td>\n",
       "      <td>...</td>\n",
       "      <td>...</td>\n",
       "      <td>...</td>\n",
       "      <td>...</td>\n",
       "      <td>...</td>\n",
       "      <td>...</td>\n",
       "      <td>...</td>\n",
       "      <td>...</td>\n",
       "      <td>...</td>\n",
       "      <td>...</td>\n",
       "      <td>...</td>\n",
       "      <td>...</td>\n",
       "      <td>...</td>\n",
       "      <td>...</td>\n",
       "      <td>...</td>\n",
       "      <td>...</td>\n",
       "      <td>...</td>\n",
       "      <td>...</td>\n",
       "      <td>...</td>\n",
       "      <td>...</td>\n",
       "    </tr>\n",
       "    <tr>\n",
       "      <th>1670209</th>\n",
       "      <td>2300464</td>\n",
       "      <td>352015</td>\n",
       "      <td>Consumer loans</td>\n",
       "      <td>14704.290</td>\n",
       "      <td>267295.5</td>\n",
       "      <td>311400.0</td>\n",
       "      <td>267295.5</td>\n",
       "      <td>WEDNESDAY</td>\n",
       "      <td>12</td>\n",
       "      <td>Y</td>\n",
       "      <td>...</td>\n",
       "      <td>Furniture</td>\n",
       "      <td>30.0</td>\n",
       "      <td>low_normal</td>\n",
       "      <td>POS industry with interest</td>\n",
       "      <td>365243.0</td>\n",
       "      <td>-508.0</td>\n",
       "      <td>362.0</td>\n",
       "      <td>-358.0</td>\n",
       "      <td>-351.0</td>\n",
       "      <td>0.0</td>\n",
       "    </tr>\n",
       "    <tr>\n",
       "      <th>1670210</th>\n",
       "      <td>2357031</td>\n",
       "      <td>334635</td>\n",
       "      <td>Consumer loans</td>\n",
       "      <td>6622.020</td>\n",
       "      <td>87750.0</td>\n",
       "      <td>64291.5</td>\n",
       "      <td>87750.0</td>\n",
       "      <td>TUESDAY</td>\n",
       "      <td>15</td>\n",
       "      <td>Y</td>\n",
       "      <td>...</td>\n",
       "      <td>Furniture</td>\n",
       "      <td>12.0</td>\n",
       "      <td>middle</td>\n",
       "      <td>POS industry with interest</td>\n",
       "      <td>365243.0</td>\n",
       "      <td>-1604.0</td>\n",
       "      <td>-1274.0</td>\n",
       "      <td>-1304.0</td>\n",
       "      <td>-1297.0</td>\n",
       "      <td>0.0</td>\n",
       "    </tr>\n",
       "    <tr>\n",
       "      <th>1670211</th>\n",
       "      <td>2659632</td>\n",
       "      <td>249544</td>\n",
       "      <td>Consumer loans</td>\n",
       "      <td>11520.855</td>\n",
       "      <td>105237.0</td>\n",
       "      <td>102523.5</td>\n",
       "      <td>105237.0</td>\n",
       "      <td>MONDAY</td>\n",
       "      <td>12</td>\n",
       "      <td>Y</td>\n",
       "      <td>...</td>\n",
       "      <td>Consumer electronics</td>\n",
       "      <td>10.0</td>\n",
       "      <td>low_normal</td>\n",
       "      <td>POS household with interest</td>\n",
       "      <td>365243.0</td>\n",
       "      <td>-1457.0</td>\n",
       "      <td>-1187.0</td>\n",
       "      <td>-1187.0</td>\n",
       "      <td>-1181.0</td>\n",
       "      <td>0.0</td>\n",
       "    </tr>\n",
       "    <tr>\n",
       "      <th>1670212</th>\n",
       "      <td>2785582</td>\n",
       "      <td>400317</td>\n",
       "      <td>Cash loans</td>\n",
       "      <td>18821.520</td>\n",
       "      <td>180000.0</td>\n",
       "      <td>191880.0</td>\n",
       "      <td>180000.0</td>\n",
       "      <td>WEDNESDAY</td>\n",
       "      <td>9</td>\n",
       "      <td>Y</td>\n",
       "      <td>...</td>\n",
       "      <td>XNA</td>\n",
       "      <td>12.0</td>\n",
       "      <td>low_normal</td>\n",
       "      <td>Cash X-Sell: low</td>\n",
       "      <td>365243.0</td>\n",
       "      <td>-1155.0</td>\n",
       "      <td>-825.0</td>\n",
       "      <td>-825.0</td>\n",
       "      <td>-817.0</td>\n",
       "      <td>1.0</td>\n",
       "    </tr>\n",
       "    <tr>\n",
       "      <th>1670213</th>\n",
       "      <td>2418762</td>\n",
       "      <td>261212</td>\n",
       "      <td>Cash loans</td>\n",
       "      <td>16431.300</td>\n",
       "      <td>360000.0</td>\n",
       "      <td>360000.0</td>\n",
       "      <td>360000.0</td>\n",
       "      <td>SUNDAY</td>\n",
       "      <td>10</td>\n",
       "      <td>Y</td>\n",
       "      <td>...</td>\n",
       "      <td>XNA</td>\n",
       "      <td>48.0</td>\n",
       "      <td>middle</td>\n",
       "      <td>Cash X-Sell: middle</td>\n",
       "      <td>365243.0</td>\n",
       "      <td>-1163.0</td>\n",
       "      <td>247.0</td>\n",
       "      <td>-443.0</td>\n",
       "      <td>-423.0</td>\n",
       "      <td>0.0</td>\n",
       "    </tr>\n",
       "  </tbody>\n",
       "</table>\n",
       "<p>1670214 rows × 33 columns</p>\n",
       "</div>"
      ],
      "text/plain": [
       "         SK_ID_PREV  SK_ID_CURR NAME_CONTRACT_TYPE  AMT_ANNUITY  \\\n",
       "0           2030495      271877     Consumer loans     1730.430   \n",
       "1           2802425      108129         Cash loans    25188.615   \n",
       "2           2523466      122040         Cash loans    15060.735   \n",
       "3           2819243      176158         Cash loans    47041.335   \n",
       "4           1784265      202054         Cash loans    31924.395   \n",
       "...             ...         ...                ...          ...   \n",
       "1670209     2300464      352015     Consumer loans    14704.290   \n",
       "1670210     2357031      334635     Consumer loans     6622.020   \n",
       "1670211     2659632      249544     Consumer loans    11520.855   \n",
       "1670212     2785582      400317         Cash loans    18821.520   \n",
       "1670213     2418762      261212         Cash loans    16431.300   \n",
       "\n",
       "         AMT_APPLICATION  AMT_CREDIT  AMT_GOODS_PRICE  \\\n",
       "0                17145.0     17145.0          17145.0   \n",
       "1               607500.0    679671.0         607500.0   \n",
       "2               112500.0    136444.5         112500.0   \n",
       "3               450000.0    470790.0         450000.0   \n",
       "4               337500.0    404055.0         337500.0   \n",
       "...                  ...         ...              ...   \n",
       "1670209         267295.5    311400.0         267295.5   \n",
       "1670210          87750.0     64291.5          87750.0   \n",
       "1670211         105237.0    102523.5         105237.0   \n",
       "1670212         180000.0    191880.0         180000.0   \n",
       "1670213         360000.0    360000.0         360000.0   \n",
       "\n",
       "        WEEKDAY_APPR_PROCESS_START  HOUR_APPR_PROCESS_START  \\\n",
       "0                         SATURDAY                       15   \n",
       "1                         THURSDAY                       11   \n",
       "2                          TUESDAY                       11   \n",
       "3                           MONDAY                        7   \n",
       "4                         THURSDAY                        9   \n",
       "...                            ...                      ...   \n",
       "1670209                  WEDNESDAY                       12   \n",
       "1670210                    TUESDAY                       15   \n",
       "1670211                     MONDAY                       12   \n",
       "1670212                  WEDNESDAY                        9   \n",
       "1670213                     SUNDAY                       10   \n",
       "\n",
       "        FLAG_LAST_APPL_PER_CONTRACT  ...  NAME_SELLER_INDUSTRY CNT_PAYMENT  \\\n",
       "0                                 Y  ...          Connectivity        12.0   \n",
       "1                                 Y  ...                   XNA        36.0   \n",
       "2                                 Y  ...                   XNA        12.0   \n",
       "3                                 Y  ...                   XNA        12.0   \n",
       "4                                 Y  ...                   XNA        24.0   \n",
       "...                             ...  ...                   ...         ...   \n",
       "1670209                           Y  ...             Furniture        30.0   \n",
       "1670210                           Y  ...             Furniture        12.0   \n",
       "1670211                           Y  ...  Consumer electronics        10.0   \n",
       "1670212                           Y  ...                   XNA        12.0   \n",
       "1670213                           Y  ...                   XNA        48.0   \n",
       "\n",
       "        NAME_YIELD_GROUP          PRODUCT_COMBINATION DAYS_FIRST_DRAWING  \\\n",
       "0                 middle     POS mobile with interest           365243.0   \n",
       "1             low_action             Cash X-Sell: low           365243.0   \n",
       "2                   high            Cash X-Sell: high           365243.0   \n",
       "3                 middle          Cash X-Sell: middle           365243.0   \n",
       "4                   high            Cash Street: high                NaN   \n",
       "...                  ...                          ...                ...   \n",
       "1670209       low_normal   POS industry with interest           365243.0   \n",
       "1670210           middle   POS industry with interest           365243.0   \n",
       "1670211       low_normal  POS household with interest           365243.0   \n",
       "1670212       low_normal             Cash X-Sell: low           365243.0   \n",
       "1670213           middle          Cash X-Sell: middle           365243.0   \n",
       "\n",
       "        DAYS_FIRST_DUE DAYS_LAST_DUE_1ST_VERSION DAYS_LAST_DUE  \\\n",
       "0                -42.0                     300.0         -42.0   \n",
       "1               -134.0                     916.0      365243.0   \n",
       "2               -271.0                      59.0      365243.0   \n",
       "3               -482.0                    -152.0        -182.0   \n",
       "4                  NaN                       NaN           NaN   \n",
       "...                ...                       ...           ...   \n",
       "1670209         -508.0                     362.0        -358.0   \n",
       "1670210        -1604.0                   -1274.0       -1304.0   \n",
       "1670211        -1457.0                   -1187.0       -1187.0   \n",
       "1670212        -1155.0                    -825.0        -825.0   \n",
       "1670213        -1163.0                     247.0        -443.0   \n",
       "\n",
       "        DAYS_TERMINATION NFLAG_INSURED_ON_APPROVAL  \n",
       "0                  -37.0                       0.0  \n",
       "1               365243.0                       1.0  \n",
       "2               365243.0                       1.0  \n",
       "3                 -177.0                       1.0  \n",
       "4                    NaN                       NaN  \n",
       "...                  ...                       ...  \n",
       "1670209           -351.0                       0.0  \n",
       "1670210          -1297.0                       0.0  \n",
       "1670211          -1181.0                       0.0  \n",
       "1670212           -817.0                       1.0  \n",
       "1670213           -423.0                       0.0  \n",
       "\n",
       "[1670214 rows x 33 columns]"
      ]
     },
     "execution_count": 98,
     "metadata": {},
     "output_type": "execute_result"
    }
   ],
   "source": [
    "previous_application.drop(missing_colp1, axis = 1, inplace = True)\n",
    "previous_application"
   ]
  },
  {
   "cell_type": "code",
   "execution_count": 99,
   "id": "49d631e7",
   "metadata": {},
   "outputs": [
    {
     "data": {
      "text/plain": [
       "SK_ID_PREV                      0.00\n",
       "SK_ID_CURR                      0.00\n",
       "NAME_CONTRACT_TYPE              0.00\n",
       "AMT_ANNUITY                    22.29\n",
       "AMT_APPLICATION                 0.00\n",
       "AMT_CREDIT                      0.00\n",
       "AMT_GOODS_PRICE                23.08\n",
       "WEEKDAY_APPR_PROCESS_START      0.00\n",
       "HOUR_APPR_PROCESS_START         0.00\n",
       "FLAG_LAST_APPL_PER_CONTRACT     0.00\n",
       "NFLAG_LAST_APPL_IN_DAY          0.00\n",
       "NAME_CASH_LOAN_PURPOSE          0.00\n",
       "NAME_CONTRACT_STATUS            0.00\n",
       "DAYS_DECISION                   0.00\n",
       "NAME_PAYMENT_TYPE               0.00\n",
       "CODE_REJECT_REASON              0.00\n",
       "NAME_TYPE_SUITE                49.12\n",
       "NAME_CLIENT_TYPE                0.00\n",
       "NAME_GOODS_CATEGORY             0.00\n",
       "NAME_PORTFOLIO                  0.00\n",
       "NAME_PRODUCT_TYPE               0.00\n",
       "CHANNEL_TYPE                    0.00\n",
       "SELLERPLACE_AREA                0.00\n",
       "NAME_SELLER_INDUSTRY            0.00\n",
       "CNT_PAYMENT                    22.29\n",
       "NAME_YIELD_GROUP                0.00\n",
       "PRODUCT_COMBINATION             0.02\n",
       "DAYS_FIRST_DRAWING             40.30\n",
       "DAYS_FIRST_DUE                 40.30\n",
       "DAYS_LAST_DUE_1ST_VERSION      40.30\n",
       "DAYS_LAST_DUE                  40.30\n",
       "DAYS_TERMINATION               40.30\n",
       "NFLAG_INSURED_ON_APPROVAL      40.30\n",
       "dtype: float64"
      ]
     },
     "execution_count": 99,
     "metadata": {},
     "output_type": "execute_result"
    }
   ],
   "source": [
    "round(100*(previous_application.isnull().sum()/len(previous_application.index)),2)"
   ]
  },
  {
   "cell_type": "markdown",
   "id": "3eab07a0",
   "metadata": {},
   "source": [
    "MISSING values Suggestion"
   ]
  },
  {
   "cell_type": "code",
   "execution_count": 100,
   "id": "7142becd",
   "metadata": {
    "execution": {
     "iopub.execute_input": "2020-12-17T00:34:20.095395Z",
     "iopub.status.busy": "2020-12-17T00:34:20.094638Z",
     "iopub.status.idle": "2020-12-17T00:34:20.103725Z",
     "shell.execute_reply": "2020-12-17T00:34:20.102841Z"
    },
    "papermill": {
     "duration": 0.189267,
     "end_time": "2020-12-17T00:34:20.103914",
     "exception": false,
     "start_time": "2020-12-17T00:34:19.914647",
     "status": "completed"
    },
    "tags": []
   },
   "outputs": [
    {
     "name": "stdout",
     "output_type": "stream",
     "text": [
      "AMT_GOODS_PRICE NULL COUNT: 385515\n"
     ]
    }
   ],
   "source": [
    "print(\"AMT_GOODS_PRICE NULL COUNT:\" ,previous_application['AMT_GOODS_PRICE'].isnull().sum())"
   ]
  },
  {
   "cell_type": "code",
   "execution_count": 101,
   "id": "39653b99",
   "metadata": {
    "execution": {
     "iopub.execute_input": "2020-12-17T00:34:20.458462Z",
     "iopub.status.busy": "2020-12-17T00:34:20.457651Z",
     "iopub.status.idle": "2020-12-17T00:34:20.536405Z",
     "shell.execute_reply": "2020-12-17T00:34:20.535838Z"
    },
    "papermill": {
     "duration": 0.258075,
     "end_time": "2020-12-17T00:34:20.536519",
     "exception": false,
     "start_time": "2020-12-17T00:34:20.278444",
     "status": "completed"
    },
    "tags": []
   },
   "outputs": [
    {
     "data": {
      "text/plain": [
       "count    1.284699e+06\n",
       "mean     2.278473e+05\n",
       "std      3.153966e+05\n",
       "min      0.000000e+00\n",
       "25%      5.084100e+04\n",
       "50%      1.123200e+05\n",
       "75%      2.340000e+05\n",
       "max      6.905160e+06\n",
       "Name: AMT_GOODS_PRICE, dtype: float64"
      ]
     },
     "execution_count": 101,
     "metadata": {},
     "output_type": "execute_result"
    }
   ],
   "source": [
    "previous_application['AMT_GOODS_PRICE'].describe()"
   ]
  },
  {
   "cell_type": "code",
   "execution_count": 102,
   "id": "1198994f",
   "metadata": {
    "execution": {
     "iopub.execute_input": "2020-12-17T00:34:20.900292Z",
     "iopub.status.busy": "2020-12-17T00:34:20.897342Z",
     "iopub.status.idle": "2020-12-17T00:34:21.747897Z",
     "shell.execute_reply": "2020-12-17T00:34:21.747181Z"
    },
    "papermill": {
     "duration": 1.037889,
     "end_time": "2020-12-17T00:34:21.748036",
     "exception": false,
     "start_time": "2020-12-17T00:34:20.710147",
     "status": "completed"
    },
    "scrolled": true,
    "tags": []
   },
   "outputs": [
    {
     "name": "stderr",
     "output_type": "stream",
     "text": [
      "C:\\Users\\kpear\\anaconda3\\lib\\site-packages\\seaborn\\distributions.py:2619: FutureWarning: `distplot` is a deprecated function and will be removed in a future version. Please adapt your code to use either `displot` (a figure-level function with similar flexibility) or `histplot` (an axes-level function for histograms).\n",
      "  warnings.warn(msg, FutureWarning)\n"
     ]
    },
    {
     "data": {
      "image/png": "[encoded data removed]",
      "text/plain": [
       "<Figure size 432x288 with 1 Axes>"
      ]
     },
     "metadata": {},
     "output_type": "display_data"
    }
   ],
   "source": [
    "sns.set_style('whitegrid') \n",
    "sns.distplot(previous_application['AMT_GOODS_PRICE']) \n",
    "plt.show()\n"
   ]
  },
  {
   "cell_type": "markdown",
   "id": "30674e76",
   "metadata": {
    "papermill": {
     "duration": 0.174493,
     "end_time": "2020-12-17T00:34:22.099153",
     "exception": false,
     "start_time": "2020-12-17T00:34:21.924660",
     "status": "completed"
    },
    "tags": []
   },
   "source": [
    "### Suggestion\n",
    "We can Fill NA with 112320 i.e. Median for this field "
   ]
  },
  {
   "cell_type": "code",
   "execution_count": 103,
   "id": "4ba7b7a2",
   "metadata": {},
   "outputs": [],
   "source": [
    "previous_application[\"AMT_GOODS_PRICE\"].fillna(\"112320\", inplace = True)"
   ]
  },
  {
   "cell_type": "code",
   "execution_count": 104,
   "id": "6c9ac189",
   "metadata": {},
   "outputs": [
    {
     "name": "stdout",
     "output_type": "stream",
     "text": [
      "AMT_GOODS_PRICE NULL COUNT: 0\n"
     ]
    }
   ],
   "source": [
    "print(\"AMT_GOODS_PRICE NULL COUNT:\" ,previous_application['AMT_GOODS_PRICE'].isnull().sum())"
   ]
  },
  {
   "cell_type": "markdown",
   "id": "7f0f51e1",
   "metadata": {},
   "source": [
    "------------------------------------------------"
   ]
  },
  {
   "cell_type": "code",
   "execution_count": 105,
   "id": "2533cee7",
   "metadata": {},
   "outputs": [
    {
     "name": "stdout",
     "output_type": "stream",
     "text": [
      "AMT_ANNUITY NULL COUNT: 372235\n"
     ]
    }
   ],
   "source": [
    "print(\"AMT_ANNUITY NULL COUNT:\" ,previous_application['AMT_ANNUITY'].isnull().sum())"
   ]
  },
  {
   "cell_type": "code",
   "execution_count": 106,
   "id": "16ba136b",
   "metadata": {},
   "outputs": [
    {
     "data": {
      "text/plain": [
       "count    1.297979e+06\n",
       "mean     1.595512e+04\n",
       "std      1.478214e+04\n",
       "min      0.000000e+00\n",
       "25%      6.321780e+03\n",
       "50%      1.125000e+04\n",
       "75%      2.065842e+04\n",
       "max      4.180581e+05\n",
       "Name: AMT_ANNUITY, dtype: float64"
      ]
     },
     "execution_count": 106,
     "metadata": {},
     "output_type": "execute_result"
    }
   ],
   "source": [
    "previous_application['AMT_ANNUITY'].describe()"
   ]
  },
  {
   "cell_type": "code",
   "execution_count": 107,
   "id": "e0b32728",
   "metadata": {},
   "outputs": [
    {
     "data": {
      "image/png": "[encoded data removed]",
      "text/plain": [
       "<Figure size 360x360 with 1 Axes>"
      ]
     },
     "metadata": {},
     "output_type": "display_data"
    }
   ],
   "source": [
    "sns.set_style('whitegrid') \n",
    "sns.displot(previous_application['AMT_ANNUITY']) \n",
    "plt.xlim([0 ,100000])\n",
    "plt.show()"
   ]
  },
  {
   "cell_type": "markdown",
   "id": "8ce0c71b",
   "metadata": {},
   "source": [
    "Suggestion\n",
    "We can Fill NA with 15955 i.e. Mean for this field"
   ]
  },
  {
   "cell_type": "code",
   "execution_count": 108,
   "id": "5870e8b1",
   "metadata": {},
   "outputs": [],
   "source": [
    "previous_application[\"AMT_ANNUITY\"].fillna(\"15955\", inplace = True)"
   ]
  },
  {
   "cell_type": "code",
   "execution_count": 109,
   "id": "ec8fda40",
   "metadata": {},
   "outputs": [
    {
     "name": "stdout",
     "output_type": "stream",
     "text": [
      "AMT_ANNUITY NULL COUNT: 0\n"
     ]
    }
   ],
   "source": [
    "print(\"AMT_ANNUITY NULL COUNT:\" ,previous_application['AMT_ANNUITY'].isnull().sum())"
   ]
  },
  {
   "cell_type": "code",
   "execution_count": 110,
   "id": "c83c11cb",
   "metadata": {
    "execution": {
     "iopub.execute_input": "2020-12-17T00:34:20.095395Z",
     "iopub.status.busy": "2020-12-17T00:34:20.094638Z",
     "iopub.status.idle": "2020-12-17T00:34:20.103725Z",
     "shell.execute_reply": "2020-12-17T00:34:20.102841Z"
    },
    "papermill": {
     "duration": 0.189267,
     "end_time": "2020-12-17T00:34:20.103914",
     "exception": false,
     "start_time": "2020-12-17T00:34:19.914647",
     "status": "completed"
    },
    "tags": []
   },
   "outputs": [
    {
     "name": "stdout",
     "output_type": "stream",
     "text": [
      "AMT_GOODS_PRICE NULL COUNT: 0\n"
     ]
    }
   ],
   "source": [
    "print(\"AMT_GOODS_PRICE NULL COUNT:\" ,previous_application['AMT_GOODS_PRICE'].isnull().sum())"
   ]
  },
  {
   "cell_type": "code",
   "execution_count": 111,
   "id": "f6362ce4",
   "metadata": {
    "execution": {
     "iopub.execute_input": "2020-12-17T00:34:20.458462Z",
     "iopub.status.busy": "2020-12-17T00:34:20.457651Z",
     "iopub.status.idle": "2020-12-17T00:34:20.536405Z",
     "shell.execute_reply": "2020-12-17T00:34:20.535838Z"
    },
    "papermill": {
     "duration": 0.258075,
     "end_time": "2020-12-17T00:34:20.536519",
     "exception": false,
     "start_time": "2020-12-17T00:34:20.278444",
     "status": "completed"
    },
    "tags": []
   },
   "outputs": [
    {
     "data": {
      "text/plain": [
       "count     1670214\n",
       "unique      93886\n",
       "top        112320\n",
       "freq       385515\n",
       "Name: AMT_GOODS_PRICE, dtype: object"
      ]
     },
     "execution_count": 111,
     "metadata": {},
     "output_type": "execute_result"
    }
   ],
   "source": [
    "previous_application['AMT_GOODS_PRICE'].describe()"
   ]
  },
  {
   "cell_type": "code",
   "execution_count": 112,
   "id": "87dc95b0",
   "metadata": {
    "scrolled": true
   },
   "outputs": [
    {
     "name": "stdout",
     "output_type": "stream",
     "text": [
      "AMT_GOODS_PRICE NULL COUNT: 0\n"
     ]
    }
   ],
   "source": [
    "print(\"AMT_GOODS_PRICE NULL COUNT:\" ,previous_application['AMT_GOODS_PRICE'].isnull().sum())"
   ]
  },
  {
   "cell_type": "markdown",
   "id": "954b085f",
   "metadata": {},
   "source": [
    "------------------------------------------------"
   ]
  },
  {
   "cell_type": "markdown",
   "id": "f4d3e20f",
   "metadata": {
    "papermill": {
     "duration": 0.174296,
     "end_time": "2020-12-17T00:34:23.619230",
     "exception": false,
     "start_time": "2020-12-17T00:34:23.444934",
     "status": "completed"
    },
    "tags": []
   },
   "source": [
    "### Suggestion\n",
    "We can Fill NA with Unaccompanied  i.e. Mode for this field "
   ]
  },
  {
   "cell_type": "code",
   "execution_count": 113,
   "id": "96633aaa",
   "metadata": {
    "execution": {
     "iopub.execute_input": "2020-12-17T00:34:22.584907Z",
     "iopub.status.busy": "2020-12-17T00:34:22.584176Z",
     "iopub.status.idle": "2020-12-17T00:34:22.593967Z",
     "shell.execute_reply": "2020-12-17T00:34:22.593162Z"
    },
    "papermill": {
     "duration": 0.319272,
     "end_time": "2020-12-17T00:34:22.594131",
     "exception": false,
     "start_time": "2020-12-17T00:34:22.274859",
     "status": "completed"
    },
    "scrolled": false,
    "tags": []
   },
   "outputs": [
    {
     "name": "stdout",
     "output_type": "stream",
     "text": [
      "NAME_TYPE_SUITE NULL COUNT: 820405\n"
     ]
    }
   ],
   "source": [
    "print(\"NAME_TYPE_SUITE NULL COUNT:\" ,previous_application['NAME_TYPE_SUITE'].isnull().sum())"
   ]
  },
  {
   "cell_type": "code",
   "execution_count": 114,
   "id": "4459eda0",
   "metadata": {
    "scrolled": false
   },
   "outputs": [
    {
     "data": {
      "text/plain": [
       "Unaccompanied      508970\n",
       "Family             213263\n",
       "Spouse, partner     67069\n",
       "Children            31566\n",
       "Other_B             17624\n",
       "Other_A              9077\n",
       "Group of people      2240\n",
       "Name: NAME_TYPE_SUITE, dtype: int64"
      ]
     },
     "execution_count": 114,
     "metadata": {},
     "output_type": "execute_result"
    }
   ],
   "source": [
    "previous_application['NAME_TYPE_SUITE'].value_counts()"
   ]
  },
  {
   "cell_type": "code",
   "execution_count": 115,
   "id": "a157820c",
   "metadata": {
    "execution": {
     "iopub.execute_input": "2020-12-17T00:34:23.255711Z",
     "iopub.status.busy": "2020-12-17T00:34:23.254980Z",
     "iopub.status.idle": "2020-12-17T00:34:23.263310Z",
     "shell.execute_reply": "2020-12-17T00:34:23.262597Z"
    },
    "papermill": {
     "duration": 0.489774,
     "end_time": "2020-12-17T00:34:23.263432",
     "exception": false,
     "start_time": "2020-12-17T00:34:22.773658",
     "status": "completed"
    },
    "scrolled": true,
    "tags": []
   },
   "outputs": [],
   "source": [
    "previous_application[\"NAME_TYPE_SUITE\"].fillna(\"Unaccompanied\", inplace = True)"
   ]
  },
  {
   "cell_type": "code",
   "execution_count": 116,
   "id": "602df39b",
   "metadata": {
    "scrolled": true
   },
   "outputs": [
    {
     "name": "stdout",
     "output_type": "stream",
     "text": [
      "NAME_TYPE_SUITE NULL COUNT: 0\n"
     ]
    }
   ],
   "source": [
    "print(\"NAME_TYPE_SUITE NULL COUNT:\" ,previous_application['NAME_TYPE_SUITE'].isnull().sum())"
   ]
  },
  {
   "cell_type": "markdown",
   "id": "008764e6",
   "metadata": {},
   "source": [
    "------------------------------------------------"
   ]
  },
  {
   "cell_type": "code",
   "execution_count": 117,
   "id": "5ced33a8",
   "metadata": {
    "execution": {
     "iopub.execute_input": "2020-12-17T00:34:23.978832Z",
     "iopub.status.busy": "2020-12-17T00:34:23.978123Z",
     "iopub.status.idle": "2020-12-17T00:34:23.987513Z",
     "shell.execute_reply": "2020-12-17T00:34:23.986530Z"
    },
    "papermill": {
     "duration": 0.192815,
     "end_time": "2020-12-17T00:34:23.987732",
     "exception": false,
     "start_time": "2020-12-17T00:34:23.794917",
     "status": "completed"
    },
    "tags": []
   },
   "outputs": [
    {
     "name": "stdout",
     "output_type": "stream",
     "text": [
      "CNT_PAYMENT NULL COUNT: 372230\n"
     ]
    }
   ],
   "source": [
    "print(\"CNT_PAYMENT NULL COUNT:\" ,previous_application['CNT_PAYMENT'].isnull().sum())"
   ]
  },
  {
   "cell_type": "code",
   "execution_count": 118,
   "id": "073856cc",
   "metadata": {
    "execution": {
     "iopub.execute_input": "2020-12-17T00:34:24.347536Z",
     "iopub.status.busy": "2020-12-17T00:34:24.346801Z",
     "iopub.status.idle": "2020-12-17T00:34:24.437049Z",
     "shell.execute_reply": "2020-12-17T00:34:24.437722Z"
    },
    "papermill": {
     "duration": 0.273369,
     "end_time": "2020-12-17T00:34:24.437953",
     "exception": false,
     "start_time": "2020-12-17T00:34:24.164584",
     "status": "completed"
    },
    "tags": []
   },
   "outputs": [
    {
     "data": {
      "text/plain": [
       "count    1.297984e+06\n",
       "mean     1.605408e+01\n",
       "std      1.456729e+01\n",
       "min      0.000000e+00\n",
       "25%      6.000000e+00\n",
       "50%      1.200000e+01\n",
       "75%      2.400000e+01\n",
       "max      8.400000e+01\n",
       "Name: CNT_PAYMENT, dtype: float64"
      ]
     },
     "execution_count": 118,
     "metadata": {},
     "output_type": "execute_result"
    }
   ],
   "source": [
    "previous_application['CNT_PAYMENT'].describe()"
   ]
  },
  {
   "cell_type": "code",
   "execution_count": 119,
   "id": "7daa08b4",
   "metadata": {
    "execution": {
     "iopub.execute_input": "2020-12-17T00:34:24.815625Z",
     "iopub.status.busy": "2020-12-17T00:34:24.814841Z",
     "iopub.status.idle": "2020-12-17T00:34:25.202008Z",
     "shell.execute_reply": "2020-12-17T00:34:25.202623Z"
    },
    "papermill": {
     "duration": 0.572855,
     "end_time": "2020-12-17T00:34:25.202841",
     "exception": false,
     "start_time": "2020-12-17T00:34:24.629986",
     "status": "completed"
    },
    "tags": []
   },
   "outputs": [
    {
     "name": "stderr",
     "output_type": "stream",
     "text": [
      "C:\\Users\\kpear\\anaconda3\\lib\\site-packages\\seaborn\\_decorators.py:36: FutureWarning: Pass the following variable as a keyword arg: x. From version 0.12, the only valid positional argument will be `data`, and passing other arguments without an explicit keyword will result in an error or misinterpretation.\n",
      "  warnings.warn(\n"
     ]
    },
    {
     "data": {
      "image/png": "[encoded data removed]",
      "text/plain": [
       "<Figure size 432x288 with 1 Axes>"
      ]
     },
     "metadata": {},
     "output_type": "display_data"
    }
   ],
   "source": [
    "sns.set_style('whitegrid') \n",
    "sns.boxplot(previous_application['CNT_PAYMENT']) \n",
    "plt.show()"
   ]
  },
  {
   "cell_type": "markdown",
   "id": "688ed1c2",
   "metadata": {
    "papermill": {
     "duration": 0.176222,
     "end_time": "2020-12-17T00:34:25.555634",
     "exception": false,
     "start_time": "2020-12-17T00:34:25.379412",
     "status": "completed"
    },
    "tags": []
   },
   "source": [
    "### Suggestion\n",
    "We can Fill NA with 12 i.e. Median for this field "
   ]
  },
  {
   "cell_type": "code",
   "execution_count": 120,
   "id": "15ee5324",
   "metadata": {},
   "outputs": [],
   "source": [
    "previous_application[\"CNT_PAYMENT\"].fillna(\"12\", inplace = True)"
   ]
  },
  {
   "cell_type": "code",
   "execution_count": 121,
   "id": "ad636925",
   "metadata": {
    "scrolled": true
   },
   "outputs": [
    {
     "name": "stdout",
     "output_type": "stream",
     "text": [
      "CNT_PAYMENT NULL COUNT: 0\n"
     ]
    }
   ],
   "source": [
    "print(\"CNT_PAYMENT NULL COUNT:\" ,previous_application['CNT_PAYMENT'].isnull().sum())"
   ]
  },
  {
   "cell_type": "markdown",
   "id": "4326d158",
   "metadata": {},
   "source": [
    "------------------------------------------------"
   ]
  },
  {
   "cell_type": "code",
   "execution_count": 122,
   "id": "6c7d42db",
   "metadata": {
    "execution": {
     "iopub.execute_input": "2020-12-17T00:34:25.915868Z",
     "iopub.status.busy": "2020-12-17T00:34:25.915173Z",
     "iopub.status.idle": "2020-12-17T00:34:25.923655Z",
     "shell.execute_reply": "2020-12-17T00:34:25.923057Z"
    },
    "papermill": {
     "duration": 0.191775,
     "end_time": "2020-12-17T00:34:25.923796",
     "exception": false,
     "start_time": "2020-12-17T00:34:25.732021",
     "status": "completed"
    },
    "tags": []
   },
   "outputs": [
    {
     "name": "stdout",
     "output_type": "stream",
     "text": [
      "DAYS_FIRST_DRAWING : 0\n"
     ]
    }
   ],
   "source": [
    "print(\"DAYS_FIRST_DRAWING :\" ,previous_application['CNT_PAYMENT'].isnull().sum())"
   ]
  },
  {
   "cell_type": "code",
   "execution_count": 123,
   "id": "84796465",
   "metadata": {
    "execution": {
     "iopub.execute_input": "2020-12-17T00:34:26.285648Z",
     "iopub.status.busy": "2020-12-17T00:34:26.284898Z",
     "iopub.status.idle": "2020-12-17T00:34:26.358192Z",
     "shell.execute_reply": "2020-12-17T00:34:26.358725Z"
    },
    "papermill": {
     "duration": 0.2555,
     "end_time": "2020-12-17T00:34:26.358872",
     "exception": false,
     "start_time": "2020-12-17T00:34:26.103372",
     "status": "completed"
    },
    "tags": []
   },
   "outputs": [
    {
     "data": {
      "text/plain": [
       "count    997149.000000\n",
       "mean     342209.855039\n",
       "std       88916.115834\n",
       "min       -2922.000000\n",
       "25%      365243.000000\n",
       "50%      365243.000000\n",
       "75%      365243.000000\n",
       "max      365243.000000\n",
       "Name: DAYS_FIRST_DRAWING, dtype: float64"
      ]
     },
     "execution_count": 123,
     "metadata": {},
     "output_type": "execute_result"
    }
   ],
   "source": [
    "previous_application['DAYS_FIRST_DRAWING'].describe()"
   ]
  },
  {
   "cell_type": "code",
   "execution_count": 124,
   "id": "b55f1594",
   "metadata": {
    "execution": {
     "iopub.execute_input": "2020-12-17T00:34:26.719607Z",
     "iopub.status.busy": "2020-12-17T00:34:26.718789Z",
     "iopub.status.idle": "2020-12-17T00:34:27.121906Z",
     "shell.execute_reply": "2020-12-17T00:34:27.122438Z"
    },
    "papermill": {
     "duration": 0.58511,
     "end_time": "2020-12-17T00:34:27.122587",
     "exception": false,
     "start_time": "2020-12-17T00:34:26.537477",
     "status": "completed"
    },
    "tags": []
   },
   "outputs": [
    {
     "name": "stderr",
     "output_type": "stream",
     "text": [
      "C:\\Users\\kpear\\anaconda3\\lib\\site-packages\\seaborn\\_decorators.py:36: FutureWarning: Pass the following variable as a keyword arg: x. From version 0.12, the only valid positional argument will be `data`, and passing other arguments without an explicit keyword will result in an error or misinterpretation.\n",
      "  warnings.warn(\n"
     ]
    },
    {
     "data": {
      "image/png": "[encoded data removed]",
      "text/plain": [
       "<Figure size 432x288 with 1 Axes>"
      ]
     },
     "metadata": {},
     "output_type": "display_data"
    }
   ],
   "source": [
    "sns.set_style('whitegrid') \n",
    "sns.boxplot(previous_application['DAYS_FIRST_DRAWING']) \n",
    "plt.show()"
   ]
  },
  {
   "cell_type": "markdown",
   "id": "e9cd224d",
   "metadata": {
    "papermill": {
     "duration": 0.180385,
     "end_time": "2020-12-17T00:34:27.481873",
     "exception": false,
     "start_time": "2020-12-17T00:34:27.301488",
     "status": "completed"
    },
    "tags": []
   },
   "source": [
    "### Suggestion\n",
    "We can Fill NA with 365243 i.e. Median for this field "
   ]
  },
  {
   "cell_type": "code",
   "execution_count": 125,
   "id": "f2b0f0b7",
   "metadata": {},
   "outputs": [],
   "source": [
    "previous_application[\"DAYS_FIRST_DRAWING\"].fillna(\"365243\", inplace = True)"
   ]
  },
  {
   "cell_type": "code",
   "execution_count": 126,
   "id": "b927e1c8",
   "metadata": {},
   "outputs": [
    {
     "name": "stdout",
     "output_type": "stream",
     "text": [
      "DAYS_FIRST_DRAWING : 0\n"
     ]
    }
   ],
   "source": [
    "print(\"DAYS_FIRST_DRAWING :\" ,previous_application['CNT_PAYMENT'].isnull().sum())"
   ]
  },
  {
   "cell_type": "markdown",
   "id": "c55bbf36",
   "metadata": {},
   "source": [
    "------------------------------------------------"
   ]
  },
  {
   "cell_type": "code",
   "execution_count": 127,
   "id": "1e5e1830",
   "metadata": {
    "execution": {
     "iopub.execute_input": "2020-12-17T00:34:27.846827Z",
     "iopub.status.busy": "2020-12-17T00:34:27.846111Z",
     "iopub.status.idle": "2020-12-17T00:34:27.856733Z",
     "shell.execute_reply": "2020-12-17T00:34:27.856196Z"
    },
    "papermill": {
     "duration": 0.196072,
     "end_time": "2020-12-17T00:34:27.856865",
     "exception": false,
     "start_time": "2020-12-17T00:34:27.660793",
     "status": "completed"
    },
    "tags": []
   },
   "outputs": [
    {
     "name": "stdout",
     "output_type": "stream",
     "text": [
      "DAYS_FIRST_DUE : 673065\n"
     ]
    }
   ],
   "source": [
    "print(\"DAYS_FIRST_DUE :\" ,previous_application['DAYS_FIRST_DUE'].isnull().sum())"
   ]
  },
  {
   "cell_type": "code",
   "execution_count": 128,
   "id": "2ee04356",
   "metadata": {
    "execution": {
     "iopub.execute_input": "2020-12-17T00:34:28.222555Z",
     "iopub.status.busy": "2020-12-17T00:34:28.221811Z",
     "iopub.status.idle": "2020-12-17T00:34:28.306002Z",
     "shell.execute_reply": "2020-12-17T00:34:28.305337Z"
    },
    "papermill": {
     "duration": 0.269904,
     "end_time": "2020-12-17T00:34:28.306141",
     "exception": false,
     "start_time": "2020-12-17T00:34:28.036237",
     "status": "completed"
    },
    "tags": []
   },
   "outputs": [
    {
     "data": {
      "text/plain": [
       "count    997149.000000\n",
       "mean      13826.269337\n",
       "std       72444.869708\n",
       "min       -2892.000000\n",
       "25%       -1628.000000\n",
       "50%        -831.000000\n",
       "75%        -411.000000\n",
       "max      365243.000000\n",
       "Name: DAYS_FIRST_DUE, dtype: float64"
      ]
     },
     "execution_count": 128,
     "metadata": {},
     "output_type": "execute_result"
    }
   ],
   "source": [
    "previous_application['DAYS_FIRST_DUE'].describe()"
   ]
  },
  {
   "cell_type": "code",
   "execution_count": 129,
   "id": "5fe3842c",
   "metadata": {
    "execution": {
     "iopub.execute_input": "2020-12-17T00:34:28.683404Z",
     "iopub.status.busy": "2020-12-17T00:34:28.675929Z",
     "iopub.status.idle": "2020-12-17T00:34:29.059255Z",
     "shell.execute_reply": "2020-12-17T00:34:29.058630Z"
    },
    "papermill": {
     "duration": 0.569497,
     "end_time": "2020-12-17T00:34:29.059380",
     "exception": false,
     "start_time": "2020-12-17T00:34:28.489883",
     "status": "completed"
    },
    "tags": []
   },
   "outputs": [
    {
     "name": "stderr",
     "output_type": "stream",
     "text": [
      "C:\\Users\\kpear\\anaconda3\\lib\\site-packages\\seaborn\\_decorators.py:36: FutureWarning: Pass the following variable as a keyword arg: x. From version 0.12, the only valid positional argument will be `data`, and passing other arguments without an explicit keyword will result in an error or misinterpretation.\n",
      "  warnings.warn(\n"
     ]
    },
    {
     "data": {
      "image/png": "[encoded data removed]",
      "text/plain": [
       "<Figure size 432x288 with 1 Axes>"
      ]
     },
     "metadata": {},
     "output_type": "display_data"
    }
   ],
   "source": [
    "sns.set_style('whitegrid') \n",
    "sns.boxplot(previous_application['DAYS_FIRST_DUE']) \n",
    "plt.show()"
   ]
  },
  {
   "cell_type": "markdown",
   "id": "9f7d44b2",
   "metadata": {
    "papermill": {
     "duration": 0.180854,
     "end_time": "2020-12-17T00:34:29.422156",
     "exception": false,
     "start_time": "2020-12-17T00:34:29.241302",
     "status": "completed"
    },
    "tags": []
   },
   "source": [
    "### Suggestion\n",
    "We can Fill NA with -831 i.e. Median for this field "
   ]
  },
  {
   "cell_type": "code",
   "execution_count": 130,
   "id": "00e51d99",
   "metadata": {},
   "outputs": [],
   "source": [
    "previous_application[\"DAYS_FIRST_DUE\"].fillna(\"-831\", inplace = True)"
   ]
  },
  {
   "cell_type": "code",
   "execution_count": 131,
   "id": "b9d14d92",
   "metadata": {
    "scrolled": true
   },
   "outputs": [
    {
     "name": "stdout",
     "output_type": "stream",
     "text": [
      "DAYS_FIRST_DUE : 0\n"
     ]
    }
   ],
   "source": [
    "print(\"DAYS_FIRST_DUE :\" ,previous_application['DAYS_FIRST_DUE'].isnull().sum())"
   ]
  },
  {
   "cell_type": "markdown",
   "id": "d5659e9b",
   "metadata": {},
   "source": [
    "------------------------------------------------"
   ]
  },
  {
   "cell_type": "code",
   "execution_count": 132,
   "id": "5842ecaa",
   "metadata": {
    "execution": {
     "iopub.execute_input": "2020-12-17T00:34:29.790578Z",
     "iopub.status.busy": "2020-12-17T00:34:29.789842Z",
     "iopub.status.idle": "2020-12-17T00:34:29.799606Z",
     "shell.execute_reply": "2020-12-17T00:34:29.798948Z"
    },
    "papermill": {
     "duration": 0.19699,
     "end_time": "2020-12-17T00:34:29.799773",
     "exception": false,
     "start_time": "2020-12-17T00:34:29.602783",
     "status": "completed"
    },
    "tags": []
   },
   "outputs": [
    {
     "name": "stdout",
     "output_type": "stream",
     "text": [
      "DAYS_LAST_DUE_1ST_VERSION : 673065\n"
     ]
    }
   ],
   "source": [
    "print(\"DAYS_LAST_DUE_1ST_VERSION :\" ,previous_application['DAYS_LAST_DUE_1ST_VERSION'].isnull().sum())"
   ]
  },
  {
   "cell_type": "code",
   "execution_count": 133,
   "id": "69b7b79b",
   "metadata": {
    "execution": {
     "iopub.execute_input": "2020-12-17T00:34:30.171548Z",
     "iopub.status.busy": "2020-12-17T00:34:30.170850Z",
     "iopub.status.idle": "2020-12-17T00:34:30.254030Z",
     "shell.execute_reply": "2020-12-17T00:34:30.253414Z"
    },
    "papermill": {
     "duration": 0.270541,
     "end_time": "2020-12-17T00:34:30.254155",
     "exception": false,
     "start_time": "2020-12-17T00:34:29.983614",
     "status": "completed"
    },
    "tags": []
   },
   "outputs": [
    {
     "data": {
      "text/plain": [
       "count    997149.000000\n",
       "mean      33767.774054\n",
       "std      106857.034789\n",
       "min       -2801.000000\n",
       "25%       -1242.000000\n",
       "50%        -361.000000\n",
       "75%         129.000000\n",
       "max      365243.000000\n",
       "Name: DAYS_LAST_DUE_1ST_VERSION, dtype: float64"
      ]
     },
     "execution_count": 133,
     "metadata": {},
     "output_type": "execute_result"
    }
   ],
   "source": [
    "previous_application['DAYS_LAST_DUE_1ST_VERSION'].describe()"
   ]
  },
  {
   "cell_type": "code",
   "execution_count": 134,
   "id": "54ae3abb",
   "metadata": {
    "execution": {
     "iopub.execute_input": "2020-12-17T00:34:30.630768Z",
     "iopub.status.busy": "2020-12-17T00:34:30.627779Z",
     "iopub.status.idle": "2020-12-17T00:34:31.105862Z",
     "shell.execute_reply": "2020-12-17T00:34:31.105168Z"
    },
    "papermill": {
     "duration": 0.671382,
     "end_time": "2020-12-17T00:34:31.105985",
     "exception": false,
     "start_time": "2020-12-17T00:34:30.434603",
     "status": "completed"
    },
    "tags": []
   },
   "outputs": [
    {
     "name": "stderr",
     "output_type": "stream",
     "text": [
      "C:\\Users\\kpear\\anaconda3\\lib\\site-packages\\seaborn\\_decorators.py:36: FutureWarning: Pass the following variable as a keyword arg: x. From version 0.12, the only valid positional argument will be `data`, and passing other arguments without an explicit keyword will result in an error or misinterpretation.\n",
      "  warnings.warn(\n"
     ]
    },
    {
     "data": {
      "image/png": "[encoded data removed]",
      "text/plain": [
       "<Figure size 432x288 with 1 Axes>"
      ]
     },
     "metadata": {},
     "output_type": "display_data"
    }
   ],
   "source": [
    "sns.set_style('whitegrid') \n",
    "sns.boxplot(previous_application['DAYS_LAST_DUE_1ST_VERSION']) \n",
    "plt.show()"
   ]
  },
  {
   "cell_type": "markdown",
   "id": "998527ec",
   "metadata": {
    "papermill": {
     "duration": 0.181886,
     "end_time": "2020-12-17T00:34:31.470977",
     "exception": false,
     "start_time": "2020-12-17T00:34:31.289091",
     "status": "completed"
    },
    "tags": []
   },
   "source": [
    "### Suggestion\n",
    "We can Fill NA with -361 i.e. Median for this field "
   ]
  },
  {
   "cell_type": "code",
   "execution_count": 135,
   "id": "0df0a736",
   "metadata": {},
   "outputs": [],
   "source": [
    "previous_application[\"DAYS_LAST_DUE_1ST_VERSION\"].fillna(\"-361\", inplace = True)"
   ]
  },
  {
   "cell_type": "code",
   "execution_count": 136,
   "id": "a9415f1b",
   "metadata": {
    "scrolled": true
   },
   "outputs": [
    {
     "name": "stdout",
     "output_type": "stream",
     "text": [
      "DAYS_LAST_DUE_1ST_VERSION : 0\n"
     ]
    }
   ],
   "source": [
    "print(\"DAYS_LAST_DUE_1ST_VERSION :\" ,previous_application['DAYS_LAST_DUE_1ST_VERSION'].isnull().sum())"
   ]
  },
  {
   "cell_type": "markdown",
   "id": "73b31706",
   "metadata": {},
   "source": [
    "------------------------------------------------"
   ]
  },
  {
   "cell_type": "code",
   "execution_count": 137,
   "id": "e171d92a",
   "metadata": {
    "execution": {
     "iopub.execute_input": "2020-12-17T00:34:31.842078Z",
     "iopub.status.busy": "2020-12-17T00:34:31.841296Z",
     "iopub.status.idle": "2020-12-17T00:34:31.851152Z",
     "shell.execute_reply": "2020-12-17T00:34:31.850362Z"
    },
    "papermill": {
     "duration": 0.198148,
     "end_time": "2020-12-17T00:34:31.851332",
     "exception": false,
     "start_time": "2020-12-17T00:34:31.653184",
     "status": "completed"
    },
    "tags": []
   },
   "outputs": [
    {
     "name": "stdout",
     "output_type": "stream",
     "text": [
      "DAYS_LAST_DUE: 673065\n"
     ]
    }
   ],
   "source": [
    "print(\"DAYS_LAST_DUE:\" ,previous_application['DAYS_LAST_DUE'].isnull().sum())"
   ]
  },
  {
   "cell_type": "code",
   "execution_count": 138,
   "id": "729c516e",
   "metadata": {
    "execution": {
     "iopub.execute_input": "2020-12-17T00:34:32.223249Z",
     "iopub.status.busy": "2020-12-17T00:34:32.222114Z",
     "iopub.status.idle": "2020-12-17T00:34:32.305858Z",
     "shell.execute_reply": "2020-12-17T00:34:32.305301Z"
    },
    "papermill": {
     "duration": 0.271521,
     "end_time": "2020-12-17T00:34:32.305982",
     "exception": false,
     "start_time": "2020-12-17T00:34:32.034461",
     "status": "completed"
    },
    "tags": []
   },
   "outputs": [
    {
     "data": {
      "text/plain": [
       "count    997149.000000\n",
       "mean      76582.403064\n",
       "std      149647.415123\n",
       "min       -2889.000000\n",
       "25%       -1314.000000\n",
       "50%        -537.000000\n",
       "75%         -74.000000\n",
       "max      365243.000000\n",
       "Name: DAYS_LAST_DUE, dtype: float64"
      ]
     },
     "execution_count": 138,
     "metadata": {},
     "output_type": "execute_result"
    }
   ],
   "source": [
    "previous_application['DAYS_LAST_DUE'].describe()"
   ]
  },
  {
   "cell_type": "code",
   "execution_count": 139,
   "id": "0938321a",
   "metadata": {
    "execution": {
     "iopub.execute_input": "2020-12-17T00:34:32.688291Z",
     "iopub.status.busy": "2020-12-17T00:34:32.681408Z",
     "iopub.status.idle": "2020-12-17T00:34:33.385536Z",
     "shell.execute_reply": "2020-12-17T00:34:33.384826Z"
    },
    "papermill": {
     "duration": 0.897135,
     "end_time": "2020-12-17T00:34:33.385664",
     "exception": false,
     "start_time": "2020-12-17T00:34:32.488529",
     "status": "completed"
    },
    "tags": []
   },
   "outputs": [
    {
     "name": "stderr",
     "output_type": "stream",
     "text": [
      "C:\\Users\\kpear\\anaconda3\\lib\\site-packages\\seaborn\\_decorators.py:36: FutureWarning: Pass the following variable as a keyword arg: x. From version 0.12, the only valid positional argument will be `data`, and passing other arguments without an explicit keyword will result in an error or misinterpretation.\n",
      "  warnings.warn(\n"
     ]
    },
    {
     "data": {
      "image/png": "[encoded data removed]",
      "text/plain": [
       "<Figure size 432x288 with 1 Axes>"
      ]
     },
     "metadata": {},
     "output_type": "display_data"
    }
   ],
   "source": [
    "sns.set_style('whitegrid') \n",
    "sns.boxplot(previous_application['DAYS_LAST_DUE']) \n",
    "plt.show()"
   ]
  },
  {
   "cell_type": "markdown",
   "id": "89fbd923",
   "metadata": {
    "papermill": {
     "duration": 0.184968,
     "end_time": "2020-12-17T00:34:33.796932",
     "exception": false,
     "start_time": "2020-12-17T00:34:33.611964",
     "status": "completed"
    },
    "tags": []
   },
   "source": [
    "### Suggestion\n",
    "We can Fill NA with -537 i.e. Median for this field "
   ]
  },
  {
   "cell_type": "code",
   "execution_count": 140,
   "id": "0fe1fc4b",
   "metadata": {},
   "outputs": [],
   "source": [
    "previous_application[\"DAYS_LAST_DUE\"].fillna(\"-537\", inplace = True)"
   ]
  },
  {
   "cell_type": "code",
   "execution_count": 141,
   "id": "2d955d08",
   "metadata": {
    "scrolled": true
   },
   "outputs": [
    {
     "name": "stdout",
     "output_type": "stream",
     "text": [
      "DAYS_LAST_DUE: 0\n"
     ]
    }
   ],
   "source": [
    "print(\"DAYS_LAST_DUE:\" ,previous_application['DAYS_LAST_DUE'].isnull().sum())"
   ]
  },
  {
   "cell_type": "markdown",
   "id": "33c464a7",
   "metadata": {},
   "source": [
    "------------------------------------------------"
   ]
  },
  {
   "cell_type": "code",
   "execution_count": 142,
   "id": "52ce9aa5",
   "metadata": {
    "execution": {
     "iopub.execute_input": "2020-12-17T00:34:34.174061Z",
     "iopub.status.busy": "2020-12-17T00:34:34.173364Z",
     "iopub.status.idle": "2020-12-17T00:34:34.181904Z",
     "shell.execute_reply": "2020-12-17T00:34:34.182939Z"
    },
    "papermill": {
     "duration": 0.200198,
     "end_time": "2020-12-17T00:34:34.183196",
     "exception": false,
     "start_time": "2020-12-17T00:34:33.982998",
     "status": "completed"
    },
    "tags": []
   },
   "outputs": [
    {
     "name": "stdout",
     "output_type": "stream",
     "text": [
      "DAYS_TERMINATION : 673065\n"
     ]
    }
   ],
   "source": [
    "print(\"DAYS_TERMINATION :\" ,previous_application['DAYS_TERMINATION'].isnull().sum())"
   ]
  },
  {
   "cell_type": "code",
   "execution_count": 143,
   "id": "47c05383",
   "metadata": {
    "execution": {
     "iopub.execute_input": "2020-12-17T00:34:34.560733Z",
     "iopub.status.busy": "2020-12-17T00:34:34.560049Z",
     "iopub.status.idle": "2020-12-17T00:34:34.642230Z",
     "shell.execute_reply": "2020-12-17T00:34:34.641604Z"
    },
    "papermill": {
     "duration": 0.271868,
     "end_time": "2020-12-17T00:34:34.642346",
     "exception": false,
     "start_time": "2020-12-17T00:34:34.370478",
     "status": "completed"
    },
    "tags": []
   },
   "outputs": [
    {
     "data": {
      "text/plain": [
       "count    997149.000000\n",
       "mean      81992.343838\n",
       "std      153303.516729\n",
       "min       -2874.000000\n",
       "25%       -1270.000000\n",
       "50%        -499.000000\n",
       "75%         -44.000000\n",
       "max      365243.000000\n",
       "Name: DAYS_TERMINATION, dtype: float64"
      ]
     },
     "execution_count": 143,
     "metadata": {},
     "output_type": "execute_result"
    }
   ],
   "source": [
    "previous_application['DAYS_TERMINATION'].describe()"
   ]
  },
  {
   "cell_type": "code",
   "execution_count": 144,
   "id": "40555751",
   "metadata": {
    "execution": {
     "iopub.execute_input": "2020-12-17T00:34:35.022333Z",
     "iopub.status.busy": "2020-12-17T00:34:35.021608Z",
     "iopub.status.idle": "2020-12-17T00:34:35.768234Z",
     "shell.execute_reply": "2020-12-17T00:34:35.768774Z"
    },
    "papermill": {
     "duration": 0.939116,
     "end_time": "2020-12-17T00:34:35.768920",
     "exception": false,
     "start_time": "2020-12-17T00:34:34.829804",
     "status": "completed"
    },
    "tags": []
   },
   "outputs": [
    {
     "name": "stderr",
     "output_type": "stream",
     "text": [
      "C:\\Users\\kpear\\anaconda3\\lib\\site-packages\\seaborn\\_decorators.py:36: FutureWarning: Pass the following variable as a keyword arg: x. From version 0.12, the only valid positional argument will be `data`, and passing other arguments without an explicit keyword will result in an error or misinterpretation.\n",
      "  warnings.warn(\n"
     ]
    },
    {
     "data": {
      "image/png": "[encoded data removed]",
      "text/plain": [
       "<Figure size 432x288 with 1 Axes>"
      ]
     },
     "metadata": {},
     "output_type": "display_data"
    }
   ],
   "source": [
    "sns.set_style('whitegrid') \n",
    "sns.boxplot(previous_application['DAYS_TERMINATION']) \n",
    "plt.show()"
   ]
  },
  {
   "cell_type": "markdown",
   "id": "6a1a7c49",
   "metadata": {
    "papermill": {
     "duration": 0.185994,
     "end_time": "2020-12-17T00:34:36.142802",
     "exception": false,
     "start_time": "2020-12-17T00:34:35.956808",
     "status": "completed"
    },
    "tags": []
   },
   "source": [
    "### Suggestion\n",
    "We can Fill NA with -499 i.e. Median for this field "
   ]
  },
  {
   "cell_type": "code",
   "execution_count": 145,
   "id": "04435f05",
   "metadata": {},
   "outputs": [],
   "source": [
    "previous_application[\"DAYS_TERMINATION\"].fillna(\"-499\", inplace = True)"
   ]
  },
  {
   "cell_type": "code",
   "execution_count": 146,
   "id": "04597c44",
   "metadata": {
    "scrolled": true
   },
   "outputs": [
    {
     "name": "stdout",
     "output_type": "stream",
     "text": [
      "DAYS_TERMINATION : 0\n"
     ]
    }
   ],
   "source": [
    "print(\"DAYS_TERMINATION :\" ,previous_application['DAYS_TERMINATION'].isnull().sum())"
   ]
  },
  {
   "cell_type": "markdown",
   "id": "93528597",
   "metadata": {},
   "source": [
    "------------------------------------------------"
   ]
  },
  {
   "cell_type": "code",
   "execution_count": 147,
   "id": "736851c5",
   "metadata": {
    "execution": {
     "iopub.execute_input": "2020-12-17T00:34:36.521564Z",
     "iopub.status.busy": "2020-12-17T00:34:36.520986Z",
     "iopub.status.idle": "2020-12-17T00:34:36.532064Z",
     "shell.execute_reply": "2020-12-17T00:34:36.531411Z"
    },
    "papermill": {
     "duration": 0.200472,
     "end_time": "2020-12-17T00:34:36.532184",
     "exception": false,
     "start_time": "2020-12-17T00:34:36.331712",
     "status": "completed"
    },
    "tags": []
   },
   "outputs": [
    {
     "name": "stdout",
     "output_type": "stream",
     "text": [
      "NFLAG_INSURED_ON_APPROVAL: 673065\n"
     ]
    }
   ],
   "source": [
    "print(\"NFLAG_INSURED_ON_APPROVAL:\" ,previous_application['NFLAG_INSURED_ON_APPROVAL'].isnull().sum())"
   ]
  },
  {
   "cell_type": "code",
   "execution_count": 148,
   "id": "89b91ab1",
   "metadata": {
    "execution": {
     "iopub.execute_input": "2020-12-17T00:34:36.914630Z",
     "iopub.status.busy": "2020-12-17T00:34:36.913975Z",
     "iopub.status.idle": "2020-12-17T00:34:36.945289Z",
     "shell.execute_reply": "2020-12-17T00:34:36.944632Z"
    },
    "papermill": {
     "duration": 0.225905,
     "end_time": "2020-12-17T00:34:36.945408",
     "exception": false,
     "start_time": "2020-12-17T00:34:36.719503",
     "status": "completed"
    },
    "tags": []
   },
   "outputs": [
    {
     "data": {
      "text/plain": [
       "0.0    665527\n",
       "1.0    331622\n",
       "Name: NFLAG_INSURED_ON_APPROVAL, dtype: int64"
      ]
     },
     "execution_count": 148,
     "metadata": {},
     "output_type": "execute_result"
    }
   ],
   "source": [
    "previous_application['NFLAG_INSURED_ON_APPROVAL'].value_counts()"
   ]
  },
  {
   "cell_type": "markdown",
   "id": "d53c3eea",
   "metadata": {
    "papermill": {
     "duration": 0.186626,
     "end_time": "2020-12-17T00:34:37.318534",
     "exception": false,
     "start_time": "2020-12-17T00:34:37.131908",
     "status": "completed"
    },
    "tags": []
   },
   "source": [
    "### Suggestion\n",
    "We can Fill NA with 0 i.e. Mode for this field "
   ]
  },
  {
   "cell_type": "code",
   "execution_count": 149,
   "id": "48b8988c",
   "metadata": {},
   "outputs": [],
   "source": [
    "previous_application[\"NFLAG_INSURED_ON_APPROVAL\"].fillna(\"0\", inplace = True)"
   ]
  },
  {
   "cell_type": "code",
   "execution_count": 150,
   "id": "c547fc2e",
   "metadata": {
    "scrolled": true
   },
   "outputs": [
    {
     "name": "stdout",
     "output_type": "stream",
     "text": [
      "NFLAG_INSURED_ON_APPROVAL: 0\n"
     ]
    }
   ],
   "source": [
    "print(\"NFLAG_INSURED_ON_APPROVAL:\" ,previous_application['NFLAG_INSURED_ON_APPROVAL'].isnull().sum())"
   ]
  },
  {
   "cell_type": "markdown",
   "id": "faeae49d",
   "metadata": {},
   "source": [
    "------------------------------------------------"
   ]
  },
  {
   "cell_type": "code",
   "execution_count": 151,
   "id": "4a1dbd5a",
   "metadata": {
    "execution": {
     "iopub.execute_input": "2020-12-17T00:34:37.698563Z",
     "iopub.status.busy": "2020-12-17T00:34:37.697860Z",
     "iopub.status.idle": "2020-12-17T00:34:40.443557Z",
     "shell.execute_reply": "2020-12-17T00:34:40.442593Z"
    },
    "papermill": {
     "duration": 2.937692,
     "end_time": "2020-12-17T00:34:40.443698",
     "exception": false,
     "start_time": "2020-12-17T00:34:37.506006",
     "status": "completed"
    },
    "scrolled": false,
    "tags": []
   },
   "outputs": [
    {
     "data": {
      "text/plain": [
       "SK_ID_PREV                       0\n",
       "SK_ID_CURR                       0\n",
       "NAME_CONTRACT_TYPE               0\n",
       "AMT_ANNUITY                      0\n",
       "AMT_APPLICATION                  0\n",
       "AMT_CREDIT                       1\n",
       "AMT_GOODS_PRICE                  0\n",
       "WEEKDAY_APPR_PROCESS_START       0\n",
       "HOUR_APPR_PROCESS_START          0\n",
       "FLAG_LAST_APPL_PER_CONTRACT      0\n",
       "NFLAG_LAST_APPL_IN_DAY           0\n",
       "NAME_CASH_LOAN_PURPOSE           0\n",
       "NAME_CONTRACT_STATUS             0\n",
       "DAYS_DECISION                    0\n",
       "NAME_PAYMENT_TYPE                0\n",
       "CODE_REJECT_REASON               0\n",
       "NAME_TYPE_SUITE                  0\n",
       "NAME_CLIENT_TYPE                 0\n",
       "NAME_GOODS_CATEGORY              0\n",
       "NAME_PORTFOLIO                   0\n",
       "NAME_PRODUCT_TYPE                0\n",
       "CHANNEL_TYPE                     0\n",
       "SELLERPLACE_AREA                 0\n",
       "NAME_SELLER_INDUSTRY             0\n",
       "CNT_PAYMENT                      0\n",
       "NAME_YIELD_GROUP                 0\n",
       "PRODUCT_COMBINATION            346\n",
       "DAYS_FIRST_DRAWING               0\n",
       "DAYS_FIRST_DUE                   0\n",
       "DAYS_LAST_DUE_1ST_VERSION        0\n",
       "DAYS_LAST_DUE                    0\n",
       "DAYS_TERMINATION                 0\n",
       "NFLAG_INSURED_ON_APPROVAL        0\n",
       "dtype: int64"
      ]
     },
     "execution_count": 151,
     "metadata": {},
     "output_type": "execute_result"
    }
   ],
   "source": [
    "previous_application.isnull().sum()"
   ]
  },
  {
   "cell_type": "markdown",
   "id": "30bf59a2",
   "metadata": {},
   "source": [
    "------------------------------------------------"
   ]
  },
  {
   "cell_type": "code",
   "execution_count": 152,
   "id": "bdcee605",
   "metadata": {
    "execution": {
     "iopub.execute_input": "2020-12-17T00:34:40.826366Z",
     "iopub.status.busy": "2020-12-17T00:34:40.825287Z",
     "iopub.status.idle": "2020-12-17T00:34:40.834743Z",
     "shell.execute_reply": "2020-12-17T00:34:40.834174Z"
    },
    "papermill": {
     "duration": 0.203932,
     "end_time": "2020-12-17T00:34:40.834859",
     "exception": false,
     "start_time": "2020-12-17T00:34:40.630927",
     "status": "completed"
    },
    "tags": []
   },
   "outputs": [
    {
     "name": "stdout",
     "output_type": "stream",
     "text": [
      "AMT_CREDIT : 1\n"
     ]
    }
   ],
   "source": [
    "print(\"AMT_CREDIT :\" ,previous_application['AMT_CREDIT'].isnull().sum())"
   ]
  },
  {
   "cell_type": "code",
   "execution_count": 153,
   "id": "43a966d4",
   "metadata": {
    "execution": {
     "iopub.execute_input": "2020-12-17T00:34:41.216162Z",
     "iopub.status.busy": "2020-12-17T00:34:41.215415Z",
     "iopub.status.idle": "2020-12-17T00:34:41.290381Z",
     "shell.execute_reply": "2020-12-17T00:34:41.290949Z"
    },
    "papermill": {
     "duration": 0.268417,
     "end_time": "2020-12-17T00:34:41.291093",
     "exception": false,
     "start_time": "2020-12-17T00:34:41.022676",
     "status": "completed"
    },
    "tags": []
   },
   "outputs": [
    {
     "data": {
      "text/plain": [
       "count    1.670213e+06\n",
       "mean     1.961140e+05\n",
       "std      3.185746e+05\n",
       "min      0.000000e+00\n",
       "25%      2.416050e+04\n",
       "50%      8.054100e+04\n",
       "75%      2.164185e+05\n",
       "max      6.905160e+06\n",
       "Name: AMT_CREDIT, dtype: float64"
      ]
     },
     "execution_count": 153,
     "metadata": {},
     "output_type": "execute_result"
    }
   ],
   "source": [
    "previous_application['AMT_CREDIT'].describe()"
   ]
  },
  {
   "cell_type": "code",
   "execution_count": 154,
   "id": "b8c4edd4",
   "metadata": {
    "execution": {
     "iopub.execute_input": "2020-12-17T00:34:41.676382Z",
     "iopub.status.busy": "2020-12-17T00:34:41.671520Z",
     "iopub.status.idle": "2020-12-17T00:34:42.342301Z",
     "shell.execute_reply": "2020-12-17T00:34:42.341598Z"
    },
    "papermill": {
     "duration": 0.863923,
     "end_time": "2020-12-17T00:34:42.342421",
     "exception": false,
     "start_time": "2020-12-17T00:34:41.478498",
     "status": "completed"
    },
    "tags": []
   },
   "outputs": [
    {
     "name": "stderr",
     "output_type": "stream",
     "text": [
      "C:\\Users\\kpear\\anaconda3\\lib\\site-packages\\seaborn\\_decorators.py:36: FutureWarning: Pass the following variable as a keyword arg: x. From version 0.12, the only valid positional argument will be `data`, and passing other arguments without an explicit keyword will result in an error or misinterpretation.\n",
      "  warnings.warn(\n"
     ]
    },
    {
     "data": {
      "image/png": "[encoded data removed]",
      "text/plain": [
       "<Figure size 432x288 with 1 Axes>"
      ]
     },
     "metadata": {},
     "output_type": "display_data"
    }
   ],
   "source": [
    "sns.set_style('whitegrid') \n",
    "sns.boxplot(previous_application['AMT_CREDIT']) \n",
    "plt.show()\n"
   ]
  },
  {
   "cell_type": "markdown",
   "id": "af3edfd1",
   "metadata": {
    "papermill": {
     "duration": 0.190472,
     "end_time": "2020-12-17T00:34:42.721898",
     "exception": false,
     "start_time": "2020-12-17T00:34:42.531426",
     "status": "completed"
    },
    "tags": []
   },
   "source": [
    "### Suggestion\n",
    "We can Fill NA with 80541 i.e. Median for this field "
   ]
  },
  {
   "cell_type": "code",
   "execution_count": 155,
   "id": "d408be44",
   "metadata": {},
   "outputs": [],
   "source": [
    "previous_application[\"AMT_CREDIT\"].fillna(\"80541\", inplace = True)"
   ]
  },
  {
   "cell_type": "code",
   "execution_count": 156,
   "id": "6f4b85e5",
   "metadata": {
    "scrolled": true
   },
   "outputs": [
    {
     "name": "stdout",
     "output_type": "stream",
     "text": [
      "AMT_CREDIT : 0\n"
     ]
    }
   ],
   "source": [
    "print(\"AMT_CREDIT :\" ,previous_application['AMT_CREDIT'].isnull().sum())"
   ]
  },
  {
   "cell_type": "markdown",
   "id": "f7631d4a",
   "metadata": {},
   "source": [
    "------------------------------------------------"
   ]
  },
  {
   "cell_type": "code",
   "execution_count": 157,
   "id": "7a168a95",
   "metadata": {
    "execution": {
     "iopub.execute_input": "2020-12-17T00:34:43.278045Z",
     "iopub.status.busy": "2020-12-17T00:34:43.277309Z",
     "iopub.status.idle": "2020-12-17T00:34:43.285179Z",
     "shell.execute_reply": "2020-12-17T00:34:43.284569Z"
    },
    "papermill": {
     "duration": 0.370226,
     "end_time": "2020-12-17T00:34:43.285300",
     "exception": false,
     "start_time": "2020-12-17T00:34:42.915074",
     "status": "completed"
    },
    "tags": []
   },
   "outputs": [
    {
     "name": "stdout",
     "output_type": "stream",
     "text": [
      "PRODUCT_COMBINATION : 346\n"
     ]
    }
   ],
   "source": [
    "print(\"PRODUCT_COMBINATION :\" ,previous_application['PRODUCT_COMBINATION'].isnull().sum())"
   ]
  },
  {
   "cell_type": "code",
   "execution_count": 158,
   "id": "9d6ca6ab",
   "metadata": {
    "execution": {
     "iopub.execute_input": "2020-12-17T00:34:44.088397Z",
     "iopub.status.busy": "2020-12-17T00:34:43.920585Z",
     "iopub.status.idle": "2020-12-17T00:34:44.096658Z",
     "shell.execute_reply": "2020-12-17T00:34:44.096103Z"
    },
    "papermill": {
     "duration": 0.621942,
     "end_time": "2020-12-17T00:34:44.096801",
     "exception": false,
     "start_time": "2020-12-17T00:34:43.474859",
     "status": "completed"
    },
    "tags": []
   },
   "outputs": [
    {
     "data": {
      "text/plain": [
       "Cash                              285990\n",
       "POS household with interest       263622\n",
       "POS mobile with interest          220670\n",
       "Cash X-Sell: middle               143883\n",
       "Cash X-Sell: low                  130248\n",
       "Card Street                       112582\n",
       "POS industry with interest         98833\n",
       "POS household without interest     82908\n",
       "Card X-Sell                        80582\n",
       "Cash Street: high                  59639\n",
       "Cash X-Sell: high                  59301\n",
       "Cash Street: middle                34658\n",
       "Cash Street: low                   33834\n",
       "POS mobile without interest        24082\n",
       "POS other with interest            23879\n",
       "POS industry without interest      12602\n",
       "POS others without interest         2555\n",
       "Name: PRODUCT_COMBINATION, dtype: int64"
      ]
     },
     "execution_count": 158,
     "metadata": {},
     "output_type": "execute_result"
    }
   ],
   "source": [
    "previous_application['PRODUCT_COMBINATION'].value_counts()"
   ]
  },
  {
   "cell_type": "markdown",
   "id": "91c4bdd2",
   "metadata": {
    "papermill": {
     "duration": 0.190567,
     "end_time": "2020-12-17T00:34:44.478312",
     "exception": false,
     "start_time": "2020-12-17T00:34:44.287745",
     "status": "completed"
    },
    "tags": []
   },
   "source": [
    "### Suggestion\n",
    "We can Fill NA with Cash i.e. Mode for this field "
   ]
  },
  {
   "cell_type": "code",
   "execution_count": 159,
   "id": "863d5e6f",
   "metadata": {},
   "outputs": [],
   "source": [
    "previous_application[\"PRODUCT_COMBINATION\"].fillna(\"Cash\", inplace = True)"
   ]
  },
  {
   "cell_type": "code",
   "execution_count": 160,
   "id": "1dff4f16",
   "metadata": {
    "scrolled": true
   },
   "outputs": [
    {
     "name": "stdout",
     "output_type": "stream",
     "text": [
      "PRODUCT_COMBINATION : 0\n"
     ]
    }
   ],
   "source": [
    "print(\"PRODUCT_COMBINATION :\" ,previous_application['PRODUCT_COMBINATION'].isnull().sum())"
   ]
  },
  {
   "cell_type": "markdown",
   "id": "42a3bf8d",
   "metadata": {},
   "source": [
    "------------------------------------------------"
   ]
  },
  {
   "cell_type": "code",
   "execution_count": 161,
   "id": "c0908758",
   "metadata": {
    "execution": {
     "iopub.execute_input": "2020-12-17T00:34:44.869807Z",
     "iopub.status.busy": "2020-12-17T00:34:44.869113Z",
     "iopub.status.idle": "2020-12-17T00:34:44.872865Z",
     "shell.execute_reply": "2020-12-17T00:34:44.871710Z"
    },
    "papermill": {
     "duration": 0.200912,
     "end_time": "2020-12-17T00:34:44.872998",
     "exception": false,
     "start_time": "2020-12-17T00:34:44.672086",
     "status": "completed"
    },
    "tags": []
   },
   "outputs": [],
   "source": [
    "class color:\n",
    "   PURPLE = '\\033[95m'\n",
    "   CYAN = '\\033[96m'\n",
    "   DARKCYAN = '\\033[36m'\n",
    "   BLUE = '\\033[94m'\n",
    "   GREEN = '\\033[92m'\n",
    "   YELLOW = '\\033[93m'\n",
    "   RED = '\\033[91m'\n",
    "   BOLD = '\\033[1m'\n",
    "   UNDERLINE = '\\033[4m'\n",
    "   END = '\\033[0m'"
   ]
  },
  {
   "cell_type": "markdown",
   "id": "d531afcc",
   "metadata": {
    "papermill": {
     "duration": 0.190825,
     "end_time": "2020-12-17T00:34:45.257296",
     "exception": false,
     "start_time": "2020-12-17T00:34:45.066471",
     "status": "completed"
    },
    "tags": []
   },
   "source": [
    "### Separating numerical and categorical columns from previous_application"
   ]
  },
  {
   "cell_type": "code",
   "execution_count": 162,
   "id": "3873f2ca",
   "metadata": {
    "execution": {
     "iopub.execute_input": "2020-12-17T00:34:45.978541Z",
     "iopub.status.busy": "2020-12-17T00:34:45.930532Z",
     "iopub.status.idle": "2020-12-17T00:34:45.983190Z",
     "shell.execute_reply": "2020-12-17T00:34:45.982571Z"
    },
    "papermill": {
     "duration": 0.531303,
     "end_time": "2020-12-17T00:34:45.983326",
     "exception": false,
     "start_time": "2020-12-17T00:34:45.452023",
     "status": "completed"
    },
    "tags": []
   },
   "outputs": [
    {
     "name": "stderr",
     "output_type": "stream",
     "text": [
      "C:\\Users\\kpear\\AppData\\Local\\Temp/ipykernel_15164/2991887911.py:1: DeprecationWarning: `np.object` is a deprecated alias for the builtin `object`. To silence this warning, use `object` by itself. Doing this will not modify any behavior and is safe. \n",
      "Deprecated in NumPy 1.20; for more details and guidance: https://numpy.org/devdocs/release/1.20.0-notes.html#deprecations\n",
      "  obj_dtypes = [i for i in previous_application.select_dtypes(include=np.object).columns if i not in [\"type\"] ]\n"
     ]
    }
   ],
   "source": [
    "obj_dtypes = [i for i in previous_application.select_dtypes(include=np.object).columns if i not in [\"type\"] ]\n",
    "num_dtypes = [i for i in previous_application.select_dtypes(include = np.number).columns if i not in ['SK_ID_CURR'] + [ 'TARGET']]"
   ]
  },
  {
   "cell_type": "code",
   "execution_count": 163,
   "id": "7ad788eb",
   "metadata": {
    "execution": {
     "iopub.execute_input": "2020-12-17T00:34:46.382119Z",
     "iopub.status.busy": "2020-12-17T00:34:46.381445Z",
     "iopub.status.idle": "2020-12-17T00:34:46.387828Z",
     "shell.execute_reply": "2020-12-17T00:34:46.385085Z"
    },
    "papermill": {
     "duration": 0.212263,
     "end_time": "2020-12-17T00:34:46.388018",
     "exception": false,
     "start_time": "2020-12-17T00:34:46.175755",
     "status": "completed"
    },
    "tags": []
   },
   "outputs": [
    {
     "name": "stdout",
     "output_type": "stream",
     "text": [
      "\u001b[1m\u001b[95mCategorical Columns\u001b[0m \n",
      "\n",
      "NAME_CONTRACT_TYPE\n",
      "AMT_ANNUITY\n",
      "AMT_CREDIT\n",
      "AMT_GOODS_PRICE\n",
      "WEEKDAY_APPR_PROCESS_START\n",
      "FLAG_LAST_APPL_PER_CONTRACT\n",
      "NAME_CASH_LOAN_PURPOSE\n",
      "NAME_CONTRACT_STATUS\n",
      "NAME_PAYMENT_TYPE\n",
      "CODE_REJECT_REASON\n",
      "NAME_TYPE_SUITE\n",
      "NAME_CLIENT_TYPE\n",
      "NAME_GOODS_CATEGORY\n",
      "NAME_PORTFOLIO\n",
      "NAME_PRODUCT_TYPE\n",
      "CHANNEL_TYPE\n",
      "NAME_SELLER_INDUSTRY\n",
      "CNT_PAYMENT\n",
      "NAME_YIELD_GROUP\n",
      "PRODUCT_COMBINATION\n",
      "DAYS_FIRST_DRAWING\n",
      "DAYS_FIRST_DUE\n",
      "DAYS_LAST_DUE_1ST_VERSION\n",
      "DAYS_LAST_DUE\n",
      "DAYS_TERMINATION\n",
      "NFLAG_INSURED_ON_APPROVAL\n"
     ]
    }
   ],
   "source": [
    "print(color.BOLD + color.PURPLE + 'Categorical Columns' + color.END, \"\\n\")\n",
    "for x in range(len(obj_dtypes)): \n",
    "    print(obj_dtypes[x])\n"
   ]
  },
  {
   "cell_type": "code",
   "execution_count": 164,
   "id": "aefc8c61",
   "metadata": {
    "execution": {
     "iopub.execute_input": "2020-12-17T00:34:46.809426Z",
     "iopub.status.busy": "2020-12-17T00:34:46.808324Z",
     "iopub.status.idle": "2020-12-17T00:34:46.811644Z",
     "shell.execute_reply": "2020-12-17T00:34:46.812349Z"
    },
    "papermill": {
     "duration": 0.202803,
     "end_time": "2020-12-17T00:34:46.812553",
     "exception": false,
     "start_time": "2020-12-17T00:34:46.609750",
     "status": "completed"
    },
    "scrolled": false,
    "tags": []
   },
   "outputs": [
    {
     "name": "stdout",
     "output_type": "stream",
     "text": [
      "\u001b[1m\u001b[95mNumerical\u001b[0m \n",
      "\n",
      "NAME_CONTRACT_TYPE\n",
      "AMT_ANNUITY\n",
      "AMT_CREDIT\n",
      "AMT_GOODS_PRICE\n",
      "WEEKDAY_APPR_PROCESS_START\n",
      "FLAG_LAST_APPL_PER_CONTRACT\n",
      "NAME_CASH_LOAN_PURPOSE\n",
      "NAME_CONTRACT_STATUS\n",
      "NAME_PAYMENT_TYPE\n",
      "CODE_REJECT_REASON\n",
      "NAME_TYPE_SUITE\n",
      "NAME_CLIENT_TYPE\n",
      "NAME_GOODS_CATEGORY\n",
      "NAME_PORTFOLIO\n",
      "NAME_PRODUCT_TYPE\n",
      "CHANNEL_TYPE\n",
      "NAME_SELLER_INDUSTRY\n",
      "CNT_PAYMENT\n",
      "NAME_YIELD_GROUP\n",
      "PRODUCT_COMBINATION\n",
      "DAYS_FIRST_DRAWING\n",
      "DAYS_FIRST_DUE\n",
      "DAYS_LAST_DUE_1ST_VERSION\n",
      "DAYS_LAST_DUE\n",
      "DAYS_TERMINATION\n",
      "NFLAG_INSURED_ON_APPROVAL\n"
     ]
    }
   ],
   "source": [
    "print(color.BOLD + color.PURPLE + 'Numerical' + color.END, \"\\n\")\n",
    "for x in range(len(obj_dtypes)): \n",
    "    print(obj_dtypes[x])"
   ]
  },
  {
   "cell_type": "markdown",
   "id": "01e69c8d",
   "metadata": {},
   "source": [
    "# Previous Aplication Dataset Completed"
   ]
  },
  {
   "cell_type": "code",
   "execution_count": 165,
   "id": "95b552ff",
   "metadata": {},
   "outputs": [
    {
     "data": {
      "text/plain": [
       "SK_ID_PREV                     0\n",
       "SK_ID_CURR                     0\n",
       "NAME_CONTRACT_TYPE             0\n",
       "AMT_ANNUITY                    0\n",
       "AMT_APPLICATION                0\n",
       "AMT_CREDIT                     0\n",
       "AMT_GOODS_PRICE                0\n",
       "WEEKDAY_APPR_PROCESS_START     0\n",
       "HOUR_APPR_PROCESS_START        0\n",
       "FLAG_LAST_APPL_PER_CONTRACT    0\n",
       "NFLAG_LAST_APPL_IN_DAY         0\n",
       "NAME_CASH_LOAN_PURPOSE         0\n",
       "NAME_CONTRACT_STATUS           0\n",
       "DAYS_DECISION                  0\n",
       "NAME_PAYMENT_TYPE              0\n",
       "CODE_REJECT_REASON             0\n",
       "NAME_TYPE_SUITE                0\n",
       "NAME_CLIENT_TYPE               0\n",
       "NAME_GOODS_CATEGORY            0\n",
       "NAME_PORTFOLIO                 0\n",
       "NAME_PRODUCT_TYPE              0\n",
       "CHANNEL_TYPE                   0\n",
       "SELLERPLACE_AREA               0\n",
       "NAME_SELLER_INDUSTRY           0\n",
       "CNT_PAYMENT                    0\n",
       "NAME_YIELD_GROUP               0\n",
       "PRODUCT_COMBINATION            0\n",
       "DAYS_FIRST_DRAWING             0\n",
       "DAYS_FIRST_DUE                 0\n",
       "DAYS_LAST_DUE_1ST_VERSION      0\n",
       "DAYS_LAST_DUE                  0\n",
       "DAYS_TERMINATION               0\n",
       "NFLAG_INSURED_ON_APPROVAL      0\n",
       "dtype: int64"
      ]
     },
     "execution_count": 165,
     "metadata": {},
     "output_type": "execute_result"
    }
   ],
   "source": [
    "previous_application.isnull().sum()"
   ]
  },
  {
   "cell_type": "code",
   "execution_count": 166,
   "id": "7b020802",
   "metadata": {
    "scrolled": true
   },
   "outputs": [
    {
     "data": {
      "text/html": [
       "<div>\n",
       "<style scoped>\n",
       "    .dataframe tbody tr th:only-of-type {\n",
       "        vertical-align: middle;\n",
       "    }\n",
       "\n",
       "    .dataframe tbody tr th {\n",
       "        vertical-align: top;\n",
       "    }\n",
       "\n",
       "    .dataframe thead th {\n",
       "        text-align: right;\n",
       "    }\n",
       "</style>\n",
       "<table border=\"1\" class=\"dataframe\">\n",
       "  <thead>\n",
       "    <tr style=\"text-align: right;\">\n",
       "      <th></th>\n",
       "      <th>SK_ID_PREV</th>\n",
       "      <th>SK_ID_CURR</th>\n",
       "      <th>NAME_CONTRACT_TYPE</th>\n",
       "      <th>AMT_ANNUITY</th>\n",
       "      <th>AMT_APPLICATION</th>\n",
       "      <th>AMT_CREDIT</th>\n",
       "      <th>AMT_GOODS_PRICE</th>\n",
       "      <th>WEEKDAY_APPR_PROCESS_START</th>\n",
       "      <th>HOUR_APPR_PROCESS_START</th>\n",
       "      <th>FLAG_LAST_APPL_PER_CONTRACT</th>\n",
       "      <th>...</th>\n",
       "      <th>NAME_SELLER_INDUSTRY</th>\n",
       "      <th>CNT_PAYMENT</th>\n",
       "      <th>NAME_YIELD_GROUP</th>\n",
       "      <th>PRODUCT_COMBINATION</th>\n",
       "      <th>DAYS_FIRST_DRAWING</th>\n",
       "      <th>DAYS_FIRST_DUE</th>\n",
       "      <th>DAYS_LAST_DUE_1ST_VERSION</th>\n",
       "      <th>DAYS_LAST_DUE</th>\n",
       "      <th>DAYS_TERMINATION</th>\n",
       "      <th>NFLAG_INSURED_ON_APPROVAL</th>\n",
       "    </tr>\n",
       "  </thead>\n",
       "  <tbody>\n",
       "    <tr>\n",
       "      <th>0</th>\n",
       "      <td>2030495</td>\n",
       "      <td>271877</td>\n",
       "      <td>Consumer loans</td>\n",
       "      <td>1730.43</td>\n",
       "      <td>17145.0</td>\n",
       "      <td>17145.0</td>\n",
       "      <td>17145.0</td>\n",
       "      <td>SATURDAY</td>\n",
       "      <td>15</td>\n",
       "      <td>Y</td>\n",
       "      <td>...</td>\n",
       "      <td>Connectivity</td>\n",
       "      <td>12.0</td>\n",
       "      <td>middle</td>\n",
       "      <td>POS mobile with interest</td>\n",
       "      <td>365243.0</td>\n",
       "      <td>-42.0</td>\n",
       "      <td>300.0</td>\n",
       "      <td>-42.0</td>\n",
       "      <td>-37.0</td>\n",
       "      <td>0.0</td>\n",
       "    </tr>\n",
       "    <tr>\n",
       "      <th>1</th>\n",
       "      <td>2802425</td>\n",
       "      <td>108129</td>\n",
       "      <td>Cash loans</td>\n",
       "      <td>25188.615</td>\n",
       "      <td>607500.0</td>\n",
       "      <td>679671.0</td>\n",
       "      <td>607500.0</td>\n",
       "      <td>THURSDAY</td>\n",
       "      <td>11</td>\n",
       "      <td>Y</td>\n",
       "      <td>...</td>\n",
       "      <td>XNA</td>\n",
       "      <td>36.0</td>\n",
       "      <td>low_action</td>\n",
       "      <td>Cash X-Sell: low</td>\n",
       "      <td>365243.0</td>\n",
       "      <td>-134.0</td>\n",
       "      <td>916.0</td>\n",
       "      <td>365243.0</td>\n",
       "      <td>365243.0</td>\n",
       "      <td>1.0</td>\n",
       "    </tr>\n",
       "    <tr>\n",
       "      <th>2</th>\n",
       "      <td>2523466</td>\n",
       "      <td>122040</td>\n",
       "      <td>Cash loans</td>\n",
       "      <td>15060.735</td>\n",
       "      <td>112500.0</td>\n",
       "      <td>136444.5</td>\n",
       "      <td>112500.0</td>\n",
       "      <td>TUESDAY</td>\n",
       "      <td>11</td>\n",
       "      <td>Y</td>\n",
       "      <td>...</td>\n",
       "      <td>XNA</td>\n",
       "      <td>12.0</td>\n",
       "      <td>high</td>\n",
       "      <td>Cash X-Sell: high</td>\n",
       "      <td>365243.0</td>\n",
       "      <td>-271.0</td>\n",
       "      <td>59.0</td>\n",
       "      <td>365243.0</td>\n",
       "      <td>365243.0</td>\n",
       "      <td>1.0</td>\n",
       "    </tr>\n",
       "    <tr>\n",
       "      <th>3</th>\n",
       "      <td>2819243</td>\n",
       "      <td>176158</td>\n",
       "      <td>Cash loans</td>\n",
       "      <td>47041.335</td>\n",
       "      <td>450000.0</td>\n",
       "      <td>470790.0</td>\n",
       "      <td>450000.0</td>\n",
       "      <td>MONDAY</td>\n",
       "      <td>7</td>\n",
       "      <td>Y</td>\n",
       "      <td>...</td>\n",
       "      <td>XNA</td>\n",
       "      <td>12.0</td>\n",
       "      <td>middle</td>\n",
       "      <td>Cash X-Sell: middle</td>\n",
       "      <td>365243.0</td>\n",
       "      <td>-482.0</td>\n",
       "      <td>-152.0</td>\n",
       "      <td>-182.0</td>\n",
       "      <td>-177.0</td>\n",
       "      <td>1.0</td>\n",
       "    </tr>\n",
       "    <tr>\n",
       "      <th>4</th>\n",
       "      <td>1784265</td>\n",
       "      <td>202054</td>\n",
       "      <td>Cash loans</td>\n",
       "      <td>31924.395</td>\n",
       "      <td>337500.0</td>\n",
       "      <td>404055.0</td>\n",
       "      <td>337500.0</td>\n",
       "      <td>THURSDAY</td>\n",
       "      <td>9</td>\n",
       "      <td>Y</td>\n",
       "      <td>...</td>\n",
       "      <td>XNA</td>\n",
       "      <td>24.0</td>\n",
       "      <td>high</td>\n",
       "      <td>Cash Street: high</td>\n",
       "      <td>365243</td>\n",
       "      <td>-831</td>\n",
       "      <td>-361</td>\n",
       "      <td>-537</td>\n",
       "      <td>-499</td>\n",
       "      <td>0</td>\n",
       "    </tr>\n",
       "  </tbody>\n",
       "</table>\n",
       "<p>5 rows × 33 columns</p>\n",
       "</div>"
      ],
      "text/plain": [
       "   SK_ID_PREV  SK_ID_CURR NAME_CONTRACT_TYPE AMT_ANNUITY  AMT_APPLICATION  \\\n",
       "0     2030495      271877     Consumer loans     1730.43          17145.0   \n",
       "1     2802425      108129         Cash loans   25188.615         607500.0   \n",
       "2     2523466      122040         Cash loans   15060.735         112500.0   \n",
       "3     2819243      176158         Cash loans   47041.335         450000.0   \n",
       "4     1784265      202054         Cash loans   31924.395         337500.0   \n",
       "\n",
       "  AMT_CREDIT AMT_GOODS_PRICE WEEKDAY_APPR_PROCESS_START  \\\n",
       "0    17145.0         17145.0                   SATURDAY   \n",
       "1   679671.0        607500.0                   THURSDAY   \n",
       "2   136444.5        112500.0                    TUESDAY   \n",
       "3   470790.0        450000.0                     MONDAY   \n",
       "4   404055.0        337500.0                   THURSDAY   \n",
       "\n",
       "   HOUR_APPR_PROCESS_START FLAG_LAST_APPL_PER_CONTRACT  ...  \\\n",
       "0                       15                           Y  ...   \n",
       "1                       11                           Y  ...   \n",
       "2                       11                           Y  ...   \n",
       "3                        7                           Y  ...   \n",
       "4                        9                           Y  ...   \n",
       "\n",
       "   NAME_SELLER_INDUSTRY CNT_PAYMENT NAME_YIELD_GROUP  \\\n",
       "0          Connectivity        12.0           middle   \n",
       "1                   XNA        36.0       low_action   \n",
       "2                   XNA        12.0             high   \n",
       "3                   XNA        12.0           middle   \n",
       "4                   XNA        24.0             high   \n",
       "\n",
       "        PRODUCT_COMBINATION DAYS_FIRST_DRAWING DAYS_FIRST_DUE  \\\n",
       "0  POS mobile with interest           365243.0          -42.0   \n",
       "1          Cash X-Sell: low           365243.0         -134.0   \n",
       "2         Cash X-Sell: high           365243.0         -271.0   \n",
       "3       Cash X-Sell: middle           365243.0         -482.0   \n",
       "4         Cash Street: high             365243           -831   \n",
       "\n",
       "  DAYS_LAST_DUE_1ST_VERSION DAYS_LAST_DUE DAYS_TERMINATION  \\\n",
       "0                     300.0         -42.0            -37.0   \n",
       "1                     916.0      365243.0         365243.0   \n",
       "2                      59.0      365243.0         365243.0   \n",
       "3                    -152.0        -182.0           -177.0   \n",
       "4                      -361          -537             -499   \n",
       "\n",
       "  NFLAG_INSURED_ON_APPROVAL  \n",
       "0                       0.0  \n",
       "1                       1.0  \n",
       "2                       1.0  \n",
       "3                       1.0  \n",
       "4                         0  \n",
       "\n",
       "[5 rows x 33 columns]"
      ]
     },
     "execution_count": 166,
     "metadata": {},
     "output_type": "execute_result"
    }
   ],
   "source": [
    "previous_application.head()"
   ]
  },
  {
   "cell_type": "code",
   "execution_count": 167,
   "id": "959d8398",
   "metadata": {},
   "outputs": [],
   "source": [
    "# Replace the values in the 'NAME_CONTRACT_STATUS' column with 1 for the applications that were high risk/denied\n",
    "previous_application['NAME_CONTRACT_STATUS'] = previous_application['NAME_CONTRACT_STATUS'].replace(['Refused'],'1')\n"
   ]
  },
  {
   "cell_type": "code",
   "execution_count": 168,
   "id": "e0384135",
   "metadata": {},
   "outputs": [],
   "source": [
    "# Replace the values in the 'NAME_CONTRACT_STATUS' column with 0 for the remaining options\n",
    "previous_application['NAME_CONTRACT_STATUS'] = previous_application['NAME_CONTRACT_STATUS'].replace(['Canceled','Approved','Unused offer'],'0')"
   ]
  },
  {
   "cell_type": "code",
   "execution_count": 169,
   "id": "df3cbfed",
   "metadata": {},
   "outputs": [
    {
     "data": {
      "text/html": [
       "<div>\n",
       "<style scoped>\n",
       "    .dataframe tbody tr th:only-of-type {\n",
       "        vertical-align: middle;\n",
       "    }\n",
       "\n",
       "    .dataframe tbody tr th {\n",
       "        vertical-align: top;\n",
       "    }\n",
       "\n",
       "    .dataframe thead th {\n",
       "        text-align: right;\n",
       "    }\n",
       "</style>\n",
       "<table border=\"1\" class=\"dataframe\">\n",
       "  <thead>\n",
       "    <tr style=\"text-align: right;\">\n",
       "      <th></th>\n",
       "      <th>SK_ID_CURR</th>\n",
       "      <th>NAME_CONTRACT_TYPE</th>\n",
       "      <th>AMT_ANNUITY</th>\n",
       "      <th>AMT_CREDIT</th>\n",
       "      <th>AMT_GOODS_PRICE</th>\n",
       "      <th>WEEKDAY_APPR_PROCESS_START</th>\n",
       "      <th>HOUR_APPR_PROCESS_START</th>\n",
       "      <th>NAME_TYPE_SUITE</th>\n",
       "      <th>NAME_CONTRACT_STATUS</th>\n",
       "    </tr>\n",
       "  </thead>\n",
       "  <tbody>\n",
       "    <tr>\n",
       "      <th>0</th>\n",
       "      <td>271877</td>\n",
       "      <td>Consumer loans</td>\n",
       "      <td>1730.43</td>\n",
       "      <td>17145.0</td>\n",
       "      <td>17145.0</td>\n",
       "      <td>SATURDAY</td>\n",
       "      <td>15</td>\n",
       "      <td>Unaccompanied</td>\n",
       "      <td>0</td>\n",
       "    </tr>\n",
       "    <tr>\n",
       "      <th>1</th>\n",
       "      <td>108129</td>\n",
       "      <td>Cash loans</td>\n",
       "      <td>25188.615</td>\n",
       "      <td>679671.0</td>\n",
       "      <td>607500.0</td>\n",
       "      <td>THURSDAY</td>\n",
       "      <td>11</td>\n",
       "      <td>Unaccompanied</td>\n",
       "      <td>0</td>\n",
       "    </tr>\n",
       "    <tr>\n",
       "      <th>2</th>\n",
       "      <td>122040</td>\n",
       "      <td>Cash loans</td>\n",
       "      <td>15060.735</td>\n",
       "      <td>136444.5</td>\n",
       "      <td>112500.0</td>\n",
       "      <td>TUESDAY</td>\n",
       "      <td>11</td>\n",
       "      <td>Spouse, partner</td>\n",
       "      <td>0</td>\n",
       "    </tr>\n",
       "    <tr>\n",
       "      <th>3</th>\n",
       "      <td>176158</td>\n",
       "      <td>Cash loans</td>\n",
       "      <td>47041.335</td>\n",
       "      <td>470790.0</td>\n",
       "      <td>450000.0</td>\n",
       "      <td>MONDAY</td>\n",
       "      <td>7</td>\n",
       "      <td>Unaccompanied</td>\n",
       "      <td>0</td>\n",
       "    </tr>\n",
       "    <tr>\n",
       "      <th>4</th>\n",
       "      <td>202054</td>\n",
       "      <td>Cash loans</td>\n",
       "      <td>31924.395</td>\n",
       "      <td>404055.0</td>\n",
       "      <td>337500.0</td>\n",
       "      <td>THURSDAY</td>\n",
       "      <td>9</td>\n",
       "      <td>Unaccompanied</td>\n",
       "      <td>1</td>\n",
       "    </tr>\n",
       "    <tr>\n",
       "      <th>...</th>\n",
       "      <td>...</td>\n",
       "      <td>...</td>\n",
       "      <td>...</td>\n",
       "      <td>...</td>\n",
       "      <td>...</td>\n",
       "      <td>...</td>\n",
       "      <td>...</td>\n",
       "      <td>...</td>\n",
       "      <td>...</td>\n",
       "    </tr>\n",
       "    <tr>\n",
       "      <th>1670209</th>\n",
       "      <td>352015</td>\n",
       "      <td>Consumer loans</td>\n",
       "      <td>14704.29</td>\n",
       "      <td>311400.0</td>\n",
       "      <td>267295.5</td>\n",
       "      <td>WEDNESDAY</td>\n",
       "      <td>12</td>\n",
       "      <td>Unaccompanied</td>\n",
       "      <td>0</td>\n",
       "    </tr>\n",
       "    <tr>\n",
       "      <th>1670210</th>\n",
       "      <td>334635</td>\n",
       "      <td>Consumer loans</td>\n",
       "      <td>6622.02</td>\n",
       "      <td>64291.5</td>\n",
       "      <td>87750.0</td>\n",
       "      <td>TUESDAY</td>\n",
       "      <td>15</td>\n",
       "      <td>Unaccompanied</td>\n",
       "      <td>0</td>\n",
       "    </tr>\n",
       "    <tr>\n",
       "      <th>1670211</th>\n",
       "      <td>249544</td>\n",
       "      <td>Consumer loans</td>\n",
       "      <td>11520.855</td>\n",
       "      <td>102523.5</td>\n",
       "      <td>105237.0</td>\n",
       "      <td>MONDAY</td>\n",
       "      <td>12</td>\n",
       "      <td>Spouse, partner</td>\n",
       "      <td>0</td>\n",
       "    </tr>\n",
       "    <tr>\n",
       "      <th>1670212</th>\n",
       "      <td>400317</td>\n",
       "      <td>Cash loans</td>\n",
       "      <td>18821.52</td>\n",
       "      <td>191880.0</td>\n",
       "      <td>180000.0</td>\n",
       "      <td>WEDNESDAY</td>\n",
       "      <td>9</td>\n",
       "      <td>Family</td>\n",
       "      <td>0</td>\n",
       "    </tr>\n",
       "    <tr>\n",
       "      <th>1670213</th>\n",
       "      <td>261212</td>\n",
       "      <td>Cash loans</td>\n",
       "      <td>16431.3</td>\n",
       "      <td>360000.0</td>\n",
       "      <td>360000.0</td>\n",
       "      <td>SUNDAY</td>\n",
       "      <td>10</td>\n",
       "      <td>Family</td>\n",
       "      <td>0</td>\n",
       "    </tr>\n",
       "  </tbody>\n",
       "</table>\n",
       "<p>1670214 rows × 9 columns</p>\n",
       "</div>"
      ],
      "text/plain": [
       "         SK_ID_CURR NAME_CONTRACT_TYPE AMT_ANNUITY AMT_CREDIT AMT_GOODS_PRICE  \\\n",
       "0            271877     Consumer loans     1730.43    17145.0         17145.0   \n",
       "1            108129         Cash loans   25188.615   679671.0        607500.0   \n",
       "2            122040         Cash loans   15060.735   136444.5        112500.0   \n",
       "3            176158         Cash loans   47041.335   470790.0        450000.0   \n",
       "4            202054         Cash loans   31924.395   404055.0        337500.0   \n",
       "...             ...                ...         ...        ...             ...   \n",
       "1670209      352015     Consumer loans    14704.29   311400.0        267295.5   \n",
       "1670210      334635     Consumer loans     6622.02    64291.5         87750.0   \n",
       "1670211      249544     Consumer loans   11520.855   102523.5        105237.0   \n",
       "1670212      400317         Cash loans    18821.52   191880.0        180000.0   \n",
       "1670213      261212         Cash loans     16431.3   360000.0        360000.0   \n",
       "\n",
       "        WEEKDAY_APPR_PROCESS_START  HOUR_APPR_PROCESS_START  NAME_TYPE_SUITE  \\\n",
       "0                         SATURDAY                       15    Unaccompanied   \n",
       "1                         THURSDAY                       11    Unaccompanied   \n",
       "2                          TUESDAY                       11  Spouse, partner   \n",
       "3                           MONDAY                        7    Unaccompanied   \n",
       "4                         THURSDAY                        9    Unaccompanied   \n",
       "...                            ...                      ...              ...   \n",
       "1670209                  WEDNESDAY                       12    Unaccompanied   \n",
       "1670210                    TUESDAY                       15    Unaccompanied   \n",
       "1670211                     MONDAY                       12  Spouse, partner   \n",
       "1670212                  WEDNESDAY                        9           Family   \n",
       "1670213                     SUNDAY                       10           Family   \n",
       "\n",
       "        NAME_CONTRACT_STATUS  \n",
       "0                          0  \n",
       "1                          0  \n",
       "2                          0  \n",
       "3                          0  \n",
       "4                          1  \n",
       "...                      ...  \n",
       "1670209                    0  \n",
       "1670210                    0  \n",
       "1670211                    0  \n",
       "1670212                    0  \n",
       "1670213                    0  \n",
       "\n",
       "[1670214 rows x 9 columns]"
      ]
     },
     "execution_count": 169,
     "metadata": {},
     "output_type": "execute_result"
    }
   ],
   "source": [
    "# Create a new dataframe for our training data\n",
    "train_df = previous_application[['SK_ID_CURR','NAME_CONTRACT_TYPE','AMT_ANNUITY','AMT_CREDIT','AMT_GOODS_PRICE','WEEKDAY_APPR_PROCESS_START'\n",
    ",'HOUR_APPR_PROCESS_START','NAME_TYPE_SUITE','NAME_CONTRACT_STATUS']].copy()\n",
    "train_df"
   ]
  },
  {
   "cell_type": "code",
   "execution_count": 170,
   "id": "44f05b21",
   "metadata": {
    "scrolled": true
   },
   "outputs": [
    {
     "data": {
      "text/html": [
       "<div>\n",
       "<style scoped>\n",
       "    .dataframe tbody tr th:only-of-type {\n",
       "        vertical-align: middle;\n",
       "    }\n",
       "\n",
       "    .dataframe tbody tr th {\n",
       "        vertical-align: top;\n",
       "    }\n",
       "\n",
       "    .dataframe thead th {\n",
       "        text-align: right;\n",
       "    }\n",
       "</style>\n",
       "<table border=\"1\" class=\"dataframe\">\n",
       "  <thead>\n",
       "    <tr style=\"text-align: right;\">\n",
       "      <th></th>\n",
       "      <th>SK_ID_CURR</th>\n",
       "      <th>NAME_CONTRACT_TYPE</th>\n",
       "      <th>AMT_ANNUITY</th>\n",
       "      <th>AMT_CREDIT</th>\n",
       "      <th>AMT_GOODS_PRICE</th>\n",
       "      <th>WEEKDAY_APPR_PROCESS_START</th>\n",
       "      <th>HOUR_APPR_PROCESS_START</th>\n",
       "      <th>NAME_TYPE_SUITE</th>\n",
       "      <th>TARGET</th>\n",
       "    </tr>\n",
       "  </thead>\n",
       "  <tbody>\n",
       "    <tr>\n",
       "      <th>0</th>\n",
       "      <td>100002</td>\n",
       "      <td>Cash loans</td>\n",
       "      <td>24700.5</td>\n",
       "      <td>406597.5</td>\n",
       "      <td>351000.0</td>\n",
       "      <td>WEDNESDAY</td>\n",
       "      <td>10</td>\n",
       "      <td>Unaccompanied</td>\n",
       "      <td>1</td>\n",
       "    </tr>\n",
       "    <tr>\n",
       "      <th>1</th>\n",
       "      <td>100003</td>\n",
       "      <td>Cash loans</td>\n",
       "      <td>35698.5</td>\n",
       "      <td>1293502.5</td>\n",
       "      <td>1129500.0</td>\n",
       "      <td>MONDAY</td>\n",
       "      <td>11</td>\n",
       "      <td>Family</td>\n",
       "      <td>0</td>\n",
       "    </tr>\n",
       "    <tr>\n",
       "      <th>2</th>\n",
       "      <td>100004</td>\n",
       "      <td>Revolving loans</td>\n",
       "      <td>6750.0</td>\n",
       "      <td>135000.0</td>\n",
       "      <td>135000.0</td>\n",
       "      <td>MONDAY</td>\n",
       "      <td>9</td>\n",
       "      <td>Unaccompanied</td>\n",
       "      <td>0</td>\n",
       "    </tr>\n",
       "    <tr>\n",
       "      <th>3</th>\n",
       "      <td>100006</td>\n",
       "      <td>Cash loans</td>\n",
       "      <td>29686.5</td>\n",
       "      <td>312682.5</td>\n",
       "      <td>297000.0</td>\n",
       "      <td>WEDNESDAY</td>\n",
       "      <td>17</td>\n",
       "      <td>Unaccompanied</td>\n",
       "      <td>0</td>\n",
       "    </tr>\n",
       "    <tr>\n",
       "      <th>4</th>\n",
       "      <td>100007</td>\n",
       "      <td>Cash loans</td>\n",
       "      <td>21865.5</td>\n",
       "      <td>513000.0</td>\n",
       "      <td>513000.0</td>\n",
       "      <td>THURSDAY</td>\n",
       "      <td>11</td>\n",
       "      <td>Unaccompanied</td>\n",
       "      <td>0</td>\n",
       "    </tr>\n",
       "    <tr>\n",
       "      <th>...</th>\n",
       "      <td>...</td>\n",
       "      <td>...</td>\n",
       "      <td>...</td>\n",
       "      <td>...</td>\n",
       "      <td>...</td>\n",
       "      <td>...</td>\n",
       "      <td>...</td>\n",
       "      <td>...</td>\n",
       "      <td>...</td>\n",
       "    </tr>\n",
       "    <tr>\n",
       "      <th>307506</th>\n",
       "      <td>456251</td>\n",
       "      <td>Cash loans</td>\n",
       "      <td>27558.0</td>\n",
       "      <td>254700.0</td>\n",
       "      <td>225000.0</td>\n",
       "      <td>THURSDAY</td>\n",
       "      <td>15</td>\n",
       "      <td>Unaccompanied</td>\n",
       "      <td>0</td>\n",
       "    </tr>\n",
       "    <tr>\n",
       "      <th>307507</th>\n",
       "      <td>456252</td>\n",
       "      <td>Cash loans</td>\n",
       "      <td>12001.5</td>\n",
       "      <td>269550.0</td>\n",
       "      <td>225000.0</td>\n",
       "      <td>MONDAY</td>\n",
       "      <td>8</td>\n",
       "      <td>Unaccompanied</td>\n",
       "      <td>0</td>\n",
       "    </tr>\n",
       "    <tr>\n",
       "      <th>307508</th>\n",
       "      <td>456253</td>\n",
       "      <td>Cash loans</td>\n",
       "      <td>29979.0</td>\n",
       "      <td>677664.0</td>\n",
       "      <td>585000.0</td>\n",
       "      <td>THURSDAY</td>\n",
       "      <td>9</td>\n",
       "      <td>Unaccompanied</td>\n",
       "      <td>0</td>\n",
       "    </tr>\n",
       "    <tr>\n",
       "      <th>307509</th>\n",
       "      <td>456254</td>\n",
       "      <td>Cash loans</td>\n",
       "      <td>20205.0</td>\n",
       "      <td>370107.0</td>\n",
       "      <td>319500.0</td>\n",
       "      <td>WEDNESDAY</td>\n",
       "      <td>9</td>\n",
       "      <td>Unaccompanied</td>\n",
       "      <td>1</td>\n",
       "    </tr>\n",
       "    <tr>\n",
       "      <th>307510</th>\n",
       "      <td>456255</td>\n",
       "      <td>Cash loans</td>\n",
       "      <td>49117.5</td>\n",
       "      <td>675000.0</td>\n",
       "      <td>675000.0</td>\n",
       "      <td>THURSDAY</td>\n",
       "      <td>20</td>\n",
       "      <td>Unaccompanied</td>\n",
       "      <td>0</td>\n",
       "    </tr>\n",
       "  </tbody>\n",
       "</table>\n",
       "<p>307511 rows × 9 columns</p>\n",
       "</div>"
      ],
      "text/plain": [
       "        SK_ID_CURR NAME_CONTRACT_TYPE AMT_ANNUITY  AMT_CREDIT AMT_GOODS_PRICE  \\\n",
       "0           100002         Cash loans     24700.5    406597.5        351000.0   \n",
       "1           100003         Cash loans     35698.5   1293502.5       1129500.0   \n",
       "2           100004    Revolving loans      6750.0    135000.0        135000.0   \n",
       "3           100006         Cash loans     29686.5    312682.5        297000.0   \n",
       "4           100007         Cash loans     21865.5    513000.0        513000.0   \n",
       "...            ...                ...         ...         ...             ...   \n",
       "307506      456251         Cash loans     27558.0    254700.0        225000.0   \n",
       "307507      456252         Cash loans     12001.5    269550.0        225000.0   \n",
       "307508      456253         Cash loans     29979.0    677664.0        585000.0   \n",
       "307509      456254         Cash loans     20205.0    370107.0        319500.0   \n",
       "307510      456255         Cash loans     49117.5    675000.0        675000.0   \n",
       "\n",
       "       WEEKDAY_APPR_PROCESS_START  HOUR_APPR_PROCESS_START NAME_TYPE_SUITE  \\\n",
       "0                       WEDNESDAY                       10   Unaccompanied   \n",
       "1                          MONDAY                       11          Family   \n",
       "2                          MONDAY                        9   Unaccompanied   \n",
       "3                       WEDNESDAY                       17   Unaccompanied   \n",
       "4                        THURSDAY                       11   Unaccompanied   \n",
       "...                           ...                      ...             ...   \n",
       "307506                   THURSDAY                       15   Unaccompanied   \n",
       "307507                     MONDAY                        8   Unaccompanied   \n",
       "307508                   THURSDAY                        9   Unaccompanied   \n",
       "307509                  WEDNESDAY                        9   Unaccompanied   \n",
       "307510                   THURSDAY                       20   Unaccompanied   \n",
       "\n",
       "        TARGET  \n",
       "0            1  \n",
       "1            0  \n",
       "2            0  \n",
       "3            0  \n",
       "4            0  \n",
       "...        ...  \n",
       "307506       0  \n",
       "307507       0  \n",
       "307508       0  \n",
       "307509       1  \n",
       "307510       0  \n",
       "\n",
       "[307511 rows x 9 columns]"
      ]
     },
     "execution_count": 170,
     "metadata": {},
     "output_type": "execute_result"
    }
   ],
   "source": [
    "# Create a new dataframe for our testing data\n",
    "test_df = application_data[['SK_ID_CURR','NAME_CONTRACT_TYPE','AMT_ANNUITY','AMT_CREDIT','AMT_GOODS_PRICE','WEEKDAY_APPR_PROCESS_START'\n",
    ",'HOUR_APPR_PROCESS_START','NAME_TYPE_SUITE','TARGET']].copy()\n",
    "test_df"
   ]
  },
  {
   "cell_type": "code",
   "execution_count": 171,
   "id": "a2b8aa07",
   "metadata": {
    "scrolled": false
   },
   "outputs": [
    {
     "data": {
      "text/plain": [
       "SK_ID_CURR                     int64\n",
       "NAME_CONTRACT_TYPE            object\n",
       "AMT_ANNUITY                   object\n",
       "AMT_CREDIT                    object\n",
       "AMT_GOODS_PRICE               object\n",
       "WEEKDAY_APPR_PROCESS_START    object\n",
       "HOUR_APPR_PROCESS_START        int64\n",
       "NAME_TYPE_SUITE               object\n",
       "NAME_CONTRACT_STATUS          object\n",
       "dtype: object"
      ]
     },
     "execution_count": 171,
     "metadata": {},
     "output_type": "execute_result"
    }
   ],
   "source": [
    "train_df.dtypes"
   ]
  },
  {
   "cell_type": "code",
   "execution_count": 172,
   "id": "afcb8ba9",
   "metadata": {},
   "outputs": [],
   "source": [
    "train_df_conv = train_df[['AMT_ANNUITY','AMT_CREDIT','AMT_GOODS_PRICE']].astype(float, errors='raise')"
   ]
  },
  {
   "cell_type": "code",
   "execution_count": 173,
   "id": "c0f7ba2e",
   "metadata": {},
   "outputs": [
    {
     "data": {
      "text/plain": [
       "AMT_ANNUITY        float64\n",
       "AMT_CREDIT         float64\n",
       "AMT_GOODS_PRICE    float64\n",
       "dtype: object"
      ]
     },
     "execution_count": 173,
     "metadata": {},
     "output_type": "execute_result"
    }
   ],
   "source": [
    "train_df_conv.dtypes"
   ]
  },
  {
   "cell_type": "code",
   "execution_count": 174,
   "id": "71a02cf3",
   "metadata": {
    "scrolled": true
   },
   "outputs": [
    {
     "data": {
      "text/html": [
       "<div>\n",
       "<style scoped>\n",
       "    .dataframe tbody tr th:only-of-type {\n",
       "        vertical-align: middle;\n",
       "    }\n",
       "\n",
       "    .dataframe tbody tr th {\n",
       "        vertical-align: top;\n",
       "    }\n",
       "\n",
       "    .dataframe thead th {\n",
       "        text-align: right;\n",
       "    }\n",
       "</style>\n",
       "<table border=\"1\" class=\"dataframe\">\n",
       "  <thead>\n",
       "    <tr style=\"text-align: right;\">\n",
       "      <th></th>\n",
       "      <th>AMT_ANNUITY</th>\n",
       "      <th>AMT_CREDIT</th>\n",
       "      <th>AMT_GOODS_PRICE</th>\n",
       "    </tr>\n",
       "  </thead>\n",
       "  <tbody>\n",
       "    <tr>\n",
       "      <th>0</th>\n",
       "      <td>1730.430</td>\n",
       "      <td>17145.0</td>\n",
       "      <td>17145.0</td>\n",
       "    </tr>\n",
       "    <tr>\n",
       "      <th>1</th>\n",
       "      <td>25188.615</td>\n",
       "      <td>679671.0</td>\n",
       "      <td>607500.0</td>\n",
       "    </tr>\n",
       "    <tr>\n",
       "      <th>2</th>\n",
       "      <td>15060.735</td>\n",
       "      <td>136444.5</td>\n",
       "      <td>112500.0</td>\n",
       "    </tr>\n",
       "    <tr>\n",
       "      <th>3</th>\n",
       "      <td>47041.335</td>\n",
       "      <td>470790.0</td>\n",
       "      <td>450000.0</td>\n",
       "    </tr>\n",
       "    <tr>\n",
       "      <th>4</th>\n",
       "      <td>31924.395</td>\n",
       "      <td>404055.0</td>\n",
       "      <td>337500.0</td>\n",
       "    </tr>\n",
       "    <tr>\n",
       "      <th>...</th>\n",
       "      <td>...</td>\n",
       "      <td>...</td>\n",
       "      <td>...</td>\n",
       "    </tr>\n",
       "    <tr>\n",
       "      <th>1670209</th>\n",
       "      <td>14704.290</td>\n",
       "      <td>311400.0</td>\n",
       "      <td>267295.5</td>\n",
       "    </tr>\n",
       "    <tr>\n",
       "      <th>1670210</th>\n",
       "      <td>6622.020</td>\n",
       "      <td>64291.5</td>\n",
       "      <td>87750.0</td>\n",
       "    </tr>\n",
       "    <tr>\n",
       "      <th>1670211</th>\n",
       "      <td>11520.855</td>\n",
       "      <td>102523.5</td>\n",
       "      <td>105237.0</td>\n",
       "    </tr>\n",
       "    <tr>\n",
       "      <th>1670212</th>\n",
       "      <td>18821.520</td>\n",
       "      <td>191880.0</td>\n",
       "      <td>180000.0</td>\n",
       "    </tr>\n",
       "    <tr>\n",
       "      <th>1670213</th>\n",
       "      <td>16431.300</td>\n",
       "      <td>360000.0</td>\n",
       "      <td>360000.0</td>\n",
       "    </tr>\n",
       "  </tbody>\n",
       "</table>\n",
       "<p>1670214 rows × 3 columns</p>\n",
       "</div>"
      ],
      "text/plain": [
       "         AMT_ANNUITY  AMT_CREDIT  AMT_GOODS_PRICE\n",
       "0           1730.430     17145.0          17145.0\n",
       "1          25188.615    679671.0         607500.0\n",
       "2          15060.735    136444.5         112500.0\n",
       "3          47041.335    470790.0         450000.0\n",
       "4          31924.395    404055.0         337500.0\n",
       "...              ...         ...              ...\n",
       "1670209    14704.290    311400.0         267295.5\n",
       "1670210     6622.020     64291.5          87750.0\n",
       "1670211    11520.855    102523.5         105237.0\n",
       "1670212    18821.520    191880.0         180000.0\n",
       "1670213    16431.300    360000.0         360000.0\n",
       "\n",
       "[1670214 rows x 3 columns]"
      ]
     },
     "execution_count": 174,
     "metadata": {},
     "output_type": "execute_result"
    }
   ],
   "source": [
    "train_df_conv"
   ]
  },
  {
   "cell_type": "code",
   "execution_count": 175,
   "id": "61ed9c84",
   "metadata": {
    "scrolled": true
   },
   "outputs": [
    {
     "data": {
      "text/html": [
       "<div>\n",
       "<style scoped>\n",
       "    .dataframe tbody tr th:only-of-type {\n",
       "        vertical-align: middle;\n",
       "    }\n",
       "\n",
       "    .dataframe tbody tr th {\n",
       "        vertical-align: top;\n",
       "    }\n",
       "\n",
       "    .dataframe thead th {\n",
       "        text-align: right;\n",
       "    }\n",
       "</style>\n",
       "<table border=\"1\" class=\"dataframe\">\n",
       "  <thead>\n",
       "    <tr style=\"text-align: right;\">\n",
       "      <th></th>\n",
       "      <th>SK_ID_CURR</th>\n",
       "      <th>NAME_CONTRACT_TYPE</th>\n",
       "      <th>WEEKDAY_APPR_PROCESS_START</th>\n",
       "      <th>HOUR_APPR_PROCESS_START</th>\n",
       "      <th>NAME_TYPE_SUITE</th>\n",
       "      <th>NAME_CONTRACT_STATUS</th>\n",
       "    </tr>\n",
       "  </thead>\n",
       "  <tbody>\n",
       "    <tr>\n",
       "      <th>0</th>\n",
       "      <td>271877</td>\n",
       "      <td>Consumer loans</td>\n",
       "      <td>SATURDAY</td>\n",
       "      <td>15</td>\n",
       "      <td>Unaccompanied</td>\n",
       "      <td>0</td>\n",
       "    </tr>\n",
       "    <tr>\n",
       "      <th>1</th>\n",
       "      <td>108129</td>\n",
       "      <td>Cash loans</td>\n",
       "      <td>THURSDAY</td>\n",
       "      <td>11</td>\n",
       "      <td>Unaccompanied</td>\n",
       "      <td>0</td>\n",
       "    </tr>\n",
       "    <tr>\n",
       "      <th>2</th>\n",
       "      <td>122040</td>\n",
       "      <td>Cash loans</td>\n",
       "      <td>TUESDAY</td>\n",
       "      <td>11</td>\n",
       "      <td>Spouse, partner</td>\n",
       "      <td>0</td>\n",
       "    </tr>\n",
       "    <tr>\n",
       "      <th>3</th>\n",
       "      <td>176158</td>\n",
       "      <td>Cash loans</td>\n",
       "      <td>MONDAY</td>\n",
       "      <td>7</td>\n",
       "      <td>Unaccompanied</td>\n",
       "      <td>0</td>\n",
       "    </tr>\n",
       "    <tr>\n",
       "      <th>4</th>\n",
       "      <td>202054</td>\n",
       "      <td>Cash loans</td>\n",
       "      <td>THURSDAY</td>\n",
       "      <td>9</td>\n",
       "      <td>Unaccompanied</td>\n",
       "      <td>1</td>\n",
       "    </tr>\n",
       "    <tr>\n",
       "      <th>...</th>\n",
       "      <td>...</td>\n",
       "      <td>...</td>\n",
       "      <td>...</td>\n",
       "      <td>...</td>\n",
       "      <td>...</td>\n",
       "      <td>...</td>\n",
       "    </tr>\n",
       "    <tr>\n",
       "      <th>1670209</th>\n",
       "      <td>352015</td>\n",
       "      <td>Consumer loans</td>\n",
       "      <td>WEDNESDAY</td>\n",
       "      <td>12</td>\n",
       "      <td>Unaccompanied</td>\n",
       "      <td>0</td>\n",
       "    </tr>\n",
       "    <tr>\n",
       "      <th>1670210</th>\n",
       "      <td>334635</td>\n",
       "      <td>Consumer loans</td>\n",
       "      <td>TUESDAY</td>\n",
       "      <td>15</td>\n",
       "      <td>Unaccompanied</td>\n",
       "      <td>0</td>\n",
       "    </tr>\n",
       "    <tr>\n",
       "      <th>1670211</th>\n",
       "      <td>249544</td>\n",
       "      <td>Consumer loans</td>\n",
       "      <td>MONDAY</td>\n",
       "      <td>12</td>\n",
       "      <td>Spouse, partner</td>\n",
       "      <td>0</td>\n",
       "    </tr>\n",
       "    <tr>\n",
       "      <th>1670212</th>\n",
       "      <td>400317</td>\n",
       "      <td>Cash loans</td>\n",
       "      <td>WEDNESDAY</td>\n",
       "      <td>9</td>\n",
       "      <td>Family</td>\n",
       "      <td>0</td>\n",
       "    </tr>\n",
       "    <tr>\n",
       "      <th>1670213</th>\n",
       "      <td>261212</td>\n",
       "      <td>Cash loans</td>\n",
       "      <td>SUNDAY</td>\n",
       "      <td>10</td>\n",
       "      <td>Family</td>\n",
       "      <td>0</td>\n",
       "    </tr>\n",
       "  </tbody>\n",
       "</table>\n",
       "<p>1670214 rows × 6 columns</p>\n",
       "</div>"
      ],
      "text/plain": [
       "         SK_ID_CURR NAME_CONTRACT_TYPE WEEKDAY_APPR_PROCESS_START  \\\n",
       "0            271877     Consumer loans                   SATURDAY   \n",
       "1            108129         Cash loans                   THURSDAY   \n",
       "2            122040         Cash loans                    TUESDAY   \n",
       "3            176158         Cash loans                     MONDAY   \n",
       "4            202054         Cash loans                   THURSDAY   \n",
       "...             ...                ...                        ...   \n",
       "1670209      352015     Consumer loans                  WEDNESDAY   \n",
       "1670210      334635     Consumer loans                    TUESDAY   \n",
       "1670211      249544     Consumer loans                     MONDAY   \n",
       "1670212      400317         Cash loans                  WEDNESDAY   \n",
       "1670213      261212         Cash loans                     SUNDAY   \n",
       "\n",
       "         HOUR_APPR_PROCESS_START  NAME_TYPE_SUITE NAME_CONTRACT_STATUS  \n",
       "0                             15    Unaccompanied                    0  \n",
       "1                             11    Unaccompanied                    0  \n",
       "2                             11  Spouse, partner                    0  \n",
       "3                              7    Unaccompanied                    0  \n",
       "4                              9    Unaccompanied                    1  \n",
       "...                          ...              ...                  ...  \n",
       "1670209                       12    Unaccompanied                    0  \n",
       "1670210                       15    Unaccompanied                    0  \n",
       "1670211                       12  Spouse, partner                    0  \n",
       "1670212                        9           Family                    0  \n",
       "1670213                       10           Family                    0  \n",
       "\n",
       "[1670214 rows x 6 columns]"
      ]
     },
     "execution_count": 175,
     "metadata": {},
     "output_type": "execute_result"
    }
   ],
   "source": [
    "updated_train_df = train_df.drop(['AMT_ANNUITY','AMT_CREDIT','AMT_GOODS_PRICE'], axis = 1)\n",
    "updated_train_df"
   ]
  },
  {
   "cell_type": "code",
   "execution_count": 176,
   "id": "fad4201b",
   "metadata": {
    "scrolled": true
   },
   "outputs": [
    {
     "data": {
      "text/html": [
       "<div>\n",
       "<style scoped>\n",
       "    .dataframe tbody tr th:only-of-type {\n",
       "        vertical-align: middle;\n",
       "    }\n",
       "\n",
       "    .dataframe tbody tr th {\n",
       "        vertical-align: top;\n",
       "    }\n",
       "\n",
       "    .dataframe thead th {\n",
       "        text-align: right;\n",
       "    }\n",
       "</style>\n",
       "<table border=\"1\" class=\"dataframe\">\n",
       "  <thead>\n",
       "    <tr style=\"text-align: right;\">\n",
       "      <th></th>\n",
       "      <th>AMT_ANNUITY</th>\n",
       "      <th>AMT_CREDIT</th>\n",
       "      <th>AMT_GOODS_PRICE</th>\n",
       "      <th>SK_ID_CURR</th>\n",
       "      <th>NAME_CONTRACT_TYPE</th>\n",
       "      <th>WEEKDAY_APPR_PROCESS_START</th>\n",
       "      <th>HOUR_APPR_PROCESS_START</th>\n",
       "      <th>NAME_TYPE_SUITE</th>\n",
       "      <th>NAME_CONTRACT_STATUS</th>\n",
       "    </tr>\n",
       "  </thead>\n",
       "  <tbody>\n",
       "    <tr>\n",
       "      <th>0</th>\n",
       "      <td>1730.430</td>\n",
       "      <td>17145.0</td>\n",
       "      <td>17145.0</td>\n",
       "      <td>271877</td>\n",
       "      <td>Consumer loans</td>\n",
       "      <td>SATURDAY</td>\n",
       "      <td>15</td>\n",
       "      <td>Unaccompanied</td>\n",
       "      <td>0</td>\n",
       "    </tr>\n",
       "    <tr>\n",
       "      <th>1</th>\n",
       "      <td>25188.615</td>\n",
       "      <td>679671.0</td>\n",
       "      <td>607500.0</td>\n",
       "      <td>108129</td>\n",
       "      <td>Cash loans</td>\n",
       "      <td>THURSDAY</td>\n",
       "      <td>11</td>\n",
       "      <td>Unaccompanied</td>\n",
       "      <td>0</td>\n",
       "    </tr>\n",
       "    <tr>\n",
       "      <th>2</th>\n",
       "      <td>15060.735</td>\n",
       "      <td>136444.5</td>\n",
       "      <td>112500.0</td>\n",
       "      <td>122040</td>\n",
       "      <td>Cash loans</td>\n",
       "      <td>TUESDAY</td>\n",
       "      <td>11</td>\n",
       "      <td>Spouse, partner</td>\n",
       "      <td>0</td>\n",
       "    </tr>\n",
       "    <tr>\n",
       "      <th>3</th>\n",
       "      <td>47041.335</td>\n",
       "      <td>470790.0</td>\n",
       "      <td>450000.0</td>\n",
       "      <td>176158</td>\n",
       "      <td>Cash loans</td>\n",
       "      <td>MONDAY</td>\n",
       "      <td>7</td>\n",
       "      <td>Unaccompanied</td>\n",
       "      <td>0</td>\n",
       "    </tr>\n",
       "    <tr>\n",
       "      <th>4</th>\n",
       "      <td>31924.395</td>\n",
       "      <td>404055.0</td>\n",
       "      <td>337500.0</td>\n",
       "      <td>202054</td>\n",
       "      <td>Cash loans</td>\n",
       "      <td>THURSDAY</td>\n",
       "      <td>9</td>\n",
       "      <td>Unaccompanied</td>\n",
       "      <td>1</td>\n",
       "    </tr>\n",
       "    <tr>\n",
       "      <th>...</th>\n",
       "      <td>...</td>\n",
       "      <td>...</td>\n",
       "      <td>...</td>\n",
       "      <td>...</td>\n",
       "      <td>...</td>\n",
       "      <td>...</td>\n",
       "      <td>...</td>\n",
       "      <td>...</td>\n",
       "      <td>...</td>\n",
       "    </tr>\n",
       "    <tr>\n",
       "      <th>1670209</th>\n",
       "      <td>14704.290</td>\n",
       "      <td>311400.0</td>\n",
       "      <td>267295.5</td>\n",
       "      <td>352015</td>\n",
       "      <td>Consumer loans</td>\n",
       "      <td>WEDNESDAY</td>\n",
       "      <td>12</td>\n",
       "      <td>Unaccompanied</td>\n",
       "      <td>0</td>\n",
       "    </tr>\n",
       "    <tr>\n",
       "      <th>1670210</th>\n",
       "      <td>6622.020</td>\n",
       "      <td>64291.5</td>\n",
       "      <td>87750.0</td>\n",
       "      <td>334635</td>\n",
       "      <td>Consumer loans</td>\n",
       "      <td>TUESDAY</td>\n",
       "      <td>15</td>\n",
       "      <td>Unaccompanied</td>\n",
       "      <td>0</td>\n",
       "    </tr>\n",
       "    <tr>\n",
       "      <th>1670211</th>\n",
       "      <td>11520.855</td>\n",
       "      <td>102523.5</td>\n",
       "      <td>105237.0</td>\n",
       "      <td>249544</td>\n",
       "      <td>Consumer loans</td>\n",
       "      <td>MONDAY</td>\n",
       "      <td>12</td>\n",
       "      <td>Spouse, partner</td>\n",
       "      <td>0</td>\n",
       "    </tr>\n",
       "    <tr>\n",
       "      <th>1670212</th>\n",
       "      <td>18821.520</td>\n",
       "      <td>191880.0</td>\n",
       "      <td>180000.0</td>\n",
       "      <td>400317</td>\n",
       "      <td>Cash loans</td>\n",
       "      <td>WEDNESDAY</td>\n",
       "      <td>9</td>\n",
       "      <td>Family</td>\n",
       "      <td>0</td>\n",
       "    </tr>\n",
       "    <tr>\n",
       "      <th>1670213</th>\n",
       "      <td>16431.300</td>\n",
       "      <td>360000.0</td>\n",
       "      <td>360000.0</td>\n",
       "      <td>261212</td>\n",
       "      <td>Cash loans</td>\n",
       "      <td>SUNDAY</td>\n",
       "      <td>10</td>\n",
       "      <td>Family</td>\n",
       "      <td>0</td>\n",
       "    </tr>\n",
       "  </tbody>\n",
       "</table>\n",
       "<p>1670214 rows × 9 columns</p>\n",
       "</div>"
      ],
      "text/plain": [
       "         AMT_ANNUITY  AMT_CREDIT  AMT_GOODS_PRICE  SK_ID_CURR  \\\n",
       "0           1730.430     17145.0          17145.0      271877   \n",
       "1          25188.615    679671.0         607500.0      108129   \n",
       "2          15060.735    136444.5         112500.0      122040   \n",
       "3          47041.335    470790.0         450000.0      176158   \n",
       "4          31924.395    404055.0         337500.0      202054   \n",
       "...              ...         ...              ...         ...   \n",
       "1670209    14704.290    311400.0         267295.5      352015   \n",
       "1670210     6622.020     64291.5          87750.0      334635   \n",
       "1670211    11520.855    102523.5         105237.0      249544   \n",
       "1670212    18821.520    191880.0         180000.0      400317   \n",
       "1670213    16431.300    360000.0         360000.0      261212   \n",
       "\n",
       "        NAME_CONTRACT_TYPE WEEKDAY_APPR_PROCESS_START  \\\n",
       "0           Consumer loans                   SATURDAY   \n",
       "1               Cash loans                   THURSDAY   \n",
       "2               Cash loans                    TUESDAY   \n",
       "3               Cash loans                     MONDAY   \n",
       "4               Cash loans                   THURSDAY   \n",
       "...                    ...                        ...   \n",
       "1670209     Consumer loans                  WEDNESDAY   \n",
       "1670210     Consumer loans                    TUESDAY   \n",
       "1670211     Consumer loans                     MONDAY   \n",
       "1670212         Cash loans                  WEDNESDAY   \n",
       "1670213         Cash loans                     SUNDAY   \n",
       "\n",
       "         HOUR_APPR_PROCESS_START  NAME_TYPE_SUITE NAME_CONTRACT_STATUS  \n",
       "0                             15    Unaccompanied                    0  \n",
       "1                             11    Unaccompanied                    0  \n",
       "2                             11  Spouse, partner                    0  \n",
       "3                              7    Unaccompanied                    0  \n",
       "4                              9    Unaccompanied                    1  \n",
       "...                          ...              ...                  ...  \n",
       "1670209                       12    Unaccompanied                    0  \n",
       "1670210                       15    Unaccompanied                    0  \n",
       "1670211                       12  Spouse, partner                    0  \n",
       "1670212                        9           Family                    0  \n",
       "1670213                       10           Family                    0  \n",
       "\n",
       "[1670214 rows x 9 columns]"
      ]
     },
     "execution_count": 176,
     "metadata": {},
     "output_type": "execute_result"
    }
   ],
   "source": [
    "train_df = pd.concat([train_df_conv, updated_train_df], axis=1)\n",
    "train_df"
   ]
  },
  {
   "cell_type": "code",
   "execution_count": 177,
   "id": "2b6a0dbc",
   "metadata": {},
   "outputs": [
    {
     "data": {
      "text/plain": [
       "AMT_ANNUITY                   float64\n",
       "AMT_CREDIT                    float64\n",
       "AMT_GOODS_PRICE               float64\n",
       "SK_ID_CURR                      int64\n",
       "NAME_CONTRACT_TYPE             object\n",
       "WEEKDAY_APPR_PROCESS_START     object\n",
       "HOUR_APPR_PROCESS_START         int64\n",
       "NAME_TYPE_SUITE                object\n",
       "NAME_CONTRACT_STATUS           object\n",
       "dtype: object"
      ]
     },
     "execution_count": 177,
     "metadata": {},
     "output_type": "execute_result"
    }
   ],
   "source": [
    "train_df.dtypes"
   ]
  },
  {
   "cell_type": "code",
   "execution_count": 178,
   "id": "48f49b23",
   "metadata": {},
   "outputs": [
    {
     "data": {
      "text/html": [
       "<div>\n",
       "<style scoped>\n",
       "    .dataframe tbody tr th:only-of-type {\n",
       "        vertical-align: middle;\n",
       "    }\n",
       "\n",
       "    .dataframe tbody tr th {\n",
       "        vertical-align: top;\n",
       "    }\n",
       "\n",
       "    .dataframe thead th {\n",
       "        text-align: right;\n",
       "    }\n",
       "</style>\n",
       "<table border=\"1\" class=\"dataframe\">\n",
       "  <thead>\n",
       "    <tr style=\"text-align: right;\">\n",
       "      <th></th>\n",
       "      <th>NAME_CONTRACT_TYPE</th>\n",
       "      <th>WEEKDAY_APPR_PROCESS_START</th>\n",
       "      <th>NAME_TYPE_SUITE</th>\n",
       "      <th>NAME_CONTRACT_STATUS</th>\n",
       "    </tr>\n",
       "  </thead>\n",
       "  <tbody>\n",
       "    <tr>\n",
       "      <th>0</th>\n",
       "      <td>Consumer loans</td>\n",
       "      <td>SATURDAY</td>\n",
       "      <td>Unaccompanied</td>\n",
       "      <td>0</td>\n",
       "    </tr>\n",
       "    <tr>\n",
       "      <th>1</th>\n",
       "      <td>Cash loans</td>\n",
       "      <td>THURSDAY</td>\n",
       "      <td>Unaccompanied</td>\n",
       "      <td>0</td>\n",
       "    </tr>\n",
       "    <tr>\n",
       "      <th>2</th>\n",
       "      <td>Cash loans</td>\n",
       "      <td>TUESDAY</td>\n",
       "      <td>Spouse, partner</td>\n",
       "      <td>0</td>\n",
       "    </tr>\n",
       "    <tr>\n",
       "      <th>3</th>\n",
       "      <td>Cash loans</td>\n",
       "      <td>MONDAY</td>\n",
       "      <td>Unaccompanied</td>\n",
       "      <td>0</td>\n",
       "    </tr>\n",
       "    <tr>\n",
       "      <th>4</th>\n",
       "      <td>Cash loans</td>\n",
       "      <td>THURSDAY</td>\n",
       "      <td>Unaccompanied</td>\n",
       "      <td>1</td>\n",
       "    </tr>\n",
       "    <tr>\n",
       "      <th>...</th>\n",
       "      <td>...</td>\n",
       "      <td>...</td>\n",
       "      <td>...</td>\n",
       "      <td>...</td>\n",
       "    </tr>\n",
       "    <tr>\n",
       "      <th>1670209</th>\n",
       "      <td>Consumer loans</td>\n",
       "      <td>WEDNESDAY</td>\n",
       "      <td>Unaccompanied</td>\n",
       "      <td>0</td>\n",
       "    </tr>\n",
       "    <tr>\n",
       "      <th>1670210</th>\n",
       "      <td>Consumer loans</td>\n",
       "      <td>TUESDAY</td>\n",
       "      <td>Unaccompanied</td>\n",
       "      <td>0</td>\n",
       "    </tr>\n",
       "    <tr>\n",
       "      <th>1670211</th>\n",
       "      <td>Consumer loans</td>\n",
       "      <td>MONDAY</td>\n",
       "      <td>Spouse, partner</td>\n",
       "      <td>0</td>\n",
       "    </tr>\n",
       "    <tr>\n",
       "      <th>1670212</th>\n",
       "      <td>Cash loans</td>\n",
       "      <td>WEDNESDAY</td>\n",
       "      <td>Family</td>\n",
       "      <td>0</td>\n",
       "    </tr>\n",
       "    <tr>\n",
       "      <th>1670213</th>\n",
       "      <td>Cash loans</td>\n",
       "      <td>SUNDAY</td>\n",
       "      <td>Family</td>\n",
       "      <td>0</td>\n",
       "    </tr>\n",
       "  </tbody>\n",
       "</table>\n",
       "<p>1670214 rows × 4 columns</p>\n",
       "</div>"
      ],
      "text/plain": [
       "        NAME_CONTRACT_TYPE WEEKDAY_APPR_PROCESS_START  NAME_TYPE_SUITE  \\\n",
       "0           Consumer loans                   SATURDAY    Unaccompanied   \n",
       "1               Cash loans                   THURSDAY    Unaccompanied   \n",
       "2               Cash loans                    TUESDAY  Spouse, partner   \n",
       "3               Cash loans                     MONDAY    Unaccompanied   \n",
       "4               Cash loans                   THURSDAY    Unaccompanied   \n",
       "...                    ...                        ...              ...   \n",
       "1670209     Consumer loans                  WEDNESDAY    Unaccompanied   \n",
       "1670210     Consumer loans                    TUESDAY    Unaccompanied   \n",
       "1670211     Consumer loans                     MONDAY  Spouse, partner   \n",
       "1670212         Cash loans                  WEDNESDAY           Family   \n",
       "1670213         Cash loans                     SUNDAY           Family   \n",
       "\n",
       "        NAME_CONTRACT_STATUS  \n",
       "0                          0  \n",
       "1                          0  \n",
       "2                          0  \n",
       "3                          0  \n",
       "4                          1  \n",
       "...                      ...  \n",
       "1670209                    0  \n",
       "1670210                    0  \n",
       "1670211                    0  \n",
       "1670212                    0  \n",
       "1670213                    0  \n",
       "\n",
       "[1670214 rows x 4 columns]"
      ]
     },
     "execution_count": 178,
     "metadata": {},
     "output_type": "execute_result"
    }
   ],
   "source": [
    "train_df_trim = train_df.select_dtypes(include=['object'],exclude=['number'])\n",
    "train_df_trim"
   ]
  },
  {
   "cell_type": "code",
   "execution_count": 179,
   "id": "6a522275",
   "metadata": {
    "scrolled": true
   },
   "outputs": [
    {
     "data": {
      "text/plain": [
       "NAME_CONTRACT_TYPE            object\n",
       "WEEKDAY_APPR_PROCESS_START    object\n",
       "NAME_TYPE_SUITE               object\n",
       "NAME_CONTRACT_STATUS          object\n",
       "dtype: object"
      ]
     },
     "execution_count": 179,
     "metadata": {},
     "output_type": "execute_result"
    }
   ],
   "source": [
    "# Were the columns correctly converted?\n",
    "train_df_trim.dtypes"
   ]
  },
  {
   "cell_type": "code",
   "execution_count": null,
   "id": "10e7c3c5",
   "metadata": {},
   "outputs": [],
   "source": [
    "# yes"
   ]
  },
  {
   "cell_type": "code",
   "execution_count": 180,
   "id": "dc851042",
   "metadata": {
    "scrolled": true
   },
   "outputs": [
    {
     "name": "stdout",
     "output_type": "stream",
     "text": [
      "Cash loans         747553\n",
      "Consumer loans     729151\n",
      "Revolving loans    193164\n",
      "XNA                   346\n",
      "Name: NAME_CONTRACT_TYPE, dtype: int64\n",
      "TUESDAY      255118\n",
      "WEDNESDAY    255010\n",
      "MONDAY       253557\n",
      "FRIDAY       252048\n",
      "THURSDAY     249099\n",
      "SATURDAY     240631\n",
      "SUNDAY       164751\n",
      "Name: WEEKDAY_APPR_PROCESS_START, dtype: int64\n",
      "Unaccompanied      1329375\n",
      "Family              213263\n",
      "Spouse, partner      67069\n",
      "Children             31566\n",
      "Other_B              17624\n",
      "Other_A               9077\n",
      "Group of people       2240\n",
      "Name: NAME_TYPE_SUITE, dtype: int64\n",
      "0    1379536\n",
      "1     290678\n",
      "Name: NAME_CONTRACT_STATUS, dtype: int64\n"
     ]
    }
   ],
   "source": [
    "for each in train_df_trim.columns:\n",
    "    \n",
    "    print(train_df_trim[each].value_counts())"
   ]
  },
  {
   "cell_type": "code",
   "execution_count": 200,
   "id": "410c6b0e",
   "metadata": {},
   "outputs": [],
   "source": [
    "# Define the target for training data\n",
    "y = train_df[\"NAME_CONTRACT_STATUS\"]\n"
   ]
  },
  {
   "cell_type": "code",
   "execution_count": 201,
   "id": "dd39412d",
   "metadata": {
    "scrolled": true
   },
   "outputs": [
    {
     "data": {
      "text/html": [
       "<div>\n",
       "<style scoped>\n",
       "    .dataframe tbody tr th:only-of-type {\n",
       "        vertical-align: middle;\n",
       "    }\n",
       "\n",
       "    .dataframe tbody tr th {\n",
       "        vertical-align: top;\n",
       "    }\n",
       "\n",
       "    .dataframe thead th {\n",
       "        text-align: right;\n",
       "    }\n",
       "</style>\n",
       "<table border=\"1\" class=\"dataframe\">\n",
       "  <thead>\n",
       "    <tr style=\"text-align: right;\">\n",
       "      <th></th>\n",
       "      <th>AMT_ANNUITY</th>\n",
       "      <th>AMT_CREDIT</th>\n",
       "      <th>AMT_GOODS_PRICE</th>\n",
       "      <th>SK_ID_CURR</th>\n",
       "      <th>NAME_CONTRACT_TYPE</th>\n",
       "      <th>WEEKDAY_APPR_PROCESS_START</th>\n",
       "      <th>HOUR_APPR_PROCESS_START</th>\n",
       "      <th>NAME_TYPE_SUITE</th>\n",
       "    </tr>\n",
       "  </thead>\n",
       "  <tbody>\n",
       "    <tr>\n",
       "      <th>0</th>\n",
       "      <td>1730.430</td>\n",
       "      <td>17145.0</td>\n",
       "      <td>17145.0</td>\n",
       "      <td>271877</td>\n",
       "      <td>Consumer loans</td>\n",
       "      <td>SATURDAY</td>\n",
       "      <td>15</td>\n",
       "      <td>Unaccompanied</td>\n",
       "    </tr>\n",
       "    <tr>\n",
       "      <th>1</th>\n",
       "      <td>25188.615</td>\n",
       "      <td>679671.0</td>\n",
       "      <td>607500.0</td>\n",
       "      <td>108129</td>\n",
       "      <td>Cash loans</td>\n",
       "      <td>THURSDAY</td>\n",
       "      <td>11</td>\n",
       "      <td>Unaccompanied</td>\n",
       "    </tr>\n",
       "    <tr>\n",
       "      <th>2</th>\n",
       "      <td>15060.735</td>\n",
       "      <td>136444.5</td>\n",
       "      <td>112500.0</td>\n",
       "      <td>122040</td>\n",
       "      <td>Cash loans</td>\n",
       "      <td>TUESDAY</td>\n",
       "      <td>11</td>\n",
       "      <td>Spouse, partner</td>\n",
       "    </tr>\n",
       "    <tr>\n",
       "      <th>3</th>\n",
       "      <td>47041.335</td>\n",
       "      <td>470790.0</td>\n",
       "      <td>450000.0</td>\n",
       "      <td>176158</td>\n",
       "      <td>Cash loans</td>\n",
       "      <td>MONDAY</td>\n",
       "      <td>7</td>\n",
       "      <td>Unaccompanied</td>\n",
       "    </tr>\n",
       "    <tr>\n",
       "      <th>4</th>\n",
       "      <td>31924.395</td>\n",
       "      <td>404055.0</td>\n",
       "      <td>337500.0</td>\n",
       "      <td>202054</td>\n",
       "      <td>Cash loans</td>\n",
       "      <td>THURSDAY</td>\n",
       "      <td>9</td>\n",
       "      <td>Unaccompanied</td>\n",
       "    </tr>\n",
       "  </tbody>\n",
       "</table>\n",
       "</div>"
      ],
      "text/plain": [
       "   AMT_ANNUITY  AMT_CREDIT  AMT_GOODS_PRICE  SK_ID_CURR NAME_CONTRACT_TYPE  \\\n",
       "0     1730.430     17145.0          17145.0      271877     Consumer loans   \n",
       "1    25188.615    679671.0         607500.0      108129         Cash loans   \n",
       "2    15060.735    136444.5         112500.0      122040         Cash loans   \n",
       "3    47041.335    470790.0         450000.0      176158         Cash loans   \n",
       "4    31924.395    404055.0         337500.0      202054         Cash loans   \n",
       "\n",
       "  WEEKDAY_APPR_PROCESS_START  HOUR_APPR_PROCESS_START  NAME_TYPE_SUITE  \n",
       "0                   SATURDAY                       15    Unaccompanied  \n",
       "1                   THURSDAY                       11    Unaccompanied  \n",
       "2                    TUESDAY                       11  Spouse, partner  \n",
       "3                     MONDAY                        7    Unaccompanied  \n",
       "4                   THURSDAY                        9    Unaccompanied  "
      ]
     },
     "execution_count": 201,
     "metadata": {},
     "output_type": "execute_result"
    }
   ],
   "source": [
    "# Define the features for the training data\n",
    "X = train_df.drop(\"NAME_CONTRACT_STATUS\", axis=1)\n",
    "X.head()"
   ]
  },
  {
   "cell_type": "code",
   "execution_count": 225,
   "id": "b861a945",
   "metadata": {},
   "outputs": [],
   "source": [
    "from sklearn.model_selection import train_test_split\n",
    "X_train, X_test, y_train, y_test = train_test_split(X, y, random_state=42)"
   ]
  },
  {
   "cell_type": "code",
   "execution_count": 203,
   "id": "12dbf8f7",
   "metadata": {},
   "outputs": [],
   "source": [
    "from sklearn.linear_model import LogisticRegression\n",
    "from sklearn.model_selection import train_test_split\n",
    "from sklearn.metrics import confusion_matrix, classification_report\n",
    "from sklearn.preprocessing import OneHotEncoder"
   ]
  },
  {
   "cell_type": "code",
   "execution_count": 226,
   "id": "b9f10cb1",
   "metadata": {},
   "outputs": [
    {
     "data": {
      "text/html": [
       "<div>\n",
       "<style scoped>\n",
       "    .dataframe tbody tr th:only-of-type {\n",
       "        vertical-align: middle;\n",
       "    }\n",
       "\n",
       "    .dataframe tbody tr th {\n",
       "        vertical-align: top;\n",
       "    }\n",
       "\n",
       "    .dataframe thead th {\n",
       "        text-align: right;\n",
       "    }\n",
       "</style>\n",
       "<table border=\"1\" class=\"dataframe\">\n",
       "  <thead>\n",
       "    <tr style=\"text-align: right;\">\n",
       "      <th></th>\n",
       "      <th>AMT_ANNUITY</th>\n",
       "      <th>AMT_CREDIT</th>\n",
       "      <th>AMT_GOODS_PRICE</th>\n",
       "      <th>SK_ID_CURR</th>\n",
       "      <th>NAME_CONTRACT_TYPE</th>\n",
       "      <th>WEEKDAY_APPR_PROCESS_START</th>\n",
       "      <th>HOUR_APPR_PROCESS_START</th>\n",
       "      <th>NAME_TYPE_SUITE</th>\n",
       "    </tr>\n",
       "  </thead>\n",
       "  <tbody>\n",
       "    <tr>\n",
       "      <th>613497</th>\n",
       "      <td>3563.190</td>\n",
       "      <td>17941.5</td>\n",
       "      <td>17095.5</td>\n",
       "      <td>430505</td>\n",
       "      <td>Consumer loans</td>\n",
       "      <td>TUESDAY</td>\n",
       "      <td>9</td>\n",
       "      <td>Unaccompanied</td>\n",
       "    </tr>\n",
       "    <tr>\n",
       "      <th>821675</th>\n",
       "      <td>16550.505</td>\n",
       "      <td>321142.5</td>\n",
       "      <td>225000.0</td>\n",
       "      <td>150105</td>\n",
       "      <td>Cash loans</td>\n",
       "      <td>MONDAY</td>\n",
       "      <td>10</td>\n",
       "      <td>Unaccompanied</td>\n",
       "    </tr>\n",
       "    <tr>\n",
       "      <th>955550</th>\n",
       "      <td>34122.600</td>\n",
       "      <td>1293502.5</td>\n",
       "      <td>1129500.0</td>\n",
       "      <td>299121</td>\n",
       "      <td>Cash loans</td>\n",
       "      <td>SATURDAY</td>\n",
       "      <td>17</td>\n",
       "      <td>Unaccompanied</td>\n",
       "    </tr>\n",
       "    <tr>\n",
       "      <th>1015863</th>\n",
       "      <td>2250.000</td>\n",
       "      <td>45000.0</td>\n",
       "      <td>45000.0</td>\n",
       "      <td>170623</td>\n",
       "      <td>Revolving loans</td>\n",
       "      <td>THURSDAY</td>\n",
       "      <td>14</td>\n",
       "      <td>Unaccompanied</td>\n",
       "    </tr>\n",
       "    <tr>\n",
       "      <th>567494</th>\n",
       "      <td>9166.635</td>\n",
       "      <td>81864.0</td>\n",
       "      <td>67500.0</td>\n",
       "      <td>429751</td>\n",
       "      <td>Cash loans</td>\n",
       "      <td>FRIDAY</td>\n",
       "      <td>10</td>\n",
       "      <td>Unaccompanied</td>\n",
       "    </tr>\n",
       "    <tr>\n",
       "      <th>...</th>\n",
       "      <td>...</td>\n",
       "      <td>...</td>\n",
       "      <td>...</td>\n",
       "      <td>...</td>\n",
       "      <td>...</td>\n",
       "      <td>...</td>\n",
       "      <td>...</td>\n",
       "      <td>...</td>\n",
       "    </tr>\n",
       "    <tr>\n",
       "      <th>259178</th>\n",
       "      <td>15955.000</td>\n",
       "      <td>0.0</td>\n",
       "      <td>112320.0</td>\n",
       "      <td>313475</td>\n",
       "      <td>Cash loans</td>\n",
       "      <td>FRIDAY</td>\n",
       "      <td>16</td>\n",
       "      <td>Unaccompanied</td>\n",
       "    </tr>\n",
       "    <tr>\n",
       "      <th>1414414</th>\n",
       "      <td>15955.000</td>\n",
       "      <td>0.0</td>\n",
       "      <td>112320.0</td>\n",
       "      <td>419026</td>\n",
       "      <td>Revolving loans</td>\n",
       "      <td>MONDAY</td>\n",
       "      <td>10</td>\n",
       "      <td>Unaccompanied</td>\n",
       "    </tr>\n",
       "    <tr>\n",
       "      <th>131932</th>\n",
       "      <td>9342.135</td>\n",
       "      <td>102010.5</td>\n",
       "      <td>94135.5</td>\n",
       "      <td>391276</td>\n",
       "      <td>Consumer loans</td>\n",
       "      <td>THURSDAY</td>\n",
       "      <td>19</td>\n",
       "      <td>Unaccompanied</td>\n",
       "    </tr>\n",
       "    <tr>\n",
       "      <th>671155</th>\n",
       "      <td>15955.000</td>\n",
       "      <td>0.0</td>\n",
       "      <td>112320.0</td>\n",
       "      <td>307283</td>\n",
       "      <td>Cash loans</td>\n",
       "      <td>THURSDAY</td>\n",
       "      <td>12</td>\n",
       "      <td>Unaccompanied</td>\n",
       "    </tr>\n",
       "    <tr>\n",
       "      <th>121958</th>\n",
       "      <td>4897.440</td>\n",
       "      <td>54355.5</td>\n",
       "      <td>49162.5</td>\n",
       "      <td>422349</td>\n",
       "      <td>Consumer loans</td>\n",
       "      <td>THURSDAY</td>\n",
       "      <td>11</td>\n",
       "      <td>Unaccompanied</td>\n",
       "    </tr>\n",
       "  </tbody>\n",
       "</table>\n",
       "<p>1252660 rows × 8 columns</p>\n",
       "</div>"
      ],
      "text/plain": [
       "         AMT_ANNUITY  AMT_CREDIT  AMT_GOODS_PRICE  SK_ID_CURR  \\\n",
       "613497      3563.190     17941.5          17095.5      430505   \n",
       "821675     16550.505    321142.5         225000.0      150105   \n",
       "955550     34122.600   1293502.5        1129500.0      299121   \n",
       "1015863     2250.000     45000.0          45000.0      170623   \n",
       "567494      9166.635     81864.0          67500.0      429751   \n",
       "...              ...         ...              ...         ...   \n",
       "259178     15955.000         0.0         112320.0      313475   \n",
       "1414414    15955.000         0.0         112320.0      419026   \n",
       "131932      9342.135    102010.5          94135.5      391276   \n",
       "671155     15955.000         0.0         112320.0      307283   \n",
       "121958      4897.440     54355.5          49162.5      422349   \n",
       "\n",
       "        NAME_CONTRACT_TYPE WEEKDAY_APPR_PROCESS_START  \\\n",
       "613497      Consumer loans                    TUESDAY   \n",
       "821675          Cash loans                     MONDAY   \n",
       "955550          Cash loans                   SATURDAY   \n",
       "1015863    Revolving loans                   THURSDAY   \n",
       "567494          Cash loans                     FRIDAY   \n",
       "...                    ...                        ...   \n",
       "259178          Cash loans                     FRIDAY   \n",
       "1414414    Revolving loans                     MONDAY   \n",
       "131932      Consumer loans                   THURSDAY   \n",
       "671155          Cash loans                   THURSDAY   \n",
       "121958      Consumer loans                   THURSDAY   \n",
       "\n",
       "         HOUR_APPR_PROCESS_START NAME_TYPE_SUITE  \n",
       "613497                         9   Unaccompanied  \n",
       "821675                        10   Unaccompanied  \n",
       "955550                        17   Unaccompanied  \n",
       "1015863                       14   Unaccompanied  \n",
       "567494                        10   Unaccompanied  \n",
       "...                          ...             ...  \n",
       "259178                        16   Unaccompanied  \n",
       "1414414                       10   Unaccompanied  \n",
       "131932                        19   Unaccompanied  \n",
       "671155                        12   Unaccompanied  \n",
       "121958                        11   Unaccompanied  \n",
       "\n",
       "[1252660 rows x 8 columns]"
      ]
     },
     "execution_count": 226,
     "metadata": {},
     "output_type": "execute_result"
    }
   ],
   "source": [
    "X_train"
   ]
  },
  {
   "cell_type": "code",
   "execution_count": 224,
   "id": "29b0fbff",
   "metadata": {},
   "outputs": [
    {
     "data": {
      "text/html": [
       "<div>\n",
       "<style scoped>\n",
       "    .dataframe tbody tr th:only-of-type {\n",
       "        vertical-align: middle;\n",
       "    }\n",
       "\n",
       "    .dataframe tbody tr th {\n",
       "        vertical-align: top;\n",
       "    }\n",
       "\n",
       "    .dataframe thead th {\n",
       "        text-align: right;\n",
       "    }\n",
       "</style>\n",
       "<table border=\"1\" class=\"dataframe\">\n",
       "  <thead>\n",
       "    <tr style=\"text-align: right;\">\n",
       "      <th></th>\n",
       "      <th>AMT_ANNUITY</th>\n",
       "      <th>AMT_CREDIT</th>\n",
       "      <th>AMT_GOODS_PRICE</th>\n",
       "      <th>SK_ID_CURR</th>\n",
       "      <th>NAME_CONTRACT_TYPE</th>\n",
       "      <th>WEEKDAY_APPR_PROCESS_START</th>\n",
       "      <th>HOUR_APPR_PROCESS_START</th>\n",
       "      <th>NAME_TYPE_SUITE</th>\n",
       "    </tr>\n",
       "  </thead>\n",
       "  <tbody>\n",
       "    <tr>\n",
       "      <th>0</th>\n",
       "      <td>1730.430</td>\n",
       "      <td>17145.0</td>\n",
       "      <td>17145.0</td>\n",
       "      <td>271877</td>\n",
       "      <td>Consumer loans</td>\n",
       "      <td>SATURDAY</td>\n",
       "      <td>15</td>\n",
       "      <td>Unaccompanied</td>\n",
       "    </tr>\n",
       "    <tr>\n",
       "      <th>1</th>\n",
       "      <td>25188.615</td>\n",
       "      <td>679671.0</td>\n",
       "      <td>607500.0</td>\n",
       "      <td>108129</td>\n",
       "      <td>Cash loans</td>\n",
       "      <td>THURSDAY</td>\n",
       "      <td>11</td>\n",
       "      <td>Unaccompanied</td>\n",
       "    </tr>\n",
       "    <tr>\n",
       "      <th>2</th>\n",
       "      <td>15060.735</td>\n",
       "      <td>136444.5</td>\n",
       "      <td>112500.0</td>\n",
       "      <td>122040</td>\n",
       "      <td>Cash loans</td>\n",
       "      <td>TUESDAY</td>\n",
       "      <td>11</td>\n",
       "      <td>Spouse, partner</td>\n",
       "    </tr>\n",
       "  </tbody>\n",
       "</table>\n",
       "</div>"
      ],
      "text/plain": [
       "   AMT_ANNUITY  AMT_CREDIT  AMT_GOODS_PRICE  SK_ID_CURR NAME_CONTRACT_TYPE  \\\n",
       "0     1730.430     17145.0          17145.0      271877     Consumer loans   \n",
       "1    25188.615    679671.0         607500.0      108129         Cash loans   \n",
       "2    15060.735    136444.5         112500.0      122040         Cash loans   \n",
       "\n",
       "  WEEKDAY_APPR_PROCESS_START  HOUR_APPR_PROCESS_START  NAME_TYPE_SUITE  \n",
       "0                   SATURDAY                       15    Unaccompanied  \n",
       "1                   THURSDAY                       11    Unaccompanied  \n",
       "2                    TUESDAY                       11  Spouse, partner  "
      ]
     },
     "execution_count": 224,
     "metadata": {},
     "output_type": "execute_result"
    }
   ],
   "source": [
    "X[:3]"
   ]
  },
  {
   "cell_type": "code",
   "execution_count": 220,
   "id": "3b252d78",
   "metadata": {
    "scrolled": false
   },
   "outputs": [
    {
     "name": "stderr",
     "output_type": "stream",
     "text": [
      "C:\\Users\\kpear\\AppData\\Local\\Temp/ipykernel_15164/1167543859.py:2: FutureWarning: Using a non-tuple sequence for multidimensional indexing is deprecated; use `arr[tuple(seq)]` instead of `arr[seq]`. In the future this will be interpreted as an array index, `arr[np.array(seq)]`, which will result either in an error or a different result.\n",
      "  X_train[columns_to_encode]\n"
     ]
    },
    {
     "ename": "IndexError",
     "evalue": "only integers, slices (`:`), ellipsis (`...`), numpy.newaxis (`None`) and integer or boolean arrays are valid indices",
     "output_type": "error",
     "traceback": [
      "\u001b[1;31m---------------------------------------------------------------------------\u001b[0m",
      "\u001b[1;31mIndexError\u001b[0m                                Traceback (most recent call last)",
      "\u001b[1;32m~\\AppData\\Local\\Temp/ipykernel_15164/1167543859.py\u001b[0m in \u001b[0;36m<module>\u001b[1;34m\u001b[0m\n\u001b[0;32m      1\u001b[0m \u001b[0mcolumns_to_encode\u001b[0m \u001b[1;33m=\u001b[0m \u001b[1;33m[\u001b[0m\u001b[1;33m(\u001b[0m\u001b[1;34m'NAME_CONTRACT_TYPE'\u001b[0m\u001b[1;33m,\u001b[0m\u001b[1;34m'WEEKDAY_APPR_PROCESS_START'\u001b[0m\u001b[1;33m,\u001b[0m\u001b[1;34m'NAME_TYPE_SUITE'\u001b[0m\u001b[1;33m)\u001b[0m\u001b[1;33m]\u001b[0m\u001b[1;33m\u001b[0m\u001b[1;33m\u001b[0m\u001b[0m\n\u001b[1;32m----> 2\u001b[1;33m \u001b[0mX_train\u001b[0m\u001b[1;33m[\u001b[0m\u001b[0mcolumns_to_encode\u001b[0m\u001b[1;33m]\u001b[0m\u001b[1;33m\u001b[0m\u001b[1;33m\u001b[0m\u001b[0m\n\u001b[0m",
      "\u001b[1;31mIndexError\u001b[0m: only integers, slices (`:`), ellipsis (`...`), numpy.newaxis (`None`) and integer or boolean arrays are valid indices"
     ]
    }
   ],
   "source": [
    "columns_to_encode = [('NAME_CONTRACT_TYPE','WEEKDAY_APPR_PROCESS_START','NAME_TYPE_SUITE')]\n",
    "X_train[columns_to_encode]"
   ]
  },
  {
   "cell_type": "code",
   "execution_count": 248,
   "id": "5012cdb6",
   "metadata": {
    "scrolled": true
   },
   "outputs": [
    {
     "data": {
      "text/html": [
       "<div>\n",
       "<style scoped>\n",
       "    .dataframe tbody tr th:only-of-type {\n",
       "        vertical-align: middle;\n",
       "    }\n",
       "\n",
       "    .dataframe tbody tr th {\n",
       "        vertical-align: top;\n",
       "    }\n",
       "\n",
       "    .dataframe thead th {\n",
       "        text-align: right;\n",
       "    }\n",
       "</style>\n",
       "<table border=\"1\" class=\"dataframe\">\n",
       "  <thead>\n",
       "    <tr style=\"text-align: right;\">\n",
       "      <th></th>\n",
       "      <th>AMT_ANNUITY</th>\n",
       "      <th>AMT_CREDIT</th>\n",
       "      <th>AMT_GOODS_PRICE</th>\n",
       "      <th>SK_ID_CURR</th>\n",
       "      <th>HOUR_APPR_PROCESS_START</th>\n",
       "      <th>x0_Cash loans</th>\n",
       "      <th>x0_Consumer loans</th>\n",
       "      <th>x0_Revolving loans</th>\n",
       "      <th>x0_XNA</th>\n",
       "      <th>x1_FRIDAY</th>\n",
       "      <th>...</th>\n",
       "      <th>x1_THURSDAY</th>\n",
       "      <th>x1_TUESDAY</th>\n",
       "      <th>x1_WEDNESDAY</th>\n",
       "      <th>x2_Children</th>\n",
       "      <th>x2_Family</th>\n",
       "      <th>x2_Group of people</th>\n",
       "      <th>x2_Other_A</th>\n",
       "      <th>x2_Other_B</th>\n",
       "      <th>x2_Spouse, partner</th>\n",
       "      <th>x2_Unaccompanied</th>\n",
       "    </tr>\n",
       "  </thead>\n",
       "  <tbody>\n",
       "    <tr>\n",
       "      <th>613497</th>\n",
       "      <td>-0.949851</td>\n",
       "      <td>-0.559431</td>\n",
       "      <td>-0.655501</td>\n",
       "      <td>1.478715</td>\n",
       "      <td>-1.043944</td>\n",
       "      <td>0.0</td>\n",
       "      <td>1.0</td>\n",
       "      <td>0.0</td>\n",
       "      <td>0.0</td>\n",
       "      <td>0.0</td>\n",
       "      <td>...</td>\n",
       "      <td>0.0</td>\n",
       "      <td>1.0</td>\n",
       "      <td>0.0</td>\n",
       "      <td>0.0</td>\n",
       "      <td>0.0</td>\n",
       "      <td>0.0</td>\n",
       "      <td>0.0</td>\n",
       "      <td>0.0</td>\n",
       "      <td>0.0</td>\n",
       "      <td>1.0</td>\n",
       "    </tr>\n",
       "    <tr>\n",
       "      <th>821675</th>\n",
       "      <td>0.045252</td>\n",
       "      <td>0.392221</td>\n",
       "      <td>0.084685</td>\n",
       "      <td>-1.248254</td>\n",
       "      <td>-0.744157</td>\n",
       "      <td>1.0</td>\n",
       "      <td>0.0</td>\n",
       "      <td>0.0</td>\n",
       "      <td>0.0</td>\n",
       "      <td>0.0</td>\n",
       "      <td>...</td>\n",
       "      <td>0.0</td>\n",
       "      <td>0.0</td>\n",
       "      <td>0.0</td>\n",
       "      <td>0.0</td>\n",
       "      <td>0.0</td>\n",
       "      <td>0.0</td>\n",
       "      <td>0.0</td>\n",
       "      <td>0.0</td>\n",
       "      <td>0.0</td>\n",
       "      <td>1.0</td>\n",
       "    </tr>\n",
       "    <tr>\n",
       "      <th>955550</th>\n",
       "      <td>1.391647</td>\n",
       "      <td>3.444153</td>\n",
       "      <td>3.304906</td>\n",
       "      <td>0.200969</td>\n",
       "      <td>1.354349</td>\n",
       "      <td>1.0</td>\n",
       "      <td>0.0</td>\n",
       "      <td>0.0</td>\n",
       "      <td>0.0</td>\n",
       "      <td>0.0</td>\n",
       "      <td>...</td>\n",
       "      <td>0.0</td>\n",
       "      <td>0.0</td>\n",
       "      <td>0.0</td>\n",
       "      <td>0.0</td>\n",
       "      <td>0.0</td>\n",
       "      <td>0.0</td>\n",
       "      <td>0.0</td>\n",
       "      <td>0.0</td>\n",
       "      <td>0.0</td>\n",
       "      <td>1.0</td>\n",
       "    </tr>\n",
       "    <tr>\n",
       "      <th>1015863</th>\n",
       "      <td>-1.050469</td>\n",
       "      <td>-0.474503</td>\n",
       "      <td>-0.556155</td>\n",
       "      <td>-1.048710</td>\n",
       "      <td>0.454989</td>\n",
       "      <td>0.0</td>\n",
       "      <td>0.0</td>\n",
       "      <td>1.0</td>\n",
       "      <td>0.0</td>\n",
       "      <td>0.0</td>\n",
       "      <td>...</td>\n",
       "      <td>1.0</td>\n",
       "      <td>0.0</td>\n",
       "      <td>0.0</td>\n",
       "      <td>0.0</td>\n",
       "      <td>0.0</td>\n",
       "      <td>0.0</td>\n",
       "      <td>0.0</td>\n",
       "      <td>0.0</td>\n",
       "      <td>0.0</td>\n",
       "      <td>1.0</td>\n",
       "    </tr>\n",
       "    <tr>\n",
       "      <th>567494</th>\n",
       "      <td>-0.520509</td>\n",
       "      <td>-0.358798</td>\n",
       "      <td>-0.476050</td>\n",
       "      <td>1.471382</td>\n",
       "      <td>-0.744157</td>\n",
       "      <td>1.0</td>\n",
       "      <td>0.0</td>\n",
       "      <td>0.0</td>\n",
       "      <td>0.0</td>\n",
       "      <td>1.0</td>\n",
       "      <td>...</td>\n",
       "      <td>0.0</td>\n",
       "      <td>0.0</td>\n",
       "      <td>0.0</td>\n",
       "      <td>0.0</td>\n",
       "      <td>0.0</td>\n",
       "      <td>0.0</td>\n",
       "      <td>0.0</td>\n",
       "      <td>0.0</td>\n",
       "      <td>0.0</td>\n",
       "      <td>1.0</td>\n",
       "    </tr>\n",
       "    <tr>\n",
       "      <th>...</th>\n",
       "      <td>...</td>\n",
       "      <td>...</td>\n",
       "      <td>...</td>\n",
       "      <td>...</td>\n",
       "      <td>...</td>\n",
       "      <td>...</td>\n",
       "      <td>...</td>\n",
       "      <td>...</td>\n",
       "      <td>...</td>\n",
       "      <td>...</td>\n",
       "      <td>...</td>\n",
       "      <td>...</td>\n",
       "      <td>...</td>\n",
       "      <td>...</td>\n",
       "      <td>...</td>\n",
       "      <td>...</td>\n",
       "      <td>...</td>\n",
       "      <td>...</td>\n",
       "      <td>...</td>\n",
       "      <td>...</td>\n",
       "      <td>...</td>\n",
       "    </tr>\n",
       "    <tr>\n",
       "      <th>259178</th>\n",
       "      <td>-0.000376</td>\n",
       "      <td>-0.615743</td>\n",
       "      <td>-0.316481</td>\n",
       "      <td>0.340566</td>\n",
       "      <td>1.054563</td>\n",
       "      <td>1.0</td>\n",
       "      <td>0.0</td>\n",
       "      <td>0.0</td>\n",
       "      <td>0.0</td>\n",
       "      <td>1.0</td>\n",
       "      <td>...</td>\n",
       "      <td>0.0</td>\n",
       "      <td>0.0</td>\n",
       "      <td>0.0</td>\n",
       "      <td>0.0</td>\n",
       "      <td>0.0</td>\n",
       "      <td>0.0</td>\n",
       "      <td>0.0</td>\n",
       "      <td>0.0</td>\n",
       "      <td>0.0</td>\n",
       "      <td>1.0</td>\n",
       "    </tr>\n",
       "    <tr>\n",
       "      <th>1414414</th>\n",
       "      <td>-0.000376</td>\n",
       "      <td>-0.615743</td>\n",
       "      <td>-0.316481</td>\n",
       "      <td>1.367079</td>\n",
       "      <td>-0.744157</td>\n",
       "      <td>0.0</td>\n",
       "      <td>0.0</td>\n",
       "      <td>1.0</td>\n",
       "      <td>0.0</td>\n",
       "      <td>0.0</td>\n",
       "      <td>...</td>\n",
       "      <td>0.0</td>\n",
       "      <td>0.0</td>\n",
       "      <td>0.0</td>\n",
       "      <td>0.0</td>\n",
       "      <td>0.0</td>\n",
       "      <td>0.0</td>\n",
       "      <td>0.0</td>\n",
       "      <td>0.0</td>\n",
       "      <td>0.0</td>\n",
       "      <td>1.0</td>\n",
       "    </tr>\n",
       "    <tr>\n",
       "      <th>131932</th>\n",
       "      <td>-0.507062</td>\n",
       "      <td>-0.295565</td>\n",
       "      <td>-0.381221</td>\n",
       "      <td>1.097202</td>\n",
       "      <td>1.953923</td>\n",
       "      <td>0.0</td>\n",
       "      <td>1.0</td>\n",
       "      <td>0.0</td>\n",
       "      <td>0.0</td>\n",
       "      <td>0.0</td>\n",
       "      <td>...</td>\n",
       "      <td>1.0</td>\n",
       "      <td>0.0</td>\n",
       "      <td>0.0</td>\n",
       "      <td>0.0</td>\n",
       "      <td>0.0</td>\n",
       "      <td>0.0</td>\n",
       "      <td>0.0</td>\n",
       "      <td>0.0</td>\n",
       "      <td>0.0</td>\n",
       "      <td>1.0</td>\n",
       "    </tr>\n",
       "    <tr>\n",
       "      <th>671155</th>\n",
       "      <td>-0.000376</td>\n",
       "      <td>-0.615743</td>\n",
       "      <td>-0.316481</td>\n",
       "      <td>0.280347</td>\n",
       "      <td>-0.144584</td>\n",
       "      <td>1.0</td>\n",
       "      <td>0.0</td>\n",
       "      <td>0.0</td>\n",
       "      <td>0.0</td>\n",
       "      <td>0.0</td>\n",
       "      <td>...</td>\n",
       "      <td>1.0</td>\n",
       "      <td>0.0</td>\n",
       "      <td>0.0</td>\n",
       "      <td>0.0</td>\n",
       "      <td>0.0</td>\n",
       "      <td>0.0</td>\n",
       "      <td>0.0</td>\n",
       "      <td>0.0</td>\n",
       "      <td>0.0</td>\n",
       "      <td>1.0</td>\n",
       "    </tr>\n",
       "    <tr>\n",
       "      <th>121958</th>\n",
       "      <td>-0.847619</td>\n",
       "      <td>-0.445139</td>\n",
       "      <td>-0.541335</td>\n",
       "      <td>1.399396</td>\n",
       "      <td>-0.444371</td>\n",
       "      <td>0.0</td>\n",
       "      <td>1.0</td>\n",
       "      <td>0.0</td>\n",
       "      <td>0.0</td>\n",
       "      <td>0.0</td>\n",
       "      <td>...</td>\n",
       "      <td>1.0</td>\n",
       "      <td>0.0</td>\n",
       "      <td>0.0</td>\n",
       "      <td>0.0</td>\n",
       "      <td>0.0</td>\n",
       "      <td>0.0</td>\n",
       "      <td>0.0</td>\n",
       "      <td>0.0</td>\n",
       "      <td>0.0</td>\n",
       "      <td>1.0</td>\n",
       "    </tr>\n",
       "  </tbody>\n",
       "</table>\n",
       "<p>1252660 rows × 23 columns</p>\n",
       "</div>"
      ],
      "text/plain": [
       "         AMT_ANNUITY  AMT_CREDIT  AMT_GOODS_PRICE  SK_ID_CURR  \\\n",
       "613497     -0.949851   -0.559431        -0.655501    1.478715   \n",
       "821675      0.045252    0.392221         0.084685   -1.248254   \n",
       "955550      1.391647    3.444153         3.304906    0.200969   \n",
       "1015863    -1.050469   -0.474503        -0.556155   -1.048710   \n",
       "567494     -0.520509   -0.358798        -0.476050    1.471382   \n",
       "...              ...         ...              ...         ...   \n",
       "259178     -0.000376   -0.615743        -0.316481    0.340566   \n",
       "1414414    -0.000376   -0.615743        -0.316481    1.367079   \n",
       "131932     -0.507062   -0.295565        -0.381221    1.097202   \n",
       "671155     -0.000376   -0.615743        -0.316481    0.280347   \n",
       "121958     -0.847619   -0.445139        -0.541335    1.399396   \n",
       "\n",
       "         HOUR_APPR_PROCESS_START  x0_Cash loans  x0_Consumer loans  \\\n",
       "613497                 -1.043944            0.0                1.0   \n",
       "821675                 -0.744157            1.0                0.0   \n",
       "955550                  1.354349            1.0                0.0   \n",
       "1015863                 0.454989            0.0                0.0   \n",
       "567494                 -0.744157            1.0                0.0   \n",
       "...                          ...            ...                ...   \n",
       "259178                  1.054563            1.0                0.0   \n",
       "1414414                -0.744157            0.0                0.0   \n",
       "131932                  1.953923            0.0                1.0   \n",
       "671155                 -0.144584            1.0                0.0   \n",
       "121958                 -0.444371            0.0                1.0   \n",
       "\n",
       "         x0_Revolving loans  x0_XNA  x1_FRIDAY  ...  x1_THURSDAY  x1_TUESDAY  \\\n",
       "613497                  0.0     0.0        0.0  ...          0.0         1.0   \n",
       "821675                  0.0     0.0        0.0  ...          0.0         0.0   \n",
       "955550                  0.0     0.0        0.0  ...          0.0         0.0   \n",
       "1015863                 1.0     0.0        0.0  ...          1.0         0.0   \n",
       "567494                  0.0     0.0        1.0  ...          0.0         0.0   \n",
       "...                     ...     ...        ...  ...          ...         ...   \n",
       "259178                  0.0     0.0        1.0  ...          0.0         0.0   \n",
       "1414414                 1.0     0.0        0.0  ...          0.0         0.0   \n",
       "131932                  0.0     0.0        0.0  ...          1.0         0.0   \n",
       "671155                  0.0     0.0        0.0  ...          1.0         0.0   \n",
       "121958                  0.0     0.0        0.0  ...          1.0         0.0   \n",
       "\n",
       "         x1_WEDNESDAY  x2_Children  x2_Family  x2_Group of people  x2_Other_A  \\\n",
       "613497            0.0          0.0        0.0                 0.0         0.0   \n",
       "821675            0.0          0.0        0.0                 0.0         0.0   \n",
       "955550            0.0          0.0        0.0                 0.0         0.0   \n",
       "1015863           0.0          0.0        0.0                 0.0         0.0   \n",
       "567494            0.0          0.0        0.0                 0.0         0.0   \n",
       "...               ...          ...        ...                 ...         ...   \n",
       "259178            0.0          0.0        0.0                 0.0         0.0   \n",
       "1414414           0.0          0.0        0.0                 0.0         0.0   \n",
       "131932            0.0          0.0        0.0                 0.0         0.0   \n",
       "671155            0.0          0.0        0.0                 0.0         0.0   \n",
       "121958            0.0          0.0        0.0                 0.0         0.0   \n",
       "\n",
       "         x2_Other_B  x2_Spouse, partner  x2_Unaccompanied  \n",
       "613497          0.0                 0.0               1.0  \n",
       "821675          0.0                 0.0               1.0  \n",
       "955550          0.0                 0.0               1.0  \n",
       "1015863         0.0                 0.0               1.0  \n",
       "567494          0.0                 0.0               1.0  \n",
       "...             ...                 ...               ...  \n",
       "259178          0.0                 0.0               1.0  \n",
       "1414414         0.0                 0.0               1.0  \n",
       "131932          0.0                 0.0               1.0  \n",
       "671155          0.0                 0.0               1.0  \n",
       "121958          0.0                 0.0               1.0  \n",
       "\n",
       "[1252660 rows x 23 columns]"
      ]
     },
     "execution_count": 248,
     "metadata": {},
     "output_type": "execute_result"
    }
   ],
   "source": [
    "# Import libraries and download example data\n",
    "from sklearn.preprocessing import StandardScaler, OneHotEncoder\n",
    "\n",
    "dataset = X_train\n",
    "\n",
    "# Define which columns should be encoded vs scaled\n",
    "columns_to_encode = ['NAME_CONTRACT_TYPE','WEEKDAY_APPR_PROCESS_START','NAME_TYPE_SUITE']\n",
    "columns_to_scale  = ['AMT_ANNUITY', 'AMT_CREDIT','AMT_GOODS_PRICE','SK_ID_CURR',\n",
    "                     'HOUR_APPR_PROCESS_START']\n",
    "\n",
    "# Instantiate encoder/scaler\n",
    "scaler = StandardScaler()\n",
    "ohe    = OneHotEncoder(sparse=False)\n",
    "\n",
    "ohe.fit(dataset.select_dtypes('object'))\n",
    "\n",
    "# Scale and Encode Separate Columns\n",
    "scaled_columns  = pd.DataFrame(scaler.fit_transform(dataset[columns_to_scale]),index=dataset.index,columns=columns_to_scale)\n",
    "encoded_columns = pd.DataFrame(ohe.transform(dataset.select_dtypes('object')),index=dataset.index, columns=ohe.get_feature_names().tolist())\n",
    "\n",
    "\n",
    "# Concatenate (Column-Bind) Processed Columns Back Together\n",
    "processed_data = pd.concat([scaled_columns, encoded_columns], axis=1)\n",
    "processed_data"
   ]
  },
  {
   "cell_type": "code",
   "execution_count": 249,
   "id": "b65c1725",
   "metadata": {},
   "outputs": [
    {
     "data": {
      "text/html": [
       "<div>\n",
       "<style scoped>\n",
       "    .dataframe tbody tr th:only-of-type {\n",
       "        vertical-align: middle;\n",
       "    }\n",
       "\n",
       "    .dataframe tbody tr th {\n",
       "        vertical-align: top;\n",
       "    }\n",
       "\n",
       "    .dataframe thead th {\n",
       "        text-align: right;\n",
       "    }\n",
       "</style>\n",
       "<table border=\"1\" class=\"dataframe\">\n",
       "  <thead>\n",
       "    <tr style=\"text-align: right;\">\n",
       "      <th></th>\n",
       "      <th>AMT_ANNUITY</th>\n",
       "      <th>AMT_CREDIT</th>\n",
       "      <th>AMT_GOODS_PRICE</th>\n",
       "      <th>SK_ID_CURR</th>\n",
       "      <th>HOUR_APPR_PROCESS_START</th>\n",
       "      <th>x0_Cash loans</th>\n",
       "      <th>x0_Consumer loans</th>\n",
       "      <th>x0_Revolving loans</th>\n",
       "      <th>x0_XNA</th>\n",
       "      <th>x1_FRIDAY</th>\n",
       "      <th>...</th>\n",
       "      <th>x1_THURSDAY</th>\n",
       "      <th>x1_TUESDAY</th>\n",
       "      <th>x1_WEDNESDAY</th>\n",
       "      <th>x2_Children</th>\n",
       "      <th>x2_Family</th>\n",
       "      <th>x2_Group of people</th>\n",
       "      <th>x2_Other_A</th>\n",
       "      <th>x2_Other_B</th>\n",
       "      <th>x2_Spouse, partner</th>\n",
       "      <th>x2_Unaccompanied</th>\n",
       "    </tr>\n",
       "  </thead>\n",
       "  <tbody>\n",
       "    <tr>\n",
       "      <th>876718</th>\n",
       "      <td>-0.815388</td>\n",
       "      <td>-0.533880</td>\n",
       "      <td>-0.618044</td>\n",
       "      <td>-1.469455</td>\n",
       "      <td>-0.744157</td>\n",
       "      <td>0.0</td>\n",
       "      <td>1.0</td>\n",
       "      <td>0.0</td>\n",
       "      <td>0.0</td>\n",
       "      <td>0.0</td>\n",
       "      <td>...</td>\n",
       "      <td>0.0</td>\n",
       "      <td>0.0</td>\n",
       "      <td>1.0</td>\n",
       "      <td>0.0</td>\n",
       "      <td>0.0</td>\n",
       "      <td>0.0</td>\n",
       "      <td>0.0</td>\n",
       "      <td>0.0</td>\n",
       "      <td>0.0</td>\n",
       "      <td>1.0</td>\n",
       "    </tr>\n",
       "    <tr>\n",
       "      <th>1463966</th>\n",
       "      <td>0.289477</td>\n",
       "      <td>-0.097150</td>\n",
       "      <td>-0.235735</td>\n",
       "      <td>-0.579845</td>\n",
       "      <td>-1.343731</td>\n",
       "      <td>1.0</td>\n",
       "      <td>0.0</td>\n",
       "      <td>0.0</td>\n",
       "      <td>0.0</td>\n",
       "      <td>0.0</td>\n",
       "      <td>...</td>\n",
       "      <td>0.0</td>\n",
       "      <td>0.0</td>\n",
       "      <td>1.0</td>\n",
       "      <td>0.0</td>\n",
       "      <td>0.0</td>\n",
       "      <td>0.0</td>\n",
       "      <td>0.0</td>\n",
       "      <td>0.0</td>\n",
       "      <td>0.0</td>\n",
       "      <td>1.0</td>\n",
       "    </tr>\n",
       "    <tr>\n",
       "      <th>354631</th>\n",
       "      <td>-0.969656</td>\n",
       "      <td>-0.513542</td>\n",
       "      <td>-0.587540</td>\n",
       "      <td>-1.695870</td>\n",
       "      <td>-0.444371</td>\n",
       "      <td>0.0</td>\n",
       "      <td>1.0</td>\n",
       "      <td>0.0</td>\n",
       "      <td>0.0</td>\n",
       "      <td>1.0</td>\n",
       "      <td>...</td>\n",
       "      <td>0.0</td>\n",
       "      <td>0.0</td>\n",
       "      <td>0.0</td>\n",
       "      <td>0.0</td>\n",
       "      <td>0.0</td>\n",
       "      <td>0.0</td>\n",
       "      <td>0.0</td>\n",
       "      <td>0.0</td>\n",
       "      <td>0.0</td>\n",
       "      <td>1.0</td>\n",
       "    </tr>\n",
       "    <tr>\n",
       "      <th>408441</th>\n",
       "      <td>-0.386735</td>\n",
       "      <td>0.140516</td>\n",
       "      <td>0.141464</td>\n",
       "      <td>1.077499</td>\n",
       "      <td>-1.043944</td>\n",
       "      <td>0.0</td>\n",
       "      <td>1.0</td>\n",
       "      <td>0.0</td>\n",
       "      <td>0.0</td>\n",
       "      <td>0.0</td>\n",
       "      <td>...</td>\n",
       "      <td>0.0</td>\n",
       "      <td>0.0</td>\n",
       "      <td>0.0</td>\n",
       "      <td>0.0</td>\n",
       "      <td>0.0</td>\n",
       "      <td>0.0</td>\n",
       "      <td>0.0</td>\n",
       "      <td>0.0</td>\n",
       "      <td>0.0</td>\n",
       "      <td>1.0</td>\n",
       "    </tr>\n",
       "    <tr>\n",
       "      <th>37031</th>\n",
       "      <td>-0.000376</td>\n",
       "      <td>-0.615743</td>\n",
       "      <td>-0.316481</td>\n",
       "      <td>1.041476</td>\n",
       "      <td>0.155203</td>\n",
       "      <td>1.0</td>\n",
       "      <td>0.0</td>\n",
       "      <td>0.0</td>\n",
       "      <td>0.0</td>\n",
       "      <td>0.0</td>\n",
       "      <td>...</td>\n",
       "      <td>1.0</td>\n",
       "      <td>0.0</td>\n",
       "      <td>0.0</td>\n",
       "      <td>0.0</td>\n",
       "      <td>0.0</td>\n",
       "      <td>0.0</td>\n",
       "      <td>0.0</td>\n",
       "      <td>0.0</td>\n",
       "      <td>0.0</td>\n",
       "      <td>1.0</td>\n",
       "    </tr>\n",
       "    <tr>\n",
       "      <th>...</th>\n",
       "      <td>...</td>\n",
       "      <td>...</td>\n",
       "      <td>...</td>\n",
       "      <td>...</td>\n",
       "      <td>...</td>\n",
       "      <td>...</td>\n",
       "      <td>...</td>\n",
       "      <td>...</td>\n",
       "      <td>...</td>\n",
       "      <td>...</td>\n",
       "      <td>...</td>\n",
       "      <td>...</td>\n",
       "      <td>...</td>\n",
       "      <td>...</td>\n",
       "      <td>...</td>\n",
       "      <td>...</td>\n",
       "      <td>...</td>\n",
       "      <td>...</td>\n",
       "      <td>...</td>\n",
       "      <td>...</td>\n",
       "      <td>...</td>\n",
       "    </tr>\n",
       "    <tr>\n",
       "      <th>738518</th>\n",
       "      <td>-0.659899</td>\n",
       "      <td>-0.534798</td>\n",
       "      <td>-0.617595</td>\n",
       "      <td>-0.084342</td>\n",
       "      <td>-0.444371</td>\n",
       "      <td>0.0</td>\n",
       "      <td>1.0</td>\n",
       "      <td>0.0</td>\n",
       "      <td>0.0</td>\n",
       "      <td>1.0</td>\n",
       "      <td>...</td>\n",
       "      <td>0.0</td>\n",
       "      <td>0.0</td>\n",
       "      <td>0.0</td>\n",
       "      <td>0.0</td>\n",
       "      <td>0.0</td>\n",
       "      <td>0.0</td>\n",
       "      <td>0.0</td>\n",
       "      <td>0.0</td>\n",
       "      <td>1.0</td>\n",
       "      <td>0.0</td>\n",
       "    </tr>\n",
       "    <tr>\n",
       "      <th>326641</th>\n",
       "      <td>0.524904</td>\n",
       "      <td>0.160375</td>\n",
       "      <td>0.084685</td>\n",
       "      <td>0.172873</td>\n",
       "      <td>-1.043944</td>\n",
       "      <td>1.0</td>\n",
       "      <td>0.0</td>\n",
       "      <td>0.0</td>\n",
       "      <td>0.0</td>\n",
       "      <td>0.0</td>\n",
       "      <td>...</td>\n",
       "      <td>1.0</td>\n",
       "      <td>0.0</td>\n",
       "      <td>0.0</td>\n",
       "      <td>0.0</td>\n",
       "      <td>0.0</td>\n",
       "      <td>0.0</td>\n",
       "      <td>0.0</td>\n",
       "      <td>0.0</td>\n",
       "      <td>0.0</td>\n",
       "      <td>1.0</td>\n",
       "    </tr>\n",
       "    <tr>\n",
       "      <th>1590792</th>\n",
       "      <td>-0.754601</td>\n",
       "      <td>-0.410238</td>\n",
       "      <td>-0.483259</td>\n",
       "      <td>0.043244</td>\n",
       "      <td>1.054563</td>\n",
       "      <td>0.0</td>\n",
       "      <td>1.0</td>\n",
       "      <td>0.0</td>\n",
       "      <td>0.0</td>\n",
       "      <td>0.0</td>\n",
       "      <td>...</td>\n",
       "      <td>1.0</td>\n",
       "      <td>0.0</td>\n",
       "      <td>0.0</td>\n",
       "      <td>0.0</td>\n",
       "      <td>0.0</td>\n",
       "      <td>0.0</td>\n",
       "      <td>0.0</td>\n",
       "      <td>0.0</td>\n",
       "      <td>0.0</td>\n",
       "      <td>1.0</td>\n",
       "    </tr>\n",
       "    <tr>\n",
       "      <th>1175986</th>\n",
       "      <td>-0.000376</td>\n",
       "      <td>-0.615743</td>\n",
       "      <td>-0.316481</td>\n",
       "      <td>-0.305592</td>\n",
       "      <td>0.155203</td>\n",
       "      <td>1.0</td>\n",
       "      <td>0.0</td>\n",
       "      <td>0.0</td>\n",
       "      <td>0.0</td>\n",
       "      <td>0.0</td>\n",
       "      <td>...</td>\n",
       "      <td>0.0</td>\n",
       "      <td>0.0</td>\n",
       "      <td>0.0</td>\n",
       "      <td>0.0</td>\n",
       "      <td>0.0</td>\n",
       "      <td>0.0</td>\n",
       "      <td>0.0</td>\n",
       "      <td>0.0</td>\n",
       "      <td>0.0</td>\n",
       "      <td>1.0</td>\n",
       "    </tr>\n",
       "    <tr>\n",
       "      <th>1255307</th>\n",
       "      <td>-0.000376</td>\n",
       "      <td>-0.615743</td>\n",
       "      <td>-0.316481</td>\n",
       "      <td>-0.857054</td>\n",
       "      <td>0.155203</td>\n",
       "      <td>1.0</td>\n",
       "      <td>0.0</td>\n",
       "      <td>0.0</td>\n",
       "      <td>0.0</td>\n",
       "      <td>0.0</td>\n",
       "      <td>...</td>\n",
       "      <td>0.0</td>\n",
       "      <td>1.0</td>\n",
       "      <td>0.0</td>\n",
       "      <td>0.0</td>\n",
       "      <td>0.0</td>\n",
       "      <td>0.0</td>\n",
       "      <td>0.0</td>\n",
       "      <td>0.0</td>\n",
       "      <td>0.0</td>\n",
       "      <td>1.0</td>\n",
       "    </tr>\n",
       "  </tbody>\n",
       "</table>\n",
       "<p>417554 rows × 23 columns</p>\n",
       "</div>"
      ],
      "text/plain": [
       "         AMT_ANNUITY  AMT_CREDIT  AMT_GOODS_PRICE  SK_ID_CURR  \\\n",
       "876718     -0.815388   -0.533880        -0.618044   -1.469455   \n",
       "1463966     0.289477   -0.097150        -0.235735   -0.579845   \n",
       "354631     -0.969656   -0.513542        -0.587540   -1.695870   \n",
       "408441     -0.386735    0.140516         0.141464    1.077499   \n",
       "37031      -0.000376   -0.615743        -0.316481    1.041476   \n",
       "...              ...         ...              ...         ...   \n",
       "738518     -0.659899   -0.534798        -0.617595   -0.084342   \n",
       "326641      0.524904    0.160375         0.084685    0.172873   \n",
       "1590792    -0.754601   -0.410238        -0.483259    0.043244   \n",
       "1175986    -0.000376   -0.615743        -0.316481   -0.305592   \n",
       "1255307    -0.000376   -0.615743        -0.316481   -0.857054   \n",
       "\n",
       "         HOUR_APPR_PROCESS_START  x0_Cash loans  x0_Consumer loans  \\\n",
       "876718                 -0.744157            0.0                1.0   \n",
       "1463966                -1.343731            1.0                0.0   \n",
       "354631                 -0.444371            0.0                1.0   \n",
       "408441                 -1.043944            0.0                1.0   \n",
       "37031                   0.155203            1.0                0.0   \n",
       "...                          ...            ...                ...   \n",
       "738518                 -0.444371            0.0                1.0   \n",
       "326641                 -1.043944            1.0                0.0   \n",
       "1590792                 1.054563            0.0                1.0   \n",
       "1175986                 0.155203            1.0                0.0   \n",
       "1255307                 0.155203            1.0                0.0   \n",
       "\n",
       "         x0_Revolving loans  x0_XNA  x1_FRIDAY  ...  x1_THURSDAY  x1_TUESDAY  \\\n",
       "876718                  0.0     0.0        0.0  ...          0.0         0.0   \n",
       "1463966                 0.0     0.0        0.0  ...          0.0         0.0   \n",
       "354631                  0.0     0.0        1.0  ...          0.0         0.0   \n",
       "408441                  0.0     0.0        0.0  ...          0.0         0.0   \n",
       "37031                   0.0     0.0        0.0  ...          1.0         0.0   \n",
       "...                     ...     ...        ...  ...          ...         ...   \n",
       "738518                  0.0     0.0        1.0  ...          0.0         0.0   \n",
       "326641                  0.0     0.0        0.0  ...          1.0         0.0   \n",
       "1590792                 0.0     0.0        0.0  ...          1.0         0.0   \n",
       "1175986                 0.0     0.0        0.0  ...          0.0         0.0   \n",
       "1255307                 0.0     0.0        0.0  ...          0.0         1.0   \n",
       "\n",
       "         x1_WEDNESDAY  x2_Children  x2_Family  x2_Group of people  x2_Other_A  \\\n",
       "876718            1.0          0.0        0.0                 0.0         0.0   \n",
       "1463966           1.0          0.0        0.0                 0.0         0.0   \n",
       "354631            0.0          0.0        0.0                 0.0         0.0   \n",
       "408441            0.0          0.0        0.0                 0.0         0.0   \n",
       "37031             0.0          0.0        0.0                 0.0         0.0   \n",
       "...               ...          ...        ...                 ...         ...   \n",
       "738518            0.0          0.0        0.0                 0.0         0.0   \n",
       "326641            0.0          0.0        0.0                 0.0         0.0   \n",
       "1590792           0.0          0.0        0.0                 0.0         0.0   \n",
       "1175986           0.0          0.0        0.0                 0.0         0.0   \n",
       "1255307           0.0          0.0        0.0                 0.0         0.0   \n",
       "\n",
       "         x2_Other_B  x2_Spouse, partner  x2_Unaccompanied  \n",
       "876718          0.0                 0.0               1.0  \n",
       "1463966         0.0                 0.0               1.0  \n",
       "354631          0.0                 0.0               1.0  \n",
       "408441          0.0                 0.0               1.0  \n",
       "37031           0.0                 0.0               1.0  \n",
       "...             ...                 ...               ...  \n",
       "738518          0.0                 1.0               0.0  \n",
       "326641          0.0                 0.0               1.0  \n",
       "1590792         0.0                 0.0               1.0  \n",
       "1175986         0.0                 0.0               1.0  \n",
       "1255307         0.0                 0.0               1.0  \n",
       "\n",
       "[417554 rows x 23 columns]"
      ]
     },
     "execution_count": 249,
     "metadata": {},
     "output_type": "execute_result"
    }
   ],
   "source": [
    "# Import libraries and download example data\n",
    "from sklearn.preprocessing import StandardScaler, OneHotEncoder\n",
    "\n",
    "dataset2 = X_test\n",
    "\n",
    "# Define which columns should be encoded vs scaled\n",
    "columns_to_encode = ['NAME_CONTRACT_TYPE','WEEKDAY_APPR_PROCESS_START','NAME_TYPE_SUITE']\n",
    "columns_to_scale  = ['AMT_ANNUITY', 'AMT_CREDIT','AMT_GOODS_PRICE','SK_ID_CURR',\n",
    "                     'HOUR_APPR_PROCESS_START']\n",
    "\n",
    "\n",
    "# Scale and Encode Separate Columns\n",
    "scaled_columns2  = pd.DataFrame(scaler.transform(dataset2[columns_to_scale]),index=dataset2.index,columns=columns_to_scale)\n",
    "encoded_columns2 = pd.DataFrame(ohe.transform(dataset2.select_dtypes('object')),index=dataset2.index, columns=ohe.get_feature_names().tolist())\n",
    "\n",
    "\n",
    "# Concatenate (Column-Bind) Processed Columns Back Together\n",
    "processed_data2 = pd.concat([scaled_columns2, encoded_columns2], axis=1)\n",
    "processed_data2"
   ]
  },
  {
   "cell_type": "code",
   "execution_count": 251,
   "id": "7d0e5ee1",
   "metadata": {},
   "outputs": [
    {
     "name": "stderr",
     "output_type": "stream",
     "text": [
      "C:\\Users\\kpear\\anaconda3\\lib\\site-packages\\sklearn\\linear_model\\_logistic.py:763: ConvergenceWarning: lbfgs failed to converge (status=1):\n",
      "STOP: TOTAL NO. of ITERATIONS REACHED LIMIT.\n",
      "\n",
      "Increase the number of iterations (max_iter) or scale the data as shown in:\n",
      "    https://scikit-learn.org/stable/modules/preprocessing.html\n",
      "Please also refer to the documentation for alternative solver options:\n",
      "    https://scikit-learn.org/stable/modules/linear_model.html#logistic-regression\n",
      "  n_iter_i = _check_optimize_result(\n"
     ]
    },
    {
     "name": "stdout",
     "output_type": "stream",
     "text": [
      "Training Data Score: 0.8299857902383727\n",
      "Testing Data Score: 0.8295837185130546\n"
     ]
    }
   ],
   "source": [
    "classifier = LogisticRegression()\n",
    "classifier.fit(processed_data, y_train)\n",
    "print(f\"Training Data Score: {classifier.score(processed_data, y_train)}\")\n",
    "print(f\"Testing Data Score: {classifier.score(processed_data2, y_test)}\")"
   ]
  },
  {
   "cell_type": "code",
   "execution_count": 252,
   "id": "b40aec9b",
   "metadata": {},
   "outputs": [
    {
     "data": {
      "text/plain": [
       "array([[340093,   4831],\n",
       "       [ 66327,   6303]], dtype=int64)"
      ]
     },
     "execution_count": 252,
     "metadata": {},
     "output_type": "execute_result"
    }
   ],
   "source": [
    "from sklearn.metrics import confusion_matrix, classification_report\n",
    "\n",
    "y_true = y_test\n",
    "y_pred = classifier.predict(processed_data2)\n",
    "confusion_matrix(y_true, y_pred)"
   ]
  },
  {
   "cell_type": "code",
   "execution_count": 254,
   "id": "1b4eb0e0",
   "metadata": {},
   "outputs": [
    {
     "name": "stdout",
     "output_type": "stream",
     "text": [
      "              precision    recall  f1-score   support\n",
      "\n",
      "           0       0.84      0.99      0.91    344924\n",
      "           1       0.57      0.09      0.15     72630\n",
      "\n",
      "    accuracy                           0.83    417554\n",
      "   macro avg       0.70      0.54      0.53    417554\n",
      "weighted avg       0.79      0.83      0.77    417554\n",
      "\n"
     ]
    }
   ],
   "source": [
    "print(classification_report(y_true, y_pred))"
   ]
  },
  {
   "cell_type": "code",
   "execution_count": null,
   "id": "c8f99369",
   "metadata": {},
   "outputs": [],
   "source": []
  }
 ],
 "metadata": {
  "kernelspec": {
   "display_name": "Python 3 (ipykernel)",
   "language": "python",
   "name": "python3"
  },
  "language_info": {
   "codemirror_mode": {
    "name": "ipython",
    "version": 3
   },
   "file_extension": ".py",
   "mimetype": "text/x-python",
   "name": "python",
   "nbconvert_exporter": "python",
   "pygments_lexer": "ipython3",
   "version": "3.9.7"
  }
 },
 "nbformat": 4,
 "nbformat_minor": 5
}
