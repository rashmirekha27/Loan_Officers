{
 "cells": [
  {
   "cell_type": "code",
   "execution_count": null,
   "id": "72bb38cb",
   "metadata": {},
   "outputs": [],
   "source": [
    "import numpy as np\n",
    "import matplotlib.pyplot as plt\n",
    "%matplotlib inline\n",
    "import pandas as pd\n",
    "import seaborn as sns\n",
    "import itertools"
   ]
  },
  {
   "cell_type": "code",
   "execution_count": null,
   "id": "ebe6b2d0",
   "metadata": {},
   "outputs": [],
   "source": [
    "application_data = pd.read_csv(r'Resources/application_data.csv')"
   ]
  },
  {
   "cell_type": "code",
   "execution_count": null,
   "id": "020d5f66",
   "metadata": {},
   "outputs": [],
   "source": [
    "previous_application = pd.read_csv(r'Resources/previous_application.csv')"
   ]
  },
  {
   "cell_type": "code",
   "execution_count": null,
   "id": "dce490fd",
   "metadata": {},
   "outputs": [],
   "source": [
    "columns_description = pd.read_csv(r'Resources/columns_description.csv')"
   ]
  },
  {
   "cell_type": "code",
   "execution_count": null,
   "id": "0085027b",
   "metadata": {},
   "outputs": [],
   "source": [
    "application_data"
   ]
  },
  {
   "cell_type": "code",
   "execution_count": null,
   "id": "407026fc",
   "metadata": {},
   "outputs": [],
   "source": [
    "previous_application"
   ]
  },
  {
   "cell_type": "code",
   "execution_count": null,
   "id": "4c404f48",
   "metadata": {},
   "outputs": [],
   "source": [
    "columns_description.head(100)"
   ]
  },
  {
   "cell_type": "code",
   "execution_count": null,
   "id": "ad3132a0",
   "metadata": {
    "scrolled": true
   },
   "outputs": [],
   "source": [
    "print (\"application_data     :\",application_data.shape)\n",
    "print (\"previous_application :\",previous_application.shape)\n",
    "print (\"columns_description  :\",columns_description.shape)"
   ]
  },
  {
   "cell_type": "code",
   "execution_count": null,
   "id": "72b8e0bb",
   "metadata": {},
   "outputs": [],
   "source": [
    "pip install missingno "
   ]
  },
  {
   "cell_type": "code",
   "execution_count": null,
   "id": "ef0f7326",
   "metadata": {
    "scrolled": false
   },
   "outputs": [],
   "source": [
    "import missingno as msno"
   ]
  },
  {
   "cell_type": "code",
   "execution_count": null,
   "id": "4aabc3b6",
   "metadata": {
    "scrolled": true
   },
   "outputs": [],
   "source": [
    "msno.matrix(application_data)\n",
    "plt.figure(figsize = (15,9))\n",
    "plt.show()"
   ]
  },
  {
   "cell_type": "code",
   "execution_count": null,
   "id": "ec4c8edc",
   "metadata": {
    "scrolled": true
   },
   "outputs": [],
   "source": [
    "msno.dendrogram(application_data)"
   ]
  },
  {
   "cell_type": "code",
   "execution_count": null,
   "id": "ae4303b8",
   "metadata": {},
   "outputs": [],
   "source": [
    "pd.set_option('display.max_rows', 500)"
   ]
  },
  {
   "cell_type": "code",
   "execution_count": null,
   "id": "3bb0a6a2",
   "metadata": {
    "scrolled": true
   },
   "outputs": [],
   "source": [
    "display(round(100*(application_data.isnull().sum()/len(application_data.index)),2))"
   ]
  },
  {
   "cell_type": "code",
   "execution_count": null,
   "id": "fbe44d84",
   "metadata": {},
   "outputs": [],
   "source": [
    "missing_col = [col for col in application_data.columns if application_data[col].isna().sum()/application_data.shape[0] > 0]"
   ]
  },
  {
   "cell_type": "code",
   "execution_count": null,
   "id": "6442a531",
   "metadata": {
    "scrolled": true
   },
   "outputs": [],
   "source": [
    "missing_col\n"
   ]
  },
  {
   "cell_type": "code",
   "execution_count": null,
   "id": "a5d5c222",
   "metadata": {},
   "outputs": [],
   "source": [
    "missing_col1 = [col for col in application_data.columns if application_data[col].isna().sum()/application_data.shape[0] > 0.4]"
   ]
  },
  {
   "cell_type": "code",
   "execution_count": null,
   "id": "bfb4d852",
   "metadata": {},
   "outputs": [],
   "source": [
    "missing_col1"
   ]
  },
  {
   "cell_type": "code",
   "execution_count": null,
   "id": "f5b6d2c2",
   "metadata": {},
   "outputs": [],
   "source": [
    "application_data.drop(missing_col1, axis = 1, inplace = True)"
   ]
  },
  {
   "cell_type": "code",
   "execution_count": null,
   "id": "bd66c332",
   "metadata": {},
   "outputs": [],
   "source": [
    "application_data = application_data.drop(['EXT_SOURCE_2', 'EXT_SOURCE_3',\"OCCUPATION_TYPE\"],axis=1)"
   ]
  },
  {
   "cell_type": "code",
   "execution_count": null,
   "id": "f17ed4e2",
   "metadata": {
    "scrolled": true
   },
   "outputs": [],
   "source": [
    "application_data"
   ]
  },
  {
   "cell_type": "markdown",
   "id": "7d1e5138",
   "metadata": {
    "papermill": {
     "duration": 0.200507,
     "end_time": "2020-12-17T00:34:59.198497",
     "exception": false,
     "start_time": "2020-12-17T00:34:58.997990",
     "status": "completed"
    },
    "tags": []
   },
   "source": [
    "### MISSING values Suggestion"
   ]
  },
  {
   "cell_type": "code",
   "execution_count": null,
   "id": "d2144891",
   "metadata": {
    "scrolled": false
   },
   "outputs": [],
   "source": [
    "application_data.isnull().sum()"
   ]
  },
  {
   "cell_type": "markdown",
   "id": "2c324130",
   "metadata": {},
   "source": [
    "-----------------------------------------------------------------------------------------------------------------------"
   ]
  },
  {
   "cell_type": "code",
   "execution_count": null,
   "id": "d3b176d6",
   "metadata": {
    "execution": {
     "iopub.execute_input": "2020-12-17T00:34:59.602110Z",
     "iopub.status.busy": "2020-12-17T00:34:59.601285Z",
     "iopub.status.idle": "2020-12-17T00:34:59.606629Z",
     "shell.execute_reply": "2020-12-17T00:34:59.607321Z"
    },
    "papermill": {
     "duration": 0.21052,
     "end_time": "2020-12-17T00:34:59.607514",
     "exception": false,
     "start_time": "2020-12-17T00:34:59.396994",
     "status": "completed"
    },
    "tags": []
   },
   "outputs": [],
   "source": [
    "print(\"AMT_REQ_CREDIT_BUREAU_DAY NAN COUNT :\" ,application_data['AMT_REQ_CREDIT_BUREAU_DAY'].isnull().sum())"
   ]
  },
  {
   "cell_type": "code",
   "execution_count": null,
   "id": "1ec42014",
   "metadata": {
    "execution": {
     "iopub.execute_input": "2020-12-17T00:35:00.012215Z",
     "iopub.status.busy": "2020-12-17T00:35:00.011514Z",
     "iopub.status.idle": "2020-12-17T00:35:00.030862Z",
     "shell.execute_reply": "2020-12-17T00:35:00.030321Z"
    },
    "papermill": {
     "duration": 0.223163,
     "end_time": "2020-12-17T00:35:00.030985",
     "exception": false,
     "start_time": "2020-12-17T00:34:59.807822",
     "status": "completed"
    },
    "scrolled": true,
    "tags": []
   },
   "outputs": [],
   "source": [
    "application_data['AMT_REQ_CREDIT_BUREAU_DAY'].describe()"
   ]
  },
  {
   "cell_type": "markdown",
   "id": "ac8f4620",
   "metadata": {
    "papermill": {
     "duration": 0.243279,
     "end_time": "2020-12-17T00:35:00.476104",
     "exception": false,
     "start_time": "2020-12-17T00:35:00.232825",
     "status": "completed"
    },
    "tags": []
   },
   "source": [
    "### Suggestion\n",
    "We can Fill NA with 0 i.e. Median for this field "
   ]
  },
  {
   "cell_type": "code",
   "execution_count": null,
   "id": "b0f653e2",
   "metadata": {},
   "outputs": [],
   "source": [
    "application_data[\"AMT_REQ_CREDIT_BUREAU_DAY\"].fillna(\"0\", inplace = True)"
   ]
  },
  {
   "cell_type": "code",
   "execution_count": null,
   "id": "ec1e3c3d",
   "metadata": {},
   "outputs": [],
   "source": [
    "print(\"AMT_REQ_CREDIT_BUREAU_DAY NAN COUNT :\" ,application_data['AMT_REQ_CREDIT_BUREAU_DAY'].isnull().sum())"
   ]
  },
  {
   "cell_type": "markdown",
   "id": "0865dbb8",
   "metadata": {},
   "source": [
    "-----------------------------------------------------------------------------------------------------------------------"
   ]
  },
  {
   "cell_type": "code",
   "execution_count": null,
   "id": "5476be0e",
   "metadata": {
    "execution": {
     "iopub.execute_input": "2020-12-17T00:35:00.882041Z",
     "iopub.status.busy": "2020-12-17T00:35:00.881074Z",
     "iopub.status.idle": "2020-12-17T00:35:00.887621Z",
     "shell.execute_reply": "2020-12-17T00:35:00.886970Z"
    },
    "papermill": {
     "duration": 0.211351,
     "end_time": "2020-12-17T00:35:00.887760",
     "exception": false,
     "start_time": "2020-12-17T00:35:00.676409",
     "status": "completed"
    },
    "tags": []
   },
   "outputs": [],
   "source": [
    "print(\"AMT_REQ_CREDIT_BUREAU_HOUR NAN COUNT :\" ,application_data['AMT_REQ_CREDIT_BUREAU_HOUR'].isnull().sum())"
   ]
  },
  {
   "cell_type": "code",
   "execution_count": null,
   "id": "f979740b",
   "metadata": {
    "execution": {
     "iopub.execute_input": "2020-12-17T00:35:01.292150Z",
     "iopub.status.busy": "2020-12-17T00:35:01.291147Z",
     "iopub.status.idle": "2020-12-17T00:35:01.309190Z",
     "shell.execute_reply": "2020-12-17T00:35:01.309662Z"
    },
    "papermill": {
     "duration": 0.221363,
     "end_time": "2020-12-17T00:35:01.309835",
     "exception": false,
     "start_time": "2020-12-17T00:35:01.088472",
     "status": "completed"
    },
    "tags": []
   },
   "outputs": [],
   "source": [
    "application_data['AMT_REQ_CREDIT_BUREAU_HOUR'].describe()"
   ]
  },
  {
   "cell_type": "markdown",
   "id": "b3d6064d",
   "metadata": {
    "papermill": {
     "duration": 0.200741,
     "end_time": "2020-12-17T00:35:01.710737",
     "exception": false,
     "start_time": "2020-12-17T00:35:01.509996",
     "status": "completed"
    },
    "tags": []
   },
   "source": [
    "### Suggestion\n",
    "We can Fill NA with 0 i.e. Median for this field "
   ]
  },
  {
   "cell_type": "code",
   "execution_count": null,
   "id": "39ceb34b",
   "metadata": {},
   "outputs": [],
   "source": [
    "application_data[\"AMT_REQ_CREDIT_BUREAU_HOUR\"].fillna(\"0\", inplace = True)"
   ]
  },
  {
   "cell_type": "code",
   "execution_count": null,
   "id": "12f5e271",
   "metadata": {},
   "outputs": [],
   "source": [
    "print(\"AMT_REQ_CREDIT_BUREAU_HOUR NAN COUNT :\" ,application_data['AMT_REQ_CREDIT_BUREAU_HOUR'].isnull().sum())"
   ]
  },
  {
   "cell_type": "markdown",
   "id": "54b36f75",
   "metadata": {},
   "source": [
    "-----------------------------------------------------------------------------------------------------------------------"
   ]
  },
  {
   "cell_type": "code",
   "execution_count": null,
   "id": "da223efe",
   "metadata": {
    "execution": {
     "iopub.execute_input": "2020-12-17T00:35:02.116688Z",
     "iopub.status.busy": "2020-12-17T00:35:02.115656Z",
     "iopub.status.idle": "2020-12-17T00:35:02.124463Z",
     "shell.execute_reply": "2020-12-17T00:35:02.123786Z"
    },
    "papermill": {
     "duration": 0.213286,
     "end_time": "2020-12-17T00:35:02.124580",
     "exception": false,
     "start_time": "2020-12-17T00:35:01.911294",
     "status": "completed"
    },
    "tags": []
   },
   "outputs": [],
   "source": [
    "print(\"AMT_REQ_CREDIT_BUREAU_MON NAN COUNT :\" ,application_data['AMT_REQ_CREDIT_BUREAU_MON'].isnull().sum())"
   ]
  },
  {
   "cell_type": "code",
   "execution_count": null,
   "id": "d3ffc336",
   "metadata": {
    "execution": {
     "iopub.execute_input": "2020-12-17T00:35:02.534111Z",
     "iopub.status.busy": "2020-12-17T00:35:02.533077Z",
     "iopub.status.idle": "2020-12-17T00:35:02.551076Z",
     "shell.execute_reply": "2020-12-17T00:35:02.550455Z"
    },
    "papermill": {
     "duration": 0.225904,
     "end_time": "2020-12-17T00:35:02.551202",
     "exception": false,
     "start_time": "2020-12-17T00:35:02.325298",
     "status": "completed"
    },
    "tags": []
   },
   "outputs": [],
   "source": [
    "application_data['AMT_REQ_CREDIT_BUREAU_MON'].describe()"
   ]
  },
  {
   "cell_type": "markdown",
   "id": "818761e2",
   "metadata": {
    "papermill": {
     "duration": 0.202807,
     "end_time": "2020-12-17T00:35:02.956574",
     "exception": false,
     "start_time": "2020-12-17T00:35:02.753767",
     "status": "completed"
    },
    "tags": []
   },
   "source": [
    "### Suggestion\n",
    "We can Fill NA with 0 i.e. Median for this field "
   ]
  },
  {
   "cell_type": "code",
   "execution_count": null,
   "id": "ac60f728",
   "metadata": {},
   "outputs": [],
   "source": [
    "application_data[\"AMT_REQ_CREDIT_BUREAU_MON\"].fillna(\"0\", inplace = True)"
   ]
  },
  {
   "cell_type": "code",
   "execution_count": null,
   "id": "bdca0ac5",
   "metadata": {
    "scrolled": true
   },
   "outputs": [],
   "source": [
    "print(\"AMT_REQ_CREDIT_BUREAU_MON NAN COUNT :\" ,application_data['AMT_REQ_CREDIT_BUREAU_MON'].isnull().sum())"
   ]
  },
  {
   "cell_type": "markdown",
   "id": "ae458073",
   "metadata": {},
   "source": [
    "-----------------------------------------------------------------------------------------------------------------------"
   ]
  },
  {
   "cell_type": "code",
   "execution_count": null,
   "id": "9a5ba8cf",
   "metadata": {
    "execution": {
     "iopub.execute_input": "2020-12-17T00:35:03.369510Z",
     "iopub.status.busy": "2020-12-17T00:35:03.368656Z",
     "iopub.status.idle": "2020-12-17T00:35:03.375543Z",
     "shell.execute_reply": "2020-12-17T00:35:03.376418Z"
    },
    "papermill": {
     "duration": 0.218769,
     "end_time": "2020-12-17T00:35:03.376585",
     "exception": false,
     "start_time": "2020-12-17T00:35:03.157816",
     "status": "completed"
    },
    "tags": []
   },
   "outputs": [],
   "source": [
    "print(\"AMT_REQ_CREDIT_BUREAU_QRT NAN COUNT :\" ,application_data['AMT_REQ_CREDIT_BUREAU_QRT'].isnull().sum())"
   ]
  },
  {
   "cell_type": "code",
   "execution_count": null,
   "id": "ed5450ec",
   "metadata": {
    "scrolled": true
   },
   "outputs": [],
   "source": [
    "application_data['AMT_REQ_CREDIT_BUREAU_QRT'].describe()"
   ]
  },
  {
   "cell_type": "markdown",
   "id": "5f9ee3e8",
   "metadata": {
    "papermill": {
     "duration": 0.202224,
     "end_time": "2020-12-17T00:35:03.783207",
     "exception": false,
     "start_time": "2020-12-17T00:35:03.580983",
     "status": "completed"
    },
    "tags": []
   },
   "source": [
    "### Suggestion\n",
    "We can Fill NA with 0 i.e. Median for this field "
   ]
  },
  {
   "cell_type": "code",
   "execution_count": null,
   "id": "b9410365",
   "metadata": {},
   "outputs": [],
   "source": [
    "application_data[\"AMT_REQ_CREDIT_BUREAU_QRT\"].fillna(\"0\", inplace = True)"
   ]
  },
  {
   "cell_type": "code",
   "execution_count": null,
   "id": "b05a0884",
   "metadata": {
    "scrolled": true
   },
   "outputs": [],
   "source": [
    "print(\"AMT_REQ_CREDIT_BUREAU_QRT NAN COUNT :\" ,application_data['AMT_REQ_CREDIT_BUREAU_QRT'].isnull().sum())"
   ]
  },
  {
   "cell_type": "markdown",
   "id": "81bf6bea",
   "metadata": {},
   "source": [
    "-----------------------------------------------------------------------------------------------------------------------"
   ]
  },
  {
   "cell_type": "code",
   "execution_count": null,
   "id": "6ce13af5",
   "metadata": {
    "execution": {
     "iopub.execute_input": "2020-12-17T00:35:04.204842Z",
     "iopub.status.busy": "2020-12-17T00:35:04.204090Z",
     "iopub.status.idle": "2020-12-17T00:35:04.210813Z",
     "shell.execute_reply": "2020-12-17T00:35:04.209640Z"
    },
    "papermill": {
     "duration": 0.215084,
     "end_time": "2020-12-17T00:35:04.211021",
     "exception": false,
     "start_time": "2020-12-17T00:35:03.995937",
     "status": "completed"
    },
    "tags": []
   },
   "outputs": [],
   "source": [
    "print(\"AMT_REQ_CREDIT_BUREAU_WEEK NAN COUNT :\" ,application_data['AMT_REQ_CREDIT_BUREAU_WEEK'].isnull().sum())"
   ]
  },
  {
   "cell_type": "code",
   "execution_count": null,
   "id": "9c1336a1",
   "metadata": {
    "execution": {
     "iopub.execute_input": "2020-12-17T00:35:04.620608Z",
     "iopub.status.busy": "2020-12-17T00:35:04.619938Z",
     "iopub.status.idle": "2020-12-17T00:35:04.638460Z",
     "shell.execute_reply": "2020-12-17T00:35:04.637778Z"
    },
    "papermill": {
     "duration": 0.224293,
     "end_time": "2020-12-17T00:35:04.638578",
     "exception": false,
     "start_time": "2020-12-17T00:35:04.414285",
     "status": "completed"
    },
    "scrolled": true,
    "tags": []
   },
   "outputs": [],
   "source": [
    "application_data['AMT_REQ_CREDIT_BUREAU_WEEK'].describe()"
   ]
  },
  {
   "cell_type": "markdown",
   "id": "79d2df42",
   "metadata": {
    "papermill": {
     "duration": 0.20507,
     "end_time": "2020-12-17T00:35:05.046199",
     "exception": false,
     "start_time": "2020-12-17T00:35:04.841129",
     "status": "completed"
    },
    "tags": []
   },
   "source": [
    "### Suggestion\n",
    "We can Fill NA with 0 i.e. Median for this field "
   ]
  },
  {
   "cell_type": "code",
   "execution_count": null,
   "id": "1889046b",
   "metadata": {},
   "outputs": [],
   "source": [
    "application_data[\"AMT_REQ_CREDIT_BUREAU_WEEK\"].fillna(\"0\", inplace = True)"
   ]
  },
  {
   "cell_type": "code",
   "execution_count": null,
   "id": "ee5f2d83",
   "metadata": {
    "scrolled": true
   },
   "outputs": [],
   "source": [
    "print(\"AMT_REQ_CREDIT_BUREAU_WEEK NAN COUNT :\" ,application_data['AMT_REQ_CREDIT_BUREAU_WEEK'].isnull().sum())"
   ]
  },
  {
   "cell_type": "markdown",
   "id": "deb012aa",
   "metadata": {},
   "source": [
    "-----------------------------------------------------------------------------------------------------------------------"
   ]
  },
  {
   "cell_type": "code",
   "execution_count": null,
   "id": "94cce443",
   "metadata": {
    "execution": {
     "iopub.execute_input": "2020-12-17T00:35:05.458744Z",
     "iopub.status.busy": "2020-12-17T00:35:05.458039Z",
     "iopub.status.idle": "2020-12-17T00:35:05.462242Z",
     "shell.execute_reply": "2020-12-17T00:35:05.462762Z"
    },
    "papermill": {
     "duration": 0.213271,
     "end_time": "2020-12-17T00:35:05.462923",
     "exception": false,
     "start_time": "2020-12-17T00:35:05.249652",
     "status": "completed"
    },
    "tags": []
   },
   "outputs": [],
   "source": [
    "print(\"AMT_REQ_CREDIT_BUREAU_YEAR NAN COUNT :\" ,application_data['AMT_REQ_CREDIT_BUREAU_YEAR'].isnull().sum())"
   ]
  },
  {
   "cell_type": "code",
   "execution_count": null,
   "id": "a2865d05",
   "metadata": {
    "execution": {
     "iopub.execute_input": "2020-12-17T00:35:05.877956Z",
     "iopub.status.busy": "2020-12-17T00:35:05.877274Z",
     "iopub.status.idle": "2020-12-17T00:35:05.899560Z",
     "shell.execute_reply": "2020-12-17T00:35:05.899004Z"
    },
    "papermill": {
     "duration": 0.231592,
     "end_time": "2020-12-17T00:35:05.899680",
     "exception": false,
     "start_time": "2020-12-17T00:35:05.668088",
     "status": "completed"
    },
    "tags": []
   },
   "outputs": [],
   "source": [
    "application_data['AMT_REQ_CREDIT_BUREAU_YEAR'].describe()"
   ]
  },
  {
   "cell_type": "markdown",
   "id": "6d2d0fb6",
   "metadata": {
    "papermill": {
     "duration": 0.202921,
     "end_time": "2020-12-17T00:35:06.307916",
     "exception": false,
     "start_time": "2020-12-17T00:35:06.104995",
     "status": "completed"
    },
    "tags": []
   },
   "source": [
    "### Suggestion\n",
    "We can Fill NA with 0 i.e. Median for this field "
   ]
  },
  {
   "cell_type": "code",
   "execution_count": null,
   "id": "a1096d29",
   "metadata": {},
   "outputs": [],
   "source": [
    "application_data[\"AMT_REQ_CREDIT_BUREAU_YEAR\"].fillna(\"0\", inplace = True)"
   ]
  },
  {
   "cell_type": "code",
   "execution_count": null,
   "id": "c2604095",
   "metadata": {
    "scrolled": true
   },
   "outputs": [],
   "source": [
    "print(\"AMT_REQ_CREDIT_BUREAU_YEAR NAN COUNT :\" ,application_data['AMT_REQ_CREDIT_BUREAU_YEAR'].isnull().sum())"
   ]
  },
  {
   "cell_type": "markdown",
   "id": "a58291b6",
   "metadata": {},
   "source": [
    "-----------------------------------------------------------------------------------------------------------------------"
   ]
  },
  {
   "cell_type": "code",
   "execution_count": null,
   "id": "732883b1",
   "metadata": {
    "execution": {
     "iopub.execute_input": "2020-12-17T00:35:06.719498Z",
     "iopub.status.busy": "2020-12-17T00:35:06.718841Z",
     "iopub.status.idle": "2020-12-17T00:35:06.725402Z",
     "shell.execute_reply": "2020-12-17T00:35:06.725960Z"
    },
    "papermill": {
     "duration": 0.214254,
     "end_time": "2020-12-17T00:35:06.726112",
     "exception": false,
     "start_time": "2020-12-17T00:35:06.511858",
     "status": "completed"
    },
    "tags": []
   },
   "outputs": [],
   "source": [
    "print(\"DEF_30_CNT_SOCIAL_CIRCLE NAN COUNT :\" ,application_data['DEF_30_CNT_SOCIAL_CIRCLE'].isnull().sum())"
   ]
  },
  {
   "cell_type": "code",
   "execution_count": null,
   "id": "1b4d7d32",
   "metadata": {
    "execution": {
     "iopub.execute_input": "2020-12-17T00:35:07.139912Z",
     "iopub.status.busy": "2020-12-17T00:35:07.138902Z",
     "iopub.status.idle": "2020-12-17T00:35:07.156003Z",
     "shell.execute_reply": "2020-12-17T00:35:07.156471Z"
    },
    "papermill": {
     "duration": 0.226364,
     "end_time": "2020-12-17T00:35:07.156619",
     "exception": false,
     "start_time": "2020-12-17T00:35:06.930255",
     "status": "completed"
    },
    "tags": []
   },
   "outputs": [],
   "source": [
    "application_data['DEF_30_CNT_SOCIAL_CIRCLE'].describe()"
   ]
  },
  {
   "cell_type": "markdown",
   "id": "057b8280",
   "metadata": {
    "papermill": {
     "duration": 0.202688,
     "end_time": "2020-12-17T00:35:07.563808",
     "exception": false,
     "start_time": "2020-12-17T00:35:07.361120",
     "status": "completed"
    },
    "tags": []
   },
   "source": [
    "### Suggestion\n",
    "We can Fill NA with 0 i.e. Median for this field "
   ]
  },
  {
   "cell_type": "code",
   "execution_count": null,
   "id": "eea6d562",
   "metadata": {},
   "outputs": [],
   "source": [
    "application_data[\"DEF_30_CNT_SOCIAL_CIRCLE\"].fillna(\"0\", inplace = True)"
   ]
  },
  {
   "cell_type": "code",
   "execution_count": null,
   "id": "ac25d3b2",
   "metadata": {
    "scrolled": true
   },
   "outputs": [],
   "source": [
    "print(\"DEF_30_CNT_SOCIAL_CIRCLE NAN COUNT :\" ,application_data['DEF_30_CNT_SOCIAL_CIRCLE'].isnull().sum())"
   ]
  },
  {
   "cell_type": "markdown",
   "id": "204e6edb",
   "metadata": {},
   "source": [
    "-----------------------------------------------------------------------------------------------------------------------"
   ]
  },
  {
   "cell_type": "code",
   "execution_count": null,
   "id": "c4636e6f",
   "metadata": {
    "execution": {
     "iopub.execute_input": "2020-12-17T00:35:06.719498Z",
     "iopub.status.busy": "2020-12-17T00:35:06.718841Z",
     "iopub.status.idle": "2020-12-17T00:35:06.725402Z",
     "shell.execute_reply": "2020-12-17T00:35:06.725960Z"
    },
    "papermill": {
     "duration": 0.214254,
     "end_time": "2020-12-17T00:35:06.726112",
     "exception": false,
     "start_time": "2020-12-17T00:35:06.511858",
     "status": "completed"
    },
    "scrolled": true,
    "tags": []
   },
   "outputs": [],
   "source": [
    "print(\"DEF_60_CNT_SOCIAL_CIRCLE NAN COUNT :\" ,application_data['DEF_60_CNT_SOCIAL_CIRCLE'].isnull().sum())"
   ]
  },
  {
   "cell_type": "code",
   "execution_count": null,
   "id": "31242047",
   "metadata": {
    "execution": {
     "iopub.execute_input": "2020-12-17T00:35:07.139912Z",
     "iopub.status.busy": "2020-12-17T00:35:07.138902Z",
     "iopub.status.idle": "2020-12-17T00:35:07.156003Z",
     "shell.execute_reply": "2020-12-17T00:35:07.156471Z"
    },
    "papermill": {
     "duration": 0.226364,
     "end_time": "2020-12-17T00:35:07.156619",
     "exception": false,
     "start_time": "2020-12-17T00:35:06.930255",
     "status": "completed"
    },
    "scrolled": true,
    "tags": []
   },
   "outputs": [],
   "source": [
    "application_data['DEF_60_CNT_SOCIAL_CIRCLE'].describe()"
   ]
  },
  {
   "cell_type": "markdown",
   "id": "ecfde344",
   "metadata": {
    "papermill": {
     "duration": 0.202688,
     "end_time": "2020-12-17T00:35:07.563808",
     "exception": false,
     "start_time": "2020-12-17T00:35:07.361120",
     "status": "completed"
    },
    "tags": []
   },
   "source": [
    "### Suggestion\n",
    "We can Fill NA with 0 i.e. Median for this field "
   ]
  },
  {
   "cell_type": "code",
   "execution_count": null,
   "id": "41633294",
   "metadata": {},
   "outputs": [],
   "source": [
    "application_data[\"DEF_60_CNT_SOCIAL_CIRCLE\"].fillna(\"0\", inplace = True)"
   ]
  },
  {
   "cell_type": "code",
   "execution_count": null,
   "id": "3bf83d5e",
   "metadata": {
    "scrolled": true
   },
   "outputs": [],
   "source": [
    "print(\"DEF_60_CNT_SOCIAL_CIRCLE NAN COUNT :\" ,application_data['DEF_60_CNT_SOCIAL_CIRCLE'].isnull().sum())"
   ]
  },
  {
   "cell_type": "markdown",
   "id": "2c7cdf93",
   "metadata": {},
   "source": [
    "-----------------------------------------------------------------------------------------------------------------------"
   ]
  },
  {
   "cell_type": "code",
   "execution_count": null,
   "id": "66ddc658",
   "metadata": {
    "execution": {
     "iopub.execute_input": "2020-12-17T00:35:09.292938Z",
     "iopub.status.busy": "2020-12-17T00:35:09.292313Z",
     "iopub.status.idle": "2020-12-17T00:35:09.300400Z",
     "shell.execute_reply": "2020-12-17T00:35:09.300987Z"
    },
    "papermill": {
     "duration": 0.22902,
     "end_time": "2020-12-17T00:35:09.301181",
     "exception": false,
     "start_time": "2020-12-17T00:35:09.072161",
     "status": "completed"
    },
    "tags": []
   },
   "outputs": [],
   "source": [
    "print(\"OBS_60_CNT_SOCIAL_CIRCLE :\" ,application_data['OBS_60_CNT_SOCIAL_CIRCLE'].isnull().sum())"
   ]
  },
  {
   "cell_type": "code",
   "execution_count": null,
   "id": "f5da2dac",
   "metadata": {
    "execution": {
     "iopub.execute_input": "2020-12-17T00:35:09.722212Z",
     "iopub.status.busy": "2020-12-17T00:35:09.721443Z",
     "iopub.status.idle": "2020-12-17T00:35:09.740354Z",
     "shell.execute_reply": "2020-12-17T00:35:09.740900Z"
    },
    "papermill": {
     "duration": 0.231815,
     "end_time": "2020-12-17T00:35:09.741048",
     "exception": false,
     "start_time": "2020-12-17T00:35:09.509233",
     "status": "completed"
    },
    "tags": []
   },
   "outputs": [],
   "source": [
    "application_data['OBS_60_CNT_SOCIAL_CIRCLE'].describe()"
   ]
  },
  {
   "cell_type": "markdown",
   "id": "9d45b0a7",
   "metadata": {
    "papermill": {
     "duration": 0.207649,
     "end_time": "2020-12-17T00:35:10.156485",
     "exception": false,
     "start_time": "2020-12-17T00:35:09.948836",
     "status": "completed"
    },
    "tags": []
   },
   "source": [
    "### Suggestion\n",
    "We can Fill NA with 0 i.e. Median for this field "
   ]
  },
  {
   "cell_type": "code",
   "execution_count": null,
   "id": "71052d84",
   "metadata": {},
   "outputs": [],
   "source": [
    "application_data[\"OBS_60_CNT_SOCIAL_CIRCLE\"].fillna(\"0\", inplace = True)"
   ]
  },
  {
   "cell_type": "code",
   "execution_count": null,
   "id": "3b1f8402",
   "metadata": {
    "scrolled": false
   },
   "outputs": [],
   "source": [
    "print(\"OBS_60_CNT_SOCIAL_CIRCLE :\" ,application_data['OBS_60_CNT_SOCIAL_CIRCLE'].isnull().sum())"
   ]
  },
  {
   "cell_type": "markdown",
   "id": "b870f59b",
   "metadata": {},
   "source": [
    "-----------------------------------------------------------------------------------------------------------------------"
   ]
  },
  {
   "cell_type": "code",
   "execution_count": null,
   "id": "ca5839c7",
   "metadata": {
    "execution": {
     "iopub.execute_input": "2020-12-17T00:35:09.292938Z",
     "iopub.status.busy": "2020-12-17T00:35:09.292313Z",
     "iopub.status.idle": "2020-12-17T00:35:09.300400Z",
     "shell.execute_reply": "2020-12-17T00:35:09.300987Z"
    },
    "papermill": {
     "duration": 0.22902,
     "end_time": "2020-12-17T00:35:09.301181",
     "exception": false,
     "start_time": "2020-12-17T00:35:09.072161",
     "status": "completed"
    },
    "scrolled": true,
    "tags": []
   },
   "outputs": [],
   "source": [
    "print(\"OBS_30_CNT_SOCIAL_CIRCLE :\" ,application_data['OBS_30_CNT_SOCIAL_CIRCLE'].isnull().sum())"
   ]
  },
  {
   "cell_type": "code",
   "execution_count": null,
   "id": "a95ef335",
   "metadata": {
    "execution": {
     "iopub.execute_input": "2020-12-17T00:35:09.722212Z",
     "iopub.status.busy": "2020-12-17T00:35:09.721443Z",
     "iopub.status.idle": "2020-12-17T00:35:09.740354Z",
     "shell.execute_reply": "2020-12-17T00:35:09.740900Z"
    },
    "papermill": {
     "duration": 0.231815,
     "end_time": "2020-12-17T00:35:09.741048",
     "exception": false,
     "start_time": "2020-12-17T00:35:09.509233",
     "status": "completed"
    },
    "tags": []
   },
   "outputs": [],
   "source": [
    "application_data['OBS_30_CNT_SOCIAL_CIRCLE'].describe()"
   ]
  },
  {
   "cell_type": "markdown",
   "id": "3b82b7ae",
   "metadata": {
    "papermill": {
     "duration": 0.207649,
     "end_time": "2020-12-17T00:35:10.156485",
     "exception": false,
     "start_time": "2020-12-17T00:35:09.948836",
     "status": "completed"
    },
    "tags": []
   },
   "source": [
    "### Suggestion\n",
    "We can Fill NA with 0 i.e. Median for this field "
   ]
  },
  {
   "cell_type": "code",
   "execution_count": null,
   "id": "ac788b85",
   "metadata": {},
   "outputs": [],
   "source": [
    "application_data[\"OBS_30_CNT_SOCIAL_CIRCLE\"].fillna(\"0\", inplace = True)"
   ]
  },
  {
   "cell_type": "code",
   "execution_count": null,
   "id": "0a7a7ad4",
   "metadata": {
    "scrolled": false
   },
   "outputs": [],
   "source": [
    "print(\"OBS_30_CNT_SOCIAL_CIRCLE :\" ,application_data['OBS_30_CNT_SOCIAL_CIRCLE'].isnull().sum())"
   ]
  },
  {
   "cell_type": "markdown",
   "id": "0841385c",
   "metadata": {},
   "source": [
    "-----------------------------------------------------------------------------------------------------------------------"
   ]
  },
  {
   "cell_type": "code",
   "execution_count": null,
   "id": "41b28d54",
   "metadata": {
    "execution": {
     "iopub.execute_input": "2020-12-17T00:35:11.850932Z",
     "iopub.status.busy": "2020-12-17T00:35:11.850220Z",
     "iopub.status.idle": "2020-12-17T00:35:12.236968Z",
     "shell.execute_reply": "2020-12-17T00:35:12.236428Z"
    },
    "papermill": {
     "duration": 0.598508,
     "end_time": "2020-12-17T00:35:12.237089",
     "exception": false,
     "start_time": "2020-12-17T00:35:11.638581",
     "status": "completed"
    },
    "tags": []
   },
   "outputs": [],
   "source": [
    "application_data.isnull().sum()"
   ]
  },
  {
   "cell_type": "code",
   "execution_count": null,
   "id": "590d12a1",
   "metadata": {
    "execution": {
     "iopub.execute_input": "2020-12-17T00:35:12.659470Z",
     "iopub.status.busy": "2020-12-17T00:35:12.658547Z",
     "iopub.status.idle": "2020-12-17T00:35:12.663395Z",
     "shell.execute_reply": "2020-12-17T00:35:12.663975Z"
    },
    "papermill": {
     "duration": 0.218792,
     "end_time": "2020-12-17T00:35:12.664117",
     "exception": false,
     "start_time": "2020-12-17T00:35:12.445325",
     "status": "completed"
    },
    "tags": []
   },
   "outputs": [],
   "source": [
    "print(\"AMT_ANNUITY  :\" ,application_data['AMT_ANNUITY'].isnull().sum())"
   ]
  },
  {
   "cell_type": "code",
   "execution_count": null,
   "id": "f515141d",
   "metadata": {
    "execution": {
     "iopub.execute_input": "2020-12-17T00:35:13.088008Z",
     "iopub.status.busy": "2020-12-17T00:35:13.087330Z",
     "iopub.status.idle": "2020-12-17T00:35:13.109758Z",
     "shell.execute_reply": "2020-12-17T00:35:13.109172Z"
    },
    "papermill": {
     "duration": 0.237222,
     "end_time": "2020-12-17T00:35:13.109875",
     "exception": false,
     "start_time": "2020-12-17T00:35:12.872653",
     "status": "completed"
    },
    "tags": []
   },
   "outputs": [],
   "source": [
    "application_data['AMT_ANNUITY'].describe()"
   ]
  },
  {
   "cell_type": "code",
   "execution_count": null,
   "id": "3b145fe5",
   "metadata": {
    "execution": {
     "iopub.execute_input": "2020-12-17T00:35:13.538199Z",
     "iopub.status.busy": "2020-12-17T00:35:13.536053Z",
     "iopub.status.idle": "2020-12-17T00:35:13.997107Z",
     "shell.execute_reply": "2020-12-17T00:35:13.997715Z"
    },
    "papermill": {
     "duration": 0.677993,
     "end_time": "2020-12-17T00:35:13.997895",
     "exception": false,
     "start_time": "2020-12-17T00:35:13.319902",
     "status": "completed"
    },
    "scrolled": true,
    "tags": []
   },
   "outputs": [],
   "source": [
    "sns.set_style('whitegrid') \n",
    "sns.displot(application_data['AMT_ANNUITY']) \n",
    "plt.show()"
   ]
  },
  {
   "cell_type": "markdown",
   "id": "70793187",
   "metadata": {
    "papermill": {
     "duration": 0.295065,
     "end_time": "2020-12-17T00:35:14.512888",
     "exception": false,
     "start_time": "2020-12-17T00:35:14.217823",
     "status": "completed"
    },
    "tags": []
   },
   "source": [
    "### Suggestion\n",
    "We can Fill NA with 0 i.e. Mean for this field as it's right skewed graph"
   ]
  },
  {
   "cell_type": "code",
   "execution_count": null,
   "id": "2250d578",
   "metadata": {},
   "outputs": [],
   "source": [
    "application_data[\"AMT_ANNUITY\"].fillna(\"0\", inplace = True)"
   ]
  },
  {
   "cell_type": "code",
   "execution_count": null,
   "id": "c0af62e9",
   "metadata": {},
   "outputs": [],
   "source": [
    "print(\"AMT_ANNUITY  :\" ,application_data['AMT_ANNUITY'].isnull().sum())"
   ]
  },
  {
   "cell_type": "markdown",
   "id": "925b58a2",
   "metadata": {},
   "source": [
    "-----------------------------------------------------------------------------------------------------------------------"
   ]
  },
  {
   "cell_type": "code",
   "execution_count": null,
   "id": "4b940c49",
   "metadata": {
    "execution": {
     "iopub.execute_input": "2020-12-17T00:35:14.948954Z",
     "iopub.status.busy": "2020-12-17T00:35:14.947958Z",
     "iopub.status.idle": "2020-12-17T00:35:14.956494Z",
     "shell.execute_reply": "2020-12-17T00:35:14.955996Z"
    },
    "papermill": {
     "duration": 0.23165,
     "end_time": "2020-12-17T00:35:14.956629",
     "exception": false,
     "start_time": "2020-12-17T00:35:14.724979",
     "status": "completed"
    },
    "tags": []
   },
   "outputs": [],
   "source": [
    "print(\"AMT_GOODS_PRICE   :\" ,application_data['AMT_GOODS_PRICE'].isnull().sum())"
   ]
  },
  {
   "cell_type": "code",
   "execution_count": null,
   "id": "ade50bf8",
   "metadata": {
    "execution": {
     "iopub.execute_input": "2020-12-17T00:35:15.395094Z",
     "iopub.status.busy": "2020-12-17T00:35:15.394061Z",
     "iopub.status.idle": "2020-12-17T00:35:15.415953Z",
     "shell.execute_reply": "2020-12-17T00:35:15.416455Z"
    },
    "papermill": {
     "duration": 0.247873,
     "end_time": "2020-12-17T00:35:15.416609",
     "exception": false,
     "start_time": "2020-12-17T00:35:15.168736",
     "status": "completed"
    },
    "tags": []
   },
   "outputs": [],
   "source": [
    "application_data['AMT_GOODS_PRICE'].describe()"
   ]
  },
  {
   "cell_type": "code",
   "execution_count": null,
   "id": "74fa65ec",
   "metadata": {
    "execution": {
     "iopub.execute_input": "2020-12-17T00:35:15.864195Z",
     "iopub.status.busy": "2020-12-17T00:35:15.863081Z",
     "iopub.status.idle": "2020-12-17T00:35:16.285487Z",
     "shell.execute_reply": "2020-12-17T00:35:16.284945Z"
    },
    "papermill": {
     "duration": 0.653582,
     "end_time": "2020-12-17T00:35:16.285595",
     "exception": false,
     "start_time": "2020-12-17T00:35:15.632013",
     "status": "completed"
    },
    "scrolled": true,
    "tags": []
   },
   "outputs": [],
   "source": [
    "sns.set_style('whitegrid') \n",
    "sns.displot(application_data['AMT_GOODS_PRICE']) \n",
    "plt.show()"
   ]
  },
  {
   "cell_type": "markdown",
   "id": "16be8044",
   "metadata": {
    "papermill": {
     "duration": 0.213145,
     "end_time": "2020-12-17T00:35:16.710875",
     "exception": false,
     "start_time": "2020-12-17T00:35:16.497730",
     "status": "completed"
    },
    "tags": []
   },
   "source": [
    "### Suggestion\n",
    "We can Fill NA with 0 i.e. Mean for this field as it's right skewed graph"
   ]
  },
  {
   "cell_type": "code",
   "execution_count": null,
   "id": "aa41ac3a",
   "metadata": {},
   "outputs": [],
   "source": [
    "application_data[\"AMT_GOODS_PRICE\"].fillna(\"0\", inplace = True)"
   ]
  },
  {
   "cell_type": "code",
   "execution_count": null,
   "id": "3c98941f",
   "metadata": {},
   "outputs": [],
   "source": [
    "print(\"AMT_GOODS_PRICE   :\" ,application_data['AMT_GOODS_PRICE'].isnull().sum())"
   ]
  },
  {
   "cell_type": "markdown",
   "id": "f2c750fc",
   "metadata": {},
   "source": [
    "-----------------------------------------------------------------------------------------------------------------------"
   ]
  },
  {
   "cell_type": "code",
   "execution_count": null,
   "id": "6bb09036",
   "metadata": {
    "execution": {
     "iopub.execute_input": "2020-12-17T00:35:17.185267Z",
     "iopub.status.busy": "2020-12-17T00:35:17.184569Z",
     "iopub.status.idle": "2020-12-17T00:35:17.190350Z",
     "shell.execute_reply": "2020-12-17T00:35:17.190894Z"
    },
    "papermill": {
     "duration": 0.261875,
     "end_time": "2020-12-17T00:35:17.191040",
     "exception": false,
     "start_time": "2020-12-17T00:35:16.929165",
     "status": "completed"
    },
    "tags": []
   },
   "outputs": [],
   "source": [
    "print(\"NAME_TYPE_SUITE :\" ,application_data['NAME_TYPE_SUITE'].isnull().sum())"
   ]
  },
  {
   "cell_type": "code",
   "execution_count": null,
   "id": "323b42c1",
   "metadata": {
    "execution": {
     "iopub.execute_input": "2020-12-17T00:35:17.707444Z",
     "iopub.status.busy": "2020-12-17T00:35:17.676440Z",
     "iopub.status.idle": "2020-12-17T00:35:17.716257Z",
     "shell.execute_reply": "2020-12-17T00:35:17.715485Z"
    },
    "papermill": {
     "duration": 0.303847,
     "end_time": "2020-12-17T00:35:17.716381",
     "exception": false,
     "start_time": "2020-12-17T00:35:17.412534",
     "status": "completed"
    },
    "tags": []
   },
   "outputs": [],
   "source": [
    "application_data['NAME_TYPE_SUITE'].value_counts()"
   ]
  },
  {
   "cell_type": "markdown",
   "id": "bab36e88",
   "metadata": {
    "papermill": {
     "duration": 0.217472,
     "end_time": "2020-12-17T00:35:18.147903",
     "exception": false,
     "start_time": "2020-12-17T00:35:17.930431",
     "status": "completed"
    },
    "tags": []
   },
   "source": [
    "### Suggestion\n",
    "We can Fill NA with \"Unaccompanied\" i.e. Mode for this field "
   ]
  },
  {
   "cell_type": "code",
   "execution_count": null,
   "id": "28788e8e",
   "metadata": {},
   "outputs": [],
   "source": [
    "application_data[\"NAME_TYPE_SUITE\"].fillna(\"Unaccompanied\", inplace = True)"
   ]
  },
  {
   "cell_type": "code",
   "execution_count": null,
   "id": "130c3b32",
   "metadata": {},
   "outputs": [],
   "source": [
    "print(\"NAME_TYPE_SUITE :\" ,application_data['NAME_TYPE_SUITE'].isnull().sum())"
   ]
  },
  {
   "cell_type": "markdown",
   "id": "63a20ecd",
   "metadata": {},
   "source": [
    "-----------------------------------------------------------------------------------------------------------------------"
   ]
  },
  {
   "cell_type": "code",
   "execution_count": null,
   "id": "abfd7c40",
   "metadata": {
    "execution": {
     "iopub.execute_input": "2020-12-17T00:35:18.593614Z",
     "iopub.status.busy": "2020-12-17T00:35:18.592309Z",
     "iopub.status.idle": "2020-12-17T00:35:18.598670Z",
     "shell.execute_reply": "2020-12-17T00:35:18.598057Z"
    },
    "papermill": {
     "duration": 0.226829,
     "end_time": "2020-12-17T00:35:18.598816",
     "exception": false,
     "start_time": "2020-12-17T00:35:18.371987",
     "status": "completed"
    },
    "tags": []
   },
   "outputs": [],
   "source": [
    "print(\"CNT_FAM_MEMBERS :\" ,application_data['CNT_FAM_MEMBERS'].isnull().sum())"
   ]
  },
  {
   "cell_type": "code",
   "execution_count": null,
   "id": "8ec9f2ce",
   "metadata": {
    "execution": {
     "iopub.execute_input": "2020-12-17T00:35:19.037414Z",
     "iopub.status.busy": "2020-12-17T00:35:19.036661Z",
     "iopub.status.idle": "2020-12-17T00:35:19.056807Z",
     "shell.execute_reply": "2020-12-17T00:35:19.057322Z"
    },
    "papermill": {
     "duration": 0.239654,
     "end_time": "2020-12-17T00:35:19.057473",
     "exception": false,
     "start_time": "2020-12-17T00:35:18.817819",
     "status": "completed"
    },
    "tags": []
   },
   "outputs": [],
   "source": [
    "application_data['CNT_FAM_MEMBERS'].describe()"
   ]
  },
  {
   "cell_type": "code",
   "execution_count": null,
   "id": "6abf6ad3",
   "metadata": {
    "execution": {
     "iopub.execute_input": "2020-12-17T00:35:19.516998Z",
     "iopub.status.busy": "2020-12-17T00:35:19.516219Z",
     "iopub.status.idle": "2020-12-17T00:35:20.016445Z",
     "shell.execute_reply": "2020-12-17T00:35:20.017088Z"
    },
    "papermill": {
     "duration": 0.727998,
     "end_time": "2020-12-17T00:35:20.017284",
     "exception": false,
     "start_time": "2020-12-17T00:35:19.289286",
     "status": "completed"
    },
    "tags": []
   },
   "outputs": [],
   "source": [
    "sns.set_style('whitegrid') \n",
    "sns.displot(application_data['CNT_FAM_MEMBERS']) \n",
    "plt.show()"
   ]
  },
  {
   "cell_type": "markdown",
   "id": "2b49ede3",
   "metadata": {
    "papermill": {
     "duration": 0.243333,
     "end_time": "2020-12-17T00:35:20.478871",
     "exception": false,
     "start_time": "2020-12-17T00:35:20.235538",
     "status": "completed"
    },
    "tags": []
   },
   "source": [
    "### Suggestion\n",
    "We can Fill NA with 2 i.e. Median for this field, Mean is not be used as this field needs to be Whole number"
   ]
  },
  {
   "cell_type": "code",
   "execution_count": null,
   "id": "31adb9a6",
   "metadata": {},
   "outputs": [],
   "source": [
    "application_data[\"CNT_FAM_MEMBERS\"].fillna(\"2\", inplace = True)"
   ]
  },
  {
   "cell_type": "code",
   "execution_count": null,
   "id": "4177c186",
   "metadata": {
    "scrolled": true
   },
   "outputs": [],
   "source": [
    "print(\"CNT_FAM_MEMBERS :\" ,application_data['CNT_FAM_MEMBERS'].isnull().sum())"
   ]
  },
  {
   "cell_type": "markdown",
   "id": "10de7356",
   "metadata": {},
   "source": [
    "-----------------------------------------------------------------------------------------------------------------------"
   ]
  },
  {
   "cell_type": "code",
   "execution_count": null,
   "id": "d1317c09",
   "metadata": {
    "execution": {
     "iopub.execute_input": "2020-12-17T00:35:20.925227Z",
     "iopub.status.busy": "2020-12-17T00:35:20.924104Z",
     "iopub.status.idle": "2020-12-17T00:35:20.932941Z",
     "shell.execute_reply": "2020-12-17T00:35:20.934262Z"
    },
    "papermill": {
     "duration": 0.236633,
     "end_time": "2020-12-17T00:35:20.934480",
     "exception": false,
     "start_time": "2020-12-17T00:35:20.697847",
     "status": "completed"
    },
    "tags": []
   },
   "outputs": [],
   "source": [
    "print(\"DAYS_LAST_PHONE_CHANGE :\" ,application_data['DAYS_LAST_PHONE_CHANGE'].isnull().sum())"
   ]
  },
  {
   "cell_type": "code",
   "execution_count": null,
   "id": "400bd871",
   "metadata": {
    "execution": {
     "iopub.execute_input": "2020-12-17T00:35:21.409933Z",
     "iopub.status.busy": "2020-12-17T00:35:21.409181Z",
     "iopub.status.idle": "2020-12-17T00:35:21.431754Z",
     "shell.execute_reply": "2020-12-17T00:35:21.432388Z"
    },
    "papermill": {
     "duration": 0.265251,
     "end_time": "2020-12-17T00:35:21.432533",
     "exception": false,
     "start_time": "2020-12-17T00:35:21.167282",
     "status": "completed"
    },
    "tags": []
   },
   "outputs": [],
   "source": [
    "application_data['DAYS_LAST_PHONE_CHANGE'].describe()"
   ]
  },
  {
   "cell_type": "code",
   "execution_count": null,
   "id": "fe0c6da9",
   "metadata": {
    "execution": {
     "iopub.execute_input": "2020-12-17T00:35:21.886286Z",
     "iopub.status.busy": "2020-12-17T00:35:21.885156Z",
     "iopub.status.idle": "2020-12-17T00:35:21.977465Z",
     "shell.execute_reply": "2020-12-17T00:35:21.978034Z"
    },
    "papermill": {
     "duration": 0.321585,
     "end_time": "2020-12-17T00:35:21.978190",
     "exception": false,
     "start_time": "2020-12-17T00:35:21.656605",
     "status": "completed"
    },
    "tags": []
   },
   "outputs": [],
   "source": [
    "import statistics \n",
    "statistics.mode(application_data['DAYS_LAST_PHONE_CHANGE'])"
   ]
  },
  {
   "cell_type": "markdown",
   "id": "31a0b40c",
   "metadata": {
    "papermill": {
     "duration": 0.224511,
     "end_time": "2020-12-17T00:35:22.426815",
     "exception": false,
     "start_time": "2020-12-17T00:35:22.202304",
     "status": "completed"
    },
    "tags": []
   },
   "source": [
    "### Suggestion\n",
    "We can Fill NA with 0 i.e. Mode for this field"
   ]
  },
  {
   "cell_type": "code",
   "execution_count": null,
   "id": "773234fb",
   "metadata": {},
   "outputs": [],
   "source": [
    "application_data[\"DAYS_LAST_PHONE_CHANGE\"].fillna(\"0\", inplace = True)"
   ]
  },
  {
   "cell_type": "code",
   "execution_count": null,
   "id": "50ca21f3",
   "metadata": {
    "scrolled": true
   },
   "outputs": [],
   "source": [
    "print(\"DAYS_LAST_PHONE_CHANGE :\" ,application_data['DAYS_LAST_PHONE_CHANGE'].isnull().sum())"
   ]
  },
  {
   "cell_type": "markdown",
   "id": "2e317a4b",
   "metadata": {},
   "source": [
    "-----------------------------------------------------------------------------------------------------------------------"
   ]
  },
  {
   "cell_type": "code",
   "execution_count": null,
   "id": "1bc0dab1",
   "metadata": {},
   "outputs": [],
   "source": [
    "application_data.isnull().sum()"
   ]
  },
  {
   "cell_type": "markdown",
   "id": "4a8f5c56",
   "metadata": {
    "papermill": {
     "duration": 0.225856,
     "end_time": "2020-12-17T00:35:24.188274",
     "exception": false,
     "start_time": "2020-12-17T00:35:23.962418",
     "status": "completed"
    },
    "tags": []
   },
   "source": [
    "# Converting negative values to absolute values\n"
   ]
  },
  {
   "cell_type": "code",
   "execution_count": null,
   "id": "58be7378",
   "metadata": {
    "execution": {
     "iopub.execute_input": "2020-12-17T00:35:24.647844Z",
     "iopub.status.busy": "2020-12-17T00:35:24.646584Z",
     "iopub.status.idle": "2020-12-17T00:35:24.657891Z",
     "shell.execute_reply": "2020-12-17T00:35:24.657279Z"
    },
    "papermill": {
     "duration": 0.251842,
     "end_time": "2020-12-17T00:35:24.658019",
     "exception": false,
     "start_time": "2020-12-17T00:35:24.406177",
     "status": "completed"
    },
    "tags": []
   },
   "outputs": [],
   "source": [
    "# application_data['DAYS_BIRTH'] = abs(application_data['DAYS_BIRTH'])\n",
    "# application_data['DAYS_ID_PUBLISH'] = abs(application_data['DAYS_ID_PUBLISH'])\n",
    "# application_data['DAYS_ID_PUBLISH'] = abs(application_data['DAYS_ID_PUBLISH'])\n",
    "# application_data['DAYS_LAST_PHONE_CHANGE'] = abs(application_data['DAYS_LAST_PHONE_CHANGE'])\n",
    "\n"
   ]
  },
  {
   "cell_type": "code",
   "execution_count": null,
   "id": "01f84fbf",
   "metadata": {
    "execution": {
     "iopub.execute_input": "2020-12-17T00:35:25.139319Z",
     "iopub.status.busy": "2020-12-17T00:35:25.138285Z",
     "iopub.status.idle": "2020-12-17T00:35:25.195357Z",
     "shell.execute_reply": "2020-12-17T00:35:25.194820Z"
    },
    "papermill": {
     "duration": 0.281301,
     "end_time": "2020-12-17T00:35:25.195468",
     "exception": false,
     "start_time": "2020-12-17T00:35:24.914167",
     "status": "completed"
    },
    "tags": []
   },
   "outputs": [],
   "source": [
    "# display(\"application_data\")\n",
    "# display(application_data.head())"
   ]
  },
  {
   "cell_type": "markdown",
   "id": "b5ec5adb",
   "metadata": {
    "papermill": {
     "duration": 0.220631,
     "end_time": "2020-12-17T00:35:25.640306",
     "exception": false,
     "start_time": "2020-12-17T00:35:25.419675",
     "status": "completed"
    },
    "tags": []
   },
   "source": [
    "### Separating numerical and categorical  in application_data\n"
   ]
  },
  {
   "cell_type": "code",
   "execution_count": null,
   "id": "46910f9a",
   "metadata": {
    "execution": {
     "iopub.execute_input": "2020-12-17T00:35:26.090788Z",
     "iopub.status.busy": "2020-12-17T00:35:26.089107Z",
     "iopub.status.idle": "2020-12-17T00:35:26.163957Z",
     "shell.execute_reply": "2020-12-17T00:35:26.162856Z"
    },
    "papermill": {
     "duration": 0.303429,
     "end_time": "2020-12-17T00:35:26.164092",
     "exception": false,
     "start_time": "2020-12-17T00:35:25.860663",
     "status": "completed"
    },
    "tags": []
   },
   "outputs": [],
   "source": [
    "# obj_dtypes = [i for i in application_data.select_dtypes(include=np.object).columns if i not in [\"type\"] ]\n",
    "# num_dtypes = [i for i in application_data.select_dtypes(include = np.number).columns if i not in ['SK_ID_CURR'] + [ 'TARGET']]"
   ]
  },
  {
   "cell_type": "code",
   "execution_count": null,
   "id": "c447b898",
   "metadata": {
    "execution": {
     "iopub.execute_input": "2020-12-17T00:35:26.609908Z",
     "iopub.status.busy": "2020-12-17T00:35:26.608845Z",
     "iopub.status.idle": "2020-12-17T00:35:26.613751Z",
     "shell.execute_reply": "2020-12-17T00:35:26.614344Z"
    },
    "papermill": {
     "duration": 0.231366,
     "end_time": "2020-12-17T00:35:26.614483",
     "exception": false,
     "start_time": "2020-12-17T00:35:26.383117",
     "status": "completed"
    },
    "tags": []
   },
   "outputs": [],
   "source": [
    "# print(color.BOLD + color.PURPLE + 'Categorical Columns' + color.END, \"\\n\")\n",
    "# for x in range(len(obj_dtypes)): \n",
    "#     print(obj_dtypes[x])"
   ]
  },
  {
   "cell_type": "code",
   "execution_count": null,
   "id": "58898edc",
   "metadata": {
    "execution": {
     "iopub.execute_input": "2020-12-17T00:35:27.058757Z",
     "iopub.status.busy": "2020-12-17T00:35:27.058087Z",
     "iopub.status.idle": "2020-12-17T00:35:27.071735Z",
     "shell.execute_reply": "2020-12-17T00:35:27.070716Z"
    },
    "papermill": {
     "duration": 0.236695,
     "end_time": "2020-12-17T00:35:27.071954",
     "exception": false,
     "start_time": "2020-12-17T00:35:26.835259",
     "status": "completed"
    },
    "scrolled": true,
    "tags": []
   },
   "outputs": [],
   "source": [
    "# print(color.BOLD + color.PURPLE +\"Numerical Columns\" + color.END, \"\\n\")\n",
    "# for x in range(len(num_dtypes)): \n",
    "#     print(num_dtypes[x])"
   ]
  },
  {
   "cell_type": "markdown",
   "id": "997f037b",
   "metadata": {},
   "source": [
    "-----------------------------------------------------------------------------------------------------------------------"
   ]
  },
  {
   "cell_type": "markdown",
   "id": "11093525",
   "metadata": {},
   "source": [
    "-----------------------------------------------------------------------------------------------------------------------"
   ]
  },
  {
   "cell_type": "code",
   "execution_count": null,
   "id": "a538e4c4",
   "metadata": {},
   "outputs": [],
   "source": [
    "display(round(100*(previous_application.isnull().sum()/len(previous_application.index)),2))"
   ]
  },
  {
   "cell_type": "code",
   "execution_count": null,
   "id": "fa005e93",
   "metadata": {},
   "outputs": [],
   "source": [
    "missing_colp = [col for col in previous_application.columns if previous_application[col].isna().sum()/previous_application.shape[0] > 0]\n",
    "missing_colp"
   ]
  },
  {
   "cell_type": "code",
   "execution_count": null,
   "id": "a14b9be1",
   "metadata": {},
   "outputs": [],
   "source": [
    "missing_colp1 = [col for col in previous_application.columns if previous_application[col].isna().sum()/previous_application.shape[0]  > 0.5]\n",
    "len(missing_colp1)"
   ]
  },
  {
   "cell_type": "code",
   "execution_count": null,
   "id": "ae66444e",
   "metadata": {
    "scrolled": true
   },
   "outputs": [],
   "source": [
    "missing_colp1"
   ]
  },
  {
   "cell_type": "code",
   "execution_count": null,
   "id": "e713d091",
   "metadata": {},
   "outputs": [],
   "source": [
    "previous_application.drop(missing_colp1, axis = 1, inplace = True)\n",
    "previous_application"
   ]
  },
  {
   "cell_type": "code",
   "execution_count": null,
   "id": "49d631e7",
   "metadata": {},
   "outputs": [],
   "source": [
    "round(100*(previous_application.isnull().sum()/len(previous_application.index)),2)"
   ]
  },
  {
   "cell_type": "markdown",
   "id": "3eab07a0",
   "metadata": {},
   "source": [
    "MISSING values Suggestion"
   ]
  },
  {
   "cell_type": "code",
   "execution_count": null,
   "id": "7142becd",
   "metadata": {
    "execution": {
     "iopub.execute_input": "2020-12-17T00:34:20.095395Z",
     "iopub.status.busy": "2020-12-17T00:34:20.094638Z",
     "iopub.status.idle": "2020-12-17T00:34:20.103725Z",
     "shell.execute_reply": "2020-12-17T00:34:20.102841Z"
    },
    "papermill": {
     "duration": 0.189267,
     "end_time": "2020-12-17T00:34:20.103914",
     "exception": false,
     "start_time": "2020-12-17T00:34:19.914647",
     "status": "completed"
    },
    "tags": []
   },
   "outputs": [],
   "source": [
    "print(\"AMT_GOODS_PRICE NULL COUNT:\" ,previous_application['AMT_GOODS_PRICE'].isnull().sum())"
   ]
  },
  {
   "cell_type": "code",
   "execution_count": null,
   "id": "39653b99",
   "metadata": {
    "execution": {
     "iopub.execute_input": "2020-12-17T00:34:20.458462Z",
     "iopub.status.busy": "2020-12-17T00:34:20.457651Z",
     "iopub.status.idle": "2020-12-17T00:34:20.536405Z",
     "shell.execute_reply": "2020-12-17T00:34:20.535838Z"
    },
    "papermill": {
     "duration": 0.258075,
     "end_time": "2020-12-17T00:34:20.536519",
     "exception": false,
     "start_time": "2020-12-17T00:34:20.278444",
     "status": "completed"
    },
    "tags": []
   },
   "outputs": [],
   "source": [
    "previous_application['AMT_GOODS_PRICE'].describe()"
   ]
  },
  {
   "cell_type": "code",
   "execution_count": null,
   "id": "1198994f",
   "metadata": {
    "execution": {
     "iopub.execute_input": "2020-12-17T00:34:20.900292Z",
     "iopub.status.busy": "2020-12-17T00:34:20.897342Z",
     "iopub.status.idle": "2020-12-17T00:34:21.747897Z",
     "shell.execute_reply": "2020-12-17T00:34:21.747181Z"
    },
    "papermill": {
     "duration": 1.037889,
     "end_time": "2020-12-17T00:34:21.748036",
     "exception": false,
     "start_time": "2020-12-17T00:34:20.710147",
     "status": "completed"
    },
    "scrolled": true,
    "tags": []
   },
   "outputs": [],
   "source": [
    "sns.set_style('whitegrid') \n",
    "sns.distplot(previous_application['AMT_GOODS_PRICE']) \n",
    "plt.show()\n"
   ]
  },
  {
   "cell_type": "markdown",
   "id": "30674e76",
   "metadata": {
    "papermill": {
     "duration": 0.174493,
     "end_time": "2020-12-17T00:34:22.099153",
     "exception": false,
     "start_time": "2020-12-17T00:34:21.924660",
     "status": "completed"
    },
    "tags": []
   },
   "source": [
    "### Suggestion\n",
    "We can Fill NA with 112320 i.e. Median for this field "
   ]
  },
  {
   "cell_type": "code",
   "execution_count": null,
   "id": "4ba7b7a2",
   "metadata": {},
   "outputs": [],
   "source": [
    "previous_application[\"AMT_GOODS_PRICE\"].fillna(\"112320\", inplace = True)"
   ]
  },
  {
   "cell_type": "code",
   "execution_count": null,
   "id": "6c9ac189",
   "metadata": {},
   "outputs": [],
   "source": [
    "print(\"AMT_GOODS_PRICE NULL COUNT:\" ,previous_application['AMT_GOODS_PRICE'].isnull().sum())"
   ]
  },
  {
   "cell_type": "markdown",
   "id": "7f0f51e1",
   "metadata": {},
   "source": [
    "------------------------------------------------"
   ]
  },
  {
   "cell_type": "code",
   "execution_count": null,
   "id": "2533cee7",
   "metadata": {},
   "outputs": [],
   "source": [
    "print(\"AMT_ANNUITY NULL COUNT:\" ,previous_application['AMT_ANNUITY'].isnull().sum())"
   ]
  },
  {
   "cell_type": "code",
   "execution_count": null,
   "id": "16ba136b",
   "metadata": {},
   "outputs": [],
   "source": [
    "previous_application['AMT_ANNUITY'].describe()"
   ]
  },
  {
   "cell_type": "code",
   "execution_count": null,
   "id": "e0b32728",
   "metadata": {},
   "outputs": [],
   "source": [
    "sns.set_style('whitegrid') \n",
    "sns.displot(previous_application['AMT_ANNUITY']) \n",
    "plt.xlim([0 ,100000])\n",
    "plt.show()"
   ]
  },
  {
   "cell_type": "markdown",
   "id": "8ce0c71b",
   "metadata": {},
   "source": [
    "Suggestion\n",
    "We can Fill NA with 15955 i.e. Mean for this field"
   ]
  },
  {
   "cell_type": "code",
   "execution_count": null,
   "id": "5870e8b1",
   "metadata": {},
   "outputs": [],
   "source": [
    "previous_application[\"AMT_ANNUITY\"].fillna(\"15955\", inplace = True)"
   ]
  },
  {
   "cell_type": "code",
   "execution_count": null,
   "id": "ec8fda40",
   "metadata": {},
   "outputs": [],
   "source": [
    "print(\"AMT_ANNUITY NULL COUNT:\" ,previous_application['AMT_ANNUITY'].isnull().sum())"
   ]
  },
  {
   "cell_type": "code",
   "execution_count": null,
   "id": "c83c11cb",
   "metadata": {
    "execution": {
     "iopub.execute_input": "2020-12-17T00:34:20.095395Z",
     "iopub.status.busy": "2020-12-17T00:34:20.094638Z",
     "iopub.status.idle": "2020-12-17T00:34:20.103725Z",
     "shell.execute_reply": "2020-12-17T00:34:20.102841Z"
    },
    "papermill": {
     "duration": 0.189267,
     "end_time": "2020-12-17T00:34:20.103914",
     "exception": false,
     "start_time": "2020-12-17T00:34:19.914647",
     "status": "completed"
    },
    "tags": []
   },
   "outputs": [],
   "source": [
    "print(\"AMT_GOODS_PRICE NULL COUNT:\" ,previous_application['AMT_GOODS_PRICE'].isnull().sum())"
   ]
  },
  {
   "cell_type": "code",
   "execution_count": null,
   "id": "f6362ce4",
   "metadata": {
    "execution": {
     "iopub.execute_input": "2020-12-17T00:34:20.458462Z",
     "iopub.status.busy": "2020-12-17T00:34:20.457651Z",
     "iopub.status.idle": "2020-12-17T00:34:20.536405Z",
     "shell.execute_reply": "2020-12-17T00:34:20.535838Z"
    },
    "papermill": {
     "duration": 0.258075,
     "end_time": "2020-12-17T00:34:20.536519",
     "exception": false,
     "start_time": "2020-12-17T00:34:20.278444",
     "status": "completed"
    },
    "tags": []
   },
   "outputs": [],
   "source": [
    "previous_application['AMT_GOODS_PRICE'].describe()"
   ]
  },
  {
   "cell_type": "code",
   "execution_count": null,
   "id": "87dc95b0",
   "metadata": {
    "scrolled": true
   },
   "outputs": [],
   "source": [
    "print(\"AMT_GOODS_PRICE NULL COUNT:\" ,previous_application['AMT_GOODS_PRICE'].isnull().sum())"
   ]
  },
  {
   "cell_type": "markdown",
   "id": "954b085f",
   "metadata": {},
   "source": [
    "------------------------------------------------"
   ]
  },
  {
   "cell_type": "markdown",
   "id": "f4d3e20f",
   "metadata": {
    "papermill": {
     "duration": 0.174296,
     "end_time": "2020-12-17T00:34:23.619230",
     "exception": false,
     "start_time": "2020-12-17T00:34:23.444934",
     "status": "completed"
    },
    "tags": []
   },
   "source": [
    "### Suggestion\n",
    "We can Fill NA with Unaccompanied  i.e. Mode for this field "
   ]
  },
  {
   "cell_type": "code",
   "execution_count": null,
   "id": "96633aaa",
   "metadata": {
    "execution": {
     "iopub.execute_input": "2020-12-17T00:34:22.584907Z",
     "iopub.status.busy": "2020-12-17T00:34:22.584176Z",
     "iopub.status.idle": "2020-12-17T00:34:22.593967Z",
     "shell.execute_reply": "2020-12-17T00:34:22.593162Z"
    },
    "papermill": {
     "duration": 0.319272,
     "end_time": "2020-12-17T00:34:22.594131",
     "exception": false,
     "start_time": "2020-12-17T00:34:22.274859",
     "status": "completed"
    },
    "scrolled": false,
    "tags": []
   },
   "outputs": [],
   "source": [
    "print(\"NAME_TYPE_SUITE NULL COUNT:\" ,previous_application['NAME_TYPE_SUITE'].isnull().sum())"
   ]
  },
  {
   "cell_type": "code",
   "execution_count": null,
   "id": "4459eda0",
   "metadata": {
    "scrolled": false
   },
   "outputs": [],
   "source": [
    "previous_application['NAME_TYPE_SUITE'].value_counts()"
   ]
  },
  {
   "cell_type": "code",
   "execution_count": null,
   "id": "a157820c",
   "metadata": {
    "execution": {
     "iopub.execute_input": "2020-12-17T00:34:23.255711Z",
     "iopub.status.busy": "2020-12-17T00:34:23.254980Z",
     "iopub.status.idle": "2020-12-17T00:34:23.263310Z",
     "shell.execute_reply": "2020-12-17T00:34:23.262597Z"
    },
    "papermill": {
     "duration": 0.489774,
     "end_time": "2020-12-17T00:34:23.263432",
     "exception": false,
     "start_time": "2020-12-17T00:34:22.773658",
     "status": "completed"
    },
    "scrolled": true,
    "tags": []
   },
   "outputs": [],
   "source": [
    "previous_application[\"NAME_TYPE_SUITE\"].fillna(\"Unaccompanied\", inplace = True)"
   ]
  },
  {
   "cell_type": "code",
   "execution_count": null,
   "id": "602df39b",
   "metadata": {
    "scrolled": true
   },
   "outputs": [],
   "source": [
    "print(\"NAME_TYPE_SUITE NULL COUNT:\" ,previous_application['NAME_TYPE_SUITE'].isnull().sum())"
   ]
  },
  {
   "cell_type": "markdown",
   "id": "008764e6",
   "metadata": {},
   "source": [
    "------------------------------------------------"
   ]
  },
  {
   "cell_type": "code",
   "execution_count": null,
   "id": "5ced33a8",
   "metadata": {
    "execution": {
     "iopub.execute_input": "2020-12-17T00:34:23.978832Z",
     "iopub.status.busy": "2020-12-17T00:34:23.978123Z",
     "iopub.status.idle": "2020-12-17T00:34:23.987513Z",
     "shell.execute_reply": "2020-12-17T00:34:23.986530Z"
    },
    "papermill": {
     "duration": 0.192815,
     "end_time": "2020-12-17T00:34:23.987732",
     "exception": false,
     "start_time": "2020-12-17T00:34:23.794917",
     "status": "completed"
    },
    "tags": []
   },
   "outputs": [],
   "source": [
    "print(\"CNT_PAYMENT NULL COUNT:\" ,previous_application['CNT_PAYMENT'].isnull().sum())"
   ]
  },
  {
   "cell_type": "code",
   "execution_count": null,
   "id": "073856cc",
   "metadata": {
    "execution": {
     "iopub.execute_input": "2020-12-17T00:34:24.347536Z",
     "iopub.status.busy": "2020-12-17T00:34:24.346801Z",
     "iopub.status.idle": "2020-12-17T00:34:24.437049Z",
     "shell.execute_reply": "2020-12-17T00:34:24.437722Z"
    },
    "papermill": {
     "duration": 0.273369,
     "end_time": "2020-12-17T00:34:24.437953",
     "exception": false,
     "start_time": "2020-12-17T00:34:24.164584",
     "status": "completed"
    },
    "tags": []
   },
   "outputs": [],
   "source": [
    "previous_application['CNT_PAYMENT'].describe()"
   ]
  },
  {
   "cell_type": "code",
   "execution_count": null,
   "id": "7daa08b4",
   "metadata": {
    "execution": {
     "iopub.execute_input": "2020-12-17T00:34:24.815625Z",
     "iopub.status.busy": "2020-12-17T00:34:24.814841Z",
     "iopub.status.idle": "2020-12-17T00:34:25.202008Z",
     "shell.execute_reply": "2020-12-17T00:34:25.202623Z"
    },
    "papermill": {
     "duration": 0.572855,
     "end_time": "2020-12-17T00:34:25.202841",
     "exception": false,
     "start_time": "2020-12-17T00:34:24.629986",
     "status": "completed"
    },
    "tags": []
   },
   "outputs": [],
   "source": [
    "sns.set_style('whitegrid') \n",
    "sns.boxplot(previous_application['CNT_PAYMENT']) \n",
    "plt.show()"
   ]
  },
  {
   "cell_type": "markdown",
   "id": "688ed1c2",
   "metadata": {
    "papermill": {
     "duration": 0.176222,
     "end_time": "2020-12-17T00:34:25.555634",
     "exception": false,
     "start_time": "2020-12-17T00:34:25.379412",
     "status": "completed"
    },
    "tags": []
   },
   "source": [
    "### Suggestion\n",
    "We can Fill NA with 12 i.e. Median for this field "
   ]
  },
  {
   "cell_type": "code",
   "execution_count": null,
   "id": "15ee5324",
   "metadata": {},
   "outputs": [],
   "source": [
    "previous_application[\"CNT_PAYMENT\"].fillna(\"12\", inplace = True)"
   ]
  },
  {
   "cell_type": "code",
   "execution_count": null,
   "id": "ad636925",
   "metadata": {
    "scrolled": true
   },
   "outputs": [],
   "source": [
    "print(\"CNT_PAYMENT NULL COUNT:\" ,previous_application['CNT_PAYMENT'].isnull().sum())"
   ]
  },
  {
   "cell_type": "markdown",
   "id": "4326d158",
   "metadata": {},
   "source": [
    "------------------------------------------------"
   ]
  },
  {
   "cell_type": "code",
   "execution_count": null,
   "id": "6c7d42db",
   "metadata": {
    "execution": {
     "iopub.execute_input": "2020-12-17T00:34:25.915868Z",
     "iopub.status.busy": "2020-12-17T00:34:25.915173Z",
     "iopub.status.idle": "2020-12-17T00:34:25.923655Z",
     "shell.execute_reply": "2020-12-17T00:34:25.923057Z"
    },
    "papermill": {
     "duration": 0.191775,
     "end_time": "2020-12-17T00:34:25.923796",
     "exception": false,
     "start_time": "2020-12-17T00:34:25.732021",
     "status": "completed"
    },
    "tags": []
   },
   "outputs": [],
   "source": [
    "print(\"DAYS_FIRST_DRAWING :\" ,previous_application['CNT_PAYMENT'].isnull().sum())"
   ]
  },
  {
   "cell_type": "code",
   "execution_count": null,
   "id": "84796465",
   "metadata": {
    "execution": {
     "iopub.execute_input": "2020-12-17T00:34:26.285648Z",
     "iopub.status.busy": "2020-12-17T00:34:26.284898Z",
     "iopub.status.idle": "2020-12-17T00:34:26.358192Z",
     "shell.execute_reply": "2020-12-17T00:34:26.358725Z"
    },
    "papermill": {
     "duration": 0.2555,
     "end_time": "2020-12-17T00:34:26.358872",
     "exception": false,
     "start_time": "2020-12-17T00:34:26.103372",
     "status": "completed"
    },
    "tags": []
   },
   "outputs": [],
   "source": [
    "previous_application['DAYS_FIRST_DRAWING'].describe()"
   ]
  },
  {
   "cell_type": "code",
   "execution_count": null,
   "id": "b55f1594",
   "metadata": {
    "execution": {
     "iopub.execute_input": "2020-12-17T00:34:26.719607Z",
     "iopub.status.busy": "2020-12-17T00:34:26.718789Z",
     "iopub.status.idle": "2020-12-17T00:34:27.121906Z",
     "shell.execute_reply": "2020-12-17T00:34:27.122438Z"
    },
    "papermill": {
     "duration": 0.58511,
     "end_time": "2020-12-17T00:34:27.122587",
     "exception": false,
     "start_time": "2020-12-17T00:34:26.537477",
     "status": "completed"
    },
    "tags": []
   },
   "outputs": [],
   "source": [
    "sns.set_style('whitegrid') \n",
    "sns.boxplot(previous_application['DAYS_FIRST_DRAWING']) \n",
    "plt.show()"
   ]
  },
  {
   "cell_type": "markdown",
   "id": "e9cd224d",
   "metadata": {
    "papermill": {
     "duration": 0.180385,
     "end_time": "2020-12-17T00:34:27.481873",
     "exception": false,
     "start_time": "2020-12-17T00:34:27.301488",
     "status": "completed"
    },
    "tags": []
   },
   "source": [
    "### Suggestion\n",
    "We can Fill NA with 365243 i.e. Median for this field "
   ]
  },
  {
   "cell_type": "code",
   "execution_count": null,
   "id": "f2b0f0b7",
   "metadata": {},
   "outputs": [],
   "source": [
    "previous_application[\"DAYS_FIRST_DRAWING\"].fillna(\"365243\", inplace = True)"
   ]
  },
  {
   "cell_type": "code",
   "execution_count": null,
   "id": "b927e1c8",
   "metadata": {},
   "outputs": [],
   "source": [
    "print(\"DAYS_FIRST_DRAWING :\" ,previous_application['CNT_PAYMENT'].isnull().sum())"
   ]
  },
  {
   "cell_type": "markdown",
   "id": "c55bbf36",
   "metadata": {},
   "source": [
    "------------------------------------------------"
   ]
  },
  {
   "cell_type": "code",
   "execution_count": null,
   "id": "1e5e1830",
   "metadata": {
    "execution": {
     "iopub.execute_input": "2020-12-17T00:34:27.846827Z",
     "iopub.status.busy": "2020-12-17T00:34:27.846111Z",
     "iopub.status.idle": "2020-12-17T00:34:27.856733Z",
     "shell.execute_reply": "2020-12-17T00:34:27.856196Z"
    },
    "papermill": {
     "duration": 0.196072,
     "end_time": "2020-12-17T00:34:27.856865",
     "exception": false,
     "start_time": "2020-12-17T00:34:27.660793",
     "status": "completed"
    },
    "tags": []
   },
   "outputs": [],
   "source": [
    "print(\"DAYS_FIRST_DUE :\" ,previous_application['DAYS_FIRST_DUE'].isnull().sum())"
   ]
  },
  {
   "cell_type": "code",
   "execution_count": null,
   "id": "2ee04356",
   "metadata": {
    "execution": {
     "iopub.execute_input": "2020-12-17T00:34:28.222555Z",
     "iopub.status.busy": "2020-12-17T00:34:28.221811Z",
     "iopub.status.idle": "2020-12-17T00:34:28.306002Z",
     "shell.execute_reply": "2020-12-17T00:34:28.305337Z"
    },
    "papermill": {
     "duration": 0.269904,
     "end_time": "2020-12-17T00:34:28.306141",
     "exception": false,
     "start_time": "2020-12-17T00:34:28.036237",
     "status": "completed"
    },
    "tags": []
   },
   "outputs": [],
   "source": [
    "previous_application['DAYS_FIRST_DUE'].describe()"
   ]
  },
  {
   "cell_type": "code",
   "execution_count": null,
   "id": "5fe3842c",
   "metadata": {
    "execution": {
     "iopub.execute_input": "2020-12-17T00:34:28.683404Z",
     "iopub.status.busy": "2020-12-17T00:34:28.675929Z",
     "iopub.status.idle": "2020-12-17T00:34:29.059255Z",
     "shell.execute_reply": "2020-12-17T00:34:29.058630Z"
    },
    "papermill": {
     "duration": 0.569497,
     "end_time": "2020-12-17T00:34:29.059380",
     "exception": false,
     "start_time": "2020-12-17T00:34:28.489883",
     "status": "completed"
    },
    "tags": []
   },
   "outputs": [],
   "source": [
    "sns.set_style('whitegrid') \n",
    "sns.boxplot(previous_application['DAYS_FIRST_DUE']) \n",
    "plt.show()"
   ]
  },
  {
   "cell_type": "markdown",
   "id": "9f7d44b2",
   "metadata": {
    "papermill": {
     "duration": 0.180854,
     "end_time": "2020-12-17T00:34:29.422156",
     "exception": false,
     "start_time": "2020-12-17T00:34:29.241302",
     "status": "completed"
    },
    "tags": []
   },
   "source": [
    "### Suggestion\n",
    "We can Fill NA with -831 i.e. Median for this field "
   ]
  },
  {
   "cell_type": "code",
   "execution_count": null,
   "id": "00e51d99",
   "metadata": {},
   "outputs": [],
   "source": [
    "previous_application[\"DAYS_FIRST_DUE\"].fillna(\"-831\", inplace = True)"
   ]
  },
  {
   "cell_type": "code",
   "execution_count": null,
   "id": "b9d14d92",
   "metadata": {
    "scrolled": true
   },
   "outputs": [],
   "source": [
    "print(\"DAYS_FIRST_DUE :\" ,previous_application['DAYS_FIRST_DUE'].isnull().sum())"
   ]
  },
  {
   "cell_type": "markdown",
   "id": "d5659e9b",
   "metadata": {},
   "source": [
    "------------------------------------------------"
   ]
  },
  {
   "cell_type": "code",
   "execution_count": null,
   "id": "5842ecaa",
   "metadata": {
    "execution": {
     "iopub.execute_input": "2020-12-17T00:34:29.790578Z",
     "iopub.status.busy": "2020-12-17T00:34:29.789842Z",
     "iopub.status.idle": "2020-12-17T00:34:29.799606Z",
     "shell.execute_reply": "2020-12-17T00:34:29.798948Z"
    },
    "papermill": {
     "duration": 0.19699,
     "end_time": "2020-12-17T00:34:29.799773",
     "exception": false,
     "start_time": "2020-12-17T00:34:29.602783",
     "status": "completed"
    },
    "tags": []
   },
   "outputs": [],
   "source": [
    "print(\"DAYS_LAST_DUE_1ST_VERSION :\" ,previous_application['DAYS_LAST_DUE_1ST_VERSION'].isnull().sum())"
   ]
  },
  {
   "cell_type": "code",
   "execution_count": null,
   "id": "69b7b79b",
   "metadata": {
    "execution": {
     "iopub.execute_input": "2020-12-17T00:34:30.171548Z",
     "iopub.status.busy": "2020-12-17T00:34:30.170850Z",
     "iopub.status.idle": "2020-12-17T00:34:30.254030Z",
     "shell.execute_reply": "2020-12-17T00:34:30.253414Z"
    },
    "papermill": {
     "duration": 0.270541,
     "end_time": "2020-12-17T00:34:30.254155",
     "exception": false,
     "start_time": "2020-12-17T00:34:29.983614",
     "status": "completed"
    },
    "tags": []
   },
   "outputs": [],
   "source": [
    "previous_application['DAYS_LAST_DUE_1ST_VERSION'].describe()"
   ]
  },
  {
   "cell_type": "code",
   "execution_count": null,
   "id": "54ae3abb",
   "metadata": {
    "execution": {
     "iopub.execute_input": "2020-12-17T00:34:30.630768Z",
     "iopub.status.busy": "2020-12-17T00:34:30.627779Z",
     "iopub.status.idle": "2020-12-17T00:34:31.105862Z",
     "shell.execute_reply": "2020-12-17T00:34:31.105168Z"
    },
    "papermill": {
     "duration": 0.671382,
     "end_time": "2020-12-17T00:34:31.105985",
     "exception": false,
     "start_time": "2020-12-17T00:34:30.434603",
     "status": "completed"
    },
    "tags": []
   },
   "outputs": [],
   "source": [
    "sns.set_style('whitegrid') \n",
    "sns.boxplot(previous_application['DAYS_LAST_DUE_1ST_VERSION']) \n",
    "plt.show()"
   ]
  },
  {
   "cell_type": "markdown",
   "id": "998527ec",
   "metadata": {
    "papermill": {
     "duration": 0.181886,
     "end_time": "2020-12-17T00:34:31.470977",
     "exception": false,
     "start_time": "2020-12-17T00:34:31.289091",
     "status": "completed"
    },
    "tags": []
   },
   "source": [
    "### Suggestion\n",
    "We can Fill NA with -361 i.e. Median for this field "
   ]
  },
  {
   "cell_type": "code",
   "execution_count": null,
   "id": "0df0a736",
   "metadata": {},
   "outputs": [],
   "source": [
    "previous_application[\"DAYS_LAST_DUE_1ST_VERSION\"].fillna(\"-361\", inplace = True)"
   ]
  },
  {
   "cell_type": "code",
   "execution_count": null,
   "id": "a9415f1b",
   "metadata": {
    "scrolled": true
   },
   "outputs": [],
   "source": [
    "print(\"DAYS_LAST_DUE_1ST_VERSION :\" ,previous_application['DAYS_LAST_DUE_1ST_VERSION'].isnull().sum())"
   ]
  },
  {
   "cell_type": "markdown",
   "id": "73b31706",
   "metadata": {},
   "source": [
    "------------------------------------------------"
   ]
  },
  {
   "cell_type": "code",
   "execution_count": null,
   "id": "e171d92a",
   "metadata": {
    "execution": {
     "iopub.execute_input": "2020-12-17T00:34:31.842078Z",
     "iopub.status.busy": "2020-12-17T00:34:31.841296Z",
     "iopub.status.idle": "2020-12-17T00:34:31.851152Z",
     "shell.execute_reply": "2020-12-17T00:34:31.850362Z"
    },
    "papermill": {
     "duration": 0.198148,
     "end_time": "2020-12-17T00:34:31.851332",
     "exception": false,
     "start_time": "2020-12-17T00:34:31.653184",
     "status": "completed"
    },
    "tags": []
   },
   "outputs": [],
   "source": [
    "print(\"DAYS_LAST_DUE:\" ,previous_application['DAYS_LAST_DUE'].isnull().sum())"
   ]
  },
  {
   "cell_type": "code",
   "execution_count": null,
   "id": "729c516e",
   "metadata": {
    "execution": {
     "iopub.execute_input": "2020-12-17T00:34:32.223249Z",
     "iopub.status.busy": "2020-12-17T00:34:32.222114Z",
     "iopub.status.idle": "2020-12-17T00:34:32.305858Z",
     "shell.execute_reply": "2020-12-17T00:34:32.305301Z"
    },
    "papermill": {
     "duration": 0.271521,
     "end_time": "2020-12-17T00:34:32.305982",
     "exception": false,
     "start_time": "2020-12-17T00:34:32.034461",
     "status": "completed"
    },
    "tags": []
   },
   "outputs": [],
   "source": [
    "previous_application['DAYS_LAST_DUE'].describe()"
   ]
  },
  {
   "cell_type": "code",
   "execution_count": null,
   "id": "0938321a",
   "metadata": {
    "execution": {
     "iopub.execute_input": "2020-12-17T00:34:32.688291Z",
     "iopub.status.busy": "2020-12-17T00:34:32.681408Z",
     "iopub.status.idle": "2020-12-17T00:34:33.385536Z",
     "shell.execute_reply": "2020-12-17T00:34:33.384826Z"
    },
    "papermill": {
     "duration": 0.897135,
     "end_time": "2020-12-17T00:34:33.385664",
     "exception": false,
     "start_time": "2020-12-17T00:34:32.488529",
     "status": "completed"
    },
    "tags": []
   },
   "outputs": [],
   "source": [
    "sns.set_style('whitegrid') \n",
    "sns.boxplot(previous_application['DAYS_LAST_DUE']) \n",
    "plt.show()"
   ]
  },
  {
   "cell_type": "markdown",
   "id": "89fbd923",
   "metadata": {
    "papermill": {
     "duration": 0.184968,
     "end_time": "2020-12-17T00:34:33.796932",
     "exception": false,
     "start_time": "2020-12-17T00:34:33.611964",
     "status": "completed"
    },
    "tags": []
   },
   "source": [
    "### Suggestion\n",
    "We can Fill NA with -537 i.e. Median for this field "
   ]
  },
  {
   "cell_type": "code",
   "execution_count": null,
   "id": "0fe1fc4b",
   "metadata": {},
   "outputs": [],
   "source": [
    "previous_application[\"DAYS_LAST_DUE\"].fillna(\"-537\", inplace = True)"
   ]
  },
  {
   "cell_type": "code",
   "execution_count": null,
   "id": "2d955d08",
   "metadata": {
    "scrolled": true
   },
   "outputs": [],
   "source": [
    "print(\"DAYS_LAST_DUE:\" ,previous_application['DAYS_LAST_DUE'].isnull().sum())"
   ]
  },
  {
   "cell_type": "markdown",
   "id": "33c464a7",
   "metadata": {},
   "source": [
    "------------------------------------------------"
   ]
  },
  {
   "cell_type": "code",
   "execution_count": null,
   "id": "52ce9aa5",
   "metadata": {
    "execution": {
     "iopub.execute_input": "2020-12-17T00:34:34.174061Z",
     "iopub.status.busy": "2020-12-17T00:34:34.173364Z",
     "iopub.status.idle": "2020-12-17T00:34:34.181904Z",
     "shell.execute_reply": "2020-12-17T00:34:34.182939Z"
    },
    "papermill": {
     "duration": 0.200198,
     "end_time": "2020-12-17T00:34:34.183196",
     "exception": false,
     "start_time": "2020-12-17T00:34:33.982998",
     "status": "completed"
    },
    "tags": []
   },
   "outputs": [],
   "source": [
    "print(\"DAYS_TERMINATION :\" ,previous_application['DAYS_TERMINATION'].isnull().sum())"
   ]
  },
  {
   "cell_type": "code",
   "execution_count": null,
   "id": "47c05383",
   "metadata": {
    "execution": {
     "iopub.execute_input": "2020-12-17T00:34:34.560733Z",
     "iopub.status.busy": "2020-12-17T00:34:34.560049Z",
     "iopub.status.idle": "2020-12-17T00:34:34.642230Z",
     "shell.execute_reply": "2020-12-17T00:34:34.641604Z"
    },
    "papermill": {
     "duration": 0.271868,
     "end_time": "2020-12-17T00:34:34.642346",
     "exception": false,
     "start_time": "2020-12-17T00:34:34.370478",
     "status": "completed"
    },
    "tags": []
   },
   "outputs": [],
   "source": [
    "previous_application['DAYS_TERMINATION'].describe()"
   ]
  },
  {
   "cell_type": "code",
   "execution_count": null,
   "id": "40555751",
   "metadata": {
    "execution": {
     "iopub.execute_input": "2020-12-17T00:34:35.022333Z",
     "iopub.status.busy": "2020-12-17T00:34:35.021608Z",
     "iopub.status.idle": "2020-12-17T00:34:35.768234Z",
     "shell.execute_reply": "2020-12-17T00:34:35.768774Z"
    },
    "papermill": {
     "duration": 0.939116,
     "end_time": "2020-12-17T00:34:35.768920",
     "exception": false,
     "start_time": "2020-12-17T00:34:34.829804",
     "status": "completed"
    },
    "tags": []
   },
   "outputs": [],
   "source": [
    "sns.set_style('whitegrid') \n",
    "sns.boxplot(previous_application['DAYS_TERMINATION']) \n",
    "plt.show()"
   ]
  },
  {
   "cell_type": "markdown",
   "id": "6a1a7c49",
   "metadata": {
    "papermill": {
     "duration": 0.185994,
     "end_time": "2020-12-17T00:34:36.142802",
     "exception": false,
     "start_time": "2020-12-17T00:34:35.956808",
     "status": "completed"
    },
    "tags": []
   },
   "source": [
    "### Suggestion\n",
    "We can Fill NA with -499 i.e. Median for this field "
   ]
  },
  {
   "cell_type": "code",
   "execution_count": null,
   "id": "04435f05",
   "metadata": {},
   "outputs": [],
   "source": [
    "previous_application[\"DAYS_TERMINATION\"].fillna(\"-499\", inplace = True)"
   ]
  },
  {
   "cell_type": "code",
   "execution_count": null,
   "id": "04597c44",
   "metadata": {
    "scrolled": true
   },
   "outputs": [],
   "source": [
    "print(\"DAYS_TERMINATION :\" ,previous_application['DAYS_TERMINATION'].isnull().sum())"
   ]
  },
  {
   "cell_type": "markdown",
   "id": "93528597",
   "metadata": {},
   "source": [
    "------------------------------------------------"
   ]
  },
  {
   "cell_type": "code",
   "execution_count": null,
   "id": "736851c5",
   "metadata": {
    "execution": {
     "iopub.execute_input": "2020-12-17T00:34:36.521564Z",
     "iopub.status.busy": "2020-12-17T00:34:36.520986Z",
     "iopub.status.idle": "2020-12-17T00:34:36.532064Z",
     "shell.execute_reply": "2020-12-17T00:34:36.531411Z"
    },
    "papermill": {
     "duration": 0.200472,
     "end_time": "2020-12-17T00:34:36.532184",
     "exception": false,
     "start_time": "2020-12-17T00:34:36.331712",
     "status": "completed"
    },
    "tags": []
   },
   "outputs": [],
   "source": [
    "print(\"NFLAG_INSURED_ON_APPROVAL:\" ,previous_application['NFLAG_INSURED_ON_APPROVAL'].isnull().sum())"
   ]
  },
  {
   "cell_type": "code",
   "execution_count": null,
   "id": "89b91ab1",
   "metadata": {
    "execution": {
     "iopub.execute_input": "2020-12-17T00:34:36.914630Z",
     "iopub.status.busy": "2020-12-17T00:34:36.913975Z",
     "iopub.status.idle": "2020-12-17T00:34:36.945289Z",
     "shell.execute_reply": "2020-12-17T00:34:36.944632Z"
    },
    "papermill": {
     "duration": 0.225905,
     "end_time": "2020-12-17T00:34:36.945408",
     "exception": false,
     "start_time": "2020-12-17T00:34:36.719503",
     "status": "completed"
    },
    "tags": []
   },
   "outputs": [],
   "source": [
    "previous_application['NFLAG_INSURED_ON_APPROVAL'].value_counts()"
   ]
  },
  {
   "cell_type": "markdown",
   "id": "d53c3eea",
   "metadata": {
    "papermill": {
     "duration": 0.186626,
     "end_time": "2020-12-17T00:34:37.318534",
     "exception": false,
     "start_time": "2020-12-17T00:34:37.131908",
     "status": "completed"
    },
    "tags": []
   },
   "source": [
    "### Suggestion\n",
    "We can Fill NA with 0 i.e. Mode for this field "
   ]
  },
  {
   "cell_type": "code",
   "execution_count": null,
   "id": "48b8988c",
   "metadata": {},
   "outputs": [],
   "source": [
    "previous_application[\"NFLAG_INSURED_ON_APPROVAL\"].fillna(\"0\", inplace = True)"
   ]
  },
  {
   "cell_type": "code",
   "execution_count": null,
   "id": "c547fc2e",
   "metadata": {
    "scrolled": true
   },
   "outputs": [],
   "source": [
    "print(\"NFLAG_INSURED_ON_APPROVAL:\" ,previous_application['NFLAG_INSURED_ON_APPROVAL'].isnull().sum())"
   ]
  },
  {
   "cell_type": "markdown",
   "id": "faeae49d",
   "metadata": {},
   "source": [
    "------------------------------------------------"
   ]
  },
  {
   "cell_type": "code",
   "execution_count": null,
   "id": "4a1dbd5a",
   "metadata": {
    "execution": {
     "iopub.execute_input": "2020-12-17T00:34:37.698563Z",
     "iopub.status.busy": "2020-12-17T00:34:37.697860Z",
     "iopub.status.idle": "2020-12-17T00:34:40.443557Z",
     "shell.execute_reply": "2020-12-17T00:34:40.442593Z"
    },
    "papermill": {
     "duration": 2.937692,
     "end_time": "2020-12-17T00:34:40.443698",
     "exception": false,
     "start_time": "2020-12-17T00:34:37.506006",
     "status": "completed"
    },
    "scrolled": false,
    "tags": []
   },
   "outputs": [],
   "source": [
    "previous_application.isnull().sum()"
   ]
  },
  {
   "cell_type": "markdown",
   "id": "30bf59a2",
   "metadata": {},
   "source": [
    "------------------------------------------------"
   ]
  },
  {
   "cell_type": "code",
   "execution_count": null,
   "id": "bdcee605",
   "metadata": {
    "execution": {
     "iopub.execute_input": "2020-12-17T00:34:40.826366Z",
     "iopub.status.busy": "2020-12-17T00:34:40.825287Z",
     "iopub.status.idle": "2020-12-17T00:34:40.834743Z",
     "shell.execute_reply": "2020-12-17T00:34:40.834174Z"
    },
    "papermill": {
     "duration": 0.203932,
     "end_time": "2020-12-17T00:34:40.834859",
     "exception": false,
     "start_time": "2020-12-17T00:34:40.630927",
     "status": "completed"
    },
    "tags": []
   },
   "outputs": [],
   "source": [
    "print(\"AMT_CREDIT :\" ,previous_application['AMT_CREDIT'].isnull().sum())"
   ]
  },
  {
   "cell_type": "code",
   "execution_count": null,
   "id": "43a966d4",
   "metadata": {
    "execution": {
     "iopub.execute_input": "2020-12-17T00:34:41.216162Z",
     "iopub.status.busy": "2020-12-17T00:34:41.215415Z",
     "iopub.status.idle": "2020-12-17T00:34:41.290381Z",
     "shell.execute_reply": "2020-12-17T00:34:41.290949Z"
    },
    "papermill": {
     "duration": 0.268417,
     "end_time": "2020-12-17T00:34:41.291093",
     "exception": false,
     "start_time": "2020-12-17T00:34:41.022676",
     "status": "completed"
    },
    "tags": []
   },
   "outputs": [],
   "source": [
    "previous_application['AMT_CREDIT'].describe()"
   ]
  },
  {
   "cell_type": "code",
   "execution_count": null,
   "id": "b8c4edd4",
   "metadata": {
    "execution": {
     "iopub.execute_input": "2020-12-17T00:34:41.676382Z",
     "iopub.status.busy": "2020-12-17T00:34:41.671520Z",
     "iopub.status.idle": "2020-12-17T00:34:42.342301Z",
     "shell.execute_reply": "2020-12-17T00:34:42.341598Z"
    },
    "papermill": {
     "duration": 0.863923,
     "end_time": "2020-12-17T00:34:42.342421",
     "exception": false,
     "start_time": "2020-12-17T00:34:41.478498",
     "status": "completed"
    },
    "tags": []
   },
   "outputs": [],
   "source": [
    "sns.set_style('whitegrid') \n",
    "sns.boxplot(previous_application['AMT_CREDIT']) \n",
    "plt.show()\n"
   ]
  },
  {
   "cell_type": "markdown",
   "id": "af3edfd1",
   "metadata": {
    "papermill": {
     "duration": 0.190472,
     "end_time": "2020-12-17T00:34:42.721898",
     "exception": false,
     "start_time": "2020-12-17T00:34:42.531426",
     "status": "completed"
    },
    "tags": []
   },
   "source": [
    "### Suggestion\n",
    "We can Fill NA with 80541 i.e. Median for this field "
   ]
  },
  {
   "cell_type": "code",
   "execution_count": null,
   "id": "d408be44",
   "metadata": {},
   "outputs": [],
   "source": [
    "previous_application[\"AMT_CREDIT\"].fillna(\"80541\", inplace = True)"
   ]
  },
  {
   "cell_type": "code",
   "execution_count": null,
   "id": "6f4b85e5",
   "metadata": {
    "scrolled": true
   },
   "outputs": [],
   "source": [
    "print(\"AMT_CREDIT :\" ,previous_application['AMT_CREDIT'].isnull().sum())"
   ]
  },
  {
   "cell_type": "markdown",
   "id": "f7631d4a",
   "metadata": {},
   "source": [
    "------------------------------------------------"
   ]
  },
  {
   "cell_type": "code",
   "execution_count": null,
   "id": "7a168a95",
   "metadata": {
    "execution": {
     "iopub.execute_input": "2020-12-17T00:34:43.278045Z",
     "iopub.status.busy": "2020-12-17T00:34:43.277309Z",
     "iopub.status.idle": "2020-12-17T00:34:43.285179Z",
     "shell.execute_reply": "2020-12-17T00:34:43.284569Z"
    },
    "papermill": {
     "duration": 0.370226,
     "end_time": "2020-12-17T00:34:43.285300",
     "exception": false,
     "start_time": "2020-12-17T00:34:42.915074",
     "status": "completed"
    },
    "tags": []
   },
   "outputs": [],
   "source": [
    "print(\"PRODUCT_COMBINATION :\" ,previous_application['PRODUCT_COMBINATION'].isnull().sum())"
   ]
  },
  {
   "cell_type": "code",
   "execution_count": null,
   "id": "9d6ca6ab",
   "metadata": {
    "execution": {
     "iopub.execute_input": "2020-12-17T00:34:44.088397Z",
     "iopub.status.busy": "2020-12-17T00:34:43.920585Z",
     "iopub.status.idle": "2020-12-17T00:34:44.096658Z",
     "shell.execute_reply": "2020-12-17T00:34:44.096103Z"
    },
    "papermill": {
     "duration": 0.621942,
     "end_time": "2020-12-17T00:34:44.096801",
     "exception": false,
     "start_time": "2020-12-17T00:34:43.474859",
     "status": "completed"
    },
    "tags": []
   },
   "outputs": [],
   "source": [
    "previous_application['PRODUCT_COMBINATION'].value_counts()"
   ]
  },
  {
   "cell_type": "markdown",
   "id": "91c4bdd2",
   "metadata": {
    "papermill": {
     "duration": 0.190567,
     "end_time": "2020-12-17T00:34:44.478312",
     "exception": false,
     "start_time": "2020-12-17T00:34:44.287745",
     "status": "completed"
    },
    "tags": []
   },
   "source": [
    "### Suggestion\n",
    "We can Fill NA with Cash i.e. Mode for this field "
   ]
  },
  {
   "cell_type": "code",
   "execution_count": null,
   "id": "863d5e6f",
   "metadata": {},
   "outputs": [],
   "source": [
    "previous_application[\"PRODUCT_COMBINATION\"].fillna(\"Cash\", inplace = True)"
   ]
  },
  {
   "cell_type": "code",
   "execution_count": null,
   "id": "1dff4f16",
   "metadata": {
    "scrolled": true
   },
   "outputs": [],
   "source": [
    "print(\"PRODUCT_COMBINATION :\" ,previous_application['PRODUCT_COMBINATION'].isnull().sum())"
   ]
  },
  {
   "cell_type": "markdown",
   "id": "42a3bf8d",
   "metadata": {},
   "source": [
    "------------------------------------------------"
   ]
  },
  {
   "cell_type": "code",
   "execution_count": null,
   "id": "c0908758",
   "metadata": {
    "execution": {
     "iopub.execute_input": "2020-12-17T00:34:44.869807Z",
     "iopub.status.busy": "2020-12-17T00:34:44.869113Z",
     "iopub.status.idle": "2020-12-17T00:34:44.872865Z",
     "shell.execute_reply": "2020-12-17T00:34:44.871710Z"
    },
    "papermill": {
     "duration": 0.200912,
     "end_time": "2020-12-17T00:34:44.872998",
     "exception": false,
     "start_time": "2020-12-17T00:34:44.672086",
     "status": "completed"
    },
    "tags": []
   },
   "outputs": [],
   "source": [
    "class color:\n",
    "   PURPLE = '\\033[95m'\n",
    "   CYAN = '\\033[96m'\n",
    "   DARKCYAN = '\\033[36m'\n",
    "   BLUE = '\\033[94m'\n",
    "   GREEN = '\\033[92m'\n",
    "   YELLOW = '\\033[93m'\n",
    "   RED = '\\033[91m'\n",
    "   BOLD = '\\033[1m'\n",
    "   UNDERLINE = '\\033[4m'\n",
    "   END = '\\033[0m'"
   ]
  },
  {
   "cell_type": "markdown",
   "id": "d531afcc",
   "metadata": {
    "papermill": {
     "duration": 0.190825,
     "end_time": "2020-12-17T00:34:45.257296",
     "exception": false,
     "start_time": "2020-12-17T00:34:45.066471",
     "status": "completed"
    },
    "tags": []
   },
   "source": [
    "### Separating numerical and categorical columns from previous_application"
   ]
  },
  {
   "cell_type": "code",
   "execution_count": null,
   "id": "3873f2ca",
   "metadata": {
    "execution": {
     "iopub.execute_input": "2020-12-17T00:34:45.978541Z",
     "iopub.status.busy": "2020-12-17T00:34:45.930532Z",
     "iopub.status.idle": "2020-12-17T00:34:45.983190Z",
     "shell.execute_reply": "2020-12-17T00:34:45.982571Z"
    },
    "papermill": {
     "duration": 0.531303,
     "end_time": "2020-12-17T00:34:45.983326",
     "exception": false,
     "start_time": "2020-12-17T00:34:45.452023",
     "status": "completed"
    },
    "tags": []
   },
   "outputs": [],
   "source": [
    "obj_dtypes = [i for i in previous_application.select_dtypes(include=np.object).columns if i not in [\"type\"] ]\n",
    "num_dtypes = [i for i in previous_application.select_dtypes(include = np.number).columns if i not in ['SK_ID_CURR'] + [ 'TARGET']]"
   ]
  },
  {
   "cell_type": "code",
   "execution_count": null,
   "id": "7ad788eb",
   "metadata": {
    "execution": {
     "iopub.execute_input": "2020-12-17T00:34:46.382119Z",
     "iopub.status.busy": "2020-12-17T00:34:46.381445Z",
     "iopub.status.idle": "2020-12-17T00:34:46.387828Z",
     "shell.execute_reply": "2020-12-17T00:34:46.385085Z"
    },
    "papermill": {
     "duration": 0.212263,
     "end_time": "2020-12-17T00:34:46.388018",
     "exception": false,
     "start_time": "2020-12-17T00:34:46.175755",
     "status": "completed"
    },
    "tags": []
   },
   "outputs": [],
   "source": [
    "print(color.BOLD + color.PURPLE + 'Categorical Columns' + color.END, \"\\n\")\n",
    "for x in range(len(obj_dtypes)): \n",
    "    print(obj_dtypes[x])\n"
   ]
  },
  {
   "cell_type": "code",
   "execution_count": null,
   "id": "aefc8c61",
   "metadata": {
    "execution": {
     "iopub.execute_input": "2020-12-17T00:34:46.809426Z",
     "iopub.status.busy": "2020-12-17T00:34:46.808324Z",
     "iopub.status.idle": "2020-12-17T00:34:46.811644Z",
     "shell.execute_reply": "2020-12-17T00:34:46.812349Z"
    },
    "papermill": {
     "duration": 0.202803,
     "end_time": "2020-12-17T00:34:46.812553",
     "exception": false,
     "start_time": "2020-12-17T00:34:46.609750",
     "status": "completed"
    },
    "scrolled": false,
    "tags": []
   },
   "outputs": [],
   "source": [
    "print(color.BOLD + color.PURPLE + 'Numerical' + color.END, \"\\n\")\n",
    "for x in range(len(obj_dtypes)): \n",
    "    print(obj_dtypes[x])"
   ]
  },
  {
   "cell_type": "markdown",
   "id": "01e69c8d",
   "metadata": {},
   "source": [
    "# Previous Aplication Dataset Completed"
   ]
  },
  {
   "cell_type": "code",
   "execution_count": null,
   "id": "95b552ff",
   "metadata": {},
   "outputs": [],
   "source": [
    "previous_application.isnull().sum()"
   ]
  },
  {
   "cell_type": "code",
   "execution_count": null,
   "id": "7b020802",
   "metadata": {
    "scrolled": true
   },
   "outputs": [],
   "source": [
    "previous_application.head()"
   ]
  },
  {
   "cell_type": "code",
   "execution_count": null,
   "id": "959d8398",
   "metadata": {},
   "outputs": [],
   "source": [
    "# Replace the values in the 'NAME_CONTRACT_STATUS' column with 1 for the applications that were high risk/denied\n",
    "previous_application['NAME_CONTRACT_STATUS'] = previous_application['NAME_CONTRACT_STATUS'].replace(['Refused'],'1')\n"
   ]
  },
  {
   "cell_type": "code",
   "execution_count": null,
   "id": "e0384135",
   "metadata": {},
   "outputs": [],
   "source": [
    "# Replace the values in the 'NAME_CONTRACT_STATUS' column with 0 for the remaining options\n",
    "previous_application['NAME_CONTRACT_STATUS'] = previous_application['NAME_CONTRACT_STATUS'].replace(['Canceled','Approved','Unused offer'],'0')"
   ]
  },
  {
   "cell_type": "code",
   "execution_count": null,
   "id": "df3cbfed",
   "metadata": {},
   "outputs": [],
   "source": [
    "# Create a new dataframe for our training data\n",
    "train_df = previous_application[['SK_ID_CURR','NAME_CONTRACT_TYPE','AMT_ANNUITY','AMT_CREDIT','AMT_GOODS_PRICE','WEEKDAY_APPR_PROCESS_START'\n",
    ",'HOUR_APPR_PROCESS_START','NAME_TYPE_SUITE','NAME_CONTRACT_STATUS']].copy()\n",
    "train_df"
   ]
  },
  {
   "cell_type": "code",
   "execution_count": null,
   "id": "44f05b21",
   "metadata": {
    "scrolled": true
   },
   "outputs": [],
   "source": [
    "# Create a new dataframe for our testing data\n",
    "test_df = application_data[['SK_ID_CURR','NAME_CONTRACT_TYPE','AMT_ANNUITY','AMT_CREDIT','AMT_GOODS_PRICE','WEEKDAY_APPR_PROCESS_START'\n",
    ",'HOUR_APPR_PROCESS_START','NAME_TYPE_SUITE','TARGET']].copy()\n",
    "test_df"
   ]
  },
  {
   "cell_type": "code",
   "execution_count": null,
   "id": "a2b8aa07",
   "metadata": {
    "scrolled": false
   },
   "outputs": [],
   "source": [
    "train_df.dtypes"
   ]
  },
  {
   "cell_type": "code",
   "execution_count": null,
   "id": "afcb8ba9",
   "metadata": {},
   "outputs": [],
   "source": [
    "train_df_conv = train_df[['AMT_ANNUITY','AMT_CREDIT','AMT_GOODS_PRICE']].astype(float, errors='raise')"
   ]
  },
  {
   "cell_type": "code",
   "execution_count": null,
   "id": "c0f7ba2e",
   "metadata": {},
   "outputs": [],
   "source": [
    "train_df_conv.dtypes"
   ]
  },
  {
   "cell_type": "code",
   "execution_count": null,
   "id": "71a02cf3",
   "metadata": {
    "scrolled": true
   },
   "outputs": [],
   "source": [
    "train_df_conv"
   ]
  },
  {
   "cell_type": "code",
   "execution_count": null,
   "id": "61ed9c84",
   "metadata": {
    "scrolled": true
   },
   "outputs": [],
   "source": [
    "updated_train_df = train_df.drop(['AMT_ANNUITY','AMT_CREDIT','AMT_GOODS_PRICE'], axis = 1)\n",
    "updated_train_df"
   ]
  },
  {
   "cell_type": "code",
   "execution_count": null,
   "id": "fad4201b",
   "metadata": {
    "scrolled": true
   },
   "outputs": [],
   "source": [
    "train_df = pd.concat([train_df_conv, updated_train_df], axis=1)\n",
    "train_df"
   ]
  },
  {
   "cell_type": "code",
   "execution_count": null,
   "id": "2b6a0dbc",
   "metadata": {},
   "outputs": [],
   "source": [
    "train_df.dtypes"
   ]
  },
  {
   "cell_type": "code",
   "execution_count": null,
   "id": "48f49b23",
   "metadata": {},
   "outputs": [],
   "source": [
    "train_df_trim = train_df.select_dtypes(include=['object'],exclude=['number'])\n",
    "train_df_trim"
   ]
  },
  {
   "cell_type": "code",
   "execution_count": null,
   "id": "6a522275",
   "metadata": {},
   "outputs": [],
   "source": [
    "train_df_trim.dtypes"
   ]
  },
  {
   "cell_type": "code",
   "execution_count": null,
   "id": "dc851042",
   "metadata": {},
   "outputs": [],
   "source": [
    "for each in train_df_trim.columns:\n",
    "    \n",
    "    print(train_df_trim[each].value_counts())"
   ]
  },
  {
   "cell_type": "code",
   "execution_count": null,
   "id": "96e995c1",
   "metadata": {},
   "outputs": [],
   "source": [
    "encoded_train_df = pd.get_dummies(train_df_trim)\n",
    "encoded_train_df.head()"
   ]
  },
  {
   "cell_type": "code",
   "execution_count": null,
   "id": "410c6b0e",
   "metadata": {},
   "outputs": [],
   "source": [
    "# Define the target for training data\n",
    "y = previous_application[\"NAME_CONTRACT_STATUS\"]\n",
    "target_names = [\"negative\", \"positive\"]"
   ]
  },
  {
   "cell_type": "code",
   "execution_count": null,
   "id": "dd39412d",
   "metadata": {},
   "outputs": [],
   "source": [
    "# Define the features for the training data\n",
    "X = previous_application.drop(\"NAME_CONTRACT_STATUS\", axis=1)\n",
    "X.head()"
   ]
  },
  {
   "cell_type": "code",
   "execution_count": null,
   "id": "b861a945",
   "metadata": {},
   "outputs": [],
   "source": [
    "from sklearn.model_selection import train_test_split\n",
    "X_train, X_test, y_train, y_test = train_test_split(X, y, random_state=42)"
   ]
  },
  {
   "cell_type": "code",
   "execution_count": null,
   "id": "12dbf8f7",
   "metadata": {},
   "outputs": [],
   "source": [
    "from sklearn.linear_model import LogisticRegression\n",
    "from sklearn.model_selection import train_test_split\n",
    "from sklearn.metrics import confusion_matrix, classification_report"
   ]
  },
  {
   "cell_type": "code",
   "execution_count": null,
   "id": "7d0e5ee1",
   "metadata": {},
   "outputs": [],
   "source": [
    "classifier = LogisticRegression()\n",
    "classifier.fit(X_train, y_train)\n",
    "print(f\"Training Data Score: {classifier.score(X_train, y_train)}\")\n",
    "print(f\"Testing Data Score: {classifier.score(X_test, y_test)}\")"
   ]
  },
  {
   "cell_type": "code",
   "execution_count": null,
   "id": "b40aec9b",
   "metadata": {},
   "outputs": [],
   "source": []
  }
 ],
 "metadata": {
  "kernelspec": {
   "display_name": "Python 3 (ipykernel)",
   "language": "python",
   "name": "python3"
  },
  "language_info": {
   "codemirror_mode": {
    "name": "ipython",
    "version": 3
   },
   "file_extension": ".py",
   "mimetype": "text/x-python",
   "name": "python",
   "nbconvert_exporter": "python",
   "pygments_lexer": "ipython3",
   "version": "3.9.7"
  }
 },
 "nbformat": 4,
 "nbformat_minor": 5
}
